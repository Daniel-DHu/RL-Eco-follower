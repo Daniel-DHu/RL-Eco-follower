{
 "cells": [
  {
   "cell_type": "code",
   "execution_count": 1,
   "id": "4870361c",
   "metadata": {},
   "outputs": [
    {
     "name": "stderr",
     "output_type": "stream",
     "text": [
      "D:\\02Office_software\\anaconda3\\envs\\Torch\\lib\\site-packages\\tqdm\\auto.py:21: TqdmWarning: IProgress not found. Please update jupyter and ipywidgets. See https://ipywidgets.readthedocs.io/en/stable/user_install.html\n",
      "  from .autonotebook import tqdm as notebook_tqdm\n"
     ]
    }
   ],
   "source": [
    "import random\n",
    "import gym\n",
    "import numpy as np\n",
    "from tqdm import tqdm\n",
    "import torch\n",
    "from torch import nn\n",
    "import torch.nn.functional as F\n",
    "import matplotlib.pyplot as plt\n",
    "import random\n",
    "import scipy.io as sio\n",
    "import pickle as pk\n",
    "from torch.distributions import Normal\n",
    "import sys\n",
    "import os\n",
    "from simulation_env_new import Env\n",
    "import rl_utils\n",
    "from FourWI_EV_new import EV"
   ]
  },
  {
   "cell_type": "code",
   "execution_count": 2,
   "id": "033c6e08",
   "metadata": {},
   "outputs": [],
   "source": [
    "CA = False\n",
    "total_episode = 1000\n",
    "TTC_threshold = 3.001\n",
    "base_name = f'SAC' \n",
    "\n",
    "actor_lr = 0.001\n",
    "critic_lr = 0.001\n",
    "alpha_lr = 3e-4\n",
    "hidden_dim = 32\n",
    "hidden2_dim = 16\n",
    "gamma = 0.9\n",
    "tau = 0.005  # 软更新参数\n",
    "MEMORY_CAPACITY = 20000\n",
    "batch_size = 1024"
   ]
  },
  {
   "cell_type": "code",
   "execution_count": 3,
   "id": "038235e6",
   "metadata": {},
   "outputs": [],
   "source": [
    "class PolicyNetContinuous(torch.nn.Module):\n",
    "    def __init__(self, state_dim, hidden_dim, hidden2_dim, action_dim, action_bound):\n",
    "        super(PolicyNetContinuous, self).__init__()\n",
    "        self.fc1 = torch.nn.Linear(state_dim, hidden_dim)\n",
    "        self.fc2 = torch.nn.Linear(hidden_dim, hidden2_dim)\n",
    "        self.fc_mu = torch.nn.Linear(hidden2_dim, action_dim)\n",
    "        self.fc_std = torch.nn.Linear(hidden2_dim, action_dim)\n",
    "        self.action_bound = action_bound\n",
    "\n",
    "    def forward(self, x):\n",
    "        x = F.relu(self.fc2(F.relu(self.fc1(x))))\n",
    "        mu = self.fc_mu(x)\n",
    "        std = F.softplus(self.fc_std(x))\n",
    "        dist = Normal(mu, std)\n",
    "        normal_sample = dist.rsample()  # rsample()是重参数化采样\n",
    "        log_prob = dist.log_prob(normal_sample)\n",
    "        action = torch.tanh(normal_sample)\n",
    "        # 计算tanh_normal分布的对数概率密度\n",
    "        log_prob = log_prob - torch.log(1 - torch.tanh(action).pow(2) + 1e-7)\n",
    "        action = action * self.action_bound\n",
    "        return action, log_prob\n",
    "\n",
    "\n",
    "class QValueNetContinuous(torch.nn.Module):\n",
    "    def __init__(self, state_dim, hidden_dim, action_dim):\n",
    "        super(QValueNetContinuous, self).__init__()\n",
    "        self.fc1 = torch.nn.Linear(state_dim + action_dim, hidden_dim)\n",
    "        self.fc2 = torch.nn.Linear(hidden_dim, hidden_dim)\n",
    "        self.fc_out = torch.nn.Linear(hidden_dim, 1)\n",
    "\n",
    "    def forward(self, x, a):\n",
    "        cat = torch.cat([x, a], dim=1)\n",
    "        x = F.relu(self.fc1(cat))\n",
    "        x = F.relu(self.fc2(x))\n",
    "        return self.fc_out(x)"
   ]
  },
  {
   "cell_type": "code",
   "execution_count": 4,
   "id": "aba61049",
   "metadata": {},
   "outputs": [],
   "source": [
    "class SACContinuous:\n",
    "    ''' 处理连续动作的SAC算法 '''\n",
    "    def __init__(self, state_dim, hidden_dim, hidden2_dim, action_dim, action_bound,\n",
    "                 actor_lr, critic_lr, alpha_lr, target_entropy, tau, gamma,\n",
    "                 device):\n",
    "        self.actor = PolicyNetContinuous(state_dim, hidden_dim, hidden2_dim, action_dim,\n",
    "                                         action_bound).to(device)  # 策略网络\n",
    "        self.critic_1 = QValueNetContinuous(state_dim, hidden_dim,\n",
    "                                            action_dim).to(device)  # 第一个Q网络\n",
    "        self.critic_2 = QValueNetContinuous(state_dim, hidden_dim,\n",
    "                                            action_dim).to(device)  # 第二个Q网络\n",
    "        self.target_critic_1 = QValueNetContinuous(state_dim,\n",
    "                                                   hidden_dim, action_dim).to(\n",
    "                                                       device)  # 第一个目标Q网络\n",
    "        self.target_critic_2 = QValueNetContinuous(state_dim,\n",
    "                                                   hidden_dim, action_dim).to(\n",
    "                                                       device)  # 第二个目标Q网络\n",
    "        # 令目标Q网络的初始参数和Q网络一样\n",
    "        self.target_critic_1.load_state_dict(self.critic_1.state_dict())\n",
    "        self.target_critic_2.load_state_dict(self.critic_2.state_dict())\n",
    "        self.actor_optimizer = torch.optim.Adam(self.actor.parameters(),\n",
    "                                                lr=actor_lr)\n",
    "        self.critic_1_optimizer = torch.optim.Adam(self.critic_1.parameters(),\n",
    "                                                   lr=critic_lr)\n",
    "        self.critic_2_optimizer = torch.optim.Adam(self.critic_2.parameters(),\n",
    "                                                   lr=critic_lr)\n",
    "        # 使用alpha的log值,可以使训练结果比较稳定\n",
    "        self.log_alpha = torch.tensor(np.log(0.01), dtype=torch.float)\n",
    "        self.log_alpha.requires_grad = True  # 可以对alpha求梯度\n",
    "        self.log_alpha_optimizer = torch.optim.Adam([self.log_alpha],\n",
    "                                                    lr=alpha_lr)\n",
    "        self.target_entropy = target_entropy  # 目标熵的大小\n",
    "        self.gamma = gamma\n",
    "        self.tau = tau\n",
    "        self.device = device\n",
    "\n",
    "    def take_action(self, state):\n",
    "        state = torch.tensor([state], dtype=torch.float).to(self.device)\n",
    "        action = self.actor(state)[0]\n",
    "        return [action.item()]\n",
    "\n",
    "    def calc_target(self, rewards, next_states, dones):  # 计算目标Q值\n",
    "        next_actions, log_prob = self.actor(next_states)\n",
    "        entropy = -log_prob\n",
    "        q1_value = self.target_critic_1(next_states, next_actions)\n",
    "        q2_value = self.target_critic_2(next_states, next_actions)\n",
    "        next_value = torch.min(q1_value,\n",
    "                               q2_value) + self.log_alpha.exp() * entropy\n",
    "        td_target = rewards + self.gamma * next_value * (1 - dones)\n",
    "        return td_target\n",
    "\n",
    "    def soft_update(self, net, target_net):\n",
    "        for param_target, param in zip(target_net.parameters(),\n",
    "                                       net.parameters()):\n",
    "            param_target.data.copy_(param_target.data * (1.0 - self.tau) +\n",
    "                                    param.data * self.tau)       \n",
    "\n",
    "    def update(self, transition_dict):\n",
    "        states = torch.tensor(transition_dict['states'],\n",
    "                              dtype=torch.float).to(self.device)\n",
    "        actions = torch.tensor(transition_dict['actions'],\n",
    "                               dtype=torch.float).view(-1, 1).to(self.device)\n",
    "        rewards = torch.tensor(transition_dict['rewards'],\n",
    "                               dtype=torch.float).view(-1, 1).to(self.device)\n",
    "        next_states = torch.tensor(transition_dict['next_states'],\n",
    "                                   dtype=torch.float).to(self.device)\n",
    "        dones = torch.tensor(transition_dict['dones'],\n",
    "                             dtype=torch.float).view(-1, 1).to(self.device)\n",
    "        # 和之前章节一样,对环境的奖励进行重塑以便训练\n",
    "        rewards = (rewards + 1) / 1\n",
    "\n",
    "        # 更新两个Q网络\n",
    "        td_target = self.calc_target(rewards, next_states, dones)\n",
    "        critic_1_loss = torch.mean(\n",
    "            F.mse_loss(self.critic_1(states, actions), td_target.detach()))\n",
    "        critic_2_loss = torch.mean(\n",
    "            F.mse_loss(self.critic_2(states, actions), td_target.detach()))\n",
    "        self.critic_1_optimizer.zero_grad()\n",
    "        critic_1_loss.backward()\n",
    "        self.critic_1_optimizer.step()\n",
    "        self.critic_2_optimizer.zero_grad()\n",
    "        critic_2_loss.backward()\n",
    "        self.critic_2_optimizer.step()\n",
    "\n",
    "        # 更新策略网络\n",
    "        new_actions, log_prob = self.actor(states)\n",
    "        entropy = -log_prob\n",
    "        q1_value = self.critic_1(states, new_actions)\n",
    "        q2_value = self.critic_2(states, new_actions)\n",
    "        actor_loss = torch.mean(-self.log_alpha.exp() * entropy -\n",
    "                                torch.min(q1_value, q2_value))\n",
    "        self.actor_optimizer.zero_grad()\n",
    "        actor_loss.backward()\n",
    "        self.actor_optimizer.step()\n",
    "\n",
    "        # 更新alpha值\n",
    "        alpha_loss = torch.mean(\n",
    "            (entropy - self.target_entropy).detach() * self.log_alpha.exp())\n",
    "        self.log_alpha_optimizer.zero_grad()\n",
    "        alpha_loss.backward()\n",
    "        self.log_alpha_optimizer.step()\n",
    "\n",
    "        self.soft_update(self.critic_1, self.target_critic_1)\n",
    "        self.soft_update(self.critic_2, self.target_critic_2)\n",
    "        \n",
    "    def save(self,episode):\n",
    "        torch.save(self.actor.state_dict(), \"./model/SAC/sac_s27_actor{}.pth\".format(episode))\n",
    "#         torch.save(self.actor.state_dict(), \"./model/sac_actor.pth\")\n",
    "\n",
    "\n",
    "    def load(self,episode):\n",
    "        self.actor.load_state_dict(torch.load(\"./model/sac_actor{}.pth\".format(episode)))\n"
   ]
  },
  {
   "cell_type": "code",
   "execution_count": 5,
   "id": "a08d51dd",
   "metadata": {},
   "outputs": [
    {
     "name": "stderr",
     "output_type": "stream",
     "text": [
      "C:\\Users\\10678\\AppData\\Local\\Temp\\ipykernel_85108\\227311162.py:39: DeprecationWarning: `np.float` is a deprecated alias for the builtin `float`. To silence this warning, use `float` by itself. Doing this will not modify any behavior and is safe. If you specifically wanted the numpy scalar type, use `np.float64` here.\n",
      "Deprecated in NumPy 1.20; for more details and guidance: https://numpy.org/devdocs/release/1.20.0-notes.html#deprecations\n",
      "  max_rolling_score = np.float('-inf')\n",
      "C:\\Users\\10678\\AppData\\Local\\Temp\\ipykernel_85108\\227311162.py:40: DeprecationWarning: `np.float` is a deprecated alias for the builtin `float`. To silence this warning, use `float` by itself. Doing this will not modify any behavior and is safe. If you specifically wanted the numpy scalar type, use `np.float64` here.\n",
      "Deprecated in NumPy 1.20; for more details and guidance: https://numpy.org/devdocs/release/1.20.0-notes.html#deprecations\n",
      "  max_score = np.float('-inf')\n"
     ]
    },
    {
     "name": "stdout",
     "output_type": "stream",
     "text": [
      "Number of training samples: 1073\n",
      "Number of validate samples: 268\n"
     ]
    },
    {
     "name": "stderr",
     "output_type": "stream",
     "text": [
      "  0%|          | 0/1000 [00:00<?, ?it/s]C:\\Users\\10678\\AppData\\Local\\Temp\\ipykernel_85108\\1949301805.py:38: UserWarning: Creating a tensor from a list of numpy.ndarrays is extremely slow. Please consider converting the list to a single numpy.ndarray with numpy.array() before converting to a tensor. (Triggered internally at  C:\\actions-runner\\_work\\pytorch\\pytorch\\builder\\windows\\pytorch\\torch\\csrc\\utils\\tensor_new.cpp:210.)\n",
      "  state = torch.tensor([state], dtype=torch.float).to(self.device)\n"
     ]
    },
    {
     "name": "stdout",
     "output_type": "stream",
     "text": [
      "\r",
      " Run SAC_Energy_s27, Episode 0, Score: 0.30, Rolling score: 0.30, Max score: 0.30, Max rolling score: 0.30, collisions: 0   "
     ]
    },
    {
     "name": "stderr",
     "output_type": "stream",
     "text": [
      "\r",
      "  0%|          | 1/1000 [00:00<14:07,  1.18it/s]"
     ]
    },
    {
     "name": "stdout",
     "output_type": "stream",
     "text": [
      "\r",
      " Run SAC_Energy_s27, Episode 1, Score: 0.43, Rolling score: 0.36, Max score: 0.43, Max rolling score: 0.36, collisions: 0   "
     ]
    },
    {
     "name": "stderr",
     "output_type": "stream",
     "text": [
      "\r",
      "  0%|          | 2/1000 [00:01<13:14,  1.26it/s]"
     ]
    },
    {
     "name": "stdout",
     "output_type": "stream",
     "text": [
      "\r",
      " Run SAC_Energy_s27, Episode 2, Score: 0.28, Rolling score: 0.34, Max score: 0.43, Max rolling score: 0.36, collisions: 0   "
     ]
    },
    {
     "name": "stderr",
     "output_type": "stream",
     "text": [
      "\r",
      "  0%|          | 3/1000 [00:02<14:47,  1.12it/s]"
     ]
    },
    {
     "name": "stdout",
     "output_type": "stream",
     "text": [
      "\r",
      " Run SAC_Energy_s27, Episode 3, Score: 0.42, Rolling score: 0.36, Max score: 0.43, Max rolling score: 0.36, collisions: 0   "
     ]
    },
    {
     "name": "stderr",
     "output_type": "stream",
     "text": [
      "\r",
      "  0%|          | 4/1000 [00:03<16:00,  1.04it/s]"
     ]
    },
    {
     "name": "stdout",
     "output_type": "stream",
     "text": [
      "\r",
      " Run SAC_Energy_s27, Episode 4, Score: 0.21, Rolling score: 0.33, Max score: 0.43, Max rolling score: 0.36, collisions: 0   "
     ]
    },
    {
     "name": "stderr",
     "output_type": "stream",
     "text": [
      "\r",
      "  0%|          | 5/1000 [00:04<15:29,  1.07it/s]"
     ]
    },
    {
     "name": "stdout",
     "output_type": "stream",
     "text": [
      "\r",
      " Run SAC_Energy_s27, Episode 5, Score: 0.35, Rolling score: 0.33, Max score: 0.43, Max rolling score: 0.36, collisions: 0   "
     ]
    },
    {
     "name": "stderr",
     "output_type": "stream",
     "text": [
      "\r",
      "  1%|          | 6/1000 [00:05<14:43,  1.13it/s]"
     ]
    },
    {
     "name": "stdout",
     "output_type": "stream",
     "text": [
      "\r",
      " Run SAC_Energy_s27, Episode 6, Score: 0.45, Rolling score: 0.35, Max score: 0.45, Max rolling score: 0.36, collisions: 0   "
     ]
    },
    {
     "name": "stderr",
     "output_type": "stream",
     "text": [
      "\r",
      "  1%|          | 7/1000 [00:05<12:40,  1.31it/s]"
     ]
    },
    {
     "name": "stdout",
     "output_type": "stream",
     "text": [
      "\r",
      " Run SAC_Energy_s27, Episode 7, Score: 0.46, Rolling score: 0.36, Max score: 0.46, Max rolling score: 0.36, collisions: 0   "
     ]
    },
    {
     "name": "stderr",
     "output_type": "stream",
     "text": [
      "\r",
      "  1%|          | 8/1000 [00:06<13:32,  1.22it/s]"
     ]
    },
    {
     "name": "stdout",
     "output_type": "stream",
     "text": [
      "\r",
      " Run SAC_Energy_s27, Episode 8, Score: 0.29, Rolling score: 0.35, Max score: 0.46, Max rolling score: 0.36, collisions: 0   "
     ]
    },
    {
     "name": "stderr",
     "output_type": "stream",
     "text": [
      "\r",
      "  1%|          | 9/1000 [00:08<15:37,  1.06it/s]"
     ]
    },
    {
     "name": "stdout",
     "output_type": "stream",
     "text": [
      "\r",
      " Run SAC_Energy_s27, Episode 9, Score: 0.39, Rolling score: 0.36, Max score: 0.46, Max rolling score: 0.36, collisions: 0   "
     ]
    },
    {
     "name": "stderr",
     "output_type": "stream",
     "text": [
      "\r",
      "  1%|          | 10/1000 [00:08<15:00,  1.10it/s]"
     ]
    },
    {
     "name": "stdout",
     "output_type": "stream",
     "text": [
      "\r",
      " Run SAC_Energy_s27, Episode 10, Score: 0.36, Rolling score: 0.36, Max score: 0.46, Max rolling score: 0.36, collisions: 0   "
     ]
    },
    {
     "name": "stderr",
     "output_type": "stream",
     "text": [
      "\r",
      "  1%|          | 11/1000 [00:09<15:01,  1.10it/s]"
     ]
    },
    {
     "name": "stdout",
     "output_type": "stream",
     "text": [
      "\r",
      " Run SAC_Energy_s27, Episode 11, Score: 0.44, Rolling score: 0.37, Max score: 0.46, Max rolling score: 0.37, collisions: 0   "
     ]
    },
    {
     "name": "stderr",
     "output_type": "stream",
     "text": [
      "\r",
      "  1%|          | 12/1000 [00:10<14:21,  1.15it/s]"
     ]
    },
    {
     "name": "stdout",
     "output_type": "stream",
     "text": [
      "\r",
      " Run SAC_Energy_s27, Episode 12, Score: 0.30, Rolling score: 0.37, Max score: 0.46, Max rolling score: 0.37, collisions: 0   "
     ]
    },
    {
     "name": "stderr",
     "output_type": "stream",
     "text": [
      "\r",
      "  1%|▏         | 13/1000 [00:11<14:37,  1.12it/s]"
     ]
    },
    {
     "name": "stdout",
     "output_type": "stream",
     "text": [
      "\r",
      " Run SAC_Energy_s27, Episode 13, Score: 0.12, Rolling score: 0.34, Max score: 0.46, Max rolling score: 0.37, collisions: 0   "
     ]
    },
    {
     "name": "stderr",
     "output_type": "stream",
     "text": [
      "\r",
      "  1%|▏         | 14/1000 [00:12<13:32,  1.21it/s]"
     ]
    },
    {
     "name": "stdout",
     "output_type": "stream",
     "text": [
      "\r",
      " Run SAC_Energy_s27, Episode 14, Score: 0.19, Rolling score: 0.34, Max score: 0.46, Max rolling score: 0.37, collisions: 0   "
     ]
    },
    {
     "name": "stderr",
     "output_type": "stream",
     "text": [
      "\r",
      "  2%|▏         | 15/1000 [00:13<15:02,  1.09it/s]"
     ]
    },
    {
     "name": "stdout",
     "output_type": "stream",
     "text": [
      "\r",
      " Run SAC_Energy_s27, Episode 15, Score: 0.47, Rolling score: 0.35, Max score: 0.47, Max rolling score: 0.37, collisions: 0   "
     ]
    },
    {
     "name": "stderr",
     "output_type": "stream",
     "text": [
      "\r",
      "  2%|▏         | 16/1000 [00:14<14:04,  1.17it/s]"
     ]
    },
    {
     "name": "stdout",
     "output_type": "stream",
     "text": [
      "\r",
      " Run SAC_Energy_s27, Episode 16, Score: 0.36, Rolling score: 0.34, Max score: 0.47, Max rolling score: 0.37, collisions: 0   "
     ]
    },
    {
     "name": "stderr",
     "output_type": "stream",
     "text": [
      "\r",
      "  2%|▏         | 17/1000 [00:15<17:08,  1.05s/it]"
     ]
    },
    {
     "name": "stdout",
     "output_type": "stream",
     "text": [
      "\r",
      " Run SAC_Energy_s27, Episode 17, Score: 0.42, Rolling score: 0.33, Max score: 0.47, Max rolling score: 0.37, collisions: 0   "
     ]
    },
    {
     "name": "stderr",
     "output_type": "stream",
     "text": [
      "\r",
      "  2%|▏         | 18/1000 [00:16<18:34,  1.13s/it]"
     ]
    },
    {
     "name": "stdout",
     "output_type": "stream",
     "text": [
      "\r",
      " Run SAC_Energy_s27, Episode 18, Score: 0.23, Rolling score: 0.33, Max score: 0.47, Max rolling score: 0.37, collisions: 0   "
     ]
    },
    {
     "name": "stderr",
     "output_type": "stream",
     "text": [
      "\r",
      "  2%|▏         | 19/1000 [00:17<16:12,  1.01it/s]"
     ]
    },
    {
     "name": "stdout",
     "output_type": "stream",
     "text": [
      "\r",
      " Run SAC_Energy_s27, Episode 19, Score: 0.35, Rolling score: 0.32, Max score: 0.47, Max rolling score: 0.37, collisions: 0   "
     ]
    },
    {
     "name": "stderr",
     "output_type": "stream",
     "text": [
      "\r",
      "  2%|▏         | 20/1000 [00:18<15:18,  1.07it/s]"
     ]
    },
    {
     "name": "stdout",
     "output_type": "stream",
     "text": [
      "\r",
      " Run SAC_Energy_s27, Episode 20, Score: 0.56, Rolling score: 0.34, Max score: 0.56, Max rolling score: 0.37, collisions: 0   "
     ]
    },
    {
     "name": "stderr",
     "output_type": "stream",
     "text": [
      "\r",
      "  2%|▏         | 21/1000 [00:18<13:35,  1.20it/s]"
     ]
    },
    {
     "name": "stdout",
     "output_type": "stream",
     "text": [
      "\r",
      " Run SAC_Energy_s27, Episode 21, Score: -0.58, Rolling score: 0.24, Max score: 0.56, Max rolling score: 0.37, collisions: 1   "
     ]
    },
    {
     "name": "stderr",
     "output_type": "stream",
     "text": [
      "\r",
      "  2%|▏         | 22/1000 [00:19<10:54,  1.49it/s]"
     ]
    },
    {
     "name": "stdout",
     "output_type": "stream",
     "text": [
      "\r",
      " Run SAC_Energy_s27, Episode 22, Score: 0.27, Rolling score: 0.24, Max score: 0.56, Max rolling score: 0.37, collisions: 1   "
     ]
    },
    {
     "name": "stderr",
     "output_type": "stream",
     "text": [
      "\r",
      "  2%|▏         | 23/1000 [00:20<12:05,  1.35it/s]"
     ]
    },
    {
     "name": "stdout",
     "output_type": "stream",
     "text": [
      "\r",
      " Run SAC_Energy_s27, Episode 23, Score: 0.40, Rolling score: 0.27, Max score: 0.56, Max rolling score: 0.37, collisions: 1   "
     ]
    },
    {
     "name": "stderr",
     "output_type": "stream",
     "text": [
      "\r",
      "  2%|▏         | 24/1000 [00:21<13:19,  1.22it/s]"
     ]
    },
    {
     "name": "stdout",
     "output_type": "stream",
     "text": [
      "\r",
      " Run SAC_Energy_s27, Episode 24, Score: 0.45, Rolling score: 0.29, Max score: 0.56, Max rolling score: 0.37, collisions: 1   "
     ]
    },
    {
     "name": "stderr",
     "output_type": "stream",
     "text": [
      "\r",
      "  2%|▎         | 25/1000 [00:21<12:56,  1.26it/s]"
     ]
    },
    {
     "name": "stdout",
     "output_type": "stream",
     "text": [
      "\r",
      " Run SAC_Energy_s27, Episode 25, Score: 0.32, Rolling score: 0.28, Max score: 0.56, Max rolling score: 0.37, collisions: 1   "
     ]
    },
    {
     "name": "stderr",
     "output_type": "stream",
     "text": [
      "\r",
      "  3%|▎         | 26/1000 [00:22<12:40,  1.28it/s]"
     ]
    },
    {
     "name": "stdout",
     "output_type": "stream",
     "text": [
      "\r",
      " Run SAC_Energy_s27, Episode 26, Score: 0.21, Rolling score: 0.26, Max score: 0.56, Max rolling score: 0.37, collisions: 1   "
     ]
    },
    {
     "name": "stderr",
     "output_type": "stream",
     "text": [
      "\r",
      "  3%|▎         | 27/1000 [00:23<12:04,  1.34it/s]"
     ]
    },
    {
     "name": "stdout",
     "output_type": "stream",
     "text": [
      "\r",
      " Run SAC_Energy_s27, Episode 27, Score: -0.37, Rolling score: 0.18, Max score: 0.56, Max rolling score: 0.37, collisions: 2   "
     ]
    },
    {
     "name": "stderr",
     "output_type": "stream",
     "text": [
      "\r",
      "  3%|▎         | 28/1000 [00:23<10:28,  1.55it/s]"
     ]
    },
    {
     "name": "stdout",
     "output_type": "stream",
     "text": [
      "\r",
      " Run SAC_Energy_s27, Episode 28, Score: 0.52, Rolling score: 0.21, Max score: 0.56, Max rolling score: 0.37, collisions: 2   "
     ]
    },
    {
     "name": "stderr",
     "output_type": "stream",
     "text": [
      "\r",
      "  3%|▎         | 29/1000 [00:24<10:35,  1.53it/s]"
     ]
    },
    {
     "name": "stdout",
     "output_type": "stream",
     "text": [
      "\r",
      " Run SAC_Energy_s27, Episode 29, Score: -0.48, Rolling score: 0.13, Max score: 0.56, Max rolling score: 0.37, collisions: 3   "
     ]
    },
    {
     "name": "stderr",
     "output_type": "stream",
     "text": [
      "\r",
      "  3%|▎         | 30/1000 [00:24<08:45,  1.84it/s]"
     ]
    },
    {
     "name": "stdout",
     "output_type": "stream",
     "text": [
      "\r",
      " Run SAC_Energy_s27, Episode 30, Score: -0.21, Rolling score: 0.05, Max score: 0.56, Max rolling score: 0.37, collisions: 4   "
     ]
    },
    {
     "name": "stderr",
     "output_type": "stream",
     "text": [
      "\r",
      "  3%|▎         | 31/1000 [00:25<10:51,  1.49it/s]"
     ]
    },
    {
     "name": "stdout",
     "output_type": "stream",
     "text": [
      "\r",
      " Run SAC_Energy_s27, Episode 31, Score: 0.40, Rolling score: 0.15, Max score: 0.56, Max rolling score: 0.37, collisions: 4   "
     ]
    },
    {
     "name": "stderr",
     "output_type": "stream",
     "text": [
      "\r",
      "  3%|▎         | 32/1000 [00:26<10:56,  1.47it/s]"
     ]
    },
    {
     "name": "stdout",
     "output_type": "stream",
     "text": [
      "\r",
      " Run SAC_Energy_s27, Episode 32, Score: -0.32, Rolling score: 0.09, Max score: 0.56, Max rolling score: 0.37, collisions: 5   "
     ]
    },
    {
     "name": "stderr",
     "output_type": "stream",
     "text": [
      "\r",
      "  3%|▎         | 33/1000 [00:26<09:45,  1.65it/s]"
     ]
    },
    {
     "name": "stdout",
     "output_type": "stream",
     "text": [
      "\r",
      " Run SAC_Energy_s27, Episode 33, Score: -0.41, Rolling score: 0.01, Max score: 0.56, Max rolling score: 0.37, collisions: 6   "
     ]
    },
    {
     "name": "stderr",
     "output_type": "stream",
     "text": [
      "\r",
      "  3%|▎         | 34/1000 [00:27<09:52,  1.63it/s]"
     ]
    },
    {
     "name": "stdout",
     "output_type": "stream",
     "text": [
      "\r",
      " Run SAC_Energy_s27, Episode 34, Score: -0.40, Rolling score: -0.07, Max score: 0.56, Max rolling score: 0.37, collisions: 7   "
     ]
    },
    {
     "name": "stderr",
     "output_type": "stream",
     "text": [
      "\r",
      "  4%|▎         | 35/1000 [00:27<09:48,  1.64it/s]"
     ]
    },
    {
     "name": "stdout",
     "output_type": "stream",
     "text": [
      "\r",
      " Run SAC_Energy_s27, Episode 35, Score: 0.33, Rolling score: -0.07, Max score: 0.56, Max rolling score: 0.37, collisions: 7   "
     ]
    },
    {
     "name": "stderr",
     "output_type": "stream",
     "text": [
      "\r",
      "  4%|▎         | 36/1000 [00:28<10:24,  1.54it/s]"
     ]
    },
    {
     "name": "stdout",
     "output_type": "stream",
     "text": [
      "\r",
      " Run SAC_Energy_s27, Episode 36, Score: 0.50, Rolling score: -0.04, Max score: 0.56, Max rolling score: 0.37, collisions: 7   "
     ]
    },
    {
     "name": "stderr",
     "output_type": "stream",
     "text": [
      "\r",
      "  4%|▎         | 37/1000 [00:29<10:40,  1.50it/s]"
     ]
    },
    {
     "name": "stdout",
     "output_type": "stream",
     "text": [
      "\r",
      " Run SAC_Energy_s27, Episode 37, Score: 0.31, Rolling score: 0.02, Max score: 0.56, Max rolling score: 0.37, collisions: 7   "
     ]
    },
    {
     "name": "stderr",
     "output_type": "stream",
     "text": [
      "\r",
      "  4%|▍         | 38/1000 [00:30<10:48,  1.48it/s]"
     ]
    },
    {
     "name": "stdout",
     "output_type": "stream",
     "text": [
      "\r",
      " Run SAC_Energy_s27, Episode 38, Score: 0.53, Rolling score: 0.02, Max score: 0.56, Max rolling score: 0.37, collisions: 7   "
     ]
    },
    {
     "name": "stderr",
     "output_type": "stream",
     "text": [
      "\r",
      "  4%|▍         | 39/1000 [00:30<10:47,  1.49it/s]"
     ]
    },
    {
     "name": "stdout",
     "output_type": "stream",
     "text": [
      "\r",
      " Run SAC_Energy_s27, Episode 39, Score: 0.48, Rolling score: 0.12, Max score: 0.56, Max rolling score: 0.37, collisions: 7   "
     ]
    },
    {
     "name": "stderr",
     "output_type": "stream",
     "text": [
      "\r",
      "  4%|▍         | 40/1000 [00:31<10:11,  1.57it/s]"
     ]
    },
    {
     "name": "stdout",
     "output_type": "stream",
     "text": [
      "\r",
      " Run SAC_Energy_s27, Episode 40, Score: 0.51, Rolling score: 0.19, Max score: 0.56, Max rolling score: 0.37, collisions: 7   "
     ]
    },
    {
     "name": "stderr",
     "output_type": "stream",
     "text": [
      "\r",
      "  4%|▍         | 41/1000 [00:31<10:16,  1.56it/s]"
     ]
    },
    {
     "name": "stdout",
     "output_type": "stream",
     "text": [
      "\r",
      " Run SAC_Energy_s27, Episode 41, Score: -0.02, Rolling score: 0.15, Max score: 0.56, Max rolling score: 0.37, collisions: 8   "
     ]
    },
    {
     "name": "stderr",
     "output_type": "stream",
     "text": [
      "\r",
      "  4%|▍         | 42/1000 [00:32<12:01,  1.33it/s]"
     ]
    },
    {
     "name": "stdout",
     "output_type": "stream",
     "text": [
      "\r",
      " Run SAC_Energy_s27, Episode 42, Score: 0.36, Rolling score: 0.22, Max score: 0.56, Max rolling score: 0.37, collisions: 8   "
     ]
    },
    {
     "name": "stderr",
     "output_type": "stream",
     "text": [
      "\r",
      "  4%|▍         | 43/1000 [00:33<11:30,  1.39it/s]"
     ]
    },
    {
     "name": "stdout",
     "output_type": "stream",
     "text": [
      "\r",
      " Run SAC_Energy_s27, Episode 43, Score: 0.55, Rolling score: 0.32, Max score: 0.56, Max rolling score: 0.37, collisions: 8   "
     ]
    },
    {
     "name": "stderr",
     "output_type": "stream",
     "text": [
      "\r",
      "  4%|▍         | 44/1000 [00:34<11:38,  1.37it/s]"
     ]
    },
    {
     "name": "stdout",
     "output_type": "stream",
     "text": [
      "\r",
      " Run SAC_Energy_s27, Episode 44, Score: -0.55, Rolling score: 0.30, Max score: 0.56, Max rolling score: 0.37, collisions: 9   "
     ]
    },
    {
     "name": "stderr",
     "output_type": "stream",
     "text": [
      "\r",
      "  4%|▍         | 45/1000 [00:34<10:25,  1.53it/s]"
     ]
    },
    {
     "name": "stdout",
     "output_type": "stream",
     "text": [
      "\r",
      " Run SAC_Energy_s27, Episode 45, Score: 0.28, Rolling score: 0.30, Max score: 0.56, Max rolling score: 0.37, collisions: 9   "
     ]
    },
    {
     "name": "stderr",
     "output_type": "stream",
     "text": [
      "\r",
      "  5%|▍         | 46/1000 [00:35<11:23,  1.40it/s]"
     ]
    },
    {
     "name": "stdout",
     "output_type": "stream",
     "text": [
      "\r",
      " Run SAC_Energy_s27, Episode 46, Score: 0.43, Rolling score: 0.29, Max score: 0.56, Max rolling score: 0.37, collisions: 9   "
     ]
    },
    {
     "name": "stderr",
     "output_type": "stream",
     "text": [
      "\r",
      "  5%|▍         | 47/1000 [00:36<11:39,  1.36it/s]"
     ]
    },
    {
     "name": "stdout",
     "output_type": "stream",
     "text": [
      "\r",
      " Run SAC_Energy_s27, Episode 47, Score: 0.34, Rolling score: 0.29, Max score: 0.56, Max rolling score: 0.37, collisions: 9   "
     ]
    },
    {
     "name": "stderr",
     "output_type": "stream",
     "text": [
      "\r",
      "  5%|▍         | 48/1000 [00:37<11:52,  1.34it/s]"
     ]
    },
    {
     "name": "stdout",
     "output_type": "stream",
     "text": [
      "\r",
      " Run SAC_Energy_s27, Episode 48, Score: 0.29, Rolling score: 0.27, Max score: 0.56, Max rolling score: 0.37, collisions: 9   "
     ]
    },
    {
     "name": "stderr",
     "output_type": "stream",
     "text": [
      "\r",
      "  5%|▍         | 49/1000 [00:37<11:43,  1.35it/s]"
     ]
    },
    {
     "name": "stdout",
     "output_type": "stream",
     "text": [
      "\r",
      " Run SAC_Energy_s27, Episode 49, Score: 0.54, Rolling score: 0.27, Max score: 0.56, Max rolling score: 0.37, collisions: 9   "
     ]
    },
    {
     "name": "stderr",
     "output_type": "stream",
     "text": [
      "\r",
      "  5%|▌         | 50/1000 [00:38<10:41,  1.48it/s]"
     ]
    },
    {
     "name": "stdout",
     "output_type": "stream",
     "text": [
      "\r",
      " Run SAC_Energy_s27, Episode 50, Score: 0.30, Rolling score: 0.25, Max score: 0.56, Max rolling score: 0.37, collisions: 9   "
     ]
    },
    {
     "name": "stderr",
     "output_type": "stream",
     "text": [
      "\r",
      "  5%|▌         | 51/1000 [00:39<13:44,  1.15it/s]"
     ]
    },
    {
     "name": "stdout",
     "output_type": "stream",
     "text": [
      "\r",
      " Run SAC_Energy_s27, Episode 51, Score: 0.64, Rolling score: 0.32, Max score: 0.64, Max rolling score: 0.37, collisions: 9   "
     ]
    },
    {
     "name": "stderr",
     "output_type": "stream",
     "text": [
      "\r",
      "  5%|▌         | 52/1000 [00:40<12:22,  1.28it/s]"
     ]
    },
    {
     "name": "stdout",
     "output_type": "stream",
     "text": [
      "\r",
      " Run SAC_Energy_s27, Episode 52, Score: 0.44, Rolling score: 0.32, Max score: 0.64, Max rolling score: 0.37, collisions: 9   "
     ]
    },
    {
     "name": "stderr",
     "output_type": "stream",
     "text": [
      "\r",
      "  5%|▌         | 53/1000 [00:41<11:40,  1.35it/s]"
     ]
    },
    {
     "name": "stdout",
     "output_type": "stream",
     "text": [
      "\r",
      " Run SAC_Energy_s27, Episode 53, Score: 0.26, Rolling score: 0.30, Max score: 0.64, Max rolling score: 0.37, collisions: 9   "
     ]
    },
    {
     "name": "stderr",
     "output_type": "stream",
     "text": [
      "\r",
      "  5%|▌         | 54/1000 [00:41<10:51,  1.45it/s]"
     ]
    },
    {
     "name": "stdout",
     "output_type": "stream",
     "text": [
      "\r",
      " Run SAC_Energy_s27, Episode 54, Score: 0.47, Rolling score: 0.40, Max score: 0.64, Max rolling score: 0.40, collisions: 9   "
     ]
    },
    {
     "name": "stderr",
     "output_type": "stream",
     "text": [
      "\r",
      "  6%|▌         | 55/1000 [00:42<11:36,  1.36it/s]"
     ]
    },
    {
     "name": "stdout",
     "output_type": "stream",
     "text": [
      "\r",
      " Run SAC_Energy_s27, Episode 55, Score: 0.45, Rolling score: 0.42, Max score: 0.64, Max rolling score: 0.42, collisions: 9   "
     ]
    },
    {
     "name": "stderr",
     "output_type": "stream",
     "text": [
      "\r",
      "  6%|▌         | 56/1000 [00:43<11:49,  1.33it/s]"
     ]
    },
    {
     "name": "stdout",
     "output_type": "stream",
     "text": [
      "\r",
      " Run SAC_Energy_s27, Episode 56, Score: -0.44, Rolling score: 0.33, Max score: 0.64, Max rolling score: 0.42, collisions: 10   "
     ]
    },
    {
     "name": "stderr",
     "output_type": "stream",
     "text": [
      "\r",
      "  6%|▌         | 57/1000 [00:43<08:52,  1.77it/s]"
     ]
    },
    {
     "name": "stdout",
     "output_type": "stream",
     "text": [
      "\r",
      " Run SAC_Energy_s27, Episode 57, Score: 0.39, Rolling score: 0.33, Max score: 0.64, Max rolling score: 0.42, collisions: 10   "
     ]
    },
    {
     "name": "stderr",
     "output_type": "stream",
     "text": [
      "\r",
      "  6%|▌         | 58/1000 [00:44<10:48,  1.45it/s]"
     ]
    },
    {
     "name": "stdout",
     "output_type": "stream",
     "text": [
      "\r",
      " Run SAC_Energy_s27, Episode 58, Score: -0.62, Rolling score: 0.24, Max score: 0.64, Max rolling score: 0.42, collisions: 11   "
     ]
    },
    {
     "name": "stderr",
     "output_type": "stream",
     "text": [
      "\r",
      "  6%|▌         | 59/1000 [00:44<09:36,  1.63it/s]"
     ]
    },
    {
     "name": "stdout",
     "output_type": "stream",
     "text": [
      "\r",
      " Run SAC_Energy_s27, Episode 59, Score: 0.52, Rolling score: 0.24, Max score: 0.64, Max rolling score: 0.42, collisions: 11   "
     ]
    },
    {
     "name": "stderr",
     "output_type": "stream",
     "text": [
      "\r",
      "  6%|▌         | 60/1000 [00:45<09:55,  1.58it/s]"
     ]
    },
    {
     "name": "stdout",
     "output_type": "stream",
     "text": [
      "\r",
      " Run SAC_Energy_s27, Episode 60, Score: 0.45, Rolling score: 0.26, Max score: 0.64, Max rolling score: 0.42, collisions: 11   "
     ]
    },
    {
     "name": "stderr",
     "output_type": "stream",
     "text": [
      "\r",
      "  6%|▌         | 61/1000 [00:46<09:52,  1.58it/s]"
     ]
    },
    {
     "name": "stdout",
     "output_type": "stream",
     "text": [
      "\r",
      " Run SAC_Energy_s27, Episode 61, Score: 0.58, Rolling score: 0.25, Max score: 0.64, Max rolling score: 0.42, collisions: 11   "
     ]
    },
    {
     "name": "stderr",
     "output_type": "stream",
     "text": [
      "\r",
      "  6%|▌         | 62/1000 [00:46<10:06,  1.55it/s]"
     ]
    },
    {
     "name": "stdout",
     "output_type": "stream",
     "text": [
      "\r",
      " Run SAC_Energy_s27, Episode 62, Score: 0.11, Rolling score: 0.22, Max score: 0.64, Max rolling score: 0.42, collisions: 11   "
     ]
    },
    {
     "name": "stderr",
     "output_type": "stream",
     "text": [
      "\r",
      "  6%|▋         | 63/1000 [00:47<10:20,  1.51it/s]"
     ]
    },
    {
     "name": "stdout",
     "output_type": "stream",
     "text": [
      "\r",
      " Run SAC_Energy_s27, Episode 63, Score: 0.43, Rolling score: 0.23, Max score: 0.64, Max rolling score: 0.42, collisions: 11   "
     ]
    },
    {
     "name": "stderr",
     "output_type": "stream",
     "text": [
      "\r",
      "  6%|▋         | 64/1000 [00:48<13:44,  1.14it/s]"
     ]
    },
    {
     "name": "stdout",
     "output_type": "stream",
     "text": [
      "\r",
      " Run SAC_Energy_s27, Episode 64, Score: 0.39, Rolling score: 0.23, Max score: 0.64, Max rolling score: 0.42, collisions: 11   "
     ]
    },
    {
     "name": "stderr",
     "output_type": "stream",
     "text": [
      "\r",
      "  6%|▋         | 65/1000 [00:49<13:31,  1.15it/s]"
     ]
    },
    {
     "name": "stdout",
     "output_type": "stream",
     "text": [
      "\r",
      " Run SAC_Energy_s27, Episode 65, Score: 0.33, Rolling score: 0.21, Max score: 0.64, Max rolling score: 0.42, collisions: 11   "
     ]
    },
    {
     "name": "stderr",
     "output_type": "stream",
     "text": [
      "\r",
      "  7%|▋         | 66/1000 [00:50<11:47,  1.32it/s]"
     ]
    },
    {
     "name": "stdout",
     "output_type": "stream",
     "text": [
      "\r",
      " Run SAC_Energy_s27, Episode 66, Score: 0.37, Rolling score: 0.29, Max score: 0.64, Max rolling score: 0.42, collisions: 11   "
     ]
    },
    {
     "name": "stderr",
     "output_type": "stream",
     "text": [
      "\r",
      "  7%|▋         | 67/1000 [00:51<13:04,  1.19it/s]"
     ]
    },
    {
     "name": "stdout",
     "output_type": "stream",
     "text": [
      "\r",
      " Run SAC_Energy_s27, Episode 67, Score: 0.50, Rolling score: 0.31, Max score: 0.64, Max rolling score: 0.42, collisions: 11   "
     ]
    },
    {
     "name": "stderr",
     "output_type": "stream",
     "text": [
      "\r",
      "  7%|▋         | 68/1000 [00:51<12:05,  1.29it/s]"
     ]
    },
    {
     "name": "stdout",
     "output_type": "stream",
     "text": [
      "\r",
      " Run SAC_Energy_s27, Episode 68, Score: 0.34, Rolling score: 0.40, Max score: 0.64, Max rolling score: 0.42, collisions: 11   "
     ]
    },
    {
     "name": "stderr",
     "output_type": "stream",
     "text": [
      "\r",
      "  7%|▋         | 69/1000 [00:52<11:25,  1.36it/s]"
     ]
    },
    {
     "name": "stdout",
     "output_type": "stream",
     "text": [
      "\r",
      " Run SAC_Energy_s27, Episode 69, Score: 0.36, Rolling score: 0.39, Max score: 0.64, Max rolling score: 0.42, collisions: 11   "
     ]
    },
    {
     "name": "stderr",
     "output_type": "stream",
     "text": [
      "\r",
      "  7%|▋         | 70/1000 [00:53<11:19,  1.37it/s]"
     ]
    },
    {
     "name": "stdout",
     "output_type": "stream",
     "text": [
      "\r",
      " Run SAC_Energy_s27, Episode 70, Score: 0.40, Rolling score: 0.38, Max score: 0.64, Max rolling score: 0.42, collisions: 11   "
     ]
    },
    {
     "name": "stderr",
     "output_type": "stream",
     "text": [
      "\r",
      "  7%|▋         | 71/1000 [00:54<12:43,  1.22it/s]"
     ]
    },
    {
     "name": "stdout",
     "output_type": "stream",
     "text": [
      "\r",
      " Run SAC_Energy_s27, Episode 71, Score: 0.27, Rolling score: 0.35, Max score: 0.64, Max rolling score: 0.42, collisions: 11   "
     ]
    },
    {
     "name": "stderr",
     "output_type": "stream",
     "text": [
      "\r",
      "  7%|▋         | 72/1000 [00:54<12:06,  1.28it/s]"
     ]
    },
    {
     "name": "stdout",
     "output_type": "stream",
     "text": [
      "\r",
      " Run SAC_Energy_s27, Episode 72, Score: -0.51, Rolling score: 0.29, Max score: 0.64, Max rolling score: 0.42, collisions: 12   "
     ]
    },
    {
     "name": "stderr",
     "output_type": "stream",
     "text": [
      "\r",
      "  7%|▋         | 73/1000 [00:55<09:54,  1.56it/s]"
     ]
    },
    {
     "name": "stdout",
     "output_type": "stream",
     "text": [
      "\r",
      " Run SAC_Energy_s27, Episode 73, Score: 0.55, Rolling score: 0.30, Max score: 0.64, Max rolling score: 0.42, collisions: 12   "
     ]
    },
    {
     "name": "stderr",
     "output_type": "stream",
     "text": [
      "\r",
      "  7%|▋         | 74/1000 [00:55<09:28,  1.63it/s]"
     ]
    },
    {
     "name": "stdout",
     "output_type": "stream",
     "text": [
      "\r",
      " Run SAC_Energy_s27, Episode 74, Score: -0.36, Rolling score: 0.22, Max score: 0.64, Max rolling score: 0.42, collisions: 13   "
     ]
    },
    {
     "name": "stderr",
     "output_type": "stream",
     "text": [
      "\r",
      "  8%|▊         | 75/1000 [00:56<09:12,  1.67it/s]"
     ]
    },
    {
     "name": "stdout",
     "output_type": "stream",
     "text": [
      "\r",
      " Run SAC_Energy_s27, Episode 75, Score: 0.31, Rolling score: 0.22, Max score: 0.64, Max rolling score: 0.42, collisions: 13   "
     ]
    },
    {
     "name": "stderr",
     "output_type": "stream",
     "text": [
      "\r",
      "  8%|▊         | 76/1000 [00:57<11:37,  1.33it/s]"
     ]
    },
    {
     "name": "stdout",
     "output_type": "stream",
     "text": [
      "\r",
      " Run SAC_Energy_s27, Episode 76, Score: 0.42, Rolling score: 0.23, Max score: 0.64, Max rolling score: 0.42, collisions: 13   "
     ]
    },
    {
     "name": "stderr",
     "output_type": "stream",
     "text": [
      "\r",
      "  8%|▊         | 77/1000 [00:58<10:58,  1.40it/s]"
     ]
    },
    {
     "name": "stdout",
     "output_type": "stream",
     "text": [
      "\r",
      " Run SAC_Energy_s27, Episode 77, Score: 0.69, Rolling score: 0.25, Max score: 0.69, Max rolling score: 0.42, collisions: 13   "
     ]
    },
    {
     "name": "stderr",
     "output_type": "stream",
     "text": [
      "\r",
      "  8%|▊         | 78/1000 [00:58<10:54,  1.41it/s]"
     ]
    },
    {
     "name": "stdout",
     "output_type": "stream",
     "text": [
      "\r",
      " Run SAC_Energy_s27, Episode 78, Score: 0.18, Rolling score: 0.23, Max score: 0.69, Max rolling score: 0.42, collisions: 13   "
     ]
    },
    {
     "name": "stderr",
     "output_type": "stream",
     "text": [
      "\r",
      "  8%|▊         | 79/1000 [00:59<10:27,  1.47it/s]"
     ]
    },
    {
     "name": "stdout",
     "output_type": "stream",
     "text": [
      "\r",
      " Run SAC_Energy_s27, Episode 79, Score: 0.13, Rolling score: 0.21, Max score: 0.69, Max rolling score: 0.42, collisions: 13   "
     ]
    },
    {
     "name": "stderr",
     "output_type": "stream",
     "text": [
      "\r",
      "  8%|▊         | 80/1000 [01:00<09:56,  1.54it/s]"
     ]
    },
    {
     "name": "stdout",
     "output_type": "stream",
     "text": [
      "\r",
      " Run SAC_Energy_s27, Episode 80, Score: -0.07, Rolling score: 0.16, Max score: 0.69, Max rolling score: 0.42, collisions: 14   "
     ]
    },
    {
     "name": "stderr",
     "output_type": "stream",
     "text": [
      "\r",
      "  8%|▊         | 81/1000 [01:00<11:24,  1.34it/s]"
     ]
    },
    {
     "name": "stdout",
     "output_type": "stream",
     "text": [
      "\r",
      " Run SAC_Energy_s27, Episode 81, Score: 0.65, Rolling score: 0.20, Max score: 0.69, Max rolling score: 0.42, collisions: 14   "
     ]
    },
    {
     "name": "stderr",
     "output_type": "stream",
     "text": [
      "\r",
      "  8%|▊         | 82/1000 [01:01<11:11,  1.37it/s]"
     ]
    },
    {
     "name": "stdout",
     "output_type": "stream",
     "text": [
      "\r",
      " Run SAC_Energy_s27, Episode 82, Score: 0.50, Rolling score: 0.30, Max score: 0.69, Max rolling score: 0.42, collisions: 14   "
     ]
    },
    {
     "name": "stderr",
     "output_type": "stream",
     "text": [
      "\r",
      "  8%|▊         | 83/1000 [01:02<10:31,  1.45it/s]"
     ]
    },
    {
     "name": "stdout",
     "output_type": "stream",
     "text": [
      "\r",
      " Run SAC_Energy_s27, Episode 83, Score: 0.46, Rolling score: 0.29, Max score: 0.69, Max rolling score: 0.42, collisions: 14   "
     ]
    },
    {
     "name": "stderr",
     "output_type": "stream",
     "text": [
      "\r",
      "  8%|▊         | 84/1000 [01:03<10:44,  1.42it/s]"
     ]
    },
    {
     "name": "stdout",
     "output_type": "stream",
     "text": [
      "\r",
      " Run SAC_Energy_s27, Episode 84, Score: -0.84, Rolling score: 0.24, Max score: 0.69, Max rolling score: 0.42, collisions: 15   "
     ]
    },
    {
     "name": "stderr",
     "output_type": "stream",
     "text": [
      "\r",
      "  8%|▊         | 85/1000 [01:03<08:49,  1.73it/s]"
     ]
    },
    {
     "name": "stdout",
     "output_type": "stream",
     "text": [
      "\r",
      " Run SAC_Energy_s27, Episode 85, Score: 0.28, Rolling score: 0.24, Max score: 0.69, Max rolling score: 0.42, collisions: 15   "
     ]
    },
    {
     "name": "stderr",
     "output_type": "stream",
     "text": [
      "\r",
      "  9%|▊         | 86/1000 [01:04<09:23,  1.62it/s]"
     ]
    },
    {
     "name": "stdout",
     "output_type": "stream",
     "text": [
      "\r",
      " Run SAC_Energy_s27, Episode 86, Score: 0.35, Rolling score: 0.23, Max score: 0.69, Max rolling score: 0.42, collisions: 15   "
     ]
    },
    {
     "name": "stderr",
     "output_type": "stream",
     "text": [
      "\r",
      "  9%|▊         | 87/1000 [01:04<09:29,  1.60it/s]"
     ]
    },
    {
     "name": "stdout",
     "output_type": "stream",
     "text": [
      "\r",
      " Run SAC_Energy_s27, Episode 87, Score: -0.25, Rolling score: 0.14, Max score: 0.69, Max rolling score: 0.42, collisions: 16   "
     ]
    },
    {
     "name": "stderr",
     "output_type": "stream",
     "text": [
      "\r",
      "  9%|▉         | 88/1000 [01:05<08:59,  1.69it/s]"
     ]
    },
    {
     "name": "stdout",
     "output_type": "stream",
     "text": [
      "\r",
      " Run SAC_Energy_s27, Episode 88, Score: 0.51, Rolling score: 0.17, Max score: 0.69, Max rolling score: 0.42, collisions: 16   "
     ]
    },
    {
     "name": "stderr",
     "output_type": "stream",
     "text": [
      "\r",
      "  9%|▉         | 89/1000 [01:05<08:43,  1.74it/s]"
     ]
    },
    {
     "name": "stdout",
     "output_type": "stream",
     "text": [
      "\r",
      " Run SAC_Energy_s27, Episode 89, Score: 0.60, Rolling score: 0.22, Max score: 0.69, Max rolling score: 0.42, collisions: 16   "
     ]
    },
    {
     "name": "stderr",
     "output_type": "stream",
     "text": [
      "\r",
      "  9%|▉         | 90/1000 [01:07<12:18,  1.23it/s]"
     ]
    },
    {
     "name": "stdout",
     "output_type": "stream",
     "text": [
      "\r",
      " Run SAC_Energy_s27, Episode 90, Score: 0.42, Rolling score: 0.27, Max score: 0.69, Max rolling score: 0.42, collisions: 16   "
     ]
    },
    {
     "name": "stderr",
     "output_type": "stream",
     "text": [
      "\r",
      "  9%|▉         | 91/1000 [01:07<11:54,  1.27it/s]"
     ]
    },
    {
     "name": "stdout",
     "output_type": "stream",
     "text": [
      "\r",
      " Run SAC_Energy_s27, Episode 91, Score: 0.02, Rolling score: 0.20, Max score: 0.69, Max rolling score: 0.42, collisions: 16   "
     ]
    },
    {
     "name": "stderr",
     "output_type": "stream",
     "text": [
      "\r",
      "  9%|▉         | 92/1000 [01:10<21:11,  1.40s/it]"
     ]
    },
    {
     "name": "stdout",
     "output_type": "stream",
     "text": [
      "\r",
      " Run SAC_Energy_s27, Episode 92, Score: 0.11, Rolling score: 0.17, Max score: 0.69, Max rolling score: 0.42, collisions: 16   "
     ]
    },
    {
     "name": "stderr",
     "output_type": "stream",
     "text": [
      "\r",
      "  9%|▉         | 93/1000 [01:13<26:00,  1.72s/it]"
     ]
    },
    {
     "name": "stdout",
     "output_type": "stream",
     "text": [
      "\r",
      " Run SAC_Energy_s27, Episode 93, Score: -0.03, Rolling score: 0.12, Max score: 0.69, Max rolling score: 0.42, collisions: 16   "
     ]
    },
    {
     "name": "stderr",
     "output_type": "stream",
     "text": [
      "\r",
      "  9%|▉         | 94/1000 [01:17<37:33,  2.49s/it]"
     ]
    },
    {
     "name": "stdout",
     "output_type": "stream",
     "text": [
      "\r",
      " Run SAC_Energy_s27, Episode 94, Score: -0.09, Rolling score: 0.19, Max score: 0.69, Max rolling score: 0.42, collisions: 16   "
     ]
    },
    {
     "name": "stderr",
     "output_type": "stream",
     "text": [
      "\r",
      " 10%|▉         | 95/1000 [01:21<44:09,  2.93s/it]"
     ]
    },
    {
     "name": "stdout",
     "output_type": "stream",
     "text": [
      "\r",
      " Run SAC_Energy_s27, Episode 95, Score: -0.10, Rolling score: 0.15, Max score: 0.69, Max rolling score: 0.42, collisions: 16   "
     ]
    },
    {
     "name": "stderr",
     "output_type": "stream",
     "text": [
      "\r",
      " 10%|▉         | 96/1000 [01:26<54:40,  3.63s/it]"
     ]
    },
    {
     "name": "stdout",
     "output_type": "stream",
     "text": [
      "\r",
      " Run SAC_Energy_s27, Episode 96, Score: -0.16, Rolling score: 0.10, Max score: 0.69, Max rolling score: 0.42, collisions: 16   "
     ]
    },
    {
     "name": "stderr",
     "output_type": "stream",
     "text": [
      "\r",
      " 10%|▉         | 97/1000 [01:29<49:32,  3.29s/it]"
     ]
    },
    {
     "name": "stdout",
     "output_type": "stream",
     "text": [
      "\r",
      " Run SAC_Energy_s27, Episode 97, Score: -0.15, Rolling score: 0.11, Max score: 0.69, Max rolling score: 0.42, collisions: 16   "
     ]
    },
    {
     "name": "stderr",
     "output_type": "stream",
     "text": [
      "\r",
      " 10%|▉         | 98/1000 [01:31<44:56,  2.99s/it]"
     ]
    },
    {
     "name": "stdout",
     "output_type": "stream",
     "text": [
      "\r",
      " Run SAC_Energy_s27, Episode 98, Score: -0.05, Rolling score: 0.06, Max score: 0.69, Max rolling score: 0.42, collisions: 16   "
     ]
    },
    {
     "name": "stderr",
     "output_type": "stream",
     "text": [
      "\r",
      " 10%|▉         | 99/1000 [01:34<43:53,  2.92s/it]"
     ]
    },
    {
     "name": "stdout",
     "output_type": "stream",
     "text": [
      "\r",
      " Run SAC_Energy_s27, Episode 99, Score: -0.09, Rolling score: -0.01, Max score: 0.69, Max rolling score: 0.42, collisions: 16   "
     ]
    },
    {
     "name": "stderr",
     "output_type": "stream",
     "text": [
      "\r",
      " 10%|█         | 100/1000 [01:37<45:20,  3.02s/it]"
     ]
    },
    {
     "name": "stdout",
     "output_type": "stream",
     "text": [
      "\r",
      " Run SAC_Energy_s27, Episode 100, Score: 0.37, Rolling score: -0.02, Max score: 0.69, Max rolling score: 0.42, collisions: 16   "
     ]
    },
    {
     "name": "stderr",
     "output_type": "stream",
     "text": [
      "\r",
      " 10%|█         | 101/1000 [01:40<43:59,  2.94s/it]"
     ]
    },
    {
     "name": "stdout",
     "output_type": "stream",
     "text": [
      "\r",
      " Run SAC_Energy_s27, Episode 101, Score: 0.49, Rolling score: 0.03, Max score: 0.69, Max rolling score: 0.42, collisions: 16   "
     ]
    },
    {
     "name": "stderr",
     "output_type": "stream",
     "text": [
      "\r",
      " 10%|█         | 102/1000 [01:43<45:24,  3.03s/it]"
     ]
    },
    {
     "name": "stdout",
     "output_type": "stream",
     "text": [
      "\r",
      " Run SAC_Energy_s27, Episode 102, Score: 0.54, Rolling score: 0.07, Max score: 0.69, Max rolling score: 0.42, collisions: 16   "
     ]
    },
    {
     "name": "stderr",
     "output_type": "stream",
     "text": [
      "\r",
      " 10%|█         | 103/1000 [01:50<1:03:13,  4.23s/it]"
     ]
    },
    {
     "name": "stdout",
     "output_type": "stream",
     "text": [
      "\r",
      " Run SAC_Energy_s27, Episode 103, Score: 0.52, Rolling score: 0.13, Max score: 0.69, Max rolling score: 0.42, collisions: 16   "
     ]
    },
    {
     "name": "stderr",
     "output_type": "stream",
     "text": [
      "\r",
      " 10%|█         | 104/1000 [01:56<1:10:56,  4.75s/it]"
     ]
    },
    {
     "name": "stdout",
     "output_type": "stream",
     "text": [
      "\r",
      " Run SAC_Energy_s27, Episode 104, Score: 0.49, Rolling score: 0.19, Max score: 0.69, Max rolling score: 0.42, collisions: 16   "
     ]
    },
    {
     "name": "stderr",
     "output_type": "stream",
     "text": [
      "\r",
      " 10%|█         | 105/1000 [02:00<1:07:59,  4.56s/it]"
     ]
    },
    {
     "name": "stdout",
     "output_type": "stream",
     "text": [
      "\r",
      " Run SAC_Energy_s27, Episode 105, Score: 0.48, Rolling score: 0.24, Max score: 0.69, Max rolling score: 0.42, collisions: 16   "
     ]
    },
    {
     "name": "stderr",
     "output_type": "stream",
     "text": [
      "\r",
      " 11%|█         | 106/1000 [02:04<1:07:36,  4.54s/it]"
     ]
    },
    {
     "name": "stdout",
     "output_type": "stream",
     "text": [
      "\r",
      " Run SAC_Energy_s27, Episode 106, Score: 0.38, Rolling score: 0.30, Max score: 0.69, Max rolling score: 0.42, collisions: 16   "
     ]
    },
    {
     "name": "stderr",
     "output_type": "stream",
     "text": [
      "\r",
      " 11%|█         | 107/1000 [02:07<58:02,  3.90s/it]  "
     ]
    },
    {
     "name": "stdout",
     "output_type": "stream",
     "text": [
      "\r",
      " Run SAC_Energy_s27, Episode 107, Score: 0.46, Rolling score: 0.36, Max score: 0.69, Max rolling score: 0.42, collisions: 16   "
     ]
    },
    {
     "name": "stderr",
     "output_type": "stream",
     "text": [
      "\r",
      " 11%|█         | 108/1000 [02:12<1:03:42,  4.29s/it]"
     ]
    },
    {
     "name": "stdout",
     "output_type": "stream",
     "text": [
      "\r",
      " Run SAC_Energy_s27, Episode 108, Score: 0.46, Rolling score: 0.41, Max score: 0.69, Max rolling score: 0.42, collisions: 16   "
     ]
    },
    {
     "name": "stderr",
     "output_type": "stream",
     "text": [
      "\r",
      " 11%|█         | 109/1000 [02:15<58:47,  3.96s/it]  "
     ]
    },
    {
     "name": "stdout",
     "output_type": "stream",
     "text": [
      "\r",
      " Run SAC_Energy_s27, Episode 109, Score: 0.48, Rolling score: 0.47, Max score: 0.69, Max rolling score: 0.47, collisions: 16   "
     ]
    },
    {
     "name": "stderr",
     "output_type": "stream",
     "text": [
      "\r",
      " 11%|█         | 110/1000 [02:18<54:12,  3.65s/it]"
     ]
    },
    {
     "name": "stdout",
     "output_type": "stream",
     "text": [
      "\r",
      " Run SAC_Energy_s27, Episode 110, Score: 0.48, Rolling score: 0.48, Max score: 0.69, Max rolling score: 0.48, collisions: 16   "
     ]
    },
    {
     "name": "stderr",
     "output_type": "stream",
     "text": [
      "\r",
      " 11%|█         | 111/1000 [02:21<50:22,  3.40s/it]"
     ]
    },
    {
     "name": "stdout",
     "output_type": "stream",
     "text": [
      "\r",
      " Run SAC_Energy_s27, Episode 111, Score: 0.49, Rolling score: 0.48, Max score: 0.69, Max rolling score: 0.48, collisions: 16   "
     ]
    },
    {
     "name": "stderr",
     "output_type": "stream",
     "text": [
      "\r",
      " 11%|█         | 112/1000 [02:25<52:02,  3.52s/it]"
     ]
    },
    {
     "name": "stdout",
     "output_type": "stream",
     "text": [
      "\r",
      " Run SAC_Energy_s27, Episode 112, Score: 0.49, Rolling score: 0.47, Max score: 0.69, Max rolling score: 0.48, collisions: 16   "
     ]
    },
    {
     "name": "stderr",
     "output_type": "stream",
     "text": [
      "\r",
      " 11%|█▏        | 113/1000 [02:31<1:01:39,  4.17s/it]"
     ]
    },
    {
     "name": "stdout",
     "output_type": "stream",
     "text": [
      "\r",
      " Run SAC_Energy_s27, Episode 113, Score: 0.52, Rolling score: 0.47, Max score: 0.69, Max rolling score: 0.48, collisions: 16   "
     ]
    },
    {
     "name": "stderr",
     "output_type": "stream",
     "text": [
      "\r",
      " 11%|█▏        | 114/1000 [02:35<1:01:05,  4.14s/it]"
     ]
    },
    {
     "name": "stdout",
     "output_type": "stream",
     "text": [
      "\r",
      " Run SAC_Energy_s27, Episode 114, Score: 0.61, Rolling score: 0.49, Max score: 0.69, Max rolling score: 0.49, collisions: 16   "
     ]
    },
    {
     "name": "stderr",
     "output_type": "stream",
     "text": [
      "\r",
      " 12%|█▏        | 115/1000 [02:37<53:09,  3.60s/it]  "
     ]
    },
    {
     "name": "stdout",
     "output_type": "stream",
     "text": [
      "\r",
      " Run SAC_Energy_s27, Episode 115, Score: 0.52, Rolling score: 0.49, Max score: 0.69, Max rolling score: 0.49, collisions: 16   "
     ]
    },
    {
     "name": "stderr",
     "output_type": "stream",
     "text": [
      "\r",
      " 12%|█▏        | 116/1000 [02:39<47:14,  3.21s/it]"
     ]
    },
    {
     "name": "stdout",
     "output_type": "stream",
     "text": [
      "\r",
      " Run SAC_Energy_s27, Episode 116, Score: 0.57, Rolling score: 0.51, Max score: 0.69, Max rolling score: 0.51, collisions: 16   "
     ]
    },
    {
     "name": "stderr",
     "output_type": "stream",
     "text": [
      "\r",
      " 12%|█▏        | 117/1000 [02:43<48:02,  3.26s/it]"
     ]
    },
    {
     "name": "stdout",
     "output_type": "stream",
     "text": [
      "\r",
      " Run SAC_Energy_s27, Episode 117, Score: 0.57, Rolling score: 0.52, Max score: 0.69, Max rolling score: 0.52, collisions: 16   "
     ]
    },
    {
     "name": "stderr",
     "output_type": "stream",
     "text": [
      "\r",
      " 12%|█▏        | 118/1000 [02:47<51:30,  3.50s/it]"
     ]
    },
    {
     "name": "stdout",
     "output_type": "stream",
     "text": [
      "\r",
      " Run SAC_Energy_s27, Episode 118, Score: 0.63, Rolling score: 0.54, Max score: 0.69, Max rolling score: 0.54, collisions: 16   "
     ]
    },
    {
     "name": "stderr",
     "output_type": "stream",
     "text": [
      "\r",
      " 12%|█▏        | 119/1000 [02:49<46:26,  3.16s/it]"
     ]
    },
    {
     "name": "stdout",
     "output_type": "stream",
     "text": [
      "\r",
      " Run SAC_Energy_s27, Episode 119, Score: 0.71, Rolling score: 0.56, Max score: 0.71, Max rolling score: 0.56, collisions: 16   "
     ]
    },
    {
     "name": "stderr",
     "output_type": "stream",
     "text": [
      "\r",
      " 12%|█▏        | 120/1000 [02:55<57:34,  3.93s/it]"
     ]
    },
    {
     "name": "stdout",
     "output_type": "stream",
     "text": [
      "\r",
      " Run SAC_Energy_s27, Episode 120, Score: 0.73, Rolling score: 0.58, Max score: 0.73, Max rolling score: 0.58, collisions: 16   "
     ]
    },
    {
     "name": "stderr",
     "output_type": "stream",
     "text": [
      "\r",
      " 12%|█▏        | 121/1000 [02:58<55:03,  3.76s/it]"
     ]
    },
    {
     "name": "stdout",
     "output_type": "stream",
     "text": [
      "\r",
      " Run SAC_Energy_s27, Episode 121, Score: 0.68, Rolling score: 0.60, Max score: 0.73, Max rolling score: 0.60, collisions: 16   "
     ]
    },
    {
     "name": "stderr",
     "output_type": "stream",
     "text": [
      "\r",
      " 12%|█▏        | 122/1000 [03:00<48:51,  3.34s/it]"
     ]
    },
    {
     "name": "stdout",
     "output_type": "stream",
     "text": [
      "\r",
      " Run SAC_Energy_s27, Episode 122, Score: 0.72, Rolling score: 0.63, Max score: 0.73, Max rolling score: 0.63, collisions: 16   "
     ]
    },
    {
     "name": "stderr",
     "output_type": "stream",
     "text": [
      "\r",
      " 12%|█▏        | 123/1000 [03:03<45:39,  3.12s/it]"
     ]
    },
    {
     "name": "stdout",
     "output_type": "stream",
     "text": [
      "\r",
      " Run SAC_Energy_s27, Episode 123, Score: 0.72, Rolling score: 0.65, Max score: 0.73, Max rolling score: 0.65, collisions: 16   "
     ]
    },
    {
     "name": "stderr",
     "output_type": "stream",
     "text": [
      "\r",
      " 12%|█▏        | 124/1000 [03:05<41:41,  2.86s/it]"
     ]
    },
    {
     "name": "stdout",
     "output_type": "stream",
     "text": [
      "\r",
      " Run SAC_Energy_s27, Episode 124, Score: 0.72, Rolling score: 0.66, Max score: 0.73, Max rolling score: 0.66, collisions: 16   "
     ]
    },
    {
     "name": "stderr",
     "output_type": "stream",
     "text": [
      "\r",
      " 12%|█▎        | 125/1000 [03:10<48:30,  3.33s/it]"
     ]
    },
    {
     "name": "stdout",
     "output_type": "stream",
     "text": [
      "\r",
      " Run SAC_Energy_s27, Episode 125, Score: 0.74, Rolling score: 0.68, Max score: 0.74, Max rolling score: 0.68, collisions: 16   "
     ]
    },
    {
     "name": "stderr",
     "output_type": "stream",
     "text": [
      "\r",
      " 13%|█▎        | 126/1000 [03:14<52:20,  3.59s/it]"
     ]
    },
    {
     "name": "stdout",
     "output_type": "stream",
     "text": [
      "\r",
      " Run SAC_Energy_s27, Episode 126, Score: 0.70, Rolling score: 0.69, Max score: 0.74, Max rolling score: 0.69, collisions: 16   "
     ]
    },
    {
     "name": "stderr",
     "output_type": "stream",
     "text": [
      "\r",
      " 13%|█▎        | 127/1000 [03:16<47:08,  3.24s/it]"
     ]
    },
    {
     "name": "stdout",
     "output_type": "stream",
     "text": [
      "\r",
      " Run SAC_Energy_s27, Episode 127, Score: 0.72, Rolling score: 0.71, Max score: 0.74, Max rolling score: 0.71, collisions: 16   "
     ]
    },
    {
     "name": "stderr",
     "output_type": "stream",
     "text": [
      "\r",
      " 13%|█▎        | 128/1000 [03:20<46:58,  3.23s/it]"
     ]
    },
    {
     "name": "stdout",
     "output_type": "stream",
     "text": [
      "\r",
      " Run SAC_Energy_s27, Episode 128, Score: 0.69, Rolling score: 0.71, Max score: 0.74, Max rolling score: 0.71, collisions: 16   "
     ]
    },
    {
     "name": "stderr",
     "output_type": "stream",
     "text": [
      "\r",
      " 13%|█▎        | 129/1000 [03:23<46:32,  3.21s/it]"
     ]
    },
    {
     "name": "stdout",
     "output_type": "stream",
     "text": [
      "\r",
      " Run SAC_Energy_s27, Episode 129, Score: 0.71, Rolling score: 0.71, Max score: 0.74, Max rolling score: 0.71, collisions: 16   "
     ]
    },
    {
     "name": "stderr",
     "output_type": "stream",
     "text": [
      "\r",
      " 13%|█▎        | 130/1000 [03:27<52:59,  3.65s/it]"
     ]
    },
    {
     "name": "stdout",
     "output_type": "stream",
     "text": [
      "\r",
      " Run SAC_Energy_s27, Episode 130, Score: 0.72, Rolling score: 0.71, Max score: 0.74, Max rolling score: 0.71, collisions: 16   "
     ]
    },
    {
     "name": "stderr",
     "output_type": "stream",
     "text": [
      "\r",
      " 13%|█▎        | 131/1000 [03:31<51:47,  3.58s/it]"
     ]
    },
    {
     "name": "stdout",
     "output_type": "stream",
     "text": [
      "\r",
      " Run SAC_Energy_s27, Episode 131, Score: 0.71, Rolling score: 0.72, Max score: 0.74, Max rolling score: 0.72, collisions: 16   "
     ]
    },
    {
     "name": "stderr",
     "output_type": "stream",
     "text": [
      "\r",
      " 13%|█▎        | 132/1000 [03:34<49:46,  3.44s/it]"
     ]
    },
    {
     "name": "stdout",
     "output_type": "stream",
     "text": [
      "\r",
      " Run SAC_Energy_s27, Episode 132, Score: 0.71, Rolling score: 0.72, Max score: 0.74, Max rolling score: 0.72, collisions: 16   "
     ]
    },
    {
     "name": "stderr",
     "output_type": "stream",
     "text": [
      "\r",
      " 13%|█▎        | 133/1000 [03:37<48:55,  3.39s/it]"
     ]
    },
    {
     "name": "stdout",
     "output_type": "stream",
     "text": [
      "\r",
      " Run SAC_Energy_s27, Episode 133, Score: 0.74, Rolling score: 0.72, Max score: 0.74, Max rolling score: 0.72, collisions: 16   "
     ]
    },
    {
     "name": "stderr",
     "output_type": "stream",
     "text": [
      "\r",
      " 13%|█▎        | 134/1000 [03:43<57:05,  3.96s/it]"
     ]
    },
    {
     "name": "stdout",
     "output_type": "stream",
     "text": [
      "\r",
      " Run SAC_Energy_s27, Episode 134, Score: 0.72, Rolling score: 0.72, Max score: 0.74, Max rolling score: 0.72, collisions: 16   "
     ]
    },
    {
     "name": "stderr",
     "output_type": "stream",
     "text": [
      "\r",
      " 14%|█▎        | 135/1000 [03:48<1:02:01,  4.30s/it]"
     ]
    },
    {
     "name": "stdout",
     "output_type": "stream",
     "text": [
      "\r",
      " Run SAC_Energy_s27, Episode 135, Score: 0.68, Rolling score: 0.71, Max score: 0.74, Max rolling score: 0.72, collisions: 16   "
     ]
    },
    {
     "name": "stderr",
     "output_type": "stream",
     "text": [
      "\r",
      " 14%|█▎        | 136/1000 [03:50<55:00,  3.82s/it]  "
     ]
    },
    {
     "name": "stdout",
     "output_type": "stream",
     "text": [
      "\r",
      " Run SAC_Energy_s27, Episode 136, Score: 0.72, Rolling score: 0.71, Max score: 0.74, Max rolling score: 0.72, collisions: 16   "
     ]
    },
    {
     "name": "stderr",
     "output_type": "stream",
     "text": [
      "\r",
      " 14%|█▎        | 137/1000 [03:53<49:40,  3.45s/it]"
     ]
    },
    {
     "name": "stdout",
     "output_type": "stream",
     "text": [
      "\r",
      " Run SAC_Energy_s27, Episode 137, Score: 0.71, Rolling score: 0.71, Max score: 0.74, Max rolling score: 0.72, collisions: 16   "
     ]
    },
    {
     "name": "stderr",
     "output_type": "stream",
     "text": [
      "\r",
      " 14%|█▍        | 138/1000 [03:56<48:49,  3.40s/it]"
     ]
    },
    {
     "name": "stdout",
     "output_type": "stream",
     "text": [
      "\r",
      " Run SAC_Energy_s27, Episode 138, Score: 0.70, Rolling score: 0.71, Max score: 0.74, Max rolling score: 0.72, collisions: 16   "
     ]
    },
    {
     "name": "stderr",
     "output_type": "stream",
     "text": [
      "\r",
      " 14%|█▍        | 139/1000 [04:00<50:54,  3.55s/it]"
     ]
    },
    {
     "name": "stdout",
     "output_type": "stream",
     "text": [
      "\r",
      " Run SAC_Energy_s27, Episode 139, Score: 0.72, Rolling score: 0.71, Max score: 0.74, Max rolling score: 0.72, collisions: 16   "
     ]
    },
    {
     "name": "stderr",
     "output_type": "stream",
     "text": [
      "\r",
      " 14%|█▍        | 140/1000 [04:02<45:53,  3.20s/it]"
     ]
    },
    {
     "name": "stdout",
     "output_type": "stream",
     "text": [
      "\r",
      " Run SAC_Energy_s27, Episode 140, Score: 0.71, Rolling score: 0.71, Max score: 0.74, Max rolling score: 0.72, collisions: 16   "
     ]
    },
    {
     "name": "stderr",
     "output_type": "stream",
     "text": [
      "\r",
      " 14%|█▍        | 141/1000 [04:05<42:36,  2.98s/it]"
     ]
    },
    {
     "name": "stdout",
     "output_type": "stream",
     "text": [
      "\r",
      " Run SAC_Energy_s27, Episode 141, Score: 0.72, Rolling score: 0.71, Max score: 0.74, Max rolling score: 0.72, collisions: 16   "
     ]
    },
    {
     "name": "stderr",
     "output_type": "stream",
     "text": [
      "\r",
      " 14%|█▍        | 142/1000 [04:13<1:02:59,  4.41s/it]"
     ]
    },
    {
     "name": "stdout",
     "output_type": "stream",
     "text": [
      "\r",
      " Run SAC_Energy_s27, Episode 142, Score: 0.72, Rolling score: 0.71, Max score: 0.74, Max rolling score: 0.72, collisions: 16   "
     ]
    },
    {
     "name": "stderr",
     "output_type": "stream",
     "text": [
      "\r",
      " 14%|█▍        | 143/1000 [04:18<1:06:17,  4.64s/it]"
     ]
    },
    {
     "name": "stdout",
     "output_type": "stream",
     "text": [
      "\r",
      " Run SAC_Energy_s27, Episode 143, Score: 0.73, Rolling score: 0.71, Max score: 0.74, Max rolling score: 0.72, collisions: 16   "
     ]
    },
    {
     "name": "stderr",
     "output_type": "stream",
     "text": [
      "\r",
      " 14%|█▍        | 144/1000 [04:20<56:05,  3.93s/it]  "
     ]
    },
    {
     "name": "stdout",
     "output_type": "stream",
     "text": [
      "\r",
      " Run SAC_Energy_s27, Episode 144, Score: 0.73, Rolling score: 0.71, Max score: 0.74, Max rolling score: 0.72, collisions: 16   "
     ]
    },
    {
     "name": "stderr",
     "output_type": "stream",
     "text": [
      "\r",
      " 14%|█▍        | 145/1000 [04:25<58:50,  4.13s/it]"
     ]
    },
    {
     "name": "stdout",
     "output_type": "stream",
     "text": [
      "\r",
      " Run SAC_Energy_s27, Episode 145, Score: 0.70, Rolling score: 0.72, Max score: 0.74, Max rolling score: 0.72, collisions: 16   "
     ]
    },
    {
     "name": "stderr",
     "output_type": "stream",
     "text": [
      "\r",
      " 15%|█▍        | 146/1000 [04:27<50:53,  3.58s/it]"
     ]
    },
    {
     "name": "stdout",
     "output_type": "stream",
     "text": [
      "\r",
      " Run SAC_Energy_s27, Episode 146, Score: 0.72, Rolling score: 0.72, Max score: 0.74, Max rolling score: 0.72, collisions: 16   "
     ]
    },
    {
     "name": "stderr",
     "output_type": "stream",
     "text": [
      "\r",
      " 15%|█▍        | 147/1000 [04:34<1:04:26,  4.53s/it]"
     ]
    },
    {
     "name": "stdout",
     "output_type": "stream",
     "text": [
      "\r",
      " Run SAC_Energy_s27, Episode 147, Score: 0.78, Rolling score: 0.72, Max score: 0.78, Max rolling score: 0.72, collisions: 16   "
     ]
    },
    {
     "name": "stderr",
     "output_type": "stream",
     "text": [
      "\r",
      " 15%|█▍        | 148/1000 [04:37<58:06,  4.09s/it]  "
     ]
    },
    {
     "name": "stdout",
     "output_type": "stream",
     "text": [
      "\r",
      " Run SAC_Energy_s27, Episode 148, Score: 0.73, Rolling score: 0.73, Max score: 0.78, Max rolling score: 0.73, collisions: 16   "
     ]
    },
    {
     "name": "stderr",
     "output_type": "stream",
     "text": [
      "\r",
      " 15%|█▍        | 149/1000 [04:39<50:27,  3.56s/it]"
     ]
    },
    {
     "name": "stdout",
     "output_type": "stream",
     "text": [
      "\r",
      " Run SAC_Energy_s27, Episode 149, Score: 0.74, Rolling score: 0.73, Max score: 0.78, Max rolling score: 0.73, collisions: 16   "
     ]
    },
    {
     "name": "stderr",
     "output_type": "stream",
     "text": [
      "\r",
      " 15%|█▌        | 150/1000 [04:42<47:17,  3.34s/it]"
     ]
    },
    {
     "name": "stdout",
     "output_type": "stream",
     "text": [
      "\r",
      " Run SAC_Energy_s27, Episode 150, Score: 0.71, Rolling score: 0.73, Max score: 0.78, Max rolling score: 0.73, collisions: 16   "
     ]
    },
    {
     "name": "stderr",
     "output_type": "stream",
     "text": [
      "\r",
      " 15%|█▌        | 151/1000 [04:45<45:43,  3.23s/it]"
     ]
    },
    {
     "name": "stdout",
     "output_type": "stream",
     "text": [
      "\r",
      " Run SAC_Energy_s27, Episode 151, Score: 0.75, Rolling score: 0.73, Max score: 0.78, Max rolling score: 0.73, collisions: 16   "
     ]
    },
    {
     "name": "stderr",
     "output_type": "stream",
     "text": [
      "\r",
      " 15%|█▌        | 152/1000 [04:49<49:48,  3.52s/it]"
     ]
    },
    {
     "name": "stdout",
     "output_type": "stream",
     "text": [
      "\r",
      " Run SAC_Energy_s27, Episode 152, Score: 0.69, Rolling score: 0.73, Max score: 0.78, Max rolling score: 0.73, collisions: 16   "
     ]
    },
    {
     "name": "stderr",
     "output_type": "stream",
     "text": [
      "\r",
      " 15%|█▌        | 153/1000 [04:53<49:47,  3.53s/it]"
     ]
    },
    {
     "name": "stdout",
     "output_type": "stream",
     "text": [
      "\r",
      " Run SAC_Energy_s27, Episode 153, Score: 0.68, Rolling score: 0.72, Max score: 0.78, Max rolling score: 0.73, collisions: 16   "
     ]
    },
    {
     "name": "stderr",
     "output_type": "stream",
     "text": [
      "\r",
      " 15%|█▌        | 154/1000 [04:56<47:53,  3.40s/it]"
     ]
    },
    {
     "name": "stdout",
     "output_type": "stream",
     "text": [
      "\r",
      " Run SAC_Energy_s27, Episode 154, Score: 0.73, Rolling score: 0.72, Max score: 0.78, Max rolling score: 0.73, collisions: 16   "
     ]
    },
    {
     "name": "stderr",
     "output_type": "stream",
     "text": [
      "\r",
      " 16%|█▌        | 155/1000 [05:02<1:00:40,  4.31s/it]"
     ]
    },
    {
     "name": "stdout",
     "output_type": "stream",
     "text": [
      "\r",
      " Run SAC_Energy_s27, Episode 155, Score: 0.75, Rolling score: 0.73, Max score: 0.78, Max rolling score: 0.73, collisions: 16   "
     ]
    },
    {
     "name": "stderr",
     "output_type": "stream",
     "text": [
      "\r",
      " 16%|█▌        | 156/1000 [05:06<59:17,  4.22s/it]  "
     ]
    },
    {
     "name": "stdout",
     "output_type": "stream",
     "text": [
      "\r",
      " Run SAC_Energy_s27, Episode 156, Score: 0.77, Rolling score: 0.73, Max score: 0.78, Max rolling score: 0.73, collisions: 16   "
     ]
    },
    {
     "name": "stderr",
     "output_type": "stream",
     "text": [
      "\r",
      " 16%|█▌        | 157/1000 [05:10<57:22,  4.08s/it]"
     ]
    },
    {
     "name": "stdout",
     "output_type": "stream",
     "text": [
      "\r",
      " Run SAC_Energy_s27, Episode 157, Score: 0.78, Rolling score: 0.73, Max score: 0.78, Max rolling score: 0.73, collisions: 16   "
     ]
    },
    {
     "name": "stderr",
     "output_type": "stream",
     "text": [
      "\r",
      " 16%|█▌        | 158/1000 [05:13<54:21,  3.87s/it]"
     ]
    },
    {
     "name": "stdout",
     "output_type": "stream",
     "text": [
      "\r",
      " Run SAC_Energy_s27, Episode 158, Score: 0.70, Rolling score: 0.73, Max score: 0.78, Max rolling score: 0.73, collisions: 16   "
     ]
    },
    {
     "name": "stderr",
     "output_type": "stream",
     "text": [
      "\r",
      " 16%|█▌        | 159/1000 [05:16<49:50,  3.56s/it]"
     ]
    },
    {
     "name": "stdout",
     "output_type": "stream",
     "text": [
      "\r",
      " Run SAC_Energy_s27, Episode 159, Score: 0.72, Rolling score: 0.73, Max score: 0.78, Max rolling score: 0.73, collisions: 16   "
     ]
    },
    {
     "name": "stderr",
     "output_type": "stream",
     "text": [
      "\r",
      " 16%|█▌        | 160/1000 [05:20<52:40,  3.76s/it]"
     ]
    },
    {
     "name": "stdout",
     "output_type": "stream",
     "text": [
      "\r",
      " Run SAC_Energy_s27, Episode 160, Score: 0.71, Rolling score: 0.73, Max score: 0.78, Max rolling score: 0.73, collisions: 16   "
     ]
    },
    {
     "name": "stderr",
     "output_type": "stream",
     "text": [
      "\r",
      " 16%|█▌        | 161/1000 [05:24<52:30,  3.75s/it]"
     ]
    },
    {
     "name": "stdout",
     "output_type": "stream",
     "text": [
      "\r",
      " Run SAC_Energy_s27, Episode 161, Score: 0.72, Rolling score: 0.73, Max score: 0.78, Max rolling score: 0.73, collisions: 16   "
     ]
    },
    {
     "name": "stderr",
     "output_type": "stream",
     "text": [
      "\r",
      " 16%|█▌        | 162/1000 [05:29<55:14,  3.96s/it]"
     ]
    },
    {
     "name": "stdout",
     "output_type": "stream",
     "text": [
      "\r",
      " Run SAC_Energy_s27, Episode 162, Score: 0.69, Rolling score: 0.73, Max score: 0.78, Max rolling score: 0.73, collisions: 16   "
     ]
    },
    {
     "name": "stderr",
     "output_type": "stream",
     "text": [
      "\r",
      " 16%|█▋        | 163/1000 [05:32<52:17,  3.75s/it]"
     ]
    },
    {
     "name": "stdout",
     "output_type": "stream",
     "text": [
      "\r",
      " Run SAC_Energy_s27, Episode 163, Score: 0.72, Rolling score: 0.73, Max score: 0.78, Max rolling score: 0.73, collisions: 16   "
     ]
    },
    {
     "name": "stderr",
     "output_type": "stream",
     "text": [
      "\r",
      " 16%|█▋        | 164/1000 [05:34<45:38,  3.28s/it]"
     ]
    },
    {
     "name": "stdout",
     "output_type": "stream",
     "text": [
      "\r",
      " Run SAC_Energy_s27, Episode 164, Score: 0.70, Rolling score: 0.73, Max score: 0.78, Max rolling score: 0.73, collisions: 16   "
     ]
    },
    {
     "name": "stderr",
     "output_type": "stream",
     "text": [
      "\r",
      " 16%|█▋        | 165/1000 [05:36<42:03,  3.02s/it]"
     ]
    },
    {
     "name": "stdout",
     "output_type": "stream",
     "text": [
      "\r",
      " Run SAC_Energy_s27, Episode 165, Score: 0.72, Rolling score: 0.72, Max score: 0.78, Max rolling score: 0.73, collisions: 16   "
     ]
    },
    {
     "name": "stderr",
     "output_type": "stream",
     "text": [
      "\r",
      " 17%|█▋        | 166/1000 [05:41<46:27,  3.34s/it]"
     ]
    },
    {
     "name": "stdout",
     "output_type": "stream",
     "text": [
      "\r",
      " Run SAC_Energy_s27, Episode 166, Score: 0.72, Rolling score: 0.72, Max score: 0.78, Max rolling score: 0.73, collisions: 16   "
     ]
    },
    {
     "name": "stderr",
     "output_type": "stream",
     "text": [
      "\r",
      " 17%|█▋        | 167/1000 [05:43<43:21,  3.12s/it]"
     ]
    },
    {
     "name": "stdout",
     "output_type": "stream",
     "text": [
      "\r",
      " Run SAC_Energy_s27, Episode 167, Score: 0.70, Rolling score: 0.71, Max score: 0.78, Max rolling score: 0.73, collisions: 16   "
     ]
    },
    {
     "name": "stderr",
     "output_type": "stream",
     "text": [
      "\r",
      " 17%|█▋        | 168/1000 [05:46<41:25,  2.99s/it]"
     ]
    },
    {
     "name": "stdout",
     "output_type": "stream",
     "text": [
      "\r",
      " Run SAC_Energy_s27, Episode 168, Score: 0.71, Rolling score: 0.71, Max score: 0.78, Max rolling score: 0.73, collisions: 16   "
     ]
    },
    {
     "name": "stderr",
     "output_type": "stream",
     "text": [
      "\r",
      " 17%|█▋        | 169/1000 [05:52<55:49,  4.03s/it]"
     ]
    },
    {
     "name": "stdout",
     "output_type": "stream",
     "text": [
      "\r",
      " Run SAC_Energy_s27, Episode 169, Score: 0.73, Rolling score: 0.71, Max score: 0.78, Max rolling score: 0.73, collisions: 16   "
     ]
    },
    {
     "name": "stderr",
     "output_type": "stream",
     "text": [
      "\r",
      " 17%|█▋        | 170/1000 [05:56<52:45,  3.81s/it]"
     ]
    },
    {
     "name": "stdout",
     "output_type": "stream",
     "text": [
      "\r",
      " Run SAC_Energy_s27, Episode 170, Score: 0.69, Rolling score: 0.71, Max score: 0.78, Max rolling score: 0.73, collisions: 16   "
     ]
    },
    {
     "name": "stderr",
     "output_type": "stream",
     "text": [
      "\r",
      " 17%|█▋        | 171/1000 [05:59<51:57,  3.76s/it]"
     ]
    },
    {
     "name": "stdout",
     "output_type": "stream",
     "text": [
      "\r",
      " Run SAC_Energy_s27, Episode 171, Score: 0.72, Rolling score: 0.71, Max score: 0.78, Max rolling score: 0.73, collisions: 16   "
     ]
    },
    {
     "name": "stderr",
     "output_type": "stream",
     "text": [
      "\r",
      " 17%|█▋        | 172/1000 [06:03<50:59,  3.69s/it]"
     ]
    },
    {
     "name": "stdout",
     "output_type": "stream",
     "text": [
      "\r",
      " Run SAC_Energy_s27, Episode 172, Score: 0.71, Rolling score: 0.71, Max score: 0.78, Max rolling score: 0.73, collisions: 16   "
     ]
    },
    {
     "name": "stderr",
     "output_type": "stream",
     "text": [
      "\r",
      " 17%|█▋        | 173/1000 [06:07<51:52,  3.76s/it]"
     ]
    },
    {
     "name": "stdout",
     "output_type": "stream",
     "text": [
      "\r",
      " Run SAC_Energy_s27, Episode 173, Score: 0.74, Rolling score: 0.71, Max score: 0.78, Max rolling score: 0.73, collisions: 16   "
     ]
    },
    {
     "name": "stderr",
     "output_type": "stream",
     "text": [
      "\r",
      " 17%|█▋        | 174/1000 [06:09<46:56,  3.41s/it]"
     ]
    },
    {
     "name": "stdout",
     "output_type": "stream",
     "text": [
      "\r",
      " Run SAC_Energy_s27, Episode 174, Score: 0.72, Rolling score: 0.72, Max score: 0.78, Max rolling score: 0.73, collisions: 16   "
     ]
    },
    {
     "name": "stderr",
     "output_type": "stream",
     "text": [
      "\r",
      " 18%|█▊        | 175/1000 [06:14<53:06,  3.86s/it]"
     ]
    },
    {
     "name": "stdout",
     "output_type": "stream",
     "text": [
      "\r",
      " Run SAC_Energy_s27, Episode 175, Score: 0.73, Rolling score: 0.72, Max score: 0.78, Max rolling score: 0.73, collisions: 16   "
     ]
    },
    {
     "name": "stderr",
     "output_type": "stream",
     "text": [
      "\r",
      " 18%|█▊        | 176/1000 [06:17<48:37,  3.54s/it]"
     ]
    },
    {
     "name": "stdout",
     "output_type": "stream",
     "text": [
      "\r",
      " Run SAC_Energy_s27, Episode 176, Score: 0.68, Rolling score: 0.71, Max score: 0.78, Max rolling score: 0.73, collisions: 16   "
     ]
    },
    {
     "name": "stderr",
     "output_type": "stream",
     "text": [
      "\r",
      " 18%|█▊        | 177/1000 [06:22<52:40,  3.84s/it]"
     ]
    },
    {
     "name": "stdout",
     "output_type": "stream",
     "text": [
      "\r",
      " Run SAC_Energy_s27, Episode 177, Score: 0.68, Rolling score: 0.71, Max score: 0.78, Max rolling score: 0.73, collisions: 16   "
     ]
    },
    {
     "name": "stderr",
     "output_type": "stream",
     "text": [
      "\r",
      " 18%|█▊        | 178/1000 [06:24<45:55,  3.35s/it]"
     ]
    },
    {
     "name": "stdout",
     "output_type": "stream",
     "text": [
      "\r",
      " Run SAC_Energy_s27, Episode 178, Score: 0.71, Rolling score: 0.71, Max score: 0.78, Max rolling score: 0.73, collisions: 16   "
     ]
    },
    {
     "name": "stderr",
     "output_type": "stream",
     "text": [
      "\r",
      " 18%|█▊        | 179/1000 [06:27<46:48,  3.42s/it]"
     ]
    },
    {
     "name": "stdout",
     "output_type": "stream",
     "text": [
      "\r",
      " Run SAC_Energy_s27, Episode 179, Score: 0.69, Rolling score: 0.71, Max score: 0.78, Max rolling score: 0.73, collisions: 16   "
     ]
    },
    {
     "name": "stderr",
     "output_type": "stream",
     "text": [
      "\r",
      " 18%|█▊        | 180/1000 [06:30<42:29,  3.11s/it]"
     ]
    },
    {
     "name": "stdout",
     "output_type": "stream",
     "text": [
      "\r",
      " Run SAC_Energy_s27, Episode 180, Score: 0.68, Rolling score: 0.71, Max score: 0.78, Max rolling score: 0.73, collisions: 16   "
     ]
    },
    {
     "name": "stderr",
     "output_type": "stream",
     "text": [
      "\r",
      " 18%|█▊        | 181/1000 [06:33<43:28,  3.19s/it]"
     ]
    },
    {
     "name": "stdout",
     "output_type": "stream",
     "text": [
      "\r",
      " Run SAC_Energy_s27, Episode 181, Score: 0.62, Rolling score: 0.70, Max score: 0.78, Max rolling score: 0.73, collisions: 16   "
     ]
    },
    {
     "name": "stderr",
     "output_type": "stream",
     "text": [
      "\r",
      " 18%|█▊        | 182/1000 [06:36<41:03,  3.01s/it]"
     ]
    },
    {
     "name": "stdout",
     "output_type": "stream",
     "text": [
      "\r",
      " Run SAC_Energy_s27, Episode 182, Score: 0.69, Rolling score: 0.69, Max score: 0.78, Max rolling score: 0.73, collisions: 16   "
     ]
    },
    {
     "name": "stderr",
     "output_type": "stream",
     "text": [
      "\r",
      " 18%|█▊        | 183/1000 [06:39<41:33,  3.05s/it]"
     ]
    },
    {
     "name": "stdout",
     "output_type": "stream",
     "text": [
      "\r",
      " Run SAC_Energy_s27, Episode 183, Score: 0.70, Rolling score: 0.69, Max score: 0.78, Max rolling score: 0.73, collisions: 16   "
     ]
    },
    {
     "name": "stderr",
     "output_type": "stream",
     "text": [
      "\r",
      " 18%|█▊        | 184/1000 [06:42<42:28,  3.12s/it]"
     ]
    },
    {
     "name": "stdout",
     "output_type": "stream",
     "text": [
      "\r",
      " Run SAC_Energy_s27, Episode 184, Score: 0.72, Rolling score: 0.69, Max score: 0.78, Max rolling score: 0.73, collisions: 16   "
     ]
    },
    {
     "name": "stderr",
     "output_type": "stream",
     "text": [
      "\r",
      " 18%|█▊        | 185/1000 [06:45<42:58,  3.16s/it]"
     ]
    },
    {
     "name": "stdout",
     "output_type": "stream",
     "text": [
      "\r",
      " Run SAC_Energy_s27, Episode 185, Score: 0.72, Rolling score: 0.69, Max score: 0.78, Max rolling score: 0.73, collisions: 16   "
     ]
    },
    {
     "name": "stderr",
     "output_type": "stream",
     "text": [
      "\r",
      " 19%|█▊        | 186/1000 [06:49<43:37,  3.22s/it]"
     ]
    },
    {
     "name": "stdout",
     "output_type": "stream",
     "text": [
      "\r",
      " Run SAC_Energy_s27, Episode 186, Score: 0.71, Rolling score: 0.69, Max score: 0.78, Max rolling score: 0.73, collisions: 16   "
     ]
    },
    {
     "name": "stderr",
     "output_type": "stream",
     "text": [
      "\r",
      " 19%|█▊        | 187/1000 [06:53<45:55,  3.39s/it]"
     ]
    },
    {
     "name": "stdout",
     "output_type": "stream",
     "text": [
      "\r",
      " Run SAC_Energy_s27, Episode 187, Score: 0.73, Rolling score: 0.70, Max score: 0.78, Max rolling score: 0.73, collisions: 16   "
     ]
    },
    {
     "name": "stderr",
     "output_type": "stream",
     "text": [
      "\r",
      " 19%|█▉        | 188/1000 [06:56<45:57,  3.40s/it]"
     ]
    },
    {
     "name": "stdout",
     "output_type": "stream",
     "text": [
      "\r",
      " Run SAC_Energy_s27, Episode 188, Score: 0.69, Rolling score: 0.69, Max score: 0.78, Max rolling score: 0.73, collisions: 16   "
     ]
    },
    {
     "name": "stderr",
     "output_type": "stream",
     "text": [
      "\r",
      " 19%|█▉        | 189/1000 [06:59<45:38,  3.38s/it]"
     ]
    },
    {
     "name": "stdout",
     "output_type": "stream",
     "text": [
      "\r",
      " Run SAC_Energy_s27, Episode 189, Score: 0.71, Rolling score: 0.70, Max score: 0.78, Max rolling score: 0.73, collisions: 16   "
     ]
    },
    {
     "name": "stderr",
     "output_type": "stream",
     "text": [
      "\r",
      " 19%|█▉        | 190/1000 [07:02<42:53,  3.18s/it]"
     ]
    },
    {
     "name": "stdout",
     "output_type": "stream",
     "text": [
      "\r",
      " Run SAC_Energy_s27, Episode 190, Score: 0.72, Rolling score: 0.70, Max score: 0.78, Max rolling score: 0.73, collisions: 16   "
     ]
    },
    {
     "name": "stderr",
     "output_type": "stream",
     "text": [
      "\r",
      " 19%|█▉        | 191/1000 [07:04<39:42,  2.94s/it]"
     ]
    },
    {
     "name": "stdout",
     "output_type": "stream",
     "text": [
      "\r",
      " Run SAC_Energy_s27, Episode 191, Score: 0.71, Rolling score: 0.71, Max score: 0.78, Max rolling score: 0.73, collisions: 16   "
     ]
    },
    {
     "name": "stderr",
     "output_type": "stream",
     "text": [
      "\r",
      " 19%|█▉        | 192/1000 [07:08<42:56,  3.19s/it]"
     ]
    },
    {
     "name": "stdout",
     "output_type": "stream",
     "text": [
      "\r",
      " Run SAC_Energy_s27, Episode 192, Score: 0.69, Rolling score: 0.71, Max score: 0.78, Max rolling score: 0.73, collisions: 16   "
     ]
    },
    {
     "name": "stderr",
     "output_type": "stream",
     "text": [
      "\r",
      " 19%|█▉        | 193/1000 [07:11<40:05,  2.98s/it]"
     ]
    },
    {
     "name": "stdout",
     "output_type": "stream",
     "text": [
      "\r",
      " Run SAC_Energy_s27, Episode 193, Score: 0.73, Rolling score: 0.71, Max score: 0.78, Max rolling score: 0.73, collisions: 16   "
     ]
    },
    {
     "name": "stderr",
     "output_type": "stream",
     "text": [
      "\r",
      " 19%|█▉        | 194/1000 [07:16<49:57,  3.72s/it]"
     ]
    },
    {
     "name": "stdout",
     "output_type": "stream",
     "text": [
      "\r",
      " Run SAC_Energy_s27, Episode 194, Score: 0.70, Rolling score: 0.71, Max score: 0.78, Max rolling score: 0.73, collisions: 16   "
     ]
    },
    {
     "name": "stderr",
     "output_type": "stream",
     "text": [
      "\r",
      " 20%|█▉        | 195/1000 [07:19<46:49,  3.49s/it]"
     ]
    },
    {
     "name": "stdout",
     "output_type": "stream",
     "text": [
      "\r",
      " Run SAC_Energy_s27, Episode 195, Score: 0.66, Rolling score: 0.71, Max score: 0.78, Max rolling score: 0.73, collisions: 16   "
     ]
    },
    {
     "name": "stderr",
     "output_type": "stream",
     "text": [
      "\r",
      " 20%|█▉        | 196/1000 [07:21<41:57,  3.13s/it]"
     ]
    },
    {
     "name": "stdout",
     "output_type": "stream",
     "text": [
      "\r",
      " Run SAC_Energy_s27, Episode 196, Score: 0.74, Rolling score: 0.71, Max score: 0.78, Max rolling score: 0.73, collisions: 16   "
     ]
    },
    {
     "name": "stderr",
     "output_type": "stream",
     "text": [
      "\r",
      " 20%|█▉        | 197/1000 [07:25<42:31,  3.18s/it]"
     ]
    },
    {
     "name": "stdout",
     "output_type": "stream",
     "text": [
      "\r",
      " Run SAC_Energy_s27, Episode 197, Score: 0.71, Rolling score: 0.71, Max score: 0.78, Max rolling score: 0.73, collisions: 16   "
     ]
    },
    {
     "name": "stderr",
     "output_type": "stream",
     "text": [
      "\r",
      " 20%|█▉        | 198/1000 [07:28<43:12,  3.23s/it]"
     ]
    },
    {
     "name": "stdout",
     "output_type": "stream",
     "text": [
      "\r",
      " Run SAC_Energy_s27, Episode 198, Score: 0.72, Rolling score: 0.71, Max score: 0.78, Max rolling score: 0.73, collisions: 16   "
     ]
    },
    {
     "name": "stderr",
     "output_type": "stream",
     "text": [
      "\r",
      " 20%|█▉        | 199/1000 [07:32<45:00,  3.37s/it]"
     ]
    },
    {
     "name": "stdout",
     "output_type": "stream",
     "text": [
      "\r",
      " Run SAC_Energy_s27, Episode 199, Score: 0.72, Rolling score: 0.71, Max score: 0.78, Max rolling score: 0.73, collisions: 16   "
     ]
    },
    {
     "name": "stderr",
     "output_type": "stream",
     "text": [
      "\r",
      " 20%|██        | 200/1000 [07:36<47:17,  3.55s/it]"
     ]
    },
    {
     "name": "stdout",
     "output_type": "stream",
     "text": [
      "\r",
      " Run SAC_Energy_s27, Episode 200, Score: 0.72, Rolling score: 0.71, Max score: 0.78, Max rolling score: 0.73, collisions: 16   "
     ]
    },
    {
     "name": "stderr",
     "output_type": "stream",
     "text": [
      "\r",
      " 20%|██        | 201/1000 [07:41<53:33,  4.02s/it]"
     ]
    },
    {
     "name": "stdout",
     "output_type": "stream",
     "text": [
      "\r",
      " Run SAC_Energy_s27, Episode 201, Score: 0.73, Rolling score: 0.71, Max score: 0.78, Max rolling score: 0.73, collisions: 16   "
     ]
    },
    {
     "name": "stderr",
     "output_type": "stream",
     "text": [
      "\r",
      " 20%|██        | 202/1000 [07:43<46:41,  3.51s/it]"
     ]
    },
    {
     "name": "stdout",
     "output_type": "stream",
     "text": [
      "\r",
      " Run SAC_Energy_s27, Episode 202, Score: 0.72, Rolling score: 0.72, Max score: 0.78, Max rolling score: 0.73, collisions: 16   "
     ]
    },
    {
     "name": "stderr",
     "output_type": "stream",
     "text": [
      "\r",
      " 20%|██        | 203/1000 [07:46<42:53,  3.23s/it]"
     ]
    },
    {
     "name": "stdout",
     "output_type": "stream",
     "text": [
      "\r",
      " Run SAC_Energy_s27, Episode 203, Score: 0.70, Rolling score: 0.71, Max score: 0.78, Max rolling score: 0.73, collisions: 16   "
     ]
    },
    {
     "name": "stderr",
     "output_type": "stream",
     "text": [
      "\r",
      " 20%|██        | 204/1000 [07:48<39:20,  2.97s/it]"
     ]
    },
    {
     "name": "stdout",
     "output_type": "stream",
     "text": [
      "\r",
      " Run SAC_Energy_s27, Episode 204, Score: 0.69, Rolling score: 0.71, Max score: 0.78, Max rolling score: 0.73, collisions: 16   "
     ]
    },
    {
     "name": "stderr",
     "output_type": "stream",
     "text": [
      "\r",
      " 20%|██        | 205/1000 [07:50<36:52,  2.78s/it]"
     ]
    },
    {
     "name": "stdout",
     "output_type": "stream",
     "text": [
      "\r",
      " Run SAC_Energy_s27, Episode 205, Score: 0.70, Rolling score: 0.71, Max score: 0.78, Max rolling score: 0.73, collisions: 16   "
     ]
    },
    {
     "name": "stderr",
     "output_type": "stream",
     "text": [
      "\r",
      " 21%|██        | 206/1000 [07:53<37:34,  2.84s/it]"
     ]
    },
    {
     "name": "stdout",
     "output_type": "stream",
     "text": [
      "\r",
      " Run SAC_Energy_s27, Episode 206, Score: 0.72, Rolling score: 0.71, Max score: 0.78, Max rolling score: 0.73, collisions: 16   "
     ]
    },
    {
     "name": "stderr",
     "output_type": "stream",
     "text": [
      "\r",
      " 21%|██        | 207/1000 [07:56<37:28,  2.84s/it]"
     ]
    },
    {
     "name": "stdout",
     "output_type": "stream",
     "text": [
      "\r",
      " Run SAC_Energy_s27, Episode 207, Score: 0.71, Rolling score: 0.71, Max score: 0.78, Max rolling score: 0.73, collisions: 16   "
     ]
    },
    {
     "name": "stderr",
     "output_type": "stream",
     "text": [
      "\r",
      " 21%|██        | 208/1000 [08:00<41:38,  3.15s/it]"
     ]
    },
    {
     "name": "stdout",
     "output_type": "stream",
     "text": [
      "\r",
      " Run SAC_Energy_s27, Episode 208, Score: 0.70, Rolling score: 0.71, Max score: 0.78, Max rolling score: 0.73, collisions: 16   "
     ]
    },
    {
     "name": "stderr",
     "output_type": "stream",
     "text": [
      "\r",
      " 21%|██        | 209/1000 [08:04<45:42,  3.47s/it]"
     ]
    },
    {
     "name": "stdout",
     "output_type": "stream",
     "text": [
      "\r",
      " Run SAC_Energy_s27, Episode 209, Score: 0.73, Rolling score: 0.71, Max score: 0.78, Max rolling score: 0.73, collisions: 16   "
     ]
    },
    {
     "name": "stderr",
     "output_type": "stream",
     "text": [
      "\r",
      " 21%|██        | 210/1000 [08:10<55:27,  4.21s/it]"
     ]
    },
    {
     "name": "stdout",
     "output_type": "stream",
     "text": [
      "\r",
      " Run SAC_Energy_s27, Episode 210, Score: 0.72, Rolling score: 0.71, Max score: 0.78, Max rolling score: 0.73, collisions: 16   "
     ]
    },
    {
     "name": "stderr",
     "output_type": "stream",
     "text": [
      "\r",
      " 21%|██        | 211/1000 [08:16<1:00:01,  4.56s/it]"
     ]
    },
    {
     "name": "stdout",
     "output_type": "stream",
     "text": [
      "\r",
      " Run SAC_Energy_s27, Episode 211, Score: 0.71, Rolling score: 0.71, Max score: 0.78, Max rolling score: 0.73, collisions: 16   "
     ]
    },
    {
     "name": "stderr",
     "output_type": "stream",
     "text": [
      "\r",
      " 21%|██        | 212/1000 [08:22<1:06:07,  5.04s/it]"
     ]
    },
    {
     "name": "stdout",
     "output_type": "stream",
     "text": [
      "\r",
      " Run SAC_Energy_s27, Episode 212, Score: 0.66, Rolling score: 0.70, Max score: 0.78, Max rolling score: 0.73, collisions: 16   "
     ]
    },
    {
     "name": "stderr",
     "output_type": "stream",
     "text": [
      "\r",
      " 21%|██▏       | 213/1000 [08:24<55:26,  4.23s/it]  "
     ]
    },
    {
     "name": "stdout",
     "output_type": "stream",
     "text": [
      "\r",
      " Run SAC_Energy_s27, Episode 213, Score: 0.69, Rolling score: 0.70, Max score: 0.78, Max rolling score: 0.73, collisions: 16   "
     ]
    },
    {
     "name": "stderr",
     "output_type": "stream",
     "text": [
      "\r",
      " 21%|██▏       | 214/1000 [08:27<50:26,  3.85s/it]"
     ]
    },
    {
     "name": "stdout",
     "output_type": "stream",
     "text": [
      "\r",
      " Run SAC_Energy_s27, Episode 214, Score: 0.64, Rolling score: 0.70, Max score: 0.78, Max rolling score: 0.73, collisions: 16   "
     ]
    },
    {
     "name": "stderr",
     "output_type": "stream",
     "text": [
      "\r",
      " 22%|██▏       | 215/1000 [08:30<45:57,  3.51s/it]"
     ]
    },
    {
     "name": "stdout",
     "output_type": "stream",
     "text": [
      "\r",
      " Run SAC_Energy_s27, Episode 215, Score: 0.70, Rolling score: 0.70, Max score: 0.78, Max rolling score: 0.73, collisions: 16   "
     ]
    },
    {
     "name": "stderr",
     "output_type": "stream",
     "text": [
      "\r",
      " 22%|██▏       | 216/1000 [08:35<54:37,  4.18s/it]"
     ]
    },
    {
     "name": "stdout",
     "output_type": "stream",
     "text": [
      "\r",
      " Run SAC_Energy_s27, Episode 216, Score: 0.69, Rolling score: 0.69, Max score: 0.78, Max rolling score: 0.73, collisions: 16   "
     ]
    },
    {
     "name": "stderr",
     "output_type": "stream",
     "text": [
      "\r",
      " 22%|██▏       | 217/1000 [08:38<47:15,  3.62s/it]"
     ]
    },
    {
     "name": "stdout",
     "output_type": "stream",
     "text": [
      "\r",
      " Run SAC_Energy_s27, Episode 217, Score: 0.71, Rolling score: 0.69, Max score: 0.78, Max rolling score: 0.73, collisions: 16   "
     ]
    },
    {
     "name": "stderr",
     "output_type": "stream",
     "text": [
      "\r",
      " 22%|██▏       | 218/1000 [08:41<46:21,  3.56s/it]"
     ]
    },
    {
     "name": "stdout",
     "output_type": "stream",
     "text": [
      "\r",
      " Run SAC_Energy_s27, Episode 218, Score: 0.70, Rolling score: 0.69, Max score: 0.78, Max rolling score: 0.73, collisions: 16   "
     ]
    },
    {
     "name": "stderr",
     "output_type": "stream",
     "text": [
      "\r",
      " 22%|██▏       | 219/1000 [08:43<41:12,  3.17s/it]"
     ]
    },
    {
     "name": "stdout",
     "output_type": "stream",
     "text": [
      "\r",
      " Run SAC_Energy_s27, Episode 219, Score: 0.67, Rolling score: 0.69, Max score: 0.78, Max rolling score: 0.73, collisions: 16   "
     ]
    },
    {
     "name": "stderr",
     "output_type": "stream",
     "text": [
      "\r",
      " 22%|██▏       | 220/1000 [08:47<41:49,  3.22s/it]"
     ]
    },
    {
     "name": "stdout",
     "output_type": "stream",
     "text": [
      "\r",
      " Run SAC_Energy_s27, Episode 220, Score: 0.67, Rolling score: 0.68, Max score: 0.78, Max rolling score: 0.73, collisions: 16   "
     ]
    },
    {
     "name": "stderr",
     "output_type": "stream",
     "text": [
      "\r",
      " 22%|██▏       | 221/1000 [08:50<41:23,  3.19s/it]"
     ]
    },
    {
     "name": "stdout",
     "output_type": "stream",
     "text": [
      "\r",
      " Run SAC_Energy_s27, Episode 221, Score: 0.71, Rolling score: 0.68, Max score: 0.78, Max rolling score: 0.73, collisions: 16   "
     ]
    },
    {
     "name": "stderr",
     "output_type": "stream",
     "text": [
      "\r",
      " 22%|██▏       | 222/1000 [08:53<39:05,  3.01s/it]"
     ]
    },
    {
     "name": "stdout",
     "output_type": "stream",
     "text": [
      "\r",
      " Run SAC_Energy_s27, Episode 222, Score: 0.68, Rolling score: 0.69, Max score: 0.78, Max rolling score: 0.73, collisions: 16   "
     ]
    },
    {
     "name": "stderr",
     "output_type": "stream",
     "text": [
      "\r",
      " 22%|██▏       | 223/1000 [08:56<40:43,  3.15s/it]"
     ]
    },
    {
     "name": "stdout",
     "output_type": "stream",
     "text": [
      "\r",
      " Run SAC_Energy_s27, Episode 223, Score: 0.68, Rolling score: 0.69, Max score: 0.78, Max rolling score: 0.73, collisions: 16   "
     ]
    },
    {
     "name": "stderr",
     "output_type": "stream",
     "text": [
      "\r",
      " 22%|██▏       | 224/1000 [09:00<45:09,  3.49s/it]"
     ]
    },
    {
     "name": "stdout",
     "output_type": "stream",
     "text": [
      "\r",
      " Run SAC_Energy_s27, Episode 224, Score: 0.68, Rolling score: 0.69, Max score: 0.78, Max rolling score: 0.73, collisions: 16   "
     ]
    },
    {
     "name": "stderr",
     "output_type": "stream",
     "text": [
      "\r",
      " 22%|██▎       | 225/1000 [09:04<44:56,  3.48s/it]"
     ]
    },
    {
     "name": "stdout",
     "output_type": "stream",
     "text": [
      "\r",
      " Run SAC_Energy_s27, Episode 225, Score: 0.72, Rolling score: 0.69, Max score: 0.78, Max rolling score: 0.73, collisions: 16   "
     ]
    },
    {
     "name": "stderr",
     "output_type": "stream",
     "text": [
      "\r",
      " 23%|██▎       | 226/1000 [09:08<46:55,  3.64s/it]"
     ]
    },
    {
     "name": "stdout",
     "output_type": "stream",
     "text": [
      "\r",
      " Run SAC_Energy_s27, Episode 226, Score: 0.70, Rolling score: 0.69, Max score: 0.78, Max rolling score: 0.73, collisions: 16   "
     ]
    },
    {
     "name": "stderr",
     "output_type": "stream",
     "text": [
      "\r",
      " 23%|██▎       | 227/1000 [09:11<45:56,  3.57s/it]"
     ]
    },
    {
     "name": "stdout",
     "output_type": "stream",
     "text": [
      "\r",
      " Run SAC_Energy_s27, Episode 227, Score: 0.65, Rolling score: 0.69, Max score: 0.78, Max rolling score: 0.73, collisions: 16   "
     ]
    },
    {
     "name": "stderr",
     "output_type": "stream",
     "text": [
      "\r",
      " 23%|██▎       | 228/1000 [09:15<46:21,  3.60s/it]"
     ]
    },
    {
     "name": "stdout",
     "output_type": "stream",
     "text": [
      "\r",
      " Run SAC_Energy_s27, Episode 228, Score: 0.70, Rolling score: 0.69, Max score: 0.78, Max rolling score: 0.73, collisions: 16   "
     ]
    },
    {
     "name": "stderr",
     "output_type": "stream",
     "text": [
      "\r",
      " 23%|██▎       | 229/1000 [09:19<47:32,  3.70s/it]"
     ]
    },
    {
     "name": "stdout",
     "output_type": "stream",
     "text": [
      "\r",
      " Run SAC_Energy_s27, Episode 229, Score: 0.71, Rolling score: 0.69, Max score: 0.78, Max rolling score: 0.73, collisions: 16   "
     ]
    },
    {
     "name": "stderr",
     "output_type": "stream",
     "text": [
      "\r",
      " 23%|██▎       | 230/1000 [09:21<43:24,  3.38s/it]"
     ]
    },
    {
     "name": "stdout",
     "output_type": "stream",
     "text": [
      "\r",
      " Run SAC_Energy_s27, Episode 230, Score: 0.71, Rolling score: 0.69, Max score: 0.78, Max rolling score: 0.73, collisions: 16   "
     ]
    },
    {
     "name": "stderr",
     "output_type": "stream",
     "text": [
      "\r",
      " 23%|██▎       | 231/1000 [09:26<48:04,  3.75s/it]"
     ]
    },
    {
     "name": "stdout",
     "output_type": "stream",
     "text": [
      "\r",
      " Run SAC_Energy_s27, Episode 231, Score: 0.70, Rolling score: 0.69, Max score: 0.78, Max rolling score: 0.73, collisions: 16   "
     ]
    },
    {
     "name": "stderr",
     "output_type": "stream",
     "text": [
      "\r",
      " 23%|██▎       | 232/1000 [09:30<47:17,  3.69s/it]"
     ]
    },
    {
     "name": "stdout",
     "output_type": "stream",
     "text": [
      "\r",
      " Run SAC_Energy_s27, Episode 232, Score: 0.68, Rolling score: 0.69, Max score: 0.78, Max rolling score: 0.73, collisions: 16   "
     ]
    },
    {
     "name": "stderr",
     "output_type": "stream",
     "text": [
      "\r",
      " 23%|██▎       | 233/1000 [09:32<43:42,  3.42s/it]"
     ]
    },
    {
     "name": "stdout",
     "output_type": "stream",
     "text": [
      "\r",
      " Run SAC_Energy_s27, Episode 233, Score: 0.67, Rolling score: 0.69, Max score: 0.78, Max rolling score: 0.73, collisions: 16   "
     ]
    },
    {
     "name": "stderr",
     "output_type": "stream",
     "text": [
      "\r",
      " 23%|██▎       | 234/1000 [09:35<39:22,  3.08s/it]"
     ]
    },
    {
     "name": "stdout",
     "output_type": "stream",
     "text": [
      "\r",
      " Run SAC_Energy_s27, Episode 234, Score: 0.77, Rolling score: 0.70, Max score: 0.78, Max rolling score: 0.73, collisions: 16   "
     ]
    },
    {
     "name": "stderr",
     "output_type": "stream",
     "text": [
      "\r",
      " 24%|██▎       | 235/1000 [09:38<40:42,  3.19s/it]"
     ]
    },
    {
     "name": "stdout",
     "output_type": "stream",
     "text": [
      "\r",
      " Run SAC_Energy_s27, Episode 235, Score: 0.69, Rolling score: 0.70, Max score: 0.78, Max rolling score: 0.73, collisions: 16   "
     ]
    },
    {
     "name": "stderr",
     "output_type": "stream",
     "text": [
      "\r",
      " 24%|██▎       | 236/1000 [09:41<39:32,  3.11s/it]"
     ]
    },
    {
     "name": "stdout",
     "output_type": "stream",
     "text": [
      "\r",
      " Run SAC_Energy_s27, Episode 236, Score: 0.71, Rolling score: 0.70, Max score: 0.78, Max rolling score: 0.73, collisions: 16   "
     ]
    },
    {
     "name": "stderr",
     "output_type": "stream",
     "text": [
      "\r",
      " 24%|██▎       | 237/1000 [09:46<46:14,  3.64s/it]"
     ]
    },
    {
     "name": "stdout",
     "output_type": "stream",
     "text": [
      "\r",
      " Run SAC_Energy_s27, Episode 237, Score: 0.71, Rolling score: 0.71, Max score: 0.78, Max rolling score: 0.73, collisions: 16   "
     ]
    },
    {
     "name": "stderr",
     "output_type": "stream",
     "text": [
      "\r",
      " 24%|██▍       | 238/1000 [09:50<47:19,  3.73s/it]"
     ]
    },
    {
     "name": "stdout",
     "output_type": "stream",
     "text": [
      "\r",
      " Run SAC_Energy_s27, Episode 238, Score: 0.68, Rolling score: 0.70, Max score: 0.78, Max rolling score: 0.73, collisions: 16   "
     ]
    },
    {
     "name": "stderr",
     "output_type": "stream",
     "text": [
      "\r",
      " 24%|██▍       | 239/1000 [09:52<41:52,  3.30s/it]"
     ]
    },
    {
     "name": "stdout",
     "output_type": "stream",
     "text": [
      "\r",
      " Run SAC_Energy_s27, Episode 239, Score: 0.72, Rolling score: 0.70, Max score: 0.78, Max rolling score: 0.73, collisions: 16   "
     ]
    },
    {
     "name": "stderr",
     "output_type": "stream",
     "text": [
      "\r",
      " 24%|██▍       | 240/1000 [09:54<38:05,  3.01s/it]"
     ]
    },
    {
     "name": "stdout",
     "output_type": "stream",
     "text": [
      "\r",
      " Run SAC_Energy_s27, Episode 240, Score: 0.71, Rolling score: 0.70, Max score: 0.78, Max rolling score: 0.73, collisions: 16   "
     ]
    },
    {
     "name": "stderr",
     "output_type": "stream",
     "text": [
      "\r",
      " 24%|██▍       | 241/1000 [09:58<40:57,  3.24s/it]"
     ]
    },
    {
     "name": "stdout",
     "output_type": "stream",
     "text": [
      "\r",
      " Run SAC_Energy_s27, Episode 241, Score: 0.69, Rolling score: 0.70, Max score: 0.78, Max rolling score: 0.73, collisions: 16   "
     ]
    },
    {
     "name": "stderr",
     "output_type": "stream",
     "text": [
      "\r",
      " 24%|██▍       | 242/1000 [10:01<38:07,  3.02s/it]"
     ]
    },
    {
     "name": "stdout",
     "output_type": "stream",
     "text": [
      "\r",
      " Run SAC_Energy_s27, Episode 242, Score: 0.68, Rolling score: 0.70, Max score: 0.78, Max rolling score: 0.73, collisions: 16   "
     ]
    },
    {
     "name": "stderr",
     "output_type": "stream",
     "text": [
      "\r",
      " 24%|██▍       | 243/1000 [10:03<35:18,  2.80s/it]"
     ]
    },
    {
     "name": "stdout",
     "output_type": "stream",
     "text": [
      "\r",
      " Run SAC_Energy_s27, Episode 243, Score: 0.70, Rolling score: 0.71, Max score: 0.78, Max rolling score: 0.73, collisions: 16   "
     ]
    },
    {
     "name": "stderr",
     "output_type": "stream",
     "text": [
      "\r",
      " 24%|██▍       | 244/1000 [10:05<32:48,  2.60s/it]"
     ]
    },
    {
     "name": "stdout",
     "output_type": "stream",
     "text": [
      "\r",
      " Run SAC_Energy_s27, Episode 244, Score: 0.69, Rolling score: 0.70, Max score: 0.78, Max rolling score: 0.73, collisions: 16   "
     ]
    },
    {
     "name": "stderr",
     "output_type": "stream",
     "text": [
      "\r",
      " 24%|██▍       | 245/1000 [10:07<31:38,  2.51s/it]"
     ]
    },
    {
     "name": "stdout",
     "output_type": "stream",
     "text": [
      "\r",
      " Run SAC_Energy_s27, Episode 245, Score: 0.66, Rolling score: 0.70, Max score: 0.78, Max rolling score: 0.73, collisions: 16   "
     ]
    },
    {
     "name": "stderr",
     "output_type": "stream",
     "text": [
      "\r",
      " 25%|██▍       | 246/1000 [10:10<30:16,  2.41s/it]"
     ]
    },
    {
     "name": "stdout",
     "output_type": "stream",
     "text": [
      "\r",
      " Run SAC_Energy_s27, Episode 246, Score: 0.64, Rolling score: 0.69, Max score: 0.78, Max rolling score: 0.73, collisions: 16   "
     ]
    },
    {
     "name": "stderr",
     "output_type": "stream",
     "text": [
      "\r",
      " 25%|██▍       | 247/1000 [10:12<30:48,  2.46s/it]"
     ]
    },
    {
     "name": "stdout",
     "output_type": "stream",
     "text": [
      "\r",
      " Run SAC_Energy_s27, Episode 247, Score: 0.68, Rolling score: 0.69, Max score: 0.78, Max rolling score: 0.73, collisions: 16   "
     ]
    },
    {
     "name": "stderr",
     "output_type": "stream",
     "text": [
      "\r",
      " 25%|██▍       | 248/1000 [10:15<30:34,  2.44s/it]"
     ]
    },
    {
     "name": "stdout",
     "output_type": "stream",
     "text": [
      "\r",
      " Run SAC_Energy_s27, Episode 248, Score: 0.68, Rolling score: 0.69, Max score: 0.78, Max rolling score: 0.73, collisions: 16   "
     ]
    },
    {
     "name": "stderr",
     "output_type": "stream",
     "text": [
      "\r",
      " 25%|██▍       | 249/1000 [10:18<33:15,  2.66s/it]"
     ]
    },
    {
     "name": "stdout",
     "output_type": "stream",
     "text": [
      "\r",
      " Run SAC_Energy_s27, Episode 249, Score: 0.67, Rolling score: 0.68, Max score: 0.78, Max rolling score: 0.73, collisions: 16   "
     ]
    },
    {
     "name": "stderr",
     "output_type": "stream",
     "text": [
      "\r",
      " 25%|██▌       | 250/1000 [10:20<33:19,  2.67s/it]"
     ]
    },
    {
     "name": "stdout",
     "output_type": "stream",
     "text": [
      "\r",
      " Run SAC_Energy_s27, Episode 250, Score: 0.70, Rolling score: 0.68, Max score: 0.78, Max rolling score: 0.73, collisions: 16   "
     ]
    },
    {
     "name": "stderr",
     "output_type": "stream",
     "text": [
      "\r",
      " 25%|██▌       | 251/1000 [10:23<32:50,  2.63s/it]"
     ]
    },
    {
     "name": "stdout",
     "output_type": "stream",
     "text": [
      "\r",
      " Run SAC_Energy_s27, Episode 251, Score: 0.70, Rolling score: 0.68, Max score: 0.78, Max rolling score: 0.73, collisions: 16   "
     ]
    },
    {
     "name": "stderr",
     "output_type": "stream",
     "text": [
      "\r",
      " 25%|██▌       | 252/1000 [10:26<35:43,  2.87s/it]"
     ]
    },
    {
     "name": "stdout",
     "output_type": "stream",
     "text": [
      "\r",
      " Run SAC_Energy_s27, Episode 252, Score: 0.70, Rolling score: 0.68, Max score: 0.78, Max rolling score: 0.73, collisions: 16   "
     ]
    },
    {
     "name": "stderr",
     "output_type": "stream",
     "text": [
      "\r",
      " 25%|██▌       | 253/1000 [10:29<34:57,  2.81s/it]"
     ]
    },
    {
     "name": "stdout",
     "output_type": "stream",
     "text": [
      "\r",
      " Run SAC_Energy_s27, Episode 253, Score: 0.71, Rolling score: 0.68, Max score: 0.78, Max rolling score: 0.73, collisions: 16   "
     ]
    },
    {
     "name": "stderr",
     "output_type": "stream",
     "text": [
      "\r",
      " 25%|██▌       | 254/1000 [10:32<36:38,  2.95s/it]"
     ]
    },
    {
     "name": "stdout",
     "output_type": "stream",
     "text": [
      "\r",
      " Run SAC_Energy_s27, Episode 254, Score: 0.66, Rolling score: 0.68, Max score: 0.78, Max rolling score: 0.73, collisions: 16   "
     ]
    },
    {
     "name": "stderr",
     "output_type": "stream",
     "text": [
      "\r",
      " 26%|██▌       | 255/1000 [10:35<34:53,  2.81s/it]"
     ]
    },
    {
     "name": "stdout",
     "output_type": "stream",
     "text": [
      "\r",
      " Run SAC_Energy_s27, Episode 255, Score: 0.70, Rolling score: 0.68, Max score: 0.78, Max rolling score: 0.73, collisions: 16   "
     ]
    },
    {
     "name": "stderr",
     "output_type": "stream",
     "text": [
      "\r",
      " 26%|██▌       | 256/1000 [10:41<46:13,  3.73s/it]"
     ]
    },
    {
     "name": "stdout",
     "output_type": "stream",
     "text": [
      "\r",
      " Run SAC_Energy_s27, Episode 256, Score: 0.67, Rolling score: 0.69, Max score: 0.78, Max rolling score: 0.73, collisions: 16   "
     ]
    },
    {
     "name": "stderr",
     "output_type": "stream",
     "text": [
      "\r",
      " 26%|██▌       | 257/1000 [10:44<46:09,  3.73s/it]"
     ]
    },
    {
     "name": "stdout",
     "output_type": "stream",
     "text": [
      "\r",
      " Run SAC_Energy_s27, Episode 257, Score: 0.68, Rolling score: 0.69, Max score: 0.78, Max rolling score: 0.73, collisions: 16   "
     ]
    },
    {
     "name": "stderr",
     "output_type": "stream",
     "text": [
      "\r",
      " 26%|██▌       | 258/1000 [10:47<43:00,  3.48s/it]"
     ]
    },
    {
     "name": "stdout",
     "output_type": "stream",
     "text": [
      "\r",
      " Run SAC_Energy_s27, Episode 258, Score: 0.66, Rolling score: 0.69, Max score: 0.78, Max rolling score: 0.73, collisions: 16   "
     ]
    },
    {
     "name": "stderr",
     "output_type": "stream",
     "text": [
      "\r",
      " 26%|██▌       | 259/1000 [10:50<39:58,  3.24s/it]"
     ]
    },
    {
     "name": "stdout",
     "output_type": "stream",
     "text": [
      "\r",
      " Run SAC_Energy_s27, Episode 259, Score: 0.70, Rolling score: 0.69, Max score: 0.78, Max rolling score: 0.73, collisions: 16   "
     ]
    },
    {
     "name": "stderr",
     "output_type": "stream",
     "text": [
      "\r",
      " 26%|██▌       | 260/1000 [10:52<36:09,  2.93s/it]"
     ]
    },
    {
     "name": "stdout",
     "output_type": "stream",
     "text": [
      "\r",
      " Run SAC_Energy_s27, Episode 260, Score: 0.65, Rolling score: 0.68, Max score: 0.78, Max rolling score: 0.73, collisions: 16   "
     ]
    },
    {
     "name": "stderr",
     "output_type": "stream",
     "text": [
      "\r",
      " 26%|██▌       | 261/1000 [10:55<34:31,  2.80s/it]"
     ]
    },
    {
     "name": "stdout",
     "output_type": "stream",
     "text": [
      "\r",
      " Run SAC_Energy_s27, Episode 261, Score: 0.70, Rolling score: 0.68, Max score: 0.78, Max rolling score: 0.73, collisions: 16   "
     ]
    },
    {
     "name": "stderr",
     "output_type": "stream",
     "text": [
      "\r",
      " 26%|██▌       | 262/1000 [10:58<36:43,  2.99s/it]"
     ]
    },
    {
     "name": "stdout",
     "output_type": "stream",
     "text": [
      "\r",
      " Run SAC_Energy_s27, Episode 262, Score: 0.67, Rolling score: 0.68, Max score: 0.78, Max rolling score: 0.73, collisions: 16   "
     ]
    },
    {
     "name": "stderr",
     "output_type": "stream",
     "text": [
      "\r",
      " 26%|██▋       | 263/1000 [11:02<39:02,  3.18s/it]"
     ]
    },
    {
     "name": "stdout",
     "output_type": "stream",
     "text": [
      "\r",
      " Run SAC_Energy_s27, Episode 263, Score: 0.71, Rolling score: 0.68, Max score: 0.78, Max rolling score: 0.73, collisions: 16   "
     ]
    },
    {
     "name": "stderr",
     "output_type": "stream",
     "text": [
      "\r",
      " 26%|██▋       | 264/1000 [11:06<41:42,  3.40s/it]"
     ]
    },
    {
     "name": "stdout",
     "output_type": "stream",
     "text": [
      "\r",
      " Run SAC_Energy_s27, Episode 264, Score: 0.69, Rolling score: 0.68, Max score: 0.78, Max rolling score: 0.73, collisions: 16   "
     ]
    },
    {
     "name": "stderr",
     "output_type": "stream",
     "text": [
      "\r",
      " 26%|██▋       | 265/1000 [11:09<42:15,  3.45s/it]"
     ]
    },
    {
     "name": "stdout",
     "output_type": "stream",
     "text": [
      "\r",
      " Run SAC_Energy_s27, Episode 265, Score: 0.71, Rolling score: 0.68, Max score: 0.78, Max rolling score: 0.73, collisions: 16   "
     ]
    },
    {
     "name": "stderr",
     "output_type": "stream",
     "text": [
      "\r",
      " 27%|██▋       | 266/1000 [11:12<38:07,  3.12s/it]"
     ]
    },
    {
     "name": "stdout",
     "output_type": "stream",
     "text": [
      "\r",
      " Run SAC_Energy_s27, Episode 266, Score: 0.65, Rolling score: 0.68, Max score: 0.78, Max rolling score: 0.73, collisions: 16   "
     ]
    },
    {
     "name": "stderr",
     "output_type": "stream",
     "text": [
      "\r",
      " 27%|██▋       | 267/1000 [11:15<38:14,  3.13s/it]"
     ]
    },
    {
     "name": "stdout",
     "output_type": "stream",
     "text": [
      "\r",
      " Run SAC_Energy_s27, Episode 267, Score: 0.72, Rolling score: 0.69, Max score: 0.78, Max rolling score: 0.73, collisions: 16   "
     ]
    },
    {
     "name": "stderr",
     "output_type": "stream",
     "text": [
      "\r",
      " 27%|██▋       | 268/1000 [11:19<40:36,  3.33s/it]"
     ]
    },
    {
     "name": "stdout",
     "output_type": "stream",
     "text": [
      "\r",
      " Run SAC_Energy_s27, Episode 268, Score: 0.71, Rolling score: 0.69, Max score: 0.78, Max rolling score: 0.73, collisions: 16   "
     ]
    },
    {
     "name": "stderr",
     "output_type": "stream",
     "text": [
      "\r",
      " 27%|██▋       | 269/1000 [11:21<37:31,  3.08s/it]"
     ]
    },
    {
     "name": "stdout",
     "output_type": "stream",
     "text": [
      "\r",
      " Run SAC_Energy_s27, Episode 269, Score: 0.68, Rolling score: 0.69, Max score: 0.78, Max rolling score: 0.73, collisions: 16   "
     ]
    },
    {
     "name": "stderr",
     "output_type": "stream",
     "text": [
      "\r",
      " 27%|██▋       | 270/1000 [11:24<37:01,  3.04s/it]"
     ]
    },
    {
     "name": "stdout",
     "output_type": "stream",
     "text": [
      "\r",
      " Run SAC_Energy_s27, Episode 270, Score: 0.70, Rolling score: 0.69, Max score: 0.78, Max rolling score: 0.73, collisions: 16   "
     ]
    },
    {
     "name": "stderr",
     "output_type": "stream",
     "text": [
      "\r",
      " 27%|██▋       | 271/1000 [11:27<37:42,  3.10s/it]"
     ]
    },
    {
     "name": "stdout",
     "output_type": "stream",
     "text": [
      "\r",
      " Run SAC_Energy_s27, Episode 271, Score: 0.68, Rolling score: 0.69, Max score: 0.78, Max rolling score: 0.73, collisions: 16   "
     ]
    },
    {
     "name": "stderr",
     "output_type": "stream",
     "text": [
      "\r",
      " 27%|██▋       | 272/1000 [11:34<49:23,  4.07s/it]"
     ]
    },
    {
     "name": "stdout",
     "output_type": "stream",
     "text": [
      "\r",
      " Run SAC_Energy_s27, Episode 272, Score: 0.70, Rolling score: 0.69, Max score: 0.78, Max rolling score: 0.73, collisions: 16   "
     ]
    },
    {
     "name": "stderr",
     "output_type": "stream",
     "text": [
      "\r",
      " 27%|██▋       | 273/1000 [11:38<49:49,  4.11s/it]"
     ]
    },
    {
     "name": "stdout",
     "output_type": "stream",
     "text": [
      "\r",
      " Run SAC_Energy_s27, Episode 273, Score: 0.71, Rolling score: 0.70, Max score: 0.78, Max rolling score: 0.73, collisions: 16   "
     ]
    },
    {
     "name": "stderr",
     "output_type": "stream",
     "text": [
      "\r",
      " 27%|██▋       | 274/1000 [11:41<47:41,  3.94s/it]"
     ]
    },
    {
     "name": "stdout",
     "output_type": "stream",
     "text": [
      "\r",
      " Run SAC_Energy_s27, Episode 274, Score: 0.70, Rolling score: 0.70, Max score: 0.78, Max rolling score: 0.73, collisions: 16   "
     ]
    },
    {
     "name": "stderr",
     "output_type": "stream",
     "text": [
      "\r",
      " 28%|██▊       | 275/1000 [11:45<44:54,  3.72s/it]"
     ]
    },
    {
     "name": "stdout",
     "output_type": "stream",
     "text": [
      "\r",
      " Run SAC_Energy_s27, Episode 275, Score: 0.70, Rolling score: 0.70, Max score: 0.78, Max rolling score: 0.73, collisions: 16   "
     ]
    },
    {
     "name": "stderr",
     "output_type": "stream",
     "text": [
      "\r",
      " 28%|██▊       | 276/1000 [11:47<40:52,  3.39s/it]"
     ]
    },
    {
     "name": "stdout",
     "output_type": "stream",
     "text": [
      "\r",
      " Run SAC_Energy_s27, Episode 276, Score: 0.70, Rolling score: 0.70, Max score: 0.78, Max rolling score: 0.73, collisions: 16   "
     ]
    },
    {
     "name": "stderr",
     "output_type": "stream",
     "text": [
      "\r",
      " 28%|██▊       | 277/1000 [11:53<48:12,  4.00s/it]"
     ]
    },
    {
     "name": "stdout",
     "output_type": "stream",
     "text": [
      "\r",
      " Run SAC_Energy_s27, Episode 277, Score: 0.69, Rolling score: 0.70, Max score: 0.78, Max rolling score: 0.73, collisions: 16   "
     ]
    },
    {
     "name": "stderr",
     "output_type": "stream",
     "text": [
      "\r",
      " 28%|██▊       | 278/1000 [11:56<46:44,  3.88s/it]"
     ]
    },
    {
     "name": "stdout",
     "output_type": "stream",
     "text": [
      "\r",
      " Run SAC_Energy_s27, Episode 278, Score: 0.69, Rolling score: 0.69, Max score: 0.78, Max rolling score: 0.73, collisions: 16   "
     ]
    },
    {
     "name": "stderr",
     "output_type": "stream",
     "text": [
      "\r",
      " 28%|██▊       | 279/1000 [11:59<41:55,  3.49s/it]"
     ]
    },
    {
     "name": "stdout",
     "output_type": "stream",
     "text": [
      "\r",
      " Run SAC_Energy_s27, Episode 279, Score: 0.71, Rolling score: 0.70, Max score: 0.78, Max rolling score: 0.73, collisions: 16   "
     ]
    },
    {
     "name": "stderr",
     "output_type": "stream",
     "text": [
      "\r",
      " 28%|██▊       | 280/1000 [12:02<39:52,  3.32s/it]"
     ]
    },
    {
     "name": "stdout",
     "output_type": "stream",
     "text": [
      "\r",
      " Run SAC_Energy_s27, Episode 280, Score: 0.72, Rolling score: 0.70, Max score: 0.78, Max rolling score: 0.73, collisions: 16   "
     ]
    },
    {
     "name": "stderr",
     "output_type": "stream",
     "text": [
      "\r",
      " 28%|██▊       | 281/1000 [12:06<43:10,  3.60s/it]"
     ]
    },
    {
     "name": "stdout",
     "output_type": "stream",
     "text": [
      "\r",
      " Run SAC_Energy_s27, Episode 281, Score: 0.67, Rolling score: 0.70, Max score: 0.78, Max rolling score: 0.73, collisions: 16   "
     ]
    },
    {
     "name": "stderr",
     "output_type": "stream",
     "text": [
      "\r",
      " 28%|██▊       | 282/1000 [12:13<54:27,  4.55s/it]"
     ]
    },
    {
     "name": "stdout",
     "output_type": "stream",
     "text": [
      "\r",
      " Run SAC_Energy_s27, Episode 282, Score: 0.70, Rolling score: 0.70, Max score: 0.78, Max rolling score: 0.73, collisions: 16   "
     ]
    },
    {
     "name": "stderr",
     "output_type": "stream",
     "text": [
      "\r",
      " 28%|██▊       | 283/1000 [12:16<50:49,  4.25s/it]"
     ]
    },
    {
     "name": "stdout",
     "output_type": "stream",
     "text": [
      "\r",
      " Run SAC_Energy_s27, Episode 283, Score: 0.78, Rolling score: 0.71, Max score: 0.78, Max rolling score: 0.73, collisions: 16   "
     ]
    },
    {
     "name": "stderr",
     "output_type": "stream",
     "text": [
      "\r",
      " 28%|██▊       | 284/1000 [12:20<48:01,  4.02s/it]"
     ]
    },
    {
     "name": "stdout",
     "output_type": "stream",
     "text": [
      "\r",
      " Run SAC_Energy_s27, Episode 284, Score: 0.72, Rolling score: 0.71, Max score: 0.78, Max rolling score: 0.73, collisions: 16   "
     ]
    },
    {
     "name": "stderr",
     "output_type": "stream",
     "text": [
      "\r",
      " 28%|██▊       | 285/1000 [12:22<41:52,  3.51s/it]"
     ]
    },
    {
     "name": "stdout",
     "output_type": "stream",
     "text": [
      "\r",
      " Run SAC_Energy_s27, Episode 285, Score: 0.65, Rolling score: 0.70, Max score: 0.78, Max rolling score: 0.73, collisions: 16   "
     ]
    },
    {
     "name": "stderr",
     "output_type": "stream",
     "text": [
      "\r",
      " 29%|██▊       | 286/1000 [12:25<38:11,  3.21s/it]"
     ]
    },
    {
     "name": "stdout",
     "output_type": "stream",
     "text": [
      "\r",
      " Run SAC_Energy_s27, Episode 286, Score: 0.61, Rolling score: 0.69, Max score: 0.78, Max rolling score: 0.73, collisions: 16   "
     ]
    },
    {
     "name": "stderr",
     "output_type": "stream",
     "text": [
      "\r",
      " 29%|██▊       | 287/1000 [12:27<34:46,  2.93s/it]"
     ]
    },
    {
     "name": "stdout",
     "output_type": "stream",
     "text": [
      "\r",
      " Run SAC_Energy_s27, Episode 287, Score: 0.73, Rolling score: 0.70, Max score: 0.78, Max rolling score: 0.73, collisions: 16   "
     ]
    },
    {
     "name": "stderr",
     "output_type": "stream",
     "text": [
      "\r",
      " 29%|██▉       | 288/1000 [12:30<37:09,  3.13s/it]"
     ]
    },
    {
     "name": "stdout",
     "output_type": "stream",
     "text": [
      "\r",
      " Run SAC_Energy_s27, Episode 288, Score: 0.70, Rolling score: 0.70, Max score: 0.78, Max rolling score: 0.73, collisions: 16   "
     ]
    },
    {
     "name": "stderr",
     "output_type": "stream",
     "text": [
      "\r",
      " 29%|██▉       | 289/1000 [12:34<40:08,  3.39s/it]"
     ]
    },
    {
     "name": "stdout",
     "output_type": "stream",
     "text": [
      "\r",
      " Run SAC_Energy_s27, Episode 289, Score: 0.71, Rolling score: 0.70, Max score: 0.78, Max rolling score: 0.73, collisions: 16   "
     ]
    },
    {
     "name": "stderr",
     "output_type": "stream",
     "text": [
      "\r",
      " 29%|██▉       | 290/1000 [12:37<36:06,  3.05s/it]"
     ]
    },
    {
     "name": "stdout",
     "output_type": "stream",
     "text": [
      "\r",
      " Run SAC_Energy_s27, Episode 290, Score: 0.71, Rolling score: 0.70, Max score: 0.78, Max rolling score: 0.73, collisions: 16   "
     ]
    },
    {
     "name": "stderr",
     "output_type": "stream",
     "text": [
      "\r",
      " 29%|██▉       | 291/1000 [12:39<33:09,  2.81s/it]"
     ]
    },
    {
     "name": "stdout",
     "output_type": "stream",
     "text": [
      "\r",
      " Run SAC_Energy_s27, Episode 291, Score: 0.68, Rolling score: 0.70, Max score: 0.78, Max rolling score: 0.73, collisions: 16   "
     ]
    },
    {
     "name": "stderr",
     "output_type": "stream",
     "text": [
      "\r",
      " 29%|██▉       | 292/1000 [12:43<37:51,  3.21s/it]"
     ]
    },
    {
     "name": "stdout",
     "output_type": "stream",
     "text": [
      "\r",
      " Run SAC_Energy_s27, Episode 292, Score: 0.64, Rolling score: 0.69, Max score: 0.78, Max rolling score: 0.73, collisions: 16   "
     ]
    },
    {
     "name": "stderr",
     "output_type": "stream",
     "text": [
      "\r",
      " 29%|██▉       | 293/1000 [12:46<37:05,  3.15s/it]"
     ]
    },
    {
     "name": "stdout",
     "output_type": "stream",
     "text": [
      "\r",
      " Run SAC_Energy_s27, Episode 293, Score: 0.68, Rolling score: 0.68, Max score: 0.78, Max rolling score: 0.73, collisions: 16   "
     ]
    },
    {
     "name": "stderr",
     "output_type": "stream",
     "text": [
      "\r",
      " 29%|██▉       | 294/1000 [12:49<36:16,  3.08s/it]"
     ]
    },
    {
     "name": "stdout",
     "output_type": "stream",
     "text": [
      "\r",
      " Run SAC_Energy_s27, Episode 294, Score: 0.72, Rolling score: 0.68, Max score: 0.78, Max rolling score: 0.73, collisions: 16   "
     ]
    },
    {
     "name": "stderr",
     "output_type": "stream",
     "text": [
      "\r",
      " 30%|██▉       | 295/1000 [12:52<34:21,  2.92s/it]"
     ]
    },
    {
     "name": "stdout",
     "output_type": "stream",
     "text": [
      "\r",
      " Run SAC_Energy_s27, Episode 295, Score: 0.77, Rolling score: 0.70, Max score: 0.78, Max rolling score: 0.73, collisions: 16   "
     ]
    },
    {
     "name": "stderr",
     "output_type": "stream",
     "text": [
      "\r",
      " 30%|██▉       | 296/1000 [12:54<32:27,  2.77s/it]"
     ]
    },
    {
     "name": "stdout",
     "output_type": "stream",
     "text": [
      "\r",
      " Run SAC_Energy_s27, Episode 296, Score: 0.72, Rolling score: 0.71, Max score: 0.78, Max rolling score: 0.73, collisions: 16   "
     ]
    },
    {
     "name": "stderr",
     "output_type": "stream",
     "text": [
      "\r",
      " 30%|██▉       | 297/1000 [12:58<35:26,  3.02s/it]"
     ]
    },
    {
     "name": "stdout",
     "output_type": "stream",
     "text": [
      "\r",
      " Run SAC_Energy_s27, Episode 297, Score: 0.68, Rolling score: 0.70, Max score: 0.78, Max rolling score: 0.73, collisions: 16   "
     ]
    },
    {
     "name": "stderr",
     "output_type": "stream",
     "text": [
      "\r",
      " 30%|██▉       | 298/1000 [13:00<32:46,  2.80s/it]"
     ]
    },
    {
     "name": "stdout",
     "output_type": "stream",
     "text": [
      "\r",
      " Run SAC_Energy_s27, Episode 298, Score: 0.68, Rolling score: 0.70, Max score: 0.78, Max rolling score: 0.73, collisions: 16   "
     ]
    },
    {
     "name": "stderr",
     "output_type": "stream",
     "text": [
      "\r",
      " 30%|██▉       | 299/1000 [13:02<30:46,  2.63s/it]"
     ]
    },
    {
     "name": "stdout",
     "output_type": "stream",
     "text": [
      "\r",
      " Run SAC_Energy_s27, Episode 299, Score: 0.68, Rolling score: 0.70, Max score: 0.78, Max rolling score: 0.73, collisions: 16   "
     ]
    },
    {
     "name": "stderr",
     "output_type": "stream",
     "text": [
      "\r",
      " 30%|███       | 300/1000 [13:06<33:40,  2.89s/it]"
     ]
    },
    {
     "name": "stdout",
     "output_type": "stream",
     "text": [
      "\r",
      " Run SAC_Energy_s27, Episode 300, Score: 0.73, Rolling score: 0.70, Max score: 0.78, Max rolling score: 0.73, collisions: 16   "
     ]
    },
    {
     "name": "stderr",
     "output_type": "stream",
     "text": [
      "\r",
      " 30%|███       | 301/1000 [13:10<39:03,  3.35s/it]"
     ]
    },
    {
     "name": "stdout",
     "output_type": "stream",
     "text": [
      "\r",
      " Run SAC_Energy_s27, Episode 301, Score: 0.79, Rolling score: 0.71, Max score: 0.79, Max rolling score: 0.73, collisions: 16   "
     ]
    },
    {
     "name": "stderr",
     "output_type": "stream",
     "text": [
      "\r",
      " 30%|███       | 302/1000 [13:14<39:58,  3.44s/it]"
     ]
    },
    {
     "name": "stdout",
     "output_type": "stream",
     "text": [
      "\r",
      " Run SAC_Energy_s27, Episode 302, Score: 0.68, Rolling score: 0.71, Max score: 0.79, Max rolling score: 0.73, collisions: 16   "
     ]
    },
    {
     "name": "stderr",
     "output_type": "stream",
     "text": [
      "\r",
      " 30%|███       | 303/1000 [13:16<36:57,  3.18s/it]"
     ]
    },
    {
     "name": "stdout",
     "output_type": "stream",
     "text": [
      "\r",
      " Run SAC_Energy_s27, Episode 303, Score: 0.68, Rolling score: 0.71, Max score: 0.79, Max rolling score: 0.73, collisions: 16   "
     ]
    },
    {
     "name": "stderr",
     "output_type": "stream",
     "text": [
      "\r",
      " 30%|███       | 304/1000 [13:24<51:18,  4.42s/it]"
     ]
    },
    {
     "name": "stdout",
     "output_type": "stream",
     "text": [
      "\r",
      " Run SAC_Energy_s27, Episode 304, Score: 0.68, Rolling score: 0.71, Max score: 0.79, Max rolling score: 0.73, collisions: 16   "
     ]
    },
    {
     "name": "stderr",
     "output_type": "stream",
     "text": [
      "\r",
      " 30%|███       | 305/1000 [13:26<44:00,  3.80s/it]"
     ]
    },
    {
     "name": "stdout",
     "output_type": "stream",
     "text": [
      "\r",
      " Run SAC_Energy_s27, Episode 305, Score: 0.68, Rolling score: 0.70, Max score: 0.79, Max rolling score: 0.73, collisions: 16   "
     ]
    },
    {
     "name": "stderr",
     "output_type": "stream",
     "text": [
      "\r",
      " 31%|███       | 306/1000 [13:30<44:07,  3.81s/it]"
     ]
    },
    {
     "name": "stdout",
     "output_type": "stream",
     "text": [
      "\r",
      " Run SAC_Energy_s27, Episode 306, Score: 0.70, Rolling score: 0.70, Max score: 0.79, Max rolling score: 0.73, collisions: 16   "
     ]
    },
    {
     "name": "stderr",
     "output_type": "stream",
     "text": [
      "\r",
      " 31%|███       | 307/1000 [13:34<45:32,  3.94s/it]"
     ]
    },
    {
     "name": "stdout",
     "output_type": "stream",
     "text": [
      "\r",
      " Run SAC_Energy_s27, Episode 307, Score: 0.67, Rolling score: 0.70, Max score: 0.79, Max rolling score: 0.73, collisions: 16   "
     ]
    },
    {
     "name": "stderr",
     "output_type": "stream",
     "text": [
      "\r",
      " 31%|███       | 308/1000 [13:39<48:52,  4.24s/it]"
     ]
    },
    {
     "name": "stdout",
     "output_type": "stream",
     "text": [
      "\r",
      " Run SAC_Energy_s27, Episode 308, Score: 0.71, Rolling score: 0.70, Max score: 0.79, Max rolling score: 0.73, collisions: 16   "
     ]
    },
    {
     "name": "stderr",
     "output_type": "stream",
     "text": [
      "\r",
      " 31%|███       | 309/1000 [13:43<49:50,  4.33s/it]"
     ]
    },
    {
     "name": "stdout",
     "output_type": "stream",
     "text": [
      "\r",
      " Run SAC_Energy_s27, Episode 309, Score: 0.74, Rolling score: 0.71, Max score: 0.79, Max rolling score: 0.73, collisions: 16   "
     ]
    },
    {
     "name": "stderr",
     "output_type": "stream",
     "text": [
      "\r",
      " 31%|███       | 310/1000 [13:46<43:15,  3.76s/it]"
     ]
    },
    {
     "name": "stdout",
     "output_type": "stream",
     "text": [
      "\r",
      " Run SAC_Energy_s27, Episode 310, Score: 0.61, Rolling score: 0.69, Max score: 0.79, Max rolling score: 0.73, collisions: 16   "
     ]
    },
    {
     "name": "stderr",
     "output_type": "stream",
     "text": [
      "\r",
      " 31%|███       | 311/1000 [13:49<40:48,  3.55s/it]"
     ]
    },
    {
     "name": "stdout",
     "output_type": "stream",
     "text": [
      "\r",
      " Run SAC_Energy_s27, Episode 311, Score: 0.70, Rolling score: 0.68, Max score: 0.79, Max rolling score: 0.73, collisions: 16   "
     ]
    },
    {
     "name": "stderr",
     "output_type": "stream",
     "text": [
      "\r",
      " 31%|███       | 312/1000 [13:53<43:07,  3.76s/it]"
     ]
    },
    {
     "name": "stdout",
     "output_type": "stream",
     "text": [
      "\r",
      " Run SAC_Energy_s27, Episode 312, Score: 0.57, Rolling score: 0.67, Max score: 0.79, Max rolling score: 0.73, collisions: 16   "
     ]
    },
    {
     "name": "stderr",
     "output_type": "stream",
     "text": [
      "\r",
      " 31%|███▏      | 313/1000 [13:57<41:35,  3.63s/it]"
     ]
    },
    {
     "name": "stdout",
     "output_type": "stream",
     "text": [
      "\r",
      " Run SAC_Energy_s27, Episode 313, Score: 0.67, Rolling score: 0.67, Max score: 0.79, Max rolling score: 0.73, collisions: 16   "
     ]
    },
    {
     "name": "stderr",
     "output_type": "stream",
     "text": [
      "\r",
      " 31%|███▏      | 314/1000 [14:00<39:12,  3.43s/it]"
     ]
    },
    {
     "name": "stdout",
     "output_type": "stream",
     "text": [
      "\r",
      " Run SAC_Energy_s27, Episode 314, Score: 0.74, Rolling score: 0.68, Max score: 0.79, Max rolling score: 0.73, collisions: 16   "
     ]
    },
    {
     "name": "stderr",
     "output_type": "stream",
     "text": [
      "\r",
      " 32%|███▏      | 315/1000 [14:02<35:01,  3.07s/it]"
     ]
    },
    {
     "name": "stdout",
     "output_type": "stream",
     "text": [
      "\r",
      " Run SAC_Energy_s27, Episode 315, Score: 0.73, Rolling score: 0.68, Max score: 0.79, Max rolling score: 0.73, collisions: 16   "
     ]
    },
    {
     "name": "stderr",
     "output_type": "stream",
     "text": [
      "\r",
      " 32%|███▏      | 316/1000 [14:04<33:27,  2.93s/it]"
     ]
    },
    {
     "name": "stdout",
     "output_type": "stream",
     "text": [
      "\r",
      " Run SAC_Energy_s27, Episode 316, Score: 0.71, Rolling score: 0.68, Max score: 0.79, Max rolling score: 0.73, collisions: 16   "
     ]
    },
    {
     "name": "stderr",
     "output_type": "stream",
     "text": [
      "\r",
      " 32%|███▏      | 317/1000 [14:08<34:34,  3.04s/it]"
     ]
    },
    {
     "name": "stdout",
     "output_type": "stream",
     "text": [
      "\r",
      " Run SAC_Energy_s27, Episode 317, Score: 0.71, Rolling score: 0.69, Max score: 0.79, Max rolling score: 0.73, collisions: 16   "
     ]
    },
    {
     "name": "stderr",
     "output_type": "stream",
     "text": [
      "\r",
      " 32%|███▏      | 318/1000 [14:10<31:57,  2.81s/it]"
     ]
    },
    {
     "name": "stdout",
     "output_type": "stream",
     "text": [
      "\r",
      " Run SAC_Energy_s27, Episode 318, Score: 0.72, Rolling score: 0.69, Max score: 0.79, Max rolling score: 0.73, collisions: 16   "
     ]
    },
    {
     "name": "stderr",
     "output_type": "stream",
     "text": [
      "\r",
      " 32%|███▏      | 319/1000 [14:14<36:31,  3.22s/it]"
     ]
    },
    {
     "name": "stdout",
     "output_type": "stream",
     "text": [
      "\r",
      " Run SAC_Energy_s27, Episode 319, Score: 0.63, Rolling score: 0.68, Max score: 0.79, Max rolling score: 0.73, collisions: 16   "
     ]
    },
    {
     "name": "stderr",
     "output_type": "stream",
     "text": [
      "\r",
      " 32%|███▏      | 320/1000 [14:16<33:36,  2.97s/it]"
     ]
    },
    {
     "name": "stdout",
     "output_type": "stream",
     "text": [
      "\r",
      " Run SAC_Energy_s27, Episode 320, Score: 0.70, Rolling score: 0.69, Max score: 0.79, Max rolling score: 0.73, collisions: 16   "
     ]
    },
    {
     "name": "stderr",
     "output_type": "stream",
     "text": [
      "\r",
      " 32%|███▏      | 321/1000 [14:22<41:25,  3.66s/it]"
     ]
    },
    {
     "name": "stdout",
     "output_type": "stream",
     "text": [
      "\r",
      " Run SAC_Energy_s27, Episode 321, Score: 0.68, Rolling score: 0.69, Max score: 0.79, Max rolling score: 0.73, collisions: 16   "
     ]
    },
    {
     "name": "stderr",
     "output_type": "stream",
     "text": [
      "\r",
      " 32%|███▏      | 322/1000 [14:28<48:49,  4.32s/it]"
     ]
    },
    {
     "name": "stdout",
     "output_type": "stream",
     "text": [
      "\r",
      " Run SAC_Energy_s27, Episode 322, Score: 0.61, Rolling score: 0.69, Max score: 0.79, Max rolling score: 0.73, collisions: 16   "
     ]
    },
    {
     "name": "stderr",
     "output_type": "stream",
     "text": [
      "\r",
      " 32%|███▏      | 323/1000 [14:31<46:49,  4.15s/it]"
     ]
    },
    {
     "name": "stdout",
     "output_type": "stream",
     "text": [
      "\r",
      " Run SAC_Energy_s27, Episode 323, Score: 0.69, Rolling score: 0.69, Max score: 0.79, Max rolling score: 0.73, collisions: 16   "
     ]
    },
    {
     "name": "stderr",
     "output_type": "stream",
     "text": [
      "\r",
      " 32%|███▏      | 324/1000 [14:34<40:18,  3.58s/it]"
     ]
    },
    {
     "name": "stdout",
     "output_type": "stream",
     "text": [
      "\r",
      " Run SAC_Energy_s27, Episode 324, Score: 0.70, Rolling score: 0.69, Max score: 0.79, Max rolling score: 0.73, collisions: 16   "
     ]
    },
    {
     "name": "stderr",
     "output_type": "stream",
     "text": [
      "\r",
      " 32%|███▎      | 325/1000 [14:42<56:01,  4.98s/it]"
     ]
    },
    {
     "name": "stdout",
     "output_type": "stream",
     "text": [
      "\r",
      " Run SAC_Energy_s27, Episode 325, Score: 0.64, Rolling score: 0.68, Max score: 0.79, Max rolling score: 0.73, collisions: 16   "
     ]
    },
    {
     "name": "stderr",
     "output_type": "stream",
     "text": [
      "\r",
      " 33%|███▎      | 326/1000 [14:45<49:51,  4.44s/it]"
     ]
    },
    {
     "name": "stdout",
     "output_type": "stream",
     "text": [
      "\r",
      " Run SAC_Energy_s27, Episode 326, Score: 0.67, Rolling score: 0.68, Max score: 0.79, Max rolling score: 0.73, collisions: 16   "
     ]
    },
    {
     "name": "stderr",
     "output_type": "stream",
     "text": [
      "\r",
      " 33%|███▎      | 327/1000 [14:47<42:12,  3.76s/it]"
     ]
    },
    {
     "name": "stdout",
     "output_type": "stream",
     "text": [
      "\r",
      " Run SAC_Energy_s27, Episode 327, Score: 0.71, Rolling score: 0.67, Max score: 0.79, Max rolling score: 0.73, collisions: 16   "
     ]
    },
    {
     "name": "stderr",
     "output_type": "stream",
     "text": [
      "\r",
      " 33%|███▎      | 328/1000 [14:50<37:59,  3.39s/it]"
     ]
    },
    {
     "name": "stdout",
     "output_type": "stream",
     "text": [
      "\r",
      " Run SAC_Energy_s27, Episode 328, Score: 0.71, Rolling score: 0.67, Max score: 0.79, Max rolling score: 0.73, collisions: 16   "
     ]
    },
    {
     "name": "stderr",
     "output_type": "stream",
     "text": [
      "\r",
      " 33%|███▎      | 329/1000 [14:52<34:56,  3.12s/it]"
     ]
    },
    {
     "name": "stdout",
     "output_type": "stream",
     "text": [
      "\r",
      " Run SAC_Energy_s27, Episode 329, Score: 0.73, Rolling score: 0.68, Max score: 0.79, Max rolling score: 0.73, collisions: 16   "
     ]
    },
    {
     "name": "stderr",
     "output_type": "stream",
     "text": [
      "\r",
      " 33%|███▎      | 330/1000 [14:56<37:00,  3.31s/it]"
     ]
    },
    {
     "name": "stdout",
     "output_type": "stream",
     "text": [
      "\r",
      " Run SAC_Energy_s27, Episode 330, Score: 0.67, Rolling score: 0.68, Max score: 0.79, Max rolling score: 0.73, collisions: 16   "
     ]
    },
    {
     "name": "stderr",
     "output_type": "stream",
     "text": [
      "\r",
      " 33%|███▎      | 331/1000 [14:59<35:42,  3.20s/it]"
     ]
    },
    {
     "name": "stdout",
     "output_type": "stream",
     "text": [
      "\r",
      " Run SAC_Energy_s27, Episode 331, Score: 0.73, Rolling score: 0.69, Max score: 0.79, Max rolling score: 0.73, collisions: 16   "
     ]
    },
    {
     "name": "stderr",
     "output_type": "stream",
     "text": [
      "\r",
      " 33%|███▎      | 332/1000 [15:02<36:22,  3.27s/it]"
     ]
    },
    {
     "name": "stdout",
     "output_type": "stream",
     "text": [
      "\r",
      " Run SAC_Energy_s27, Episode 332, Score: 0.79, Rolling score: 0.70, Max score: 0.79, Max rolling score: 0.73, collisions: 16   "
     ]
    },
    {
     "name": "stderr",
     "output_type": "stream",
     "text": [
      "\r",
      " 33%|███▎      | 333/1000 [15:05<34:10,  3.07s/it]"
     ]
    },
    {
     "name": "stdout",
     "output_type": "stream",
     "text": [
      "\r",
      " Run SAC_Energy_s27, Episode 333, Score: 0.60, Rolling score: 0.69, Max score: 0.79, Max rolling score: 0.73, collisions: 16   "
     ]
    },
    {
     "name": "stderr",
     "output_type": "stream",
     "text": [
      "\r",
      " 33%|███▎      | 334/1000 [15:08<32:28,  2.92s/it]"
     ]
    },
    {
     "name": "stdout",
     "output_type": "stream",
     "text": [
      "\r",
      " Run SAC_Energy_s27, Episode 334, Score: 0.60, Rolling score: 0.68, Max score: 0.79, Max rolling score: 0.73, collisions: 16   "
     ]
    },
    {
     "name": "stderr",
     "output_type": "stream",
     "text": [
      "\r",
      " 34%|███▎      | 335/1000 [15:11<32:31,  2.94s/it]"
     ]
    },
    {
     "name": "stdout",
     "output_type": "stream",
     "text": [
      "\r",
      " Run SAC_Energy_s27, Episode 335, Score: 0.68, Rolling score: 0.69, Max score: 0.79, Max rolling score: 0.73, collisions: 16   "
     ]
    },
    {
     "name": "stderr",
     "output_type": "stream",
     "text": [
      "\r",
      " 34%|███▎      | 336/1000 [15:15<37:26,  3.38s/it]"
     ]
    },
    {
     "name": "stdout",
     "output_type": "stream",
     "text": [
      "\r",
      " Run SAC_Energy_s27, Episode 336, Score: 0.62, Rolling score: 0.68, Max score: 0.79, Max rolling score: 0.73, collisions: 16   "
     ]
    },
    {
     "name": "stderr",
     "output_type": "stream",
     "text": [
      "\r",
      " 34%|███▎      | 337/1000 [15:17<34:32,  3.13s/it]"
     ]
    },
    {
     "name": "stdout",
     "output_type": "stream",
     "text": [
      "\r",
      " Run SAC_Energy_s27, Episode 337, Score: 0.55, Rolling score: 0.67, Max score: 0.79, Max rolling score: 0.73, collisions: 16   "
     ]
    },
    {
     "name": "stderr",
     "output_type": "stream",
     "text": [
      "\r",
      " 34%|███▍      | 338/1000 [15:20<31:46,  2.88s/it]"
     ]
    },
    {
     "name": "stdout",
     "output_type": "stream",
     "text": [
      "\r",
      " Run SAC_Energy_s27, Episode 338, Score: 0.75, Rolling score: 0.67, Max score: 0.79, Max rolling score: 0.73, collisions: 16   "
     ]
    },
    {
     "name": "stderr",
     "output_type": "stream",
     "text": [
      "\r",
      " 34%|███▍      | 339/1000 [15:23<33:05,  3.00s/it]"
     ]
    },
    {
     "name": "stdout",
     "output_type": "stream",
     "text": [
      "\r",
      " Run SAC_Energy_s27, Episode 339, Score: 0.64, Rolling score: 0.66, Max score: 0.79, Max rolling score: 0.73, collisions: 16   "
     ]
    },
    {
     "name": "stderr",
     "output_type": "stream",
     "text": [
      "\r",
      " 34%|███▍      | 340/1000 [15:29<42:52,  3.90s/it]"
     ]
    },
    {
     "name": "stdout",
     "output_type": "stream",
     "text": [
      "\r",
      " Run SAC_Energy_s27, Episode 340, Score: 0.71, Rolling score: 0.67, Max score: 0.79, Max rolling score: 0.73, collisions: 16   "
     ]
    },
    {
     "name": "stderr",
     "output_type": "stream",
     "text": [
      "\r",
      " 34%|███▍      | 341/1000 [15:31<37:50,  3.45s/it]"
     ]
    },
    {
     "name": "stdout",
     "output_type": "stream",
     "text": [
      "\r",
      " Run SAC_Energy_s27, Episode 341, Score: 0.49, Rolling score: 0.64, Max score: 0.79, Max rolling score: 0.73, collisions: 16   "
     ]
    },
    {
     "name": "stderr",
     "output_type": "stream",
     "text": [
      "\r",
      " 34%|███▍      | 342/1000 [15:34<34:41,  3.16s/it]"
     ]
    },
    {
     "name": "stdout",
     "output_type": "stream",
     "text": [
      "\r",
      " Run SAC_Energy_s27, Episode 342, Score: 0.70, Rolling score: 0.63, Max score: 0.79, Max rolling score: 0.73, collisions: 16   "
     ]
    },
    {
     "name": "stderr",
     "output_type": "stream",
     "text": [
      "\r",
      " 34%|███▍      | 343/1000 [15:38<36:54,  3.37s/it]"
     ]
    },
    {
     "name": "stdout",
     "output_type": "stream",
     "text": [
      "\r",
      " Run SAC_Energy_s27, Episode 343, Score: 0.70, Rolling score: 0.64, Max score: 0.79, Max rolling score: 0.73, collisions: 16   "
     ]
    },
    {
     "name": "stderr",
     "output_type": "stream",
     "text": [
      "\r",
      " 34%|███▍      | 344/1000 [15:40<33:37,  3.08s/it]"
     ]
    },
    {
     "name": "stdout",
     "output_type": "stream",
     "text": [
      "\r",
      " Run SAC_Energy_s27, Episode 344, Score: 0.66, Rolling score: 0.65, Max score: 0.79, Max rolling score: 0.73, collisions: 16   "
     ]
    },
    {
     "name": "stderr",
     "output_type": "stream",
     "text": [
      "\r",
      " 34%|███▍      | 345/1000 [15:42<30:33,  2.80s/it]"
     ]
    },
    {
     "name": "stdout",
     "output_type": "stream",
     "text": [
      "\r",
      " Run SAC_Energy_s27, Episode 345, Score: 0.71, Rolling score: 0.65, Max score: 0.79, Max rolling score: 0.73, collisions: 16   "
     ]
    },
    {
     "name": "stderr",
     "output_type": "stream",
     "text": [
      "\r",
      " 35%|███▍      | 346/1000 [15:46<33:25,  3.07s/it]"
     ]
    },
    {
     "name": "stdout",
     "output_type": "stream",
     "text": [
      "\r",
      " Run SAC_Energy_s27, Episode 346, Score: 0.66, Rolling score: 0.66, Max score: 0.79, Max rolling score: 0.73, collisions: 16   "
     ]
    },
    {
     "name": "stderr",
     "output_type": "stream",
     "text": [
      "\r",
      " 35%|███▍      | 347/1000 [15:48<30:51,  2.84s/it]"
     ]
    },
    {
     "name": "stdout",
     "output_type": "stream",
     "text": [
      "\r",
      " Run SAC_Energy_s27, Episode 347, Score: 0.71, Rolling score: 0.67, Max score: 0.79, Max rolling score: 0.73, collisions: 16   "
     ]
    },
    {
     "name": "stderr",
     "output_type": "stream",
     "text": [
      "\r",
      " 35%|███▍      | 348/1000 [15:51<30:54,  2.84s/it]"
     ]
    },
    {
     "name": "stdout",
     "output_type": "stream",
     "text": [
      "\r",
      " Run SAC_Energy_s27, Episode 348, Score: 0.71, Rolling score: 0.67, Max score: 0.79, Max rolling score: 0.73, collisions: 16   "
     ]
    },
    {
     "name": "stderr",
     "output_type": "stream",
     "text": [
      "\r",
      " 35%|███▍      | 349/1000 [15:54<29:29,  2.72s/it]"
     ]
    },
    {
     "name": "stdout",
     "output_type": "stream",
     "text": [
      "\r",
      " Run SAC_Energy_s27, Episode 349, Score: 0.74, Rolling score: 0.68, Max score: 0.79, Max rolling score: 0.73, collisions: 16   "
     ]
    },
    {
     "name": "stderr",
     "output_type": "stream",
     "text": [
      "\r",
      " 35%|███▌      | 350/1000 [15:57<31:11,  2.88s/it]"
     ]
    },
    {
     "name": "stdout",
     "output_type": "stream",
     "text": [
      "\r",
      " Run SAC_Energy_s27, Episode 350, Score: 0.63, Rolling score: 0.67, Max score: 0.79, Max rolling score: 0.73, collisions: 16   "
     ]
    },
    {
     "name": "stderr",
     "output_type": "stream",
     "text": [
      "\r",
      " 35%|███▌      | 351/1000 [16:01<36:27,  3.37s/it]"
     ]
    },
    {
     "name": "stdout",
     "output_type": "stream",
     "text": [
      "\r",
      " Run SAC_Energy_s27, Episode 351, Score: 0.68, Rolling score: 0.69, Max score: 0.79, Max rolling score: 0.73, collisions: 16   "
     ]
    },
    {
     "name": "stderr",
     "output_type": "stream",
     "text": [
      "\r",
      " 35%|███▌      | 352/1000 [16:04<34:17,  3.18s/it]"
     ]
    },
    {
     "name": "stdout",
     "output_type": "stream",
     "text": [
      "\r",
      " Run SAC_Energy_s27, Episode 352, Score: 0.60, Rolling score: 0.68, Max score: 0.79, Max rolling score: 0.73, collisions: 16   "
     ]
    },
    {
     "name": "stderr",
     "output_type": "stream",
     "text": [
      "\r",
      " 35%|███▌      | 353/1000 [16:06<31:08,  2.89s/it]"
     ]
    },
    {
     "name": "stdout",
     "output_type": "stream",
     "text": [
      "\r",
      " Run SAC_Energy_s27, Episode 353, Score: 0.60, Rolling score: 0.67, Max score: 0.79, Max rolling score: 0.73, collisions: 16   "
     ]
    },
    {
     "name": "stderr",
     "output_type": "stream",
     "text": [
      "\r",
      " 35%|███▌      | 354/1000 [16:11<36:06,  3.35s/it]"
     ]
    },
    {
     "name": "stdout",
     "output_type": "stream",
     "text": [
      "\r",
      " Run SAC_Energy_s27, Episode 354, Score: 0.67, Rolling score: 0.67, Max score: 0.79, Max rolling score: 0.73, collisions: 16   "
     ]
    },
    {
     "name": "stderr",
     "output_type": "stream",
     "text": [
      "\r",
      " 36%|███▌      | 355/1000 [16:15<39:25,  3.67s/it]"
     ]
    },
    {
     "name": "stdout",
     "output_type": "stream",
     "text": [
      "\r",
      " Run SAC_Energy_s27, Episode 355, Score: 0.64, Rolling score: 0.66, Max score: 0.79, Max rolling score: 0.73, collisions: 16   "
     ]
    },
    {
     "name": "stderr",
     "output_type": "stream",
     "text": [
      "\r",
      " 36%|███▌      | 356/1000 [16:18<36:34,  3.41s/it]"
     ]
    },
    {
     "name": "stdout",
     "output_type": "stream",
     "text": [
      "\r",
      " Run SAC_Energy_s27, Episode 356, Score: 0.57, Rolling score: 0.65, Max score: 0.79, Max rolling score: 0.73, collisions: 16   "
     ]
    },
    {
     "name": "stderr",
     "output_type": "stream",
     "text": [
      "\r",
      " 36%|███▌      | 357/1000 [16:20<33:25,  3.12s/it]"
     ]
    },
    {
     "name": "stdout",
     "output_type": "stream",
     "text": [
      "\r",
      " Run SAC_Energy_s27, Episode 357, Score: 0.67, Rolling score: 0.65, Max score: 0.79, Max rolling score: 0.73, collisions: 16   "
     ]
    },
    {
     "name": "stderr",
     "output_type": "stream",
     "text": [
      "\r",
      " 36%|███▌      | 358/1000 [16:23<33:09,  3.10s/it]"
     ]
    },
    {
     "name": "stdout",
     "output_type": "stream",
     "text": [
      "\r",
      " Run SAC_Energy_s27, Episode 358, Score: 0.67, Rolling score: 0.65, Max score: 0.79, Max rolling score: 0.73, collisions: 16   "
     ]
    },
    {
     "name": "stderr",
     "output_type": "stream",
     "text": [
      "\r",
      " 36%|███▌      | 359/1000 [16:26<32:34,  3.05s/it]"
     ]
    },
    {
     "name": "stdout",
     "output_type": "stream",
     "text": [
      "\r",
      " Run SAC_Energy_s27, Episode 359, Score: 0.54, Rolling score: 0.63, Max score: 0.79, Max rolling score: 0.73, collisions: 16   "
     ]
    },
    {
     "name": "stderr",
     "output_type": "stream",
     "text": [
      "\r",
      " 36%|███▌      | 360/1000 [16:29<29:49,  2.80s/it]"
     ]
    },
    {
     "name": "stdout",
     "output_type": "stream",
     "text": [
      "\r",
      " Run SAC_Energy_s27, Episode 360, Score: 0.57, Rolling score: 0.62, Max score: 0.79, Max rolling score: 0.73, collisions: 16   "
     ]
    },
    {
     "name": "stderr",
     "output_type": "stream",
     "text": [
      "\r",
      " 36%|███▌      | 361/1000 [16:32<30:28,  2.86s/it]"
     ]
    },
    {
     "name": "stdout",
     "output_type": "stream",
     "text": [
      "\r",
      " Run SAC_Energy_s27, Episode 361, Score: 0.65, Rolling score: 0.62, Max score: 0.79, Max rolling score: 0.73, collisions: 16   "
     ]
    },
    {
     "name": "stderr",
     "output_type": "stream",
     "text": [
      "\r",
      " 36%|███▌      | 362/1000 [16:34<29:17,  2.75s/it]"
     ]
    },
    {
     "name": "stdout",
     "output_type": "stream",
     "text": [
      "\r",
      " Run SAC_Energy_s27, Episode 362, Score: 0.62, Rolling score: 0.62, Max score: 0.79, Max rolling score: 0.73, collisions: 16   "
     ]
    },
    {
     "name": "stderr",
     "output_type": "stream",
     "text": [
      "\r",
      " 36%|███▋      | 363/1000 [16:40<38:09,  3.59s/it]"
     ]
    },
    {
     "name": "stdout",
     "output_type": "stream",
     "text": [
      "\r",
      " Run SAC_Energy_s27, Episode 363, Score: 0.53, Rolling score: 0.61, Max score: 0.79, Max rolling score: 0.73, collisions: 16   "
     ]
    },
    {
     "name": "stderr",
     "output_type": "stream",
     "text": [
      "\r",
      " 36%|███▋      | 364/1000 [16:44<39:25,  3.72s/it]"
     ]
    },
    {
     "name": "stdout",
     "output_type": "stream",
     "text": [
      "\r",
      " Run SAC_Energy_s27, Episode 364, Score: 0.63, Rolling score: 0.61, Max score: 0.79, Max rolling score: 0.73, collisions: 16   "
     ]
    },
    {
     "name": "stderr",
     "output_type": "stream",
     "text": [
      "\r",
      " 36%|███▋      | 365/1000 [16:48<40:33,  3.83s/it]"
     ]
    },
    {
     "name": "stdout",
     "output_type": "stream",
     "text": [
      "\r",
      " Run SAC_Energy_s27, Episode 365, Score: 0.55, Rolling score: 0.60, Max score: 0.79, Max rolling score: 0.73, collisions: 16   "
     ]
    },
    {
     "name": "stderr",
     "output_type": "stream",
     "text": [
      "\r",
      " 37%|███▋      | 366/1000 [16:52<43:14,  4.09s/it]"
     ]
    },
    {
     "name": "stdout",
     "output_type": "stream",
     "text": [
      "\r",
      " Run SAC_Energy_s27, Episode 366, Score: 0.64, Rolling score: 0.61, Max score: 0.79, Max rolling score: 0.73, collisions: 16   "
     ]
    },
    {
     "name": "stderr",
     "output_type": "stream",
     "text": [
      "\r",
      " 37%|███▋      | 367/1000 [16:57<43:01,  4.08s/it]"
     ]
    },
    {
     "name": "stdout",
     "output_type": "stream",
     "text": [
      "\r",
      " Run SAC_Energy_s27, Episode 367, Score: 0.62, Rolling score: 0.60, Max score: 0.79, Max rolling score: 0.73, collisions: 16   "
     ]
    },
    {
     "name": "stderr",
     "output_type": "stream",
     "text": [
      "\r",
      " 37%|███▋      | 368/1000 [17:02<45:54,  4.36s/it]"
     ]
    },
    {
     "name": "stdout",
     "output_type": "stream",
     "text": [
      "\r",
      " Run SAC_Energy_s27, Episode 368, Score: 0.59, Rolling score: 0.59, Max score: 0.79, Max rolling score: 0.73, collisions: 16   "
     ]
    },
    {
     "name": "stderr",
     "output_type": "stream",
     "text": [
      "\r",
      " 37%|███▋      | 369/1000 [17:06<45:24,  4.32s/it]"
     ]
    },
    {
     "name": "stdout",
     "output_type": "stream",
     "text": [
      "\r",
      " Run SAC_Energy_s27, Episode 369, Score: 0.63, Rolling score: 0.60, Max score: 0.79, Max rolling score: 0.73, collisions: 16   "
     ]
    },
    {
     "name": "stderr",
     "output_type": "stream",
     "text": [
      "\r",
      " 37%|███▋      | 370/1000 [17:09<43:24,  4.13s/it]"
     ]
    },
    {
     "name": "stdout",
     "output_type": "stream",
     "text": [
      "\r",
      " Run SAC_Energy_s27, Episode 370, Score: 0.65, Rolling score: 0.61, Max score: 0.79, Max rolling score: 0.73, collisions: 16   "
     ]
    },
    {
     "name": "stderr",
     "output_type": "stream",
     "text": [
      "\r",
      " 37%|███▋      | 371/1000 [17:13<41:35,  3.97s/it]"
     ]
    },
    {
     "name": "stdout",
     "output_type": "stream",
     "text": [
      "\r",
      " Run SAC_Energy_s27, Episode 371, Score: 0.66, Rolling score: 0.61, Max score: 0.79, Max rolling score: 0.73, collisions: 16   "
     ]
    },
    {
     "name": "stderr",
     "output_type": "stream",
     "text": [
      "\r",
      " 37%|███▋      | 372/1000 [17:19<48:43,  4.66s/it]"
     ]
    },
    {
     "name": "stdout",
     "output_type": "stream",
     "text": [
      "\r",
      " Run SAC_Energy_s27, Episode 372, Score: 0.61, Rolling score: 0.61, Max score: 0.79, Max rolling score: 0.73, collisions: 16   "
     ]
    },
    {
     "name": "stderr",
     "output_type": "stream",
     "text": [
      "\r",
      " 37%|███▋      | 373/1000 [17:22<44:02,  4.21s/it]"
     ]
    },
    {
     "name": "stdout",
     "output_type": "stream",
     "text": [
      "\r",
      " Run SAC_Energy_s27, Episode 373, Score: 0.59, Rolling score: 0.62, Max score: 0.79, Max rolling score: 0.73, collisions: 16   "
     ]
    },
    {
     "name": "stderr",
     "output_type": "stream",
     "text": [
      "\r",
      " 37%|███▋      | 374/1000 [17:25<39:45,  3.81s/it]"
     ]
    },
    {
     "name": "stdout",
     "output_type": "stream",
     "text": [
      "\r",
      " Run SAC_Energy_s27, Episode 374, Score: 0.57, Rolling score: 0.61, Max score: 0.79, Max rolling score: 0.73, collisions: 16   "
     ]
    },
    {
     "name": "stderr",
     "output_type": "stream",
     "text": [
      "\r",
      " 38%|███▊      | 375/1000 [17:30<41:29,  3.98s/it]"
     ]
    },
    {
     "name": "stdout",
     "output_type": "stream",
     "text": [
      "\r",
      " Run SAC_Energy_s27, Episode 375, Score: 0.61, Rolling score: 0.62, Max score: 0.79, Max rolling score: 0.73, collisions: 16   "
     ]
    },
    {
     "name": "stderr",
     "output_type": "stream",
     "text": [
      "\r",
      " 38%|███▊      | 376/1000 [17:32<36:05,  3.47s/it]"
     ]
    },
    {
     "name": "stdout",
     "output_type": "stream",
     "text": [
      "\r",
      " Run SAC_Energy_s27, Episode 376, Score: 0.64, Rolling score: 0.62, Max score: 0.79, Max rolling score: 0.73, collisions: 16   "
     ]
    },
    {
     "name": "stderr",
     "output_type": "stream",
     "text": [
      "\r",
      " 38%|███▊      | 377/1000 [17:36<37:24,  3.60s/it]"
     ]
    },
    {
     "name": "stdout",
     "output_type": "stream",
     "text": [
      "\r",
      " Run SAC_Energy_s27, Episode 377, Score: 0.69, Rolling score: 0.62, Max score: 0.79, Max rolling score: 0.73, collisions: 16   "
     ]
    },
    {
     "name": "stderr",
     "output_type": "stream",
     "text": [
      "\r",
      " 38%|███▊      | 378/1000 [17:41<40:35,  3.92s/it]"
     ]
    },
    {
     "name": "stdout",
     "output_type": "stream",
     "text": [
      "\r",
      " Run SAC_Energy_s27, Episode 378, Score: 0.71, Rolling score: 0.64, Max score: 0.79, Max rolling score: 0.73, collisions: 16   "
     ]
    },
    {
     "name": "stderr",
     "output_type": "stream",
     "text": [
      "\r",
      " 38%|███▊      | 379/1000 [17:44<38:58,  3.77s/it]"
     ]
    },
    {
     "name": "stdout",
     "output_type": "stream",
     "text": [
      "\r",
      " Run SAC_Energy_s27, Episode 379, Score: 0.70, Rolling score: 0.64, Max score: 0.79, Max rolling score: 0.73, collisions: 16   "
     ]
    },
    {
     "name": "stderr",
     "output_type": "stream",
     "text": [
      "\r",
      " 38%|███▊      | 380/1000 [17:48<38:10,  3.69s/it]"
     ]
    },
    {
     "name": "stdout",
     "output_type": "stream",
     "text": [
      "\r",
      " Run SAC_Energy_s27, Episode 380, Score: 0.67, Rolling score: 0.65, Max score: 0.79, Max rolling score: 0.73, collisions: 16   "
     ]
    },
    {
     "name": "stderr",
     "output_type": "stream",
     "text": [
      "\r",
      " 38%|███▊      | 381/1000 [17:53<42:32,  4.12s/it]"
     ]
    },
    {
     "name": "stdout",
     "output_type": "stream",
     "text": [
      "\r",
      " Run SAC_Energy_s27, Episode 381, Score: 0.60, Rolling score: 0.64, Max score: 0.79, Max rolling score: 0.73, collisions: 16   "
     ]
    },
    {
     "name": "stderr",
     "output_type": "stream",
     "text": [
      "\r",
      " 38%|███▊      | 382/1000 [17:55<36:37,  3.56s/it]"
     ]
    },
    {
     "name": "stdout",
     "output_type": "stream",
     "text": [
      "\r",
      " Run SAC_Energy_s27, Episode 382, Score: 0.61, Rolling score: 0.64, Max score: 0.79, Max rolling score: 0.73, collisions: 16   "
     ]
    },
    {
     "name": "stderr",
     "output_type": "stream",
     "text": [
      "\r",
      " 38%|███▊      | 383/1000 [17:58<34:07,  3.32s/it]"
     ]
    },
    {
     "name": "stdout",
     "output_type": "stream",
     "text": [
      "\r",
      " Run SAC_Energy_s27, Episode 383, Score: 0.66, Rolling score: 0.65, Max score: 0.79, Max rolling score: 0.73, collisions: 16   "
     ]
    },
    {
     "name": "stderr",
     "output_type": "stream",
     "text": [
      "\r",
      " 38%|███▊      | 384/1000 [18:02<37:40,  3.67s/it]"
     ]
    },
    {
     "name": "stdout",
     "output_type": "stream",
     "text": [
      "\r",
      " Run SAC_Energy_s27, Episode 384, Score: 0.62, Rolling score: 0.65, Max score: 0.79, Max rolling score: 0.73, collisions: 16   "
     ]
    },
    {
     "name": "stderr",
     "output_type": "stream",
     "text": [
      "\r",
      " 38%|███▊      | 385/1000 [18:04<33:18,  3.25s/it]"
     ]
    },
    {
     "name": "stdout",
     "output_type": "stream",
     "text": [
      "\r",
      " Run SAC_Energy_s27, Episode 385, Score: 0.60, Rolling score: 0.65, Max score: 0.79, Max rolling score: 0.73, collisions: 16   "
     ]
    },
    {
     "name": "stderr",
     "output_type": "stream",
     "text": [
      "\r",
      " 39%|███▊      | 386/1000 [18:07<31:39,  3.09s/it]"
     ]
    },
    {
     "name": "stdout",
     "output_type": "stream",
     "text": [
      "\r",
      " Run SAC_Energy_s27, Episode 386, Score: 0.58, Rolling score: 0.64, Max score: 0.79, Max rolling score: 0.73, collisions: 16   "
     ]
    },
    {
     "name": "stderr",
     "output_type": "stream",
     "text": [
      "\r",
      " 39%|███▊      | 387/1000 [18:09<29:17,  2.87s/it]"
     ]
    },
    {
     "name": "stdout",
     "output_type": "stream",
     "text": [
      "\r",
      " Run SAC_Energy_s27, Episode 387, Score: 0.61, Rolling score: 0.64, Max score: 0.79, Max rolling score: 0.73, collisions: 16   "
     ]
    },
    {
     "name": "stderr",
     "output_type": "stream",
     "text": [
      "\r",
      " 39%|███▉      | 388/1000 [18:14<33:03,  3.24s/it]"
     ]
    },
    {
     "name": "stdout",
     "output_type": "stream",
     "text": [
      "\r",
      " Run SAC_Energy_s27, Episode 388, Score: 0.78, Rolling score: 0.64, Max score: 0.79, Max rolling score: 0.73, collisions: 16   "
     ]
    },
    {
     "name": "stderr",
     "output_type": "stream",
     "text": [
      "\r",
      " 39%|███▉      | 389/1000 [18:17<33:44,  3.31s/it]"
     ]
    },
    {
     "name": "stdout",
     "output_type": "stream",
     "text": [
      "\r",
      " Run SAC_Energy_s27, Episode 389, Score: 0.77, Rolling score: 0.65, Max score: 0.79, Max rolling score: 0.73, collisions: 16   "
     ]
    },
    {
     "name": "stderr",
     "output_type": "stream",
     "text": [
      "\r",
      " 39%|███▉      | 390/1000 [18:19<30:15,  2.98s/it]"
     ]
    },
    {
     "name": "stdout",
     "output_type": "stream",
     "text": [
      "\r",
      " Run SAC_Energy_s27, Episode 390, Score: 0.60, Rolling score: 0.64, Max score: 0.79, Max rolling score: 0.73, collisions: 16   "
     ]
    },
    {
     "name": "stderr",
     "output_type": "stream",
     "text": [
      "\r",
      " 39%|███▉      | 391/1000 [18:22<30:08,  2.97s/it]"
     ]
    },
    {
     "name": "stdout",
     "output_type": "stream",
     "text": [
      "\r",
      " Run SAC_Energy_s27, Episode 391, Score: 0.65, Rolling score: 0.65, Max score: 0.79, Max rolling score: 0.73, collisions: 16   "
     ]
    },
    {
     "name": "stderr",
     "output_type": "stream",
     "text": [
      "\r",
      " 39%|███▉      | 392/1000 [18:25<29:43,  2.93s/it]"
     ]
    },
    {
     "name": "stdout",
     "output_type": "stream",
     "text": [
      "\r",
      " Run SAC_Energy_s27, Episode 392, Score: 0.68, Rolling score: 0.66, Max score: 0.79, Max rolling score: 0.73, collisions: 16   "
     ]
    },
    {
     "name": "stderr",
     "output_type": "stream",
     "text": [
      "\r",
      " 39%|███▉      | 393/1000 [18:28<29:04,  2.87s/it]"
     ]
    },
    {
     "name": "stdout",
     "output_type": "stream",
     "text": [
      "\r",
      " Run SAC_Energy_s27, Episode 393, Score: 0.75, Rolling score: 0.66, Max score: 0.79, Max rolling score: 0.73, collisions: 16   "
     ]
    },
    {
     "name": "stderr",
     "output_type": "stream",
     "text": [
      "\r",
      " 39%|███▉      | 394/1000 [18:31<29:22,  2.91s/it]"
     ]
    },
    {
     "name": "stdout",
     "output_type": "stream",
     "text": [
      "\r",
      " Run SAC_Energy_s27, Episode 394, Score: 0.68, Rolling score: 0.67, Max score: 0.79, Max rolling score: 0.73, collisions: 16   "
     ]
    },
    {
     "name": "stderr",
     "output_type": "stream",
     "text": [
      "\r",
      " 40%|███▉      | 395/1000 [18:33<28:24,  2.82s/it]"
     ]
    },
    {
     "name": "stdout",
     "output_type": "stream",
     "text": [
      "\r",
      " Run SAC_Energy_s27, Episode 395, Score: 0.64, Rolling score: 0.67, Max score: 0.79, Max rolling score: 0.73, collisions: 16   "
     ]
    },
    {
     "name": "stderr",
     "output_type": "stream",
     "text": [
      "\r",
      " 40%|███▉      | 396/1000 [18:36<27:14,  2.71s/it]"
     ]
    },
    {
     "name": "stdout",
     "output_type": "stream",
     "text": [
      "\r",
      " Run SAC_Energy_s27, Episode 396, Score: 0.56, Rolling score: 0.67, Max score: 0.79, Max rolling score: 0.73, collisions: 16   "
     ]
    },
    {
     "name": "stderr",
     "output_type": "stream",
     "text": [
      "\r",
      " 40%|███▉      | 397/1000 [18:38<25:50,  2.57s/it]"
     ]
    },
    {
     "name": "stdout",
     "output_type": "stream",
     "text": [
      "\r",
      " Run SAC_Energy_s27, Episode 397, Score: 0.70, Rolling score: 0.68, Max score: 0.79, Max rolling score: 0.73, collisions: 16   "
     ]
    },
    {
     "name": "stderr",
     "output_type": "stream",
     "text": [
      "\r",
      " 40%|███▉      | 398/1000 [18:43<31:24,  3.13s/it]"
     ]
    },
    {
     "name": "stdout",
     "output_type": "stream",
     "text": [
      "\r",
      " Run SAC_Energy_s27, Episode 398, Score: 0.69, Rolling score: 0.67, Max score: 0.79, Max rolling score: 0.73, collisions: 16   "
     ]
    },
    {
     "name": "stderr",
     "output_type": "stream",
     "text": [
      "\r",
      " 40%|███▉      | 399/1000 [18:45<30:23,  3.03s/it]"
     ]
    },
    {
     "name": "stdout",
     "output_type": "stream",
     "text": [
      "\r",
      " Run SAC_Energy_s27, Episode 399, Score: 0.72, Rolling score: 0.67, Max score: 0.79, Max rolling score: 0.73, collisions: 16   "
     ]
    },
    {
     "name": "stderr",
     "output_type": "stream",
     "text": [
      "\r",
      " 40%|████      | 400/1000 [18:50<35:30,  3.55s/it]"
     ]
    },
    {
     "name": "stdout",
     "output_type": "stream",
     "text": [
      "\r",
      " Run SAC_Energy_s27, Episode 400, Score: 0.77, Rolling score: 0.68, Max score: 0.79, Max rolling score: 0.73, collisions: 16   "
     ]
    },
    {
     "name": "stderr",
     "output_type": "stream",
     "text": [
      "\r",
      " 40%|████      | 401/1000 [18:53<34:43,  3.48s/it]"
     ]
    },
    {
     "name": "stdout",
     "output_type": "stream",
     "text": [
      "\r",
      " Run SAC_Energy_s27, Episode 401, Score: 0.65, Rolling score: 0.68, Max score: 0.79, Max rolling score: 0.73, collisions: 16   "
     ]
    },
    {
     "name": "stderr",
     "output_type": "stream",
     "text": [
      "\r",
      " 40%|████      | 402/1000 [18:58<38:21,  3.85s/it]"
     ]
    },
    {
     "name": "stdout",
     "output_type": "stream",
     "text": [
      "\r",
      " Run SAC_Energy_s27, Episode 402, Score: 0.69, Rolling score: 0.68, Max score: 0.79, Max rolling score: 0.73, collisions: 16   "
     ]
    },
    {
     "name": "stderr",
     "output_type": "stream",
     "text": [
      "\r",
      " 40%|████      | 403/1000 [19:05<47:57,  4.82s/it]"
     ]
    },
    {
     "name": "stdout",
     "output_type": "stream",
     "text": [
      "\r",
      " Run SAC_Energy_s27, Episode 403, Score: 0.66, Rolling score: 0.67, Max score: 0.79, Max rolling score: 0.73, collisions: 16   "
     ]
    },
    {
     "name": "stderr",
     "output_type": "stream",
     "text": [
      "\r",
      " 40%|████      | 404/1000 [19:11<49:27,  4.98s/it]"
     ]
    },
    {
     "name": "stdout",
     "output_type": "stream",
     "text": [
      "\r",
      " Run SAC_Energy_s27, Episode 404, Score: 0.56, Rolling score: 0.66, Max score: 0.79, Max rolling score: 0.73, collisions: 16   "
     ]
    },
    {
     "name": "stderr",
     "output_type": "stream",
     "text": [
      "\r",
      " 40%|████      | 405/1000 [19:15<47:57,  4.84s/it]"
     ]
    },
    {
     "name": "stdout",
     "output_type": "stream",
     "text": [
      "\r",
      " Run SAC_Energy_s27, Episode 405, Score: 0.65, Rolling score: 0.66, Max score: 0.79, Max rolling score: 0.73, collisions: 16   "
     ]
    },
    {
     "name": "stderr",
     "output_type": "stream",
     "text": [
      "\r",
      " 41%|████      | 406/1000 [19:19<44:19,  4.48s/it]"
     ]
    },
    {
     "name": "stdout",
     "output_type": "stream",
     "text": [
      "\r",
      " Run SAC_Energy_s27, Episode 406, Score: 0.68, Rolling score: 0.67, Max score: 0.79, Max rolling score: 0.73, collisions: 16   "
     ]
    },
    {
     "name": "stderr",
     "output_type": "stream",
     "text": [
      "\r",
      " 41%|████      | 407/1000 [19:25<48:50,  4.94s/it]"
     ]
    },
    {
     "name": "stdout",
     "output_type": "stream",
     "text": [
      "\r",
      " Run SAC_Energy_s27, Episode 407, Score: 0.66, Rolling score: 0.67, Max score: 0.79, Max rolling score: 0.73, collisions: 16   "
     ]
    },
    {
     "name": "stderr",
     "output_type": "stream",
     "text": [
      "\r",
      " 41%|████      | 408/1000 [19:27<41:31,  4.21s/it]"
     ]
    },
    {
     "name": "stdout",
     "output_type": "stream",
     "text": [
      "\r",
      " Run SAC_Energy_s27, Episode 408, Score: 0.70, Rolling score: 0.67, Max score: 0.79, Max rolling score: 0.73, collisions: 16   "
     ]
    },
    {
     "name": "stderr",
     "output_type": "stream",
     "text": [
      "\r",
      " 41%|████      | 409/1000 [19:31<41:12,  4.18s/it]"
     ]
    },
    {
     "name": "stdout",
     "output_type": "stream",
     "text": [
      "\r",
      " Run SAC_Energy_s27, Episode 409, Score: 0.64, Rolling score: 0.66, Max score: 0.79, Max rolling score: 0.73, collisions: 16   "
     ]
    },
    {
     "name": "stderr",
     "output_type": "stream",
     "text": [
      "\r",
      " 41%|████      | 410/1000 [19:34<36:20,  3.70s/it]"
     ]
    },
    {
     "name": "stdout",
     "output_type": "stream",
     "text": [
      "\r",
      " Run SAC_Energy_s27, Episode 410, Score: 0.65, Rolling score: 0.65, Max score: 0.79, Max rolling score: 0.73, collisions: 16   "
     ]
    },
    {
     "name": "stderr",
     "output_type": "stream",
     "text": [
      "\r",
      " 41%|████      | 411/1000 [19:37<35:56,  3.66s/it]"
     ]
    },
    {
     "name": "stdout",
     "output_type": "stream",
     "text": [
      "\r",
      " Run SAC_Energy_s27, Episode 411, Score: 0.65, Rolling score: 0.65, Max score: 0.79, Max rolling score: 0.73, collisions: 16   "
     ]
    },
    {
     "name": "stderr",
     "output_type": "stream",
     "text": [
      "\r",
      " 41%|████      | 412/1000 [19:41<35:34,  3.63s/it]"
     ]
    },
    {
     "name": "stdout",
     "output_type": "stream",
     "text": [
      "\r",
      " Run SAC_Energy_s27, Episode 412, Score: 0.65, Rolling score: 0.65, Max score: 0.79, Max rolling score: 0.73, collisions: 16   "
     ]
    },
    {
     "name": "stderr",
     "output_type": "stream",
     "text": [
      "\r",
      " 41%|████▏     | 413/1000 [19:45<35:06,  3.59s/it]"
     ]
    },
    {
     "name": "stdout",
     "output_type": "stream",
     "text": [
      "\r",
      " Run SAC_Energy_s27, Episode 413, Score: 0.65, Rolling score: 0.65, Max score: 0.79, Max rolling score: 0.73, collisions: 16   "
     ]
    },
    {
     "name": "stderr",
     "output_type": "stream",
     "text": [
      "\r",
      " 41%|████▏     | 414/1000 [19:53<49:01,  5.02s/it]"
     ]
    },
    {
     "name": "stdout",
     "output_type": "stream",
     "text": [
      "\r",
      " Run SAC_Energy_s27, Episode 414, Score: 0.69, Rolling score: 0.66, Max score: 0.79, Max rolling score: 0.73, collisions: 16   "
     ]
    },
    {
     "name": "stderr",
     "output_type": "stream",
     "text": [
      "\r",
      " 42%|████▏     | 415/1000 [19:58<49:20,  5.06s/it]"
     ]
    },
    {
     "name": "stdout",
     "output_type": "stream",
     "text": [
      "\r",
      " Run SAC_Energy_s27, Episode 415, Score: 0.70, Rolling score: 0.67, Max score: 0.79, Max rolling score: 0.73, collisions: 16   "
     ]
    },
    {
     "name": "stderr",
     "output_type": "stream",
     "text": [
      "\r",
      " 42%|████▏     | 416/1000 [20:00<41:31,  4.27s/it]"
     ]
    },
    {
     "name": "stdout",
     "output_type": "stream",
     "text": [
      "\r",
      " Run SAC_Energy_s27, Episode 416, Score: 0.67, Rolling score: 0.67, Max score: 0.79, Max rolling score: 0.73, collisions: 16   "
     ]
    },
    {
     "name": "stderr",
     "output_type": "stream",
     "text": [
      "\r",
      " 42%|████▏     | 417/1000 [20:05<41:16,  4.25s/it]"
     ]
    },
    {
     "name": "stdout",
     "output_type": "stream",
     "text": [
      "\r",
      " Run SAC_Energy_s27, Episode 417, Score: 0.69, Rolling score: 0.67, Max score: 0.79, Max rolling score: 0.73, collisions: 16   "
     ]
    },
    {
     "name": "stderr",
     "output_type": "stream",
     "text": [
      "\r",
      " 42%|████▏     | 418/1000 [20:07<36:55,  3.81s/it]"
     ]
    },
    {
     "name": "stdout",
     "output_type": "stream",
     "text": [
      "\r",
      " Run SAC_Energy_s27, Episode 418, Score: 0.72, Rolling score: 0.67, Max score: 0.79, Max rolling score: 0.73, collisions: 16   "
     ]
    },
    {
     "name": "stderr",
     "output_type": "stream",
     "text": [
      "\r",
      " 42%|████▏     | 419/1000 [20:10<33:25,  3.45s/it]"
     ]
    },
    {
     "name": "stdout",
     "output_type": "stream",
     "text": [
      "\r",
      " Run SAC_Energy_s27, Episode 419, Score: 0.70, Rolling score: 0.68, Max score: 0.79, Max rolling score: 0.73, collisions: 16   "
     ]
    },
    {
     "name": "stderr",
     "output_type": "stream",
     "text": [
      "\r",
      " 42%|████▏     | 420/1000 [20:13<31:28,  3.26s/it]"
     ]
    },
    {
     "name": "stdout",
     "output_type": "stream",
     "text": [
      "\r",
      " Run SAC_Energy_s27, Episode 420, Score: 0.66, Rolling score: 0.68, Max score: 0.79, Max rolling score: 0.73, collisions: 16   "
     ]
    },
    {
     "name": "stderr",
     "output_type": "stream",
     "text": [
      "\r",
      " 42%|████▏     | 421/1000 [20:16<32:20,  3.35s/it]"
     ]
    },
    {
     "name": "stdout",
     "output_type": "stream",
     "text": [
      "\r",
      " Run SAC_Energy_s27, Episode 421, Score: 0.68, Rolling score: 0.68, Max score: 0.79, Max rolling score: 0.73, collisions: 16   "
     ]
    },
    {
     "name": "stderr",
     "output_type": "stream",
     "text": [
      "\r",
      " 42%|████▏     | 422/1000 [20:24<44:49,  4.65s/it]"
     ]
    },
    {
     "name": "stdout",
     "output_type": "stream",
     "text": [
      "\r",
      " Run SAC_Energy_s27, Episode 422, Score: 0.63, Rolling score: 0.68, Max score: 0.79, Max rolling score: 0.73, collisions: 16   "
     ]
    },
    {
     "name": "stderr",
     "output_type": "stream",
     "text": [
      "\r",
      " 42%|████▏     | 423/1000 [20:28<42:00,  4.37s/it]"
     ]
    },
    {
     "name": "stdout",
     "output_type": "stream",
     "text": [
      "\r",
      " Run SAC_Energy_s27, Episode 423, Score: 0.71, Rolling score: 0.69, Max score: 0.79, Max rolling score: 0.73, collisions: 16   "
     ]
    },
    {
     "name": "stderr",
     "output_type": "stream",
     "text": [
      "\r",
      " 42%|████▏     | 424/1000 [20:32<42:28,  4.42s/it]"
     ]
    },
    {
     "name": "stdout",
     "output_type": "stream",
     "text": [
      "\r",
      " Run SAC_Energy_s27, Episode 424, Score: 0.69, Rolling score: 0.69, Max score: 0.79, Max rolling score: 0.73, collisions: 16   "
     ]
    },
    {
     "name": "stderr",
     "output_type": "stream",
     "text": [
      "\r",
      " 42%|████▎     | 425/1000 [20:37<42:02,  4.39s/it]"
     ]
    },
    {
     "name": "stdout",
     "output_type": "stream",
     "text": [
      "\r",
      " Run SAC_Energy_s27, Episode 425, Score: 0.69, Rolling score: 0.68, Max score: 0.79, Max rolling score: 0.73, collisions: 16   "
     ]
    },
    {
     "name": "stderr",
     "output_type": "stream",
     "text": [
      "\r",
      " 43%|████▎     | 426/1000 [20:41<40:23,  4.22s/it]"
     ]
    },
    {
     "name": "stdout",
     "output_type": "stream",
     "text": [
      "\r",
      " Run SAC_Energy_s27, Episode 426, Score: 0.71, Rolling score: 0.69, Max score: 0.79, Max rolling score: 0.73, collisions: 16   "
     ]
    },
    {
     "name": "stderr",
     "output_type": "stream",
     "text": [
      "\r",
      " 43%|████▎     | 427/1000 [20:43<36:24,  3.81s/it]"
     ]
    },
    {
     "name": "stdout",
     "output_type": "stream",
     "text": [
      "\r",
      " Run SAC_Energy_s27, Episode 427, Score: 0.66, Rolling score: 0.68, Max score: 0.79, Max rolling score: 0.73, collisions: 16   "
     ]
    },
    {
     "name": "stderr",
     "output_type": "stream",
     "text": [
      "\r",
      " 43%|████▎     | 428/1000 [20:48<37:54,  3.98s/it]"
     ]
    },
    {
     "name": "stdout",
     "output_type": "stream",
     "text": [
      "\r",
      " Run SAC_Energy_s27, Episode 428, Score: 0.71, Rolling score: 0.68, Max score: 0.79, Max rolling score: 0.73, collisions: 16   "
     ]
    },
    {
     "name": "stderr",
     "output_type": "stream",
     "text": [
      "\r",
      " 43%|████▎     | 429/1000 [20:51<34:59,  3.68s/it]"
     ]
    },
    {
     "name": "stdout",
     "output_type": "stream",
     "text": [
      "\r",
      " Run SAC_Energy_s27, Episode 429, Score: 0.69, Rolling score: 0.68, Max score: 0.79, Max rolling score: 0.73, collisions: 16   "
     ]
    },
    {
     "name": "stderr",
     "output_type": "stream",
     "text": [
      "\r",
      " 43%|████▎     | 430/1000 [20:55<36:21,  3.83s/it]"
     ]
    },
    {
     "name": "stdout",
     "output_type": "stream",
     "text": [
      "\r",
      " Run SAC_Energy_s27, Episode 430, Score: 0.70, Rolling score: 0.69, Max score: 0.79, Max rolling score: 0.73, collisions: 16   "
     ]
    },
    {
     "name": "stderr",
     "output_type": "stream",
     "text": [
      "\r",
      " 43%|████▎     | 431/1000 [20:57<32:27,  3.42s/it]"
     ]
    },
    {
     "name": "stdout",
     "output_type": "stream",
     "text": [
      "\r",
      " Run SAC_Energy_s27, Episode 431, Score: 0.67, Rolling score: 0.69, Max score: 0.79, Max rolling score: 0.73, collisions: 16   "
     ]
    },
    {
     "name": "stderr",
     "output_type": "stream",
     "text": [
      "\r",
      " 43%|████▎     | 432/1000 [21:00<29:52,  3.16s/it]"
     ]
    },
    {
     "name": "stdout",
     "output_type": "stream",
     "text": [
      "\r",
      " Run SAC_Energy_s27, Episode 432, Score: 0.71, Rolling score: 0.69, Max score: 0.79, Max rolling score: 0.73, collisions: 16   "
     ]
    },
    {
     "name": "stderr",
     "output_type": "stream",
     "text": [
      "\r",
      " 43%|████▎     | 433/1000 [21:03<28:59,  3.07s/it]"
     ]
    },
    {
     "name": "stdout",
     "output_type": "stream",
     "text": [
      "\r",
      " Run SAC_Energy_s27, Episode 433, Score: 0.69, Rolling score: 0.69, Max score: 0.79, Max rolling score: 0.73, collisions: 16   "
     ]
    },
    {
     "name": "stderr",
     "output_type": "stream",
     "text": [
      "\r",
      " 43%|████▎     | 434/1000 [21:05<26:38,  2.82s/it]"
     ]
    },
    {
     "name": "stdout",
     "output_type": "stream",
     "text": [
      "\r",
      " Run SAC_Energy_s27, Episode 434, Score: 0.72, Rolling score: 0.69, Max score: 0.79, Max rolling score: 0.73, collisions: 16   "
     ]
    },
    {
     "name": "stderr",
     "output_type": "stream",
     "text": [
      "\r",
      " 44%|████▎     | 435/1000 [21:09<30:16,  3.22s/it]"
     ]
    },
    {
     "name": "stdout",
     "output_type": "stream",
     "text": [
      "\r",
      " Run SAC_Energy_s27, Episode 435, Score: 0.72, Rolling score: 0.70, Max score: 0.79, Max rolling score: 0.73, collisions: 16   "
     ]
    },
    {
     "name": "stderr",
     "output_type": "stream",
     "text": [
      "\r",
      " 44%|████▎     | 436/1000 [21:13<32:12,  3.43s/it]"
     ]
    },
    {
     "name": "stdout",
     "output_type": "stream",
     "text": [
      "\r",
      " Run SAC_Energy_s27, Episode 436, Score: 0.73, Rolling score: 0.70, Max score: 0.79, Max rolling score: 0.73, collisions: 16   "
     ]
    },
    {
     "name": "stderr",
     "output_type": "stream",
     "text": [
      "\r",
      " 44%|████▎     | 437/1000 [21:19<39:08,  4.17s/it]"
     ]
    },
    {
     "name": "stdout",
     "output_type": "stream",
     "text": [
      "\r",
      " Run SAC_Energy_s27, Episode 437, Score: 0.72, Rolling score: 0.71, Max score: 0.79, Max rolling score: 0.73, collisions: 16   "
     ]
    },
    {
     "name": "stderr",
     "output_type": "stream",
     "text": [
      "\r",
      " 44%|████▍     | 438/1000 [21:22<35:41,  3.81s/it]"
     ]
    },
    {
     "name": "stdout",
     "output_type": "stream",
     "text": [
      "\r",
      " Run SAC_Energy_s27, Episode 438, Score: 0.73, Rolling score: 0.71, Max score: 0.79, Max rolling score: 0.73, collisions: 16   "
     ]
    },
    {
     "name": "stderr",
     "output_type": "stream",
     "text": [
      "\r",
      " 44%|████▍     | 439/1000 [21:26<35:09,  3.76s/it]"
     ]
    },
    {
     "name": "stdout",
     "output_type": "stream",
     "text": [
      "\r",
      " Run SAC_Energy_s27, Episode 439, Score: 0.72, Rolling score: 0.71, Max score: 0.79, Max rolling score: 0.73, collisions: 16   "
     ]
    },
    {
     "name": "stderr",
     "output_type": "stream",
     "text": [
      "\r",
      " 44%|████▍     | 440/1000 [21:29<34:17,  3.67s/it]"
     ]
    },
    {
     "name": "stdout",
     "output_type": "stream",
     "text": [
      "\r",
      " Run SAC_Energy_s27, Episode 440, Score: 0.67, Rolling score: 0.71, Max score: 0.79, Max rolling score: 0.73, collisions: 16   "
     ]
    },
    {
     "name": "stderr",
     "output_type": "stream",
     "text": [
      "\r",
      " 44%|████▍     | 441/1000 [21:32<30:47,  3.31s/it]"
     ]
    },
    {
     "name": "stdout",
     "output_type": "stream",
     "text": [
      "\r",
      " Run SAC_Energy_s27, Episode 441, Score: 0.69, Rolling score: 0.71, Max score: 0.79, Max rolling score: 0.73, collisions: 16   "
     ]
    },
    {
     "name": "stderr",
     "output_type": "stream",
     "text": [
      "\r",
      " 44%|████▍     | 442/1000 [21:34<28:32,  3.07s/it]"
     ]
    },
    {
     "name": "stdout",
     "output_type": "stream",
     "text": [
      "\r",
      " Run SAC_Energy_s27, Episode 442, Score: 0.69, Rolling score: 0.71, Max score: 0.79, Max rolling score: 0.73, collisions: 16   "
     ]
    },
    {
     "name": "stderr",
     "output_type": "stream",
     "text": [
      "\r",
      " 44%|████▍     | 443/1000 [21:37<29:25,  3.17s/it]"
     ]
    },
    {
     "name": "stdout",
     "output_type": "stream",
     "text": [
      "\r",
      " Run SAC_Energy_s27, Episode 443, Score: 0.70, Rolling score: 0.71, Max score: 0.79, Max rolling score: 0.73, collisions: 16   "
     ]
    },
    {
     "name": "stderr",
     "output_type": "stream",
     "text": [
      "\r",
      " 44%|████▍     | 444/1000 [21:40<27:45,  3.00s/it]"
     ]
    },
    {
     "name": "stdout",
     "output_type": "stream",
     "text": [
      "\r",
      " Run SAC_Energy_s27, Episode 444, Score: 0.69, Rolling score: 0.71, Max score: 0.79, Max rolling score: 0.73, collisions: 16   "
     ]
    },
    {
     "name": "stderr",
     "output_type": "stream",
     "text": [
      "\r",
      " 44%|████▍     | 445/1000 [21:43<26:17,  2.84s/it]"
     ]
    },
    {
     "name": "stdout",
     "output_type": "stream",
     "text": [
      "\r",
      " Run SAC_Energy_s27, Episode 445, Score: 0.79, Rolling score: 0.71, Max score: 0.79, Max rolling score: 0.73, collisions: 16   "
     ]
    },
    {
     "name": "stderr",
     "output_type": "stream",
     "text": [
      "\r",
      " 45%|████▍     | 446/1000 [21:45<25:45,  2.79s/it]"
     ]
    },
    {
     "name": "stdout",
     "output_type": "stream",
     "text": [
      "\r",
      " Run SAC_Energy_s27, Episode 446, Score: 0.69, Rolling score: 0.71, Max score: 0.79, Max rolling score: 0.73, collisions: 16   "
     ]
    },
    {
     "name": "stderr",
     "output_type": "stream",
     "text": [
      "\r",
      " 45%|████▍     | 447/1000 [21:48<27:08,  2.94s/it]"
     ]
    },
    {
     "name": "stdout",
     "output_type": "stream",
     "text": [
      "\r",
      " Run SAC_Energy_s27, Episode 447, Score: 0.68, Rolling score: 0.70, Max score: 0.79, Max rolling score: 0.73, collisions: 16   "
     ]
    },
    {
     "name": "stderr",
     "output_type": "stream",
     "text": [
      "\r",
      " 45%|████▍     | 448/1000 [21:51<26:53,  2.92s/it]"
     ]
    },
    {
     "name": "stdout",
     "output_type": "stream",
     "text": [
      "\r",
      " Run SAC_Energy_s27, Episode 448, Score: 0.73, Rolling score: 0.70, Max score: 0.79, Max rolling score: 0.73, collisions: 16   "
     ]
    },
    {
     "name": "stderr",
     "output_type": "stream",
     "text": [
      "\r",
      " 45%|████▍     | 449/1000 [21:54<26:34,  2.89s/it]"
     ]
    },
    {
     "name": "stdout",
     "output_type": "stream",
     "text": [
      "\r",
      " Run SAC_Energy_s27, Episode 449, Score: 0.73, Rolling score: 0.71, Max score: 0.79, Max rolling score: 0.73, collisions: 16   "
     ]
    },
    {
     "name": "stderr",
     "output_type": "stream",
     "text": [
      "\r",
      " 45%|████▌     | 450/1000 [21:57<27:35,  3.01s/it]"
     ]
    },
    {
     "name": "stdout",
     "output_type": "stream",
     "text": [
      "\r",
      " Run SAC_Energy_s27, Episode 450, Score: 0.71, Rolling score: 0.71, Max score: 0.79, Max rolling score: 0.73, collisions: 16   "
     ]
    },
    {
     "name": "stderr",
     "output_type": "stream",
     "text": [
      "\r",
      " 45%|████▌     | 451/1000 [22:02<31:43,  3.47s/it]"
     ]
    },
    {
     "name": "stdout",
     "output_type": "stream",
     "text": [
      "\r",
      " Run SAC_Energy_s27, Episode 451, Score: 0.69, Rolling score: 0.71, Max score: 0.79, Max rolling score: 0.73, collisions: 16   "
     ]
    },
    {
     "name": "stderr",
     "output_type": "stream",
     "text": [
      "\r",
      " 45%|████▌     | 452/1000 [22:07<36:23,  3.98s/it]"
     ]
    },
    {
     "name": "stdout",
     "output_type": "stream",
     "text": [
      "\r",
      " Run SAC_Energy_s27, Episode 452, Score: 0.66, Rolling score: 0.71, Max score: 0.79, Max rolling score: 0.73, collisions: 16   "
     ]
    },
    {
     "name": "stderr",
     "output_type": "stream",
     "text": [
      "\r",
      " 45%|████▌     | 453/1000 [22:10<33:26,  3.67s/it]"
     ]
    },
    {
     "name": "stdout",
     "output_type": "stream",
     "text": [
      "\r",
      " Run SAC_Energy_s27, Episode 453, Score: 0.71, Rolling score: 0.71, Max score: 0.79, Max rolling score: 0.73, collisions: 16   "
     ]
    },
    {
     "name": "stderr",
     "output_type": "stream",
     "text": [
      "\r",
      " 45%|████▌     | 454/1000 [22:13<31:28,  3.46s/it]"
     ]
    },
    {
     "name": "stdout",
     "output_type": "stream",
     "text": [
      "\r",
      " Run SAC_Energy_s27, Episode 454, Score: 0.73, Rolling score: 0.71, Max score: 0.79, Max rolling score: 0.73, collisions: 16   "
     ]
    },
    {
     "name": "stderr",
     "output_type": "stream",
     "text": [
      "\r",
      " 46%|████▌     | 455/1000 [22:18<35:17,  3.88s/it]"
     ]
    },
    {
     "name": "stdout",
     "output_type": "stream",
     "text": [
      "\r",
      " Run SAC_Energy_s27, Episode 455, Score: 0.72, Rolling score: 0.71, Max score: 0.79, Max rolling score: 0.73, collisions: 16   "
     ]
    },
    {
     "name": "stderr",
     "output_type": "stream",
     "text": [
      "\r",
      " 46%|████▌     | 456/1000 [22:23<37:21,  4.12s/it]"
     ]
    },
    {
     "name": "stdout",
     "output_type": "stream",
     "text": [
      "\r",
      " Run SAC_Energy_s27, Episode 456, Score: 0.71, Rolling score: 0.71, Max score: 0.79, Max rolling score: 0.73, collisions: 16   "
     ]
    },
    {
     "name": "stderr",
     "output_type": "stream",
     "text": [
      "\r",
      " 46%|████▌     | 457/1000 [22:26<36:18,  4.01s/it]"
     ]
    },
    {
     "name": "stdout",
     "output_type": "stream",
     "text": [
      "\r",
      " Run SAC_Energy_s27, Episode 457, Score: 0.69, Rolling score: 0.71, Max score: 0.79, Max rolling score: 0.73, collisions: 16   "
     ]
    },
    {
     "name": "stderr",
     "output_type": "stream",
     "text": [
      "\r",
      " 46%|████▌     | 458/1000 [22:29<31:35,  3.50s/it]"
     ]
    },
    {
     "name": "stdout",
     "output_type": "stream",
     "text": [
      "\r",
      " Run SAC_Energy_s27, Episode 458, Score: 0.70, Rolling score: 0.70, Max score: 0.79, Max rolling score: 0.73, collisions: 16   "
     ]
    },
    {
     "name": "stderr",
     "output_type": "stream",
     "text": [
      "\r",
      " 46%|████▌     | 459/1000 [22:32<30:37,  3.40s/it]"
     ]
    },
    {
     "name": "stdout",
     "output_type": "stream",
     "text": [
      "\r",
      " Run SAC_Energy_s27, Episode 459, Score: 0.67, Rolling score: 0.70, Max score: 0.79, Max rolling score: 0.73, collisions: 16   "
     ]
    },
    {
     "name": "stderr",
     "output_type": "stream",
     "text": [
      "\r",
      " 46%|████▌     | 460/1000 [22:35<28:34,  3.18s/it]"
     ]
    },
    {
     "name": "stdout",
     "output_type": "stream",
     "text": [
      "\r",
      " Run SAC_Energy_s27, Episode 460, Score: 0.69, Rolling score: 0.70, Max score: 0.79, Max rolling score: 0.73, collisions: 16   "
     ]
    },
    {
     "name": "stderr",
     "output_type": "stream",
     "text": [
      "\r",
      " 46%|████▌     | 461/1000 [22:39<32:47,  3.65s/it]"
     ]
    },
    {
     "name": "stdout",
     "output_type": "stream",
     "text": [
      "\r",
      " Run SAC_Energy_s27, Episode 461, Score: 0.73, Rolling score: 0.70, Max score: 0.79, Max rolling score: 0.73, collisions: 16   "
     ]
    },
    {
     "name": "stderr",
     "output_type": "stream",
     "text": [
      "\r",
      " 46%|████▌     | 462/1000 [22:42<29:44,  3.32s/it]"
     ]
    },
    {
     "name": "stdout",
     "output_type": "stream",
     "text": [
      "\r",
      " Run SAC_Energy_s27, Episode 462, Score: 0.72, Rolling score: 0.71, Max score: 0.79, Max rolling score: 0.73, collisions: 16   "
     ]
    },
    {
     "name": "stderr",
     "output_type": "stream",
     "text": [
      "\r",
      " 46%|████▋     | 463/1000 [22:45<29:07,  3.25s/it]"
     ]
    },
    {
     "name": "stdout",
     "output_type": "stream",
     "text": [
      "\r",
      " Run SAC_Energy_s27, Episode 463, Score: 0.70, Rolling score: 0.71, Max score: 0.79, Max rolling score: 0.73, collisions: 16   "
     ]
    },
    {
     "name": "stderr",
     "output_type": "stream",
     "text": [
      "\r",
      " 46%|████▋     | 464/1000 [22:52<38:17,  4.29s/it]"
     ]
    },
    {
     "name": "stdout",
     "output_type": "stream",
     "text": [
      "\r",
      " Run SAC_Energy_s27, Episode 464, Score: 0.73, Rolling score: 0.71, Max score: 0.79, Max rolling score: 0.73, collisions: 16   "
     ]
    },
    {
     "name": "stderr",
     "output_type": "stream",
     "text": [
      "\r",
      " 46%|████▋     | 465/1000 [22:56<38:11,  4.28s/it]"
     ]
    },
    {
     "name": "stdout",
     "output_type": "stream",
     "text": [
      "\r",
      " Run SAC_Energy_s27, Episode 465, Score: 0.72, Rolling score: 0.71, Max score: 0.79, Max rolling score: 0.73, collisions: 16   "
     ]
    },
    {
     "name": "stderr",
     "output_type": "stream",
     "text": [
      "\r",
      " 47%|████▋     | 466/1000 [23:00<37:38,  4.23s/it]"
     ]
    },
    {
     "name": "stdout",
     "output_type": "stream",
     "text": [
      "\r",
      " Run SAC_Energy_s27, Episode 466, Score: 0.65, Rolling score: 0.70, Max score: 0.79, Max rolling score: 0.73, collisions: 16   "
     ]
    },
    {
     "name": "stderr",
     "output_type": "stream",
     "text": [
      "\r",
      " 47%|████▋     | 467/1000 [23:03<35:23,  3.98s/it]"
     ]
    },
    {
     "name": "stdout",
     "output_type": "stream",
     "text": [
      "\r",
      " Run SAC_Energy_s27, Episode 467, Score: 0.72, Rolling score: 0.70, Max score: 0.79, Max rolling score: 0.73, collisions: 16   "
     ]
    },
    {
     "name": "stderr",
     "output_type": "stream",
     "text": [
      "\r",
      " 47%|████▋     | 468/1000 [23:09<39:45,  4.48s/it]"
     ]
    },
    {
     "name": "stdout",
     "output_type": "stream",
     "text": [
      "\r",
      " Run SAC_Energy_s27, Episode 468, Score: 0.71, Rolling score: 0.71, Max score: 0.79, Max rolling score: 0.73, collisions: 16   "
     ]
    },
    {
     "name": "stderr",
     "output_type": "stream",
     "text": [
      "\r",
      " 47%|████▋     | 469/1000 [23:12<35:23,  4.00s/it]"
     ]
    },
    {
     "name": "stdout",
     "output_type": "stream",
     "text": [
      "\r",
      " Run SAC_Energy_s27, Episode 469, Score: 0.70, Rolling score: 0.71, Max score: 0.79, Max rolling score: 0.73, collisions: 16   "
     ]
    },
    {
     "name": "stderr",
     "output_type": "stream",
     "text": [
      "\r",
      " 47%|████▋     | 470/1000 [23:14<31:19,  3.55s/it]"
     ]
    },
    {
     "name": "stdout",
     "output_type": "stream",
     "text": [
      "\r",
      " Run SAC_Energy_s27, Episode 470, Score: 0.69, Rolling score: 0.71, Max score: 0.79, Max rolling score: 0.73, collisions: 16   "
     ]
    },
    {
     "name": "stderr",
     "output_type": "stream",
     "text": [
      "\r",
      " 47%|████▋     | 471/1000 [23:17<28:04,  3.19s/it]"
     ]
    },
    {
     "name": "stdout",
     "output_type": "stream",
     "text": [
      "\r",
      " Run SAC_Energy_s27, Episode 471, Score: 0.66, Rolling score: 0.70, Max score: 0.79, Max rolling score: 0.73, collisions: 16   "
     ]
    },
    {
     "name": "stderr",
     "output_type": "stream",
     "text": [
      "\r",
      " 47%|████▋     | 472/1000 [23:19<25:34,  2.91s/it]"
     ]
    },
    {
     "name": "stdout",
     "output_type": "stream",
     "text": [
      "\r",
      " Run SAC_Energy_s27, Episode 472, Score: 0.71, Rolling score: 0.70, Max score: 0.79, Max rolling score: 0.73, collisions: 16   "
     ]
    },
    {
     "name": "stderr",
     "output_type": "stream",
     "text": [
      "\r",
      " 47%|████▋     | 473/1000 [23:23<29:08,  3.32s/it]"
     ]
    },
    {
     "name": "stdout",
     "output_type": "stream",
     "text": [
      "\r",
      " Run SAC_Energy_s27, Episode 473, Score: 0.72, Rolling score: 0.70, Max score: 0.79, Max rolling score: 0.73, collisions: 16   "
     ]
    },
    {
     "name": "stderr",
     "output_type": "stream",
     "text": [
      "\r",
      " 47%|████▋     | 474/1000 [23:26<27:12,  3.10s/it]"
     ]
    },
    {
     "name": "stdout",
     "output_type": "stream",
     "text": [
      "\r",
      " Run SAC_Energy_s27, Episode 474, Score: 0.71, Rolling score: 0.70, Max score: 0.79, Max rolling score: 0.73, collisions: 16   "
     ]
    },
    {
     "name": "stderr",
     "output_type": "stream",
     "text": [
      "\r",
      " 48%|████▊     | 475/1000 [23:30<29:37,  3.39s/it]"
     ]
    },
    {
     "name": "stdout",
     "output_type": "stream",
     "text": [
      "\r",
      " Run SAC_Energy_s27, Episode 475, Score: 0.67, Rolling score: 0.70, Max score: 0.79, Max rolling score: 0.73, collisions: 16   "
     ]
    },
    {
     "name": "stderr",
     "output_type": "stream",
     "text": [
      "\r",
      " 48%|████▊     | 476/1000 [23:32<26:42,  3.06s/it]"
     ]
    },
    {
     "name": "stdout",
     "output_type": "stream",
     "text": [
      "\r",
      " Run SAC_Energy_s27, Episode 476, Score: 0.75, Rolling score: 0.71, Max score: 0.79, Max rolling score: 0.73, collisions: 16   "
     ]
    },
    {
     "name": "stderr",
     "output_type": "stream",
     "text": [
      "\r",
      " 48%|████▊     | 477/1000 [23:36<29:45,  3.41s/it]"
     ]
    },
    {
     "name": "stdout",
     "output_type": "stream",
     "text": [
      "\r",
      " Run SAC_Energy_s27, Episode 477, Score: 0.65, Rolling score: 0.70, Max score: 0.79, Max rolling score: 0.73, collisions: 16   "
     ]
    },
    {
     "name": "stderr",
     "output_type": "stream",
     "text": [
      "\r",
      " 48%|████▊     | 478/1000 [23:40<28:48,  3.31s/it]"
     ]
    },
    {
     "name": "stdout",
     "output_type": "stream",
     "text": [
      "\r",
      " Run SAC_Energy_s27, Episode 478, Score: 0.70, Rolling score: 0.70, Max score: 0.79, Max rolling score: 0.73, collisions: 16   "
     ]
    },
    {
     "name": "stderr",
     "output_type": "stream",
     "text": [
      "\r",
      " 48%|████▊     | 479/1000 [23:42<26:54,  3.10s/it]"
     ]
    },
    {
     "name": "stdout",
     "output_type": "stream",
     "text": [
      "\r",
      " Run SAC_Energy_s27, Episode 479, Score: 0.72, Rolling score: 0.70, Max score: 0.79, Max rolling score: 0.73, collisions: 16   "
     ]
    },
    {
     "name": "stderr",
     "output_type": "stream",
     "text": [
      "\r",
      " 48%|████▊     | 480/1000 [23:46<28:41,  3.31s/it]"
     ]
    },
    {
     "name": "stdout",
     "output_type": "stream",
     "text": [
      "\r",
      " Run SAC_Energy_s27, Episode 480, Score: 0.73, Rolling score: 0.70, Max score: 0.79, Max rolling score: 0.73, collisions: 16   "
     ]
    },
    {
     "name": "stderr",
     "output_type": "stream",
     "text": [
      "\r",
      " 48%|████▊     | 481/1000 [23:49<27:04,  3.13s/it]"
     ]
    },
    {
     "name": "stdout",
     "output_type": "stream",
     "text": [
      "\r",
      " Run SAC_Energy_s27, Episode 481, Score: 0.70, Rolling score: 0.71, Max score: 0.79, Max rolling score: 0.73, collisions: 16   "
     ]
    },
    {
     "name": "stderr",
     "output_type": "stream",
     "text": [
      "\r",
      " 48%|████▊     | 482/1000 [23:52<28:37,  3.31s/it]"
     ]
    },
    {
     "name": "stdout",
     "output_type": "stream",
     "text": [
      "\r",
      " Run SAC_Energy_s27, Episode 482, Score: 0.74, Rolling score: 0.71, Max score: 0.79, Max rolling score: 0.73, collisions: 16   "
     ]
    },
    {
     "name": "stderr",
     "output_type": "stream",
     "text": [
      "\r",
      " 48%|████▊     | 483/1000 [23:57<31:03,  3.61s/it]"
     ]
    },
    {
     "name": "stdout",
     "output_type": "stream",
     "text": [
      "\r",
      " Run SAC_Energy_s27, Episode 483, Score: 0.72, Rolling score: 0.71, Max score: 0.79, Max rolling score: 0.73, collisions: 16   "
     ]
    },
    {
     "name": "stderr",
     "output_type": "stream",
     "text": [
      "\r",
      " 48%|████▊     | 484/1000 [24:01<31:47,  3.70s/it]"
     ]
    },
    {
     "name": "stdout",
     "output_type": "stream",
     "text": [
      "\r",
      " Run SAC_Energy_s27, Episode 484, Score: 0.70, Rolling score: 0.71, Max score: 0.79, Max rolling score: 0.73, collisions: 16   "
     ]
    },
    {
     "name": "stderr",
     "output_type": "stream",
     "text": [
      "\r",
      " 48%|████▊     | 485/1000 [24:03<28:04,  3.27s/it]"
     ]
    },
    {
     "name": "stdout",
     "output_type": "stream",
     "text": [
      "\r",
      " Run SAC_Energy_s27, Episode 485, Score: 0.72, Rolling score: 0.71, Max score: 0.79, Max rolling score: 0.73, collisions: 16   "
     ]
    },
    {
     "name": "stderr",
     "output_type": "stream",
     "text": [
      "\r",
      " 49%|████▊     | 486/1000 [24:07<29:11,  3.41s/it]"
     ]
    },
    {
     "name": "stdout",
     "output_type": "stream",
     "text": [
      "\r",
      " Run SAC_Energy_s27, Episode 486, Score: 0.68, Rolling score: 0.71, Max score: 0.79, Max rolling score: 0.73, collisions: 16   "
     ]
    },
    {
     "name": "stderr",
     "output_type": "stream",
     "text": [
      "\r",
      " 49%|████▊     | 487/1000 [24:09<26:56,  3.15s/it]"
     ]
    },
    {
     "name": "stdout",
     "output_type": "stream",
     "text": [
      "\r",
      " Run SAC_Energy_s27, Episode 487, Score: 0.70, Rolling score: 0.71, Max score: 0.79, Max rolling score: 0.73, collisions: 16   "
     ]
    },
    {
     "name": "stderr",
     "output_type": "stream",
     "text": [
      "\r",
      " 49%|████▉     | 488/1000 [24:12<25:19,  2.97s/it]"
     ]
    },
    {
     "name": "stdout",
     "output_type": "stream",
     "text": [
      "\r",
      " Run SAC_Energy_s27, Episode 488, Score: 0.69, Rolling score: 0.71, Max score: 0.79, Max rolling score: 0.73, collisions: 16   "
     ]
    },
    {
     "name": "stderr",
     "output_type": "stream",
     "text": [
      "\r",
      " 49%|████▉     | 489/1000 [24:14<24:23,  2.86s/it]"
     ]
    },
    {
     "name": "stdout",
     "output_type": "stream",
     "text": [
      "\r",
      " Run SAC_Energy_s27, Episode 489, Score: 0.72, Rolling score: 0.71, Max score: 0.79, Max rolling score: 0.73, collisions: 16   "
     ]
    },
    {
     "name": "stderr",
     "output_type": "stream",
     "text": [
      "\r",
      " 49%|████▉     | 490/1000 [24:18<27:06,  3.19s/it]"
     ]
    },
    {
     "name": "stdout",
     "output_type": "stream",
     "text": [
      "\r",
      " Run SAC_Energy_s27, Episode 490, Score: 0.69, Rolling score: 0.71, Max score: 0.79, Max rolling score: 0.73, collisions: 16   "
     ]
    },
    {
     "name": "stderr",
     "output_type": "stream",
     "text": [
      "\r",
      " 49%|████▉     | 491/1000 [24:22<29:06,  3.43s/it]"
     ]
    },
    {
     "name": "stdout",
     "output_type": "stream",
     "text": [
      "\r",
      " Run SAC_Energy_s27, Episode 491, Score: 0.71, Rolling score: 0.71, Max score: 0.79, Max rolling score: 0.73, collisions: 16   "
     ]
    },
    {
     "name": "stderr",
     "output_type": "stream",
     "text": [
      "\r",
      " 49%|████▉     | 492/1000 [24:26<29:08,  3.44s/it]"
     ]
    },
    {
     "name": "stdout",
     "output_type": "stream",
     "text": [
      "\r",
      " Run SAC_Energy_s27, Episode 492, Score: 0.69, Rolling score: 0.70, Max score: 0.79, Max rolling score: 0.73, collisions: 16   "
     ]
    },
    {
     "name": "stderr",
     "output_type": "stream",
     "text": [
      "\r",
      " 49%|████▉     | 493/1000 [24:29<27:54,  3.30s/it]"
     ]
    },
    {
     "name": "stdout",
     "output_type": "stream",
     "text": [
      "\r",
      " Run SAC_Energy_s27, Episode 493, Score: 0.72, Rolling score: 0.70, Max score: 0.79, Max rolling score: 0.73, collisions: 16   "
     ]
    },
    {
     "name": "stderr",
     "output_type": "stream",
     "text": [
      "\r",
      " 49%|████▉     | 494/1000 [24:32<27:30,  3.26s/it]"
     ]
    },
    {
     "name": "stdout",
     "output_type": "stream",
     "text": [
      "\r",
      " Run SAC_Energy_s27, Episode 494, Score: 0.70, Rolling score: 0.70, Max score: 0.79, Max rolling score: 0.73, collisions: 16   "
     ]
    },
    {
     "name": "stderr",
     "output_type": "stream",
     "text": [
      "\r",
      " 50%|████▉     | 495/1000 [24:35<26:12,  3.11s/it]"
     ]
    },
    {
     "name": "stdout",
     "output_type": "stream",
     "text": [
      "\r",
      " Run SAC_Energy_s27, Episode 495, Score: 0.70, Rolling score: 0.70, Max score: 0.79, Max rolling score: 0.73, collisions: 16   "
     ]
    },
    {
     "name": "stderr",
     "output_type": "stream",
     "text": [
      "\r",
      " 50%|████▉     | 496/1000 [24:37<24:40,  2.94s/it]"
     ]
    },
    {
     "name": "stdout",
     "output_type": "stream",
     "text": [
      "\r",
      " Run SAC_Energy_s27, Episode 496, Score: 0.71, Rolling score: 0.70, Max score: 0.79, Max rolling score: 0.73, collisions: 16   "
     ]
    },
    {
     "name": "stderr",
     "output_type": "stream",
     "text": [
      "\r",
      " 50%|████▉     | 497/1000 [24:41<27:02,  3.23s/it]"
     ]
    },
    {
     "name": "stdout",
     "output_type": "stream",
     "text": [
      "\r",
      " Run SAC_Energy_s27, Episode 497, Score: 0.65, Rolling score: 0.70, Max score: 0.79, Max rolling score: 0.73, collisions: 16   "
     ]
    },
    {
     "name": "stderr",
     "output_type": "stream",
     "text": [
      "\r",
      " 50%|████▉     | 498/1000 [24:44<25:18,  3.03s/it]"
     ]
    },
    {
     "name": "stdout",
     "output_type": "stream",
     "text": [
      "\r",
      " Run SAC_Energy_s27, Episode 498, Score: 0.63, Rolling score: 0.69, Max score: 0.79, Max rolling score: 0.73, collisions: 16   "
     ]
    },
    {
     "name": "stderr",
     "output_type": "stream",
     "text": [
      "\r",
      " 50%|████▉     | 499/1000 [24:48<29:19,  3.51s/it]"
     ]
    },
    {
     "name": "stdout",
     "output_type": "stream",
     "text": [
      "\r",
      " Run SAC_Energy_s27, Episode 499, Score: 0.71, Rolling score: 0.69, Max score: 0.79, Max rolling score: 0.73, collisions: 16   "
     ]
    },
    {
     "name": "stderr",
     "output_type": "stream",
     "text": [
      "\r",
      " 50%|█████     | 500/1000 [24:52<30:15,  3.63s/it]"
     ]
    },
    {
     "name": "stdout",
     "output_type": "stream",
     "text": [
      "\r",
      " Run SAC_Energy_s27, Episode 500, Score: 0.65, Rolling score: 0.69, Max score: 0.79, Max rolling score: 0.73, collisions: 16   "
     ]
    },
    {
     "name": "stderr",
     "output_type": "stream",
     "text": [
      "\r",
      " 50%|█████     | 501/1000 [24:56<30:41,  3.69s/it]"
     ]
    },
    {
     "name": "stdout",
     "output_type": "stream",
     "text": [
      "\r",
      " Run SAC_Energy_s27, Episode 501, Score: 0.70, Rolling score: 0.69, Max score: 0.79, Max rolling score: 0.73, collisions: 16   "
     ]
    },
    {
     "name": "stderr",
     "output_type": "stream",
     "text": [
      "\r",
      " 50%|█████     | 502/1000 [25:03<39:08,  4.72s/it]"
     ]
    },
    {
     "name": "stdout",
     "output_type": "stream",
     "text": [
      "\r",
      " Run SAC_Energy_s27, Episode 502, Score: 0.61, Rolling score: 0.68, Max score: 0.79, Max rolling score: 0.73, collisions: 16   "
     ]
    },
    {
     "name": "stderr",
     "output_type": "stream",
     "text": [
      "\r",
      " 50%|█████     | 503/1000 [25:06<34:00,  4.10s/it]"
     ]
    },
    {
     "name": "stdout",
     "output_type": "stream",
     "text": [
      "\r",
      " Run SAC_Energy_s27, Episode 503, Score: 0.63, Rolling score: 0.67, Max score: 0.79, Max rolling score: 0.73, collisions: 16   "
     ]
    },
    {
     "name": "stderr",
     "output_type": "stream",
     "text": [
      "\r",
      " 50%|█████     | 504/1000 [25:09<31:11,  3.77s/it]"
     ]
    },
    {
     "name": "stdout",
     "output_type": "stream",
     "text": [
      "\r",
      " Run SAC_Energy_s27, Episode 504, Score: 0.71, Rolling score: 0.67, Max score: 0.79, Max rolling score: 0.73, collisions: 16   "
     ]
    },
    {
     "name": "stderr",
     "output_type": "stream",
     "text": [
      "\r",
      " 50%|█████     | 505/1000 [25:11<27:59,  3.39s/it]"
     ]
    },
    {
     "name": "stdout",
     "output_type": "stream",
     "text": [
      "\r",
      " Run SAC_Energy_s27, Episode 505, Score: 0.62, Rolling score: 0.66, Max score: 0.79, Max rolling score: 0.73, collisions: 16   "
     ]
    },
    {
     "name": "stderr",
     "output_type": "stream",
     "text": [
      "\r",
      " 51%|█████     | 506/1000 [25:16<30:41,  3.73s/it]"
     ]
    },
    {
     "name": "stdout",
     "output_type": "stream",
     "text": [
      "\r",
      " Run SAC_Energy_s27, Episode 506, Score: 0.71, Rolling score: 0.66, Max score: 0.79, Max rolling score: 0.73, collisions: 16   "
     ]
    },
    {
     "name": "stderr",
     "output_type": "stream",
     "text": [
      "\r",
      " 51%|█████     | 507/1000 [25:19<28:22,  3.45s/it]"
     ]
    },
    {
     "name": "stdout",
     "output_type": "stream",
     "text": [
      "\r",
      " Run SAC_Energy_s27, Episode 507, Score: 0.69, Rolling score: 0.67, Max score: 0.79, Max rolling score: 0.73, collisions: 16   "
     ]
    },
    {
     "name": "stderr",
     "output_type": "stream",
     "text": [
      "\r",
      " 51%|█████     | 508/1000 [25:23<30:25,  3.71s/it]"
     ]
    },
    {
     "name": "stdout",
     "output_type": "stream",
     "text": [
      "\r",
      " Run SAC_Energy_s27, Episode 508, Score: 0.69, Rolling score: 0.67, Max score: 0.79, Max rolling score: 0.73, collisions: 16   "
     ]
    },
    {
     "name": "stderr",
     "output_type": "stream",
     "text": [
      "\r",
      " 51%|█████     | 509/1000 [25:25<27:14,  3.33s/it]"
     ]
    },
    {
     "name": "stdout",
     "output_type": "stream",
     "text": [
      "\r",
      " Run SAC_Energy_s27, Episode 509, Score: 0.68, Rolling score: 0.67, Max score: 0.79, Max rolling score: 0.73, collisions: 16   "
     ]
    },
    {
     "name": "stderr",
     "output_type": "stream",
     "text": [
      "\r",
      " 51%|█████     | 510/1000 [25:29<27:18,  3.34s/it]"
     ]
    },
    {
     "name": "stdout",
     "output_type": "stream",
     "text": [
      "\r",
      " Run SAC_Energy_s27, Episode 510, Score: 0.67, Rolling score: 0.67, Max score: 0.79, Max rolling score: 0.73, collisions: 16   "
     ]
    },
    {
     "name": "stderr",
     "output_type": "stream",
     "text": [
      "\r",
      " 51%|█████     | 511/1000 [25:33<29:58,  3.68s/it]"
     ]
    },
    {
     "name": "stdout",
     "output_type": "stream",
     "text": [
      "\r",
      " Run SAC_Energy_s27, Episode 511, Score: 0.68, Rolling score: 0.67, Max score: 0.79, Max rolling score: 0.73, collisions: 16   "
     ]
    },
    {
     "name": "stderr",
     "output_type": "stream",
     "text": [
      "\r",
      " 51%|█████     | 512/1000 [25:37<29:17,  3.60s/it]"
     ]
    },
    {
     "name": "stdout",
     "output_type": "stream",
     "text": [
      "\r",
      " Run SAC_Energy_s27, Episode 512, Score: 0.69, Rolling score: 0.68, Max score: 0.79, Max rolling score: 0.73, collisions: 16   "
     ]
    },
    {
     "name": "stderr",
     "output_type": "stream",
     "text": [
      "\r",
      " 51%|█████▏    | 513/1000 [25:40<28:30,  3.51s/it]"
     ]
    },
    {
     "name": "stdout",
     "output_type": "stream",
     "text": [
      "\r",
      " Run SAC_Energy_s27, Episode 513, Score: 0.63, Rolling score: 0.68, Max score: 0.79, Max rolling score: 0.73, collisions: 16   "
     ]
    },
    {
     "name": "stderr",
     "output_type": "stream",
     "text": [
      "\r",
      " 51%|█████▏    | 514/1000 [25:44<29:15,  3.61s/it]"
     ]
    },
    {
     "name": "stdout",
     "output_type": "stream",
     "text": [
      "\r",
      " Run SAC_Energy_s27, Episode 514, Score: 0.65, Rolling score: 0.67, Max score: 0.79, Max rolling score: 0.73, collisions: 16   "
     ]
    },
    {
     "name": "stderr",
     "output_type": "stream",
     "text": [
      "\r",
      " 52%|█████▏    | 515/1000 [25:48<30:20,  3.75s/it]"
     ]
    },
    {
     "name": "stdout",
     "output_type": "stream",
     "text": [
      "\r",
      " Run SAC_Energy_s27, Episode 515, Score: 0.66, Rolling score: 0.67, Max score: 0.79, Max rolling score: 0.73, collisions: 16   "
     ]
    },
    {
     "name": "stderr",
     "output_type": "stream",
     "text": [
      "\r",
      " 52%|█████▏    | 516/1000 [25:53<34:39,  4.30s/it]"
     ]
    },
    {
     "name": "stdout",
     "output_type": "stream",
     "text": [
      "\r",
      " Run SAC_Energy_s27, Episode 516, Score: 0.63, Rolling score: 0.67, Max score: 0.79, Max rolling score: 0.73, collisions: 16   "
     ]
    },
    {
     "name": "stderr",
     "output_type": "stream",
     "text": [
      "\r",
      " 52%|█████▏    | 517/1000 [25:58<34:21,  4.27s/it]"
     ]
    },
    {
     "name": "stdout",
     "output_type": "stream",
     "text": [
      "\r",
      " Run SAC_Energy_s27, Episode 517, Score: 0.71, Rolling score: 0.67, Max score: 0.79, Max rolling score: 0.73, collisions: 16   "
     ]
    },
    {
     "name": "stderr",
     "output_type": "stream",
     "text": [
      "\r",
      " 52%|█████▏    | 518/1000 [26:01<31:12,  3.88s/it]"
     ]
    },
    {
     "name": "stdout",
     "output_type": "stream",
     "text": [
      "\r",
      " Run SAC_Energy_s27, Episode 518, Score: 0.71, Rolling score: 0.67, Max score: 0.79, Max rolling score: 0.73, collisions: 16   "
     ]
    },
    {
     "name": "stderr",
     "output_type": "stream",
     "text": [
      "\r",
      " 52%|█████▏    | 519/1000 [26:05<32:15,  4.02s/it]"
     ]
    },
    {
     "name": "stdout",
     "output_type": "stream",
     "text": [
      "\r",
      " Run SAC_Energy_s27, Episode 519, Score: 0.70, Rolling score: 0.67, Max score: 0.79, Max rolling score: 0.73, collisions: 16   "
     ]
    },
    {
     "name": "stderr",
     "output_type": "stream",
     "text": [
      "\r",
      " 52%|█████▏    | 520/1000 [26:07<28:12,  3.53s/it]"
     ]
    },
    {
     "name": "stdout",
     "output_type": "stream",
     "text": [
      "\r",
      " Run SAC_Energy_s27, Episode 520, Score: 0.71, Rolling score: 0.68, Max score: 0.79, Max rolling score: 0.73, collisions: 16   "
     ]
    },
    {
     "name": "stderr",
     "output_type": "stream",
     "text": [
      "\r",
      " 52%|█████▏    | 521/1000 [26:11<29:01,  3.64s/it]"
     ]
    },
    {
     "name": "stdout",
     "output_type": "stream",
     "text": [
      "\r",
      " Run SAC_Energy_s27, Episode 521, Score: 0.71, Rolling score: 0.68, Max score: 0.79, Max rolling score: 0.73, collisions: 16   "
     ]
    },
    {
     "name": "stderr",
     "output_type": "stream",
     "text": [
      "\r",
      " 52%|█████▏    | 522/1000 [26:14<26:49,  3.37s/it]"
     ]
    },
    {
     "name": "stdout",
     "output_type": "stream",
     "text": [
      "\r",
      " Run SAC_Energy_s27, Episode 522, Score: 0.69, Rolling score: 0.68, Max score: 0.79, Max rolling score: 0.73, collisions: 16   "
     ]
    },
    {
     "name": "stderr",
     "output_type": "stream",
     "text": [
      "\r",
      " 52%|█████▏    | 523/1000 [26:18<27:38,  3.48s/it]"
     ]
    },
    {
     "name": "stdout",
     "output_type": "stream",
     "text": [
      "\r",
      " Run SAC_Energy_s27, Episode 523, Score: 0.72, Rolling score: 0.69, Max score: 0.79, Max rolling score: 0.73, collisions: 16   "
     ]
    },
    {
     "name": "stderr",
     "output_type": "stream",
     "text": [
      "\r",
      " 52%|█████▏    | 524/1000 [26:23<32:52,  4.14s/it]"
     ]
    },
    {
     "name": "stdout",
     "output_type": "stream",
     "text": [
      "\r",
      " Run SAC_Energy_s27, Episode 524, Score: 0.70, Rolling score: 0.70, Max score: 0.79, Max rolling score: 0.73, collisions: 16   "
     ]
    },
    {
     "name": "stderr",
     "output_type": "stream",
     "text": [
      "\r",
      " 52%|█████▎    | 525/1000 [26:27<31:04,  3.93s/it]"
     ]
    },
    {
     "name": "stdout",
     "output_type": "stream",
     "text": [
      "\r",
      " Run SAC_Energy_s27, Episode 525, Score: 0.71, Rolling score: 0.70, Max score: 0.79, Max rolling score: 0.73, collisions: 16   "
     ]
    },
    {
     "name": "stderr",
     "output_type": "stream",
     "text": [
      "\r",
      " 53%|█████▎    | 526/1000 [26:29<27:16,  3.45s/it]"
     ]
    },
    {
     "name": "stdout",
     "output_type": "stream",
     "text": [
      "\r",
      " Run SAC_Energy_s27, Episode 526, Score: 0.69, Rolling score: 0.71, Max score: 0.79, Max rolling score: 0.73, collisions: 16   "
     ]
    },
    {
     "name": "stderr",
     "output_type": "stream",
     "text": [
      "\r",
      " 53%|█████▎    | 527/1000 [26:32<24:37,  3.12s/it]"
     ]
    },
    {
     "name": "stdout",
     "output_type": "stream",
     "text": [
      "\r",
      " Run SAC_Energy_s27, Episode 527, Score: 0.72, Rolling score: 0.71, Max score: 0.79, Max rolling score: 0.73, collisions: 16   "
     ]
    },
    {
     "name": "stderr",
     "output_type": "stream",
     "text": [
      "\r",
      " 53%|█████▎    | 528/1000 [26:34<22:18,  2.84s/it]"
     ]
    },
    {
     "name": "stdout",
     "output_type": "stream",
     "text": [
      "\r",
      " Run SAC_Energy_s27, Episode 528, Score: 0.67, Rolling score: 0.70, Max score: 0.79, Max rolling score: 0.73, collisions: 16   "
     ]
    },
    {
     "name": "stderr",
     "output_type": "stream",
     "text": [
      "\r",
      " 53%|█████▎    | 529/1000 [26:36<21:18,  2.72s/it]"
     ]
    },
    {
     "name": "stdout",
     "output_type": "stream",
     "text": [
      "\r",
      " Run SAC_Energy_s27, Episode 529, Score: 0.70, Rolling score: 0.70, Max score: 0.79, Max rolling score: 0.73, collisions: 16   "
     ]
    },
    {
     "name": "stderr",
     "output_type": "stream",
     "text": [
      "\r",
      " 53%|█████▎    | 530/1000 [26:40<25:10,  3.21s/it]"
     ]
    },
    {
     "name": "stdout",
     "output_type": "stream",
     "text": [
      "\r",
      " Run SAC_Energy_s27, Episode 530, Score: 0.73, Rolling score: 0.71, Max score: 0.79, Max rolling score: 0.73, collisions: 16   "
     ]
    },
    {
     "name": "stderr",
     "output_type": "stream",
     "text": [
      "\r",
      " 53%|█████▎    | 531/1000 [26:46<29:46,  3.81s/it]"
     ]
    },
    {
     "name": "stdout",
     "output_type": "stream",
     "text": [
      "\r",
      " Run SAC_Energy_s27, Episode 531, Score: 0.69, Rolling score: 0.70, Max score: 0.79, Max rolling score: 0.73, collisions: 16   "
     ]
    },
    {
     "name": "stderr",
     "output_type": "stream",
     "text": [
      "\r",
      " 53%|█████▎    | 532/1000 [26:48<26:52,  3.45s/it]"
     ]
    },
    {
     "name": "stdout",
     "output_type": "stream",
     "text": [
      "\r",
      " Run SAC_Energy_s27, Episode 532, Score: 0.69, Rolling score: 0.70, Max score: 0.79, Max rolling score: 0.73, collisions: 16   "
     ]
    },
    {
     "name": "stderr",
     "output_type": "stream",
     "text": [
      "\r",
      " 53%|█████▎    | 533/1000 [26:51<24:21,  3.13s/it]"
     ]
    },
    {
     "name": "stdout",
     "output_type": "stream",
     "text": [
      "\r",
      " Run SAC_Energy_s27, Episode 533, Score: 0.65, Rolling score: 0.70, Max score: 0.79, Max rolling score: 0.73, collisions: 16   "
     ]
    },
    {
     "name": "stderr",
     "output_type": "stream",
     "text": [
      "\r",
      " 53%|█████▎    | 534/1000 [26:54<24:44,  3.19s/it]"
     ]
    },
    {
     "name": "stdout",
     "output_type": "stream",
     "text": [
      "\r",
      " Run SAC_Energy_s27, Episode 534, Score: 0.73, Rolling score: 0.70, Max score: 0.79, Max rolling score: 0.73, collisions: 16   "
     ]
    },
    {
     "name": "stderr",
     "output_type": "stream",
     "text": [
      "\r",
      " 54%|█████▎    | 535/1000 [26:58<25:31,  3.29s/it]"
     ]
    },
    {
     "name": "stdout",
     "output_type": "stream",
     "text": [
      "\r",
      " Run SAC_Energy_s27, Episode 535, Score: 0.69, Rolling score: 0.70, Max score: 0.79, Max rolling score: 0.73, collisions: 16   "
     ]
    },
    {
     "name": "stderr",
     "output_type": "stream",
     "text": [
      "\r",
      " 54%|█████▎    | 536/1000 [27:01<24:49,  3.21s/it]"
     ]
    },
    {
     "name": "stdout",
     "output_type": "stream",
     "text": [
      "\r",
      " Run SAC_Energy_s27, Episode 536, Score: 0.71, Rolling score: 0.70, Max score: 0.79, Max rolling score: 0.73, collisions: 16   "
     ]
    },
    {
     "name": "stderr",
     "output_type": "stream",
     "text": [
      "\r",
      " 54%|█████▎    | 537/1000 [27:06<30:57,  4.01s/it]"
     ]
    },
    {
     "name": "stdout",
     "output_type": "stream",
     "text": [
      "\r",
      " Run SAC_Energy_s27, Episode 537, Score: 0.70, Rolling score: 0.70, Max score: 0.79, Max rolling score: 0.73, collisions: 16   "
     ]
    },
    {
     "name": "stderr",
     "output_type": "stream",
     "text": [
      "\r",
      " 54%|█████▍    | 538/1000 [27:12<33:50,  4.39s/it]"
     ]
    },
    {
     "name": "stdout",
     "output_type": "stream",
     "text": [
      "\r",
      " Run SAC_Energy_s27, Episode 538, Score: 0.74, Rolling score: 0.70, Max score: 0.79, Max rolling score: 0.73, collisions: 16   "
     ]
    },
    {
     "name": "stderr",
     "output_type": "stream",
     "text": [
      "\r",
      " 54%|█████▍    | 539/1000 [27:18<37:02,  4.82s/it]"
     ]
    },
    {
     "name": "stdout",
     "output_type": "stream",
     "text": [
      "\r",
      " Run SAC_Energy_s27, Episode 539, Score: 0.73, Rolling score: 0.71, Max score: 0.79, Max rolling score: 0.73, collisions: 16   "
     ]
    },
    {
     "name": "stderr",
     "output_type": "stream",
     "text": [
      "\r",
      " 54%|█████▍    | 540/1000 [27:21<33:32,  4.37s/it]"
     ]
    },
    {
     "name": "stdout",
     "output_type": "stream",
     "text": [
      "\r",
      " Run SAC_Energy_s27, Episode 540, Score: 0.69, Rolling score: 0.70, Max score: 0.79, Max rolling score: 0.73, collisions: 16   "
     ]
    },
    {
     "name": "stderr",
     "output_type": "stream",
     "text": [
      "\r",
      " 54%|█████▍    | 541/1000 [27:23<29:14,  3.82s/it]"
     ]
    },
    {
     "name": "stdout",
     "output_type": "stream",
     "text": [
      "\r",
      " Run SAC_Energy_s27, Episode 541, Score: 0.69, Rolling score: 0.70, Max score: 0.79, Max rolling score: 0.73, collisions: 16   "
     ]
    },
    {
     "name": "stderr",
     "output_type": "stream",
     "text": [
      "\r",
      " 54%|█████▍    | 542/1000 [27:26<26:00,  3.41s/it]"
     ]
    },
    {
     "name": "stdout",
     "output_type": "stream",
     "text": [
      "\r",
      " Run SAC_Energy_s27, Episode 542, Score: 0.63, Rolling score: 0.70, Max score: 0.79, Max rolling score: 0.73, collisions: 16   "
     ]
    },
    {
     "name": "stderr",
     "output_type": "stream",
     "text": [
      "\r",
      " 54%|█████▍    | 543/1000 [27:29<24:19,  3.19s/it]"
     ]
    },
    {
     "name": "stdout",
     "output_type": "stream",
     "text": [
      "\r",
      " Run SAC_Energy_s27, Episode 543, Score: 0.69, Rolling score: 0.70, Max score: 0.79, Max rolling score: 0.73, collisions: 16   "
     ]
    },
    {
     "name": "stderr",
     "output_type": "stream",
     "text": [
      "\r",
      " 54%|█████▍    | 544/1000 [27:31<22:17,  2.93s/it]"
     ]
    },
    {
     "name": "stdout",
     "output_type": "stream",
     "text": [
      "\r",
      " Run SAC_Energy_s27, Episode 544, Score: 0.69, Rolling score: 0.70, Max score: 0.79, Max rolling score: 0.73, collisions: 16   "
     ]
    },
    {
     "name": "stderr",
     "output_type": "stream",
     "text": [
      "\r",
      " 55%|█████▍    | 545/1000 [27:34<22:05,  2.91s/it]"
     ]
    },
    {
     "name": "stdout",
     "output_type": "stream",
     "text": [
      "\r",
      " Run SAC_Energy_s27, Episode 545, Score: 0.70, Rolling score: 0.70, Max score: 0.79, Max rolling score: 0.73, collisions: 16   "
     ]
    },
    {
     "name": "stderr",
     "output_type": "stream",
     "text": [
      "\r",
      " 55%|█████▍    | 546/1000 [27:37<22:32,  2.98s/it]"
     ]
    },
    {
     "name": "stdout",
     "output_type": "stream",
     "text": [
      "\r",
      " Run SAC_Energy_s27, Episode 546, Score: 0.70, Rolling score: 0.70, Max score: 0.79, Max rolling score: 0.73, collisions: 16   "
     ]
    },
    {
     "name": "stderr",
     "output_type": "stream",
     "text": [
      "\r",
      " 55%|█████▍    | 547/1000 [27:40<22:50,  3.02s/it]"
     ]
    },
    {
     "name": "stdout",
     "output_type": "stream",
     "text": [
      "\r",
      " Run SAC_Energy_s27, Episode 547, Score: 0.70, Rolling score: 0.70, Max score: 0.79, Max rolling score: 0.73, collisions: 16   "
     ]
    },
    {
     "name": "stderr",
     "output_type": "stream",
     "text": [
      "\r",
      " 55%|█████▍    | 548/1000 [27:44<23:52,  3.17s/it]"
     ]
    },
    {
     "name": "stdout",
     "output_type": "stream",
     "text": [
      "\r",
      " Run SAC_Energy_s27, Episode 548, Score: 0.61, Rolling score: 0.68, Max score: 0.79, Max rolling score: 0.73, collisions: 16   "
     ]
    },
    {
     "name": "stderr",
     "output_type": "stream",
     "text": [
      "\r",
      " 55%|█████▍    | 549/1000 [27:46<21:51,  2.91s/it]"
     ]
    },
    {
     "name": "stdout",
     "output_type": "stream",
     "text": [
      "\r",
      " Run SAC_Energy_s27, Episode 549, Score: 0.69, Rolling score: 0.68, Max score: 0.79, Max rolling score: 0.73, collisions: 16   "
     ]
    },
    {
     "name": "stderr",
     "output_type": "stream",
     "text": [
      "\r",
      " 55%|█████▌    | 550/1000 [27:52<30:03,  4.01s/it]"
     ]
    },
    {
     "name": "stdout",
     "output_type": "stream",
     "text": [
      "\r",
      " Run SAC_Energy_s27, Episode 550, Score: 0.70, Rolling score: 0.68, Max score: 0.79, Max rolling score: 0.73, collisions: 16   "
     ]
    },
    {
     "name": "stderr",
     "output_type": "stream",
     "text": [
      "\r",
      " 55%|█████▌    | 551/1000 [27:55<25:51,  3.45s/it]"
     ]
    },
    {
     "name": "stdout",
     "output_type": "stream",
     "text": [
      "\r",
      " Run SAC_Energy_s27, Episode 551, Score: 0.70, Rolling score: 0.68, Max score: 0.79, Max rolling score: 0.73, collisions: 16   "
     ]
    },
    {
     "name": "stderr",
     "output_type": "stream",
     "text": [
      "\r",
      " 55%|█████▌    | 552/1000 [27:59<28:48,  3.86s/it]"
     ]
    },
    {
     "name": "stdout",
     "output_type": "stream",
     "text": [
      "\r",
      " Run SAC_Energy_s27, Episode 552, Score: 0.68, Rolling score: 0.69, Max score: 0.79, Max rolling score: 0.73, collisions: 16   "
     ]
    },
    {
     "name": "stderr",
     "output_type": "stream",
     "text": [
      "\r",
      " 55%|█████▌    | 553/1000 [28:02<26:11,  3.51s/it]"
     ]
    },
    {
     "name": "stdout",
     "output_type": "stream",
     "text": [
      "\r",
      " Run SAC_Energy_s27, Episode 553, Score: 0.57, Rolling score: 0.67, Max score: 0.79, Max rolling score: 0.73, collisions: 16   "
     ]
    },
    {
     "name": "stderr",
     "output_type": "stream",
     "text": [
      "\r",
      " 55%|█████▌    | 554/1000 [28:05<23:49,  3.21s/it]"
     ]
    },
    {
     "name": "stdout",
     "output_type": "stream",
     "text": [
      "\r",
      " Run SAC_Energy_s27, Episode 554, Score: 0.68, Rolling score: 0.67, Max score: 0.79, Max rolling score: 0.73, collisions: 16   "
     ]
    },
    {
     "name": "stderr",
     "output_type": "stream",
     "text": [
      "\r",
      " 56%|█████▌    | 555/1000 [28:08<24:37,  3.32s/it]"
     ]
    },
    {
     "name": "stdout",
     "output_type": "stream",
     "text": [
      "\r",
      " Run SAC_Energy_s27, Episode 555, Score: 0.71, Rolling score: 0.67, Max score: 0.79, Max rolling score: 0.73, collisions: 16   "
     ]
    },
    {
     "name": "stderr",
     "output_type": "stream",
     "text": [
      "\r",
      " 56%|█████▌    | 556/1000 [28:12<24:50,  3.36s/it]"
     ]
    },
    {
     "name": "stdout",
     "output_type": "stream",
     "text": [
      "\r",
      " Run SAC_Energy_s27, Episode 556, Score: 0.68, Rolling score: 0.67, Max score: 0.79, Max rolling score: 0.73, collisions: 16   "
     ]
    },
    {
     "name": "stderr",
     "output_type": "stream",
     "text": [
      "\r",
      " 56%|█████▌    | 557/1000 [28:14<22:06,  2.99s/it]"
     ]
    },
    {
     "name": "stdout",
     "output_type": "stream",
     "text": [
      "\r",
      " Run SAC_Energy_s27, Episode 557, Score: 0.71, Rolling score: 0.67, Max score: 0.79, Max rolling score: 0.73, collisions: 16   "
     ]
    },
    {
     "name": "stderr",
     "output_type": "stream",
     "text": [
      "\r",
      " 56%|█████▌    | 558/1000 [28:17<22:58,  3.12s/it]"
     ]
    },
    {
     "name": "stdout",
     "output_type": "stream",
     "text": [
      "\r",
      " Run SAC_Energy_s27, Episode 558, Score: 0.69, Rolling score: 0.68, Max score: 0.79, Max rolling score: 0.73, collisions: 16   "
     ]
    },
    {
     "name": "stderr",
     "output_type": "stream",
     "text": [
      "\r",
      " 56%|█████▌    | 559/1000 [28:20<23:25,  3.19s/it]"
     ]
    },
    {
     "name": "stdout",
     "output_type": "stream",
     "text": [
      "\r",
      " Run SAC_Energy_s27, Episode 559, Score: 0.70, Rolling score: 0.68, Max score: 0.79, Max rolling score: 0.73, collisions: 16   "
     ]
    },
    {
     "name": "stderr",
     "output_type": "stream",
     "text": [
      "\r",
      " 56%|█████▌    | 560/1000 [28:24<24:12,  3.30s/it]"
     ]
    },
    {
     "name": "stdout",
     "output_type": "stream",
     "text": [
      "\r",
      " Run SAC_Energy_s27, Episode 560, Score: 0.70, Rolling score: 0.68, Max score: 0.79, Max rolling score: 0.73, collisions: 16   "
     ]
    },
    {
     "name": "stderr",
     "output_type": "stream",
     "text": [
      "\r",
      " 56%|█████▌    | 561/1000 [28:27<23:55,  3.27s/it]"
     ]
    },
    {
     "name": "stdout",
     "output_type": "stream",
     "text": [
      "\r",
      " Run SAC_Energy_s27, Episode 561, Score: 0.68, Rolling score: 0.68, Max score: 0.79, Max rolling score: 0.73, collisions: 16   "
     ]
    },
    {
     "name": "stderr",
     "output_type": "stream",
     "text": [
      "\r",
      " 56%|█████▌    | 562/1000 [28:33<28:23,  3.89s/it]"
     ]
    },
    {
     "name": "stdout",
     "output_type": "stream",
     "text": [
      "\r",
      " Run SAC_Energy_s27, Episode 562, Score: 0.65, Rolling score: 0.68, Max score: 0.79, Max rolling score: 0.73, collisions: 16   "
     ]
    },
    {
     "name": "stderr",
     "output_type": "stream",
     "text": [
      "\r",
      " 56%|█████▋    | 563/1000 [28:35<25:09,  3.45s/it]"
     ]
    },
    {
     "name": "stdout",
     "output_type": "stream",
     "text": [
      "\r",
      " Run SAC_Energy_s27, Episode 563, Score: 0.73, Rolling score: 0.69, Max score: 0.79, Max rolling score: 0.73, collisions: 16   "
     ]
    },
    {
     "name": "stderr",
     "output_type": "stream",
     "text": [
      "\r",
      " 56%|█████▋    | 564/1000 [28:41<31:13,  4.30s/it]"
     ]
    },
    {
     "name": "stdout",
     "output_type": "stream",
     "text": [
      "\r",
      " Run SAC_Energy_s27, Episode 564, Score: 0.72, Rolling score: 0.70, Max score: 0.79, Max rolling score: 0.73, collisions: 16   "
     ]
    },
    {
     "name": "stderr",
     "output_type": "stream",
     "text": [
      "\r",
      " 56%|█████▋    | 565/1000 [28:44<28:01,  3.87s/it]"
     ]
    },
    {
     "name": "stdout",
     "output_type": "stream",
     "text": [
      "\r",
      " Run SAC_Energy_s27, Episode 565, Score: 0.71, Rolling score: 0.70, Max score: 0.79, Max rolling score: 0.73, collisions: 16   "
     ]
    },
    {
     "name": "stderr",
     "output_type": "stream",
     "text": [
      "\r",
      " 57%|█████▋    | 566/1000 [28:50<33:08,  4.58s/it]"
     ]
    },
    {
     "name": "stdout",
     "output_type": "stream",
     "text": [
      "\r",
      " Run SAC_Energy_s27, Episode 566, Score: 0.73, Rolling score: 0.70, Max score: 0.79, Max rolling score: 0.73, collisions: 16   "
     ]
    },
    {
     "name": "stderr",
     "output_type": "stream",
     "text": [
      "\r",
      " 57%|█████▋    | 567/1000 [28:53<28:50,  4.00s/it]"
     ]
    },
    {
     "name": "stdout",
     "output_type": "stream",
     "text": [
      "\r",
      " Run SAC_Energy_s27, Episode 567, Score: 0.71, Rolling score: 0.70, Max score: 0.79, Max rolling score: 0.73, collisions: 16   "
     ]
    },
    {
     "name": "stderr",
     "output_type": "stream",
     "text": [
      "\r",
      " 57%|█████▋    | 568/1000 [28:56<27:27,  3.81s/it]"
     ]
    },
    {
     "name": "stdout",
     "output_type": "stream",
     "text": [
      "\r",
      " Run SAC_Energy_s27, Episode 568, Score: 0.80, Rolling score: 0.71, Max score: 0.80, Max rolling score: 0.73, collisions: 16   "
     ]
    },
    {
     "name": "stderr",
     "output_type": "stream",
     "text": [
      "\r",
      " 57%|█████▋    | 569/1000 [29:00<26:02,  3.63s/it]"
     ]
    },
    {
     "name": "stdout",
     "output_type": "stream",
     "text": [
      "\r",
      " Run SAC_Energy_s27, Episode 569, Score: 0.72, Rolling score: 0.71, Max score: 0.80, Max rolling score: 0.73, collisions: 16   "
     ]
    },
    {
     "name": "stderr",
     "output_type": "stream",
     "text": [
      "\r",
      " 57%|█████▋    | 570/1000 [29:03<26:13,  3.66s/it]"
     ]
    },
    {
     "name": "stdout",
     "output_type": "stream",
     "text": [
      "\r",
      " Run SAC_Energy_s27, Episode 570, Score: 0.70, Rolling score: 0.71, Max score: 0.80, Max rolling score: 0.73, collisions: 16   "
     ]
    },
    {
     "name": "stderr",
     "output_type": "stream",
     "text": [
      "\r",
      " 57%|█████▋    | 571/1000 [29:09<29:57,  4.19s/it]"
     ]
    },
    {
     "name": "stdout",
     "output_type": "stream",
     "text": [
      "\r",
      " Run SAC_Energy_s27, Episode 571, Score: 0.73, Rolling score: 0.72, Max score: 0.80, Max rolling score: 0.73, collisions: 16   "
     ]
    },
    {
     "name": "stderr",
     "output_type": "stream",
     "text": [
      "\r",
      " 57%|█████▋    | 572/1000 [29:15<33:55,  4.76s/it]"
     ]
    },
    {
     "name": "stdout",
     "output_type": "stream",
     "text": [
      "\r",
      " Run SAC_Energy_s27, Episode 572, Score: 0.71, Rolling score: 0.73, Max score: 0.80, Max rolling score: 0.73, collisions: 16   "
     ]
    },
    {
     "name": "stderr",
     "output_type": "stream",
     "text": [
      "\r",
      " 57%|█████▋    | 573/1000 [29:17<28:26,  4.00s/it]"
     ]
    },
    {
     "name": "stdout",
     "output_type": "stream",
     "text": [
      "\r",
      " Run SAC_Energy_s27, Episode 573, Score: 0.72, Rolling score: 0.72, Max score: 0.80, Max rolling score: 0.73, collisions: 16   "
     ]
    },
    {
     "name": "stderr",
     "output_type": "stream",
     "text": [
      "\r",
      " 57%|█████▋    | 574/1000 [29:25<36:15,  5.11s/it]"
     ]
    },
    {
     "name": "stdout",
     "output_type": "stream",
     "text": [
      "\r",
      " Run SAC_Energy_s27, Episode 574, Score: 0.64, Rolling score: 0.72, Max score: 0.80, Max rolling score: 0.73, collisions: 16   "
     ]
    },
    {
     "name": "stderr",
     "output_type": "stream",
     "text": [
      "\r",
      " 57%|█████▊    | 575/1000 [29:27<30:12,  4.26s/it]"
     ]
    },
    {
     "name": "stdout",
     "output_type": "stream",
     "text": [
      "\r",
      " Run SAC_Energy_s27, Episode 575, Score: 0.73, Rolling score: 0.72, Max score: 0.80, Max rolling score: 0.73, collisions: 16   "
     ]
    },
    {
     "name": "stderr",
     "output_type": "stream",
     "text": [
      "\r",
      " 58%|█████▊    | 576/1000 [29:31<29:44,  4.21s/it]"
     ]
    },
    {
     "name": "stdout",
     "output_type": "stream",
     "text": [
      "\r",
      " Run SAC_Energy_s27, Episode 576, Score: 0.69, Rolling score: 0.71, Max score: 0.80, Max rolling score: 0.73, collisions: 16   "
     ]
    },
    {
     "name": "stderr",
     "output_type": "stream",
     "text": [
      "\r",
      " 58%|█████▊    | 577/1000 [29:34<27:47,  3.94s/it]"
     ]
    },
    {
     "name": "stdout",
     "output_type": "stream",
     "text": [
      "\r",
      " Run SAC_Energy_s27, Episode 577, Score: 0.73, Rolling score: 0.72, Max score: 0.80, Max rolling score: 0.73, collisions: 16   "
     ]
    },
    {
     "name": "stderr",
     "output_type": "stream",
     "text": [
      "\r",
      " 58%|█████▊    | 578/1000 [29:38<26:24,  3.76s/it]"
     ]
    },
    {
     "name": "stdout",
     "output_type": "stream",
     "text": [
      "\r",
      " Run SAC_Energy_s27, Episode 578, Score: 0.72, Rolling score: 0.71, Max score: 0.80, Max rolling score: 0.73, collisions: 16   "
     ]
    },
    {
     "name": "stderr",
     "output_type": "stream",
     "text": [
      "\r",
      " 58%|█████▊    | 579/1000 [29:41<24:36,  3.51s/it]"
     ]
    },
    {
     "name": "stdout",
     "output_type": "stream",
     "text": [
      "\r",
      " Run SAC_Energy_s27, Episode 579, Score: 0.73, Rolling score: 0.71, Max score: 0.80, Max rolling score: 0.73, collisions: 16   "
     ]
    },
    {
     "name": "stderr",
     "output_type": "stream",
     "text": [
      "\r",
      " 58%|█████▊    | 580/1000 [29:43<21:56,  3.14s/it]"
     ]
    },
    {
     "name": "stdout",
     "output_type": "stream",
     "text": [
      "\r",
      " Run SAC_Energy_s27, Episode 580, Score: 0.71, Rolling score: 0.71, Max score: 0.80, Max rolling score: 0.73, collisions: 16   "
     ]
    },
    {
     "name": "stderr",
     "output_type": "stream",
     "text": [
      "\r",
      " 58%|█████▊    | 581/1000 [29:50<29:49,  4.27s/it]"
     ]
    },
    {
     "name": "stdout",
     "output_type": "stream",
     "text": [
      "\r",
      " Run SAC_Energy_s27, Episode 581, Score: 0.72, Rolling score: 0.71, Max score: 0.80, Max rolling score: 0.73, collisions: 16   "
     ]
    },
    {
     "name": "stderr",
     "output_type": "stream",
     "text": [
      "\r",
      " 58%|█████▊    | 582/1000 [29:52<25:56,  3.72s/it]"
     ]
    },
    {
     "name": "stdout",
     "output_type": "stream",
     "text": [
      "\r",
      " Run SAC_Energy_s27, Episode 582, Score: 0.73, Rolling score: 0.71, Max score: 0.80, Max rolling score: 0.73, collisions: 16   "
     ]
    },
    {
     "name": "stderr",
     "output_type": "stream",
     "text": [
      "\r",
      " 58%|█████▊    | 583/1000 [29:59<32:29,  4.67s/it]"
     ]
    },
    {
     "name": "stdout",
     "output_type": "stream",
     "text": [
      "\r",
      " Run SAC_Energy_s27, Episode 583, Score: 0.71, Rolling score: 0.71, Max score: 0.80, Max rolling score: 0.73, collisions: 16   "
     ]
    },
    {
     "name": "stderr",
     "output_type": "stream",
     "text": [
      "\r",
      " 58%|█████▊    | 584/1000 [30:05<34:47,  5.02s/it]"
     ]
    },
    {
     "name": "stdout",
     "output_type": "stream",
     "text": [
      "\r",
      " Run SAC_Energy_s27, Episode 584, Score: 0.70, Rolling score: 0.72, Max score: 0.80, Max rolling score: 0.73, collisions: 16   "
     ]
    },
    {
     "name": "stderr",
     "output_type": "stream",
     "text": [
      "\r",
      " 58%|█████▊    | 585/1000 [30:07<29:15,  4.23s/it]"
     ]
    },
    {
     "name": "stdout",
     "output_type": "stream",
     "text": [
      "\r",
      " Run SAC_Energy_s27, Episode 585, Score: 0.74, Rolling score: 0.72, Max score: 0.80, Max rolling score: 0.73, collisions: 16   "
     ]
    },
    {
     "name": "stderr",
     "output_type": "stream",
     "text": [
      "\r",
      " 59%|█████▊    | 586/1000 [30:14<33:27,  4.85s/it]"
     ]
    },
    {
     "name": "stdout",
     "output_type": "stream",
     "text": [
      "\r",
      " Run SAC_Energy_s27, Episode 586, Score: 0.69, Rolling score: 0.72, Max score: 0.80, Max rolling score: 0.73, collisions: 16   "
     ]
    },
    {
     "name": "stderr",
     "output_type": "stream",
     "text": [
      "\r",
      " 59%|█████▊    | 587/1000 [30:17<29:42,  4.32s/it]"
     ]
    },
    {
     "name": "stdout",
     "output_type": "stream",
     "text": [
      "\r",
      " Run SAC_Energy_s27, Episode 587, Score: 0.72, Rolling score: 0.72, Max score: 0.80, Max rolling score: 0.73, collisions: 16   "
     ]
    },
    {
     "name": "stderr",
     "output_type": "stream",
     "text": [
      "\r",
      " 59%|█████▉    | 588/1000 [30:22<32:12,  4.69s/it]"
     ]
    },
    {
     "name": "stdout",
     "output_type": "stream",
     "text": [
      "\r",
      " Run SAC_Energy_s27, Episode 588, Score: 0.71, Rolling score: 0.72, Max score: 0.80, Max rolling score: 0.73, collisions: 16   "
     ]
    },
    {
     "name": "stderr",
     "output_type": "stream",
     "text": [
      "\r",
      " 59%|█████▉    | 589/1000 [30:26<30:49,  4.50s/it]"
     ]
    },
    {
     "name": "stdout",
     "output_type": "stream",
     "text": [
      "\r",
      " Run SAC_Energy_s27, Episode 589, Score: 0.52, Rolling score: 0.70, Max score: 0.80, Max rolling score: 0.73, collisions: 16   "
     ]
    },
    {
     "name": "stderr",
     "output_type": "stream",
     "text": [
      "\r",
      " 59%|█████▉    | 590/1000 [30:29<26:10,  3.83s/it]"
     ]
    },
    {
     "name": "stdout",
     "output_type": "stream",
     "text": [
      "\r",
      " Run SAC_Energy_s27, Episode 590, Score: 0.71, Rolling score: 0.70, Max score: 0.80, Max rolling score: 0.73, collisions: 16   "
     ]
    },
    {
     "name": "stderr",
     "output_type": "stream",
     "text": [
      "\r",
      " 59%|█████▉    | 591/1000 [30:31<22:57,  3.37s/it]"
     ]
    },
    {
     "name": "stdout",
     "output_type": "stream",
     "text": [
      "\r",
      " Run SAC_Energy_s27, Episode 591, Score: 0.73, Rolling score: 0.70, Max score: 0.80, Max rolling score: 0.73, collisions: 16   "
     ]
    },
    {
     "name": "stderr",
     "output_type": "stream",
     "text": [
      "\r",
      " 59%|█████▉    | 592/1000 [30:37<28:51,  4.24s/it]"
     ]
    },
    {
     "name": "stdout",
     "output_type": "stream",
     "text": [
      "\r",
      " Run SAC_Energy_s27, Episode 592, Score: 0.71, Rolling score: 0.69, Max score: 0.80, Max rolling score: 0.73, collisions: 16   "
     ]
    },
    {
     "name": "stderr",
     "output_type": "stream",
     "text": [
      "\r",
      " 59%|█████▉    | 593/1000 [30:42<28:50,  4.25s/it]"
     ]
    },
    {
     "name": "stdout",
     "output_type": "stream",
     "text": [
      "\r",
      " Run SAC_Energy_s27, Episode 593, Score: 0.72, Rolling score: 0.70, Max score: 0.80, Max rolling score: 0.73, collisions: 16   "
     ]
    },
    {
     "name": "stderr",
     "output_type": "stream",
     "text": [
      "\r",
      " 59%|█████▉    | 594/1000 [30:44<26:07,  3.86s/it]"
     ]
    },
    {
     "name": "stdout",
     "output_type": "stream",
     "text": [
      "\r",
      " Run SAC_Energy_s27, Episode 594, Score: 0.71, Rolling score: 0.70, Max score: 0.80, Max rolling score: 0.73, collisions: 16   "
     ]
    },
    {
     "name": "stderr",
     "output_type": "stream",
     "text": [
      "\r",
      " 60%|█████▉    | 595/1000 [30:47<23:12,  3.44s/it]"
     ]
    },
    {
     "name": "stdout",
     "output_type": "stream",
     "text": [
      "\r",
      " Run SAC_Energy_s27, Episode 595, Score: 0.72, Rolling score: 0.70, Max score: 0.80, Max rolling score: 0.73, collisions: 16   "
     ]
    },
    {
     "name": "stderr",
     "output_type": "stream",
     "text": [
      "\r",
      " 60%|█████▉    | 596/1000 [30:51<24:57,  3.71s/it]"
     ]
    },
    {
     "name": "stdout",
     "output_type": "stream",
     "text": [
      "\r",
      " Run SAC_Energy_s27, Episode 596, Score: 0.73, Rolling score: 0.70, Max score: 0.80, Max rolling score: 0.73, collisions: 16   "
     ]
    },
    {
     "name": "stderr",
     "output_type": "stream",
     "text": [
      "\r",
      " 60%|█████▉    | 597/1000 [30:54<23:42,  3.53s/it]"
     ]
    },
    {
     "name": "stdout",
     "output_type": "stream",
     "text": [
      "\r",
      " Run SAC_Energy_s27, Episode 597, Score: 0.70, Rolling score: 0.70, Max score: 0.80, Max rolling score: 0.73, collisions: 16   "
     ]
    },
    {
     "name": "stderr",
     "output_type": "stream",
     "text": [
      "\r",
      " 60%|█████▉    | 598/1000 [30:57<22:10,  3.31s/it]"
     ]
    },
    {
     "name": "stdout",
     "output_type": "stream",
     "text": [
      "\r",
      " Run SAC_Energy_s27, Episode 598, Score: 0.68, Rolling score: 0.69, Max score: 0.80, Max rolling score: 0.73, collisions: 16   "
     ]
    },
    {
     "name": "stderr",
     "output_type": "stream",
     "text": [
      "\r",
      " 60%|█████▉    | 599/1000 [31:00<21:35,  3.23s/it]"
     ]
    },
    {
     "name": "stdout",
     "output_type": "stream",
     "text": [
      "\r",
      " Run SAC_Energy_s27, Episode 599, Score: 0.71, Rolling score: 0.71, Max score: 0.80, Max rolling score: 0.73, collisions: 16   "
     ]
    },
    {
     "name": "stderr",
     "output_type": "stream",
     "text": [
      "\r",
      " 60%|██████    | 600/1000 [31:04<22:15,  3.34s/it]"
     ]
    },
    {
     "name": "stdout",
     "output_type": "stream",
     "text": [
      "\r",
      " Run SAC_Energy_s27, Episode 600, Score: 0.75, Rolling score: 0.72, Max score: 0.80, Max rolling score: 0.73, collisions: 16   "
     ]
    },
    {
     "name": "stderr",
     "output_type": "stream",
     "text": [
      "\r",
      " 60%|██████    | 601/1000 [31:07<22:09,  3.33s/it]"
     ]
    },
    {
     "name": "stdout",
     "output_type": "stream",
     "text": [
      "\r",
      " Run SAC_Energy_s27, Episode 601, Score: 0.74, Rolling score: 0.72, Max score: 0.80, Max rolling score: 0.73, collisions: 16   "
     ]
    },
    {
     "name": "stderr",
     "output_type": "stream",
     "text": [
      "\r",
      " 60%|██████    | 602/1000 [31:13<28:06,  4.24s/it]"
     ]
    },
    {
     "name": "stdout",
     "output_type": "stream",
     "text": [
      "\r",
      " Run SAC_Energy_s27, Episode 602, Score: 0.72, Rolling score: 0.72, Max score: 0.80, Max rolling score: 0.73, collisions: 16   "
     ]
    },
    {
     "name": "stderr",
     "output_type": "stream",
     "text": [
      "\r",
      " 60%|██████    | 603/1000 [31:20<31:53,  4.82s/it]"
     ]
    },
    {
     "name": "stdout",
     "output_type": "stream",
     "text": [
      "\r",
      " Run SAC_Energy_s27, Episode 603, Score: 0.72, Rolling score: 0.72, Max score: 0.80, Max rolling score: 0.73, collisions: 16   "
     ]
    },
    {
     "name": "stderr",
     "output_type": "stream",
     "text": [
      "\r",
      " 60%|██████    | 604/1000 [31:26<34:32,  5.23s/it]"
     ]
    },
    {
     "name": "stdout",
     "output_type": "stream",
     "text": [
      "\r",
      " Run SAC_Energy_s27, Episode 604, Score: 0.65, Rolling score: 0.71, Max score: 0.80, Max rolling score: 0.73, collisions: 16   "
     ]
    },
    {
     "name": "stderr",
     "output_type": "stream",
     "text": [
      "\r",
      " 60%|██████    | 605/1000 [31:30<32:29,  4.93s/it]"
     ]
    },
    {
     "name": "stdout",
     "output_type": "stream",
     "text": [
      "\r",
      " Run SAC_Energy_s27, Episode 605, Score: 0.74, Rolling score: 0.71, Max score: 0.80, Max rolling score: 0.73, collisions: 16   "
     ]
    },
    {
     "name": "stderr",
     "output_type": "stream",
     "text": [
      "\r",
      " 61%|██████    | 606/1000 [31:36<34:11,  5.21s/it]"
     ]
    },
    {
     "name": "stdout",
     "output_type": "stream",
     "text": [
      "\r",
      " Run SAC_Energy_s27, Episode 606, Score: 0.70, Rolling score: 0.71, Max score: 0.80, Max rolling score: 0.73, collisions: 16   "
     ]
    },
    {
     "name": "stderr",
     "output_type": "stream",
     "text": [
      "\r",
      " 61%|██████    | 607/1000 [31:40<32:33,  4.97s/it]"
     ]
    },
    {
     "name": "stdout",
     "output_type": "stream",
     "text": [
      "\r",
      " Run SAC_Energy_s27, Episode 607, Score: 0.68, Rolling score: 0.71, Max score: 0.80, Max rolling score: 0.73, collisions: 16   "
     ]
    },
    {
     "name": "stderr",
     "output_type": "stream",
     "text": [
      "\r",
      " 61%|██████    | 608/1000 [31:44<30:20,  4.64s/it]"
     ]
    },
    {
     "name": "stdout",
     "output_type": "stream",
     "text": [
      "\r",
      " Run SAC_Energy_s27, Episode 608, Score: 0.73, Rolling score: 0.71, Max score: 0.80, Max rolling score: 0.73, collisions: 16   "
     ]
    },
    {
     "name": "stderr",
     "output_type": "stream",
     "text": [
      "\r",
      " 61%|██████    | 609/1000 [31:50<31:36,  4.85s/it]"
     ]
    },
    {
     "name": "stdout",
     "output_type": "stream",
     "text": [
      "\r",
      " Run SAC_Energy_s27, Episode 609, Score: 0.71, Rolling score: 0.71, Max score: 0.80, Max rolling score: 0.73, collisions: 16   "
     ]
    },
    {
     "name": "stderr",
     "output_type": "stream",
     "text": [
      "\r",
      " 61%|██████    | 610/1000 [31:52<27:42,  4.26s/it]"
     ]
    },
    {
     "name": "stdout",
     "output_type": "stream",
     "text": [
      "\r",
      " Run SAC_Energy_s27, Episode 610, Score: 0.71, Rolling score: 0.71, Max score: 0.80, Max rolling score: 0.73, collisions: 16   "
     ]
    },
    {
     "name": "stderr",
     "output_type": "stream",
     "text": [
      "\r",
      " 61%|██████    | 611/1000 [31:56<25:35,  3.95s/it]"
     ]
    },
    {
     "name": "stdout",
     "output_type": "stream",
     "text": [
      "\r",
      " Run SAC_Energy_s27, Episode 611, Score: 0.62, Rolling score: 0.70, Max score: 0.80, Max rolling score: 0.73, collisions: 16   "
     ]
    },
    {
     "name": "stderr",
     "output_type": "stream",
     "text": [
      "\r",
      " 61%|██████    | 612/1000 [31:59<24:30,  3.79s/it]"
     ]
    },
    {
     "name": "stdout",
     "output_type": "stream",
     "text": [
      "\r",
      " Run SAC_Energy_s27, Episode 612, Score: 0.69, Rolling score: 0.69, Max score: 0.80, Max rolling score: 0.73, collisions: 16   "
     ]
    },
    {
     "name": "stderr",
     "output_type": "stream",
     "text": [
      "\r",
      " 61%|██████▏   | 613/1000 [32:03<23:51,  3.70s/it]"
     ]
    },
    {
     "name": "stdout",
     "output_type": "stream",
     "text": [
      "\r",
      " Run SAC_Energy_s27, Episode 613, Score: 0.71, Rolling score: 0.69, Max score: 0.80, Max rolling score: 0.73, collisions: 16   "
     ]
    },
    {
     "name": "stderr",
     "output_type": "stream",
     "text": [
      "\r",
      " 61%|██████▏   | 614/1000 [32:06<23:06,  3.59s/it]"
     ]
    },
    {
     "name": "stdout",
     "output_type": "stream",
     "text": [
      "\r",
      " Run SAC_Energy_s27, Episode 614, Score: 0.72, Rolling score: 0.70, Max score: 0.80, Max rolling score: 0.73, collisions: 16   "
     ]
    },
    {
     "name": "stderr",
     "output_type": "stream",
     "text": [
      "\r",
      " 62%|██████▏   | 615/1000 [32:10<24:16,  3.78s/it]"
     ]
    },
    {
     "name": "stdout",
     "output_type": "stream",
     "text": [
      "\r",
      " Run SAC_Energy_s27, Episode 615, Score: 0.72, Rolling score: 0.70, Max score: 0.80, Max rolling score: 0.73, collisions: 16   "
     ]
    },
    {
     "name": "stderr",
     "output_type": "stream",
     "text": [
      "\r",
      " 62%|██████▏   | 616/1000 [32:17<29:20,  4.58s/it]"
     ]
    },
    {
     "name": "stdout",
     "output_type": "stream",
     "text": [
      "\r",
      " Run SAC_Energy_s27, Episode 616, Score: 0.71, Rolling score: 0.70, Max score: 0.80, Max rolling score: 0.73, collisions: 16   "
     ]
    },
    {
     "name": "stderr",
     "output_type": "stream",
     "text": [
      "\r",
      " 62%|██████▏   | 617/1000 [32:20<26:30,  4.15s/it]"
     ]
    },
    {
     "name": "stdout",
     "output_type": "stream",
     "text": [
      "\r",
      " Run SAC_Energy_s27, Episode 617, Score: 0.68, Rolling score: 0.70, Max score: 0.80, Max rolling score: 0.73, collisions: 16   "
     ]
    },
    {
     "name": "stderr",
     "output_type": "stream",
     "text": [
      "\r",
      " 62%|██████▏   | 618/1000 [32:24<26:54,  4.23s/it]"
     ]
    },
    {
     "name": "stdout",
     "output_type": "stream",
     "text": [
      "\r",
      " Run SAC_Energy_s27, Episode 618, Score: 0.73, Rolling score: 0.70, Max score: 0.80, Max rolling score: 0.73, collisions: 16   "
     ]
    },
    {
     "name": "stderr",
     "output_type": "stream",
     "text": [
      "\r",
      " 62%|██████▏   | 619/1000 [32:28<26:53,  4.23s/it]"
     ]
    },
    {
     "name": "stdout",
     "output_type": "stream",
     "text": [
      "\r",
      " Run SAC_Energy_s27, Episode 619, Score: 0.72, Rolling score: 0.70, Max score: 0.80, Max rolling score: 0.73, collisions: 16   "
     ]
    },
    {
     "name": "stderr",
     "output_type": "stream",
     "text": [
      "\r",
      " 62%|██████▏   | 620/1000 [32:35<31:03,  4.91s/it]"
     ]
    },
    {
     "name": "stdout",
     "output_type": "stream",
     "text": [
      "\r",
      " Run SAC_Energy_s27, Episode 620, Score: 0.69, Rolling score: 0.70, Max score: 0.80, Max rolling score: 0.73, collisions: 16   "
     ]
    },
    {
     "name": "stderr",
     "output_type": "stream",
     "text": [
      "\r",
      " 62%|██████▏   | 621/1000 [32:37<26:15,  4.16s/it]"
     ]
    },
    {
     "name": "stdout",
     "output_type": "stream",
     "text": [
      "\r",
      " Run SAC_Energy_s27, Episode 621, Score: 0.74, Rolling score: 0.71, Max score: 0.80, Max rolling score: 0.73, collisions: 16   "
     ]
    },
    {
     "name": "stderr",
     "output_type": "stream",
     "text": [
      "\r",
      " 62%|██████▏   | 622/1000 [32:40<22:42,  3.60s/it]"
     ]
    },
    {
     "name": "stdout",
     "output_type": "stream",
     "text": [
      "\r",
      " Run SAC_Energy_s27, Episode 622, Score: 0.70, Rolling score: 0.71, Max score: 0.80, Max rolling score: 0.73, collisions: 16   "
     ]
    },
    {
     "name": "stderr",
     "output_type": "stream",
     "text": [
      "\r",
      " 62%|██████▏   | 623/1000 [32:42<20:37,  3.28s/it]"
     ]
    },
    {
     "name": "stdout",
     "output_type": "stream",
     "text": [
      "\r",
      " Run SAC_Energy_s27, Episode 623, Score: 0.52, Rolling score: 0.69, Max score: 0.80, Max rolling score: 0.73, collisions: 16   "
     ]
    },
    {
     "name": "stderr",
     "output_type": "stream",
     "text": [
      "\r",
      " 62%|██████▏   | 624/1000 [32:44<18:27,  2.95s/it]"
     ]
    },
    {
     "name": "stdout",
     "output_type": "stream",
     "text": [
      "\r",
      " Run SAC_Energy_s27, Episode 624, Score: 0.60, Rolling score: 0.68, Max score: 0.80, Max rolling score: 0.73, collisions: 16   "
     ]
    },
    {
     "name": "stderr",
     "output_type": "stream",
     "text": [
      "\r",
      " 62%|██████▎   | 625/1000 [32:47<17:01,  2.72s/it]"
     ]
    },
    {
     "name": "stdout",
     "output_type": "stream",
     "text": [
      "\r",
      " Run SAC_Energy_s27, Episode 625, Score: 0.70, Rolling score: 0.68, Max score: 0.80, Max rolling score: 0.73, collisions: 16   "
     ]
    },
    {
     "name": "stderr",
     "output_type": "stream",
     "text": [
      "\r",
      " 63%|██████▎   | 626/1000 [32:49<16:44,  2.69s/it]"
     ]
    },
    {
     "name": "stdout",
     "output_type": "stream",
     "text": [
      "\r",
      " Run SAC_Energy_s27, Episode 626, Score: 0.53, Rolling score: 0.66, Max score: 0.80, Max rolling score: 0.73, collisions: 16   "
     ]
    },
    {
     "name": "stderr",
     "output_type": "stream",
     "text": [
      "\r",
      " 63%|██████▎   | 627/1000 [32:52<16:11,  2.61s/it]"
     ]
    },
    {
     "name": "stdout",
     "output_type": "stream",
     "text": [
      "\r",
      " Run SAC_Energy_s27, Episode 627, Score: 0.73, Rolling score: 0.67, Max score: 0.80, Max rolling score: 0.73, collisions: 16   "
     ]
    },
    {
     "name": "stderr",
     "output_type": "stream",
     "text": [
      "\r",
      " 63%|██████▎   | 628/1000 [32:54<16:11,  2.61s/it]"
     ]
    },
    {
     "name": "stdout",
     "output_type": "stream",
     "text": [
      "\r",
      " Run SAC_Energy_s27, Episode 628, Score: 0.69, Rolling score: 0.66, Max score: 0.80, Max rolling score: 0.73, collisions: 16   "
     ]
    },
    {
     "name": "stderr",
     "output_type": "stream",
     "text": [
      "\r",
      " 63%|██████▎   | 629/1000 [32:57<16:35,  2.68s/it]"
     ]
    },
    {
     "name": "stdout",
     "output_type": "stream",
     "text": [
      "\r",
      " Run SAC_Energy_s27, Episode 629, Score: 0.69, Rolling score: 0.66, Max score: 0.80, Max rolling score: 0.73, collisions: 16   "
     ]
    },
    {
     "name": "stderr",
     "output_type": "stream",
     "text": [
      "\r",
      " 63%|██████▎   | 630/1000 [32:59<15:45,  2.56s/it]"
     ]
    },
    {
     "name": "stdout",
     "output_type": "stream",
     "text": [
      "\r",
      " Run SAC_Energy_s27, Episode 630, Score: 0.70, Rolling score: 0.66, Max score: 0.80, Max rolling score: 0.73, collisions: 16   "
     ]
    },
    {
     "name": "stderr",
     "output_type": "stream",
     "text": [
      "\r",
      " 63%|██████▎   | 631/1000 [33:05<20:43,  3.37s/it]"
     ]
    },
    {
     "name": "stdout",
     "output_type": "stream",
     "text": [
      "\r",
      " Run SAC_Energy_s27, Episode 631, Score: 0.69, Rolling score: 0.65, Max score: 0.80, Max rolling score: 0.73, collisions: 16   "
     ]
    },
    {
     "name": "stderr",
     "output_type": "stream",
     "text": [
      "\r",
      " 63%|██████▎   | 632/1000 [33:07<18:52,  3.08s/it]"
     ]
    },
    {
     "name": "stdout",
     "output_type": "stream",
     "text": [
      "\r",
      " Run SAC_Energy_s27, Episode 632, Score: 0.71, Rolling score: 0.66, Max score: 0.80, Max rolling score: 0.73, collisions: 16   "
     ]
    },
    {
     "name": "stderr",
     "output_type": "stream",
     "text": [
      "\r",
      " 63%|██████▎   | 633/1000 [33:13<24:31,  4.01s/it]"
     ]
    },
    {
     "name": "stdout",
     "output_type": "stream",
     "text": [
      "\r",
      " Run SAC_Energy_s27, Episode 633, Score: 0.72, Rolling score: 0.68, Max score: 0.80, Max rolling score: 0.73, collisions: 16   "
     ]
    },
    {
     "name": "stderr",
     "output_type": "stream",
     "text": [
      "\r",
      " 63%|██████▎   | 634/1000 [33:16<22:53,  3.75s/it]"
     ]
    },
    {
     "name": "stdout",
     "output_type": "stream",
     "text": [
      "\r",
      " Run SAC_Energy_s27, Episode 634, Score: 0.68, Rolling score: 0.68, Max score: 0.80, Max rolling score: 0.73, collisions: 16   "
     ]
    },
    {
     "name": "stderr",
     "output_type": "stream",
     "text": [
      "\r",
      " 64%|██████▎   | 635/1000 [33:19<20:13,  3.33s/it]"
     ]
    },
    {
     "name": "stdout",
     "output_type": "stream",
     "text": [
      "\r",
      " Run SAC_Energy_s27, Episode 635, Score: 0.71, Rolling score: 0.69, Max score: 0.80, Max rolling score: 0.73, collisions: 16   "
     ]
    },
    {
     "name": "stderr",
     "output_type": "stream",
     "text": [
      "\r",
      " 64%|██████▎   | 636/1000 [33:21<18:57,  3.12s/it]"
     ]
    },
    {
     "name": "stdout",
     "output_type": "stream",
     "text": [
      "\r",
      " Run SAC_Energy_s27, Episode 636, Score: 0.67, Rolling score: 0.70, Max score: 0.80, Max rolling score: 0.73, collisions: 16   "
     ]
    },
    {
     "name": "stderr",
     "output_type": "stream",
     "text": [
      "\r",
      " 64%|██████▎   | 637/1000 [33:24<18:46,  3.10s/it]"
     ]
    },
    {
     "name": "stdout",
     "output_type": "stream",
     "text": [
      "\r",
      " Run SAC_Energy_s27, Episode 637, Score: 0.73, Rolling score: 0.70, Max score: 0.80, Max rolling score: 0.73, collisions: 16   "
     ]
    },
    {
     "name": "stderr",
     "output_type": "stream",
     "text": [
      "\r",
      " 64%|██████▍   | 638/1000 [33:30<23:42,  3.93s/it]"
     ]
    },
    {
     "name": "stdout",
     "output_type": "stream",
     "text": [
      "\r",
      " Run SAC_Energy_s27, Episode 638, Score: 0.66, Rolling score: 0.70, Max score: 0.80, Max rolling score: 0.73, collisions: 16   "
     ]
    },
    {
     "name": "stderr",
     "output_type": "stream",
     "text": [
      "\r",
      " 64%|██████▍   | 639/1000 [33:34<23:28,  3.90s/it]"
     ]
    },
    {
     "name": "stdout",
     "output_type": "stream",
     "text": [
      "\r",
      " Run SAC_Energy_s27, Episode 639, Score: 0.71, Rolling score: 0.70, Max score: 0.80, Max rolling score: 0.73, collisions: 16   "
     ]
    },
    {
     "name": "stderr",
     "output_type": "stream",
     "text": [
      "\r",
      " 64%|██████▍   | 640/1000 [33:37<22:10,  3.70s/it]"
     ]
    },
    {
     "name": "stdout",
     "output_type": "stream",
     "text": [
      "\r",
      " Run SAC_Energy_s27, Episode 640, Score: 0.72, Rolling score: 0.70, Max score: 0.80, Max rolling score: 0.73, collisions: 16   "
     ]
    },
    {
     "name": "stderr",
     "output_type": "stream",
     "text": [
      "\r",
      " 64%|██████▍   | 641/1000 [33:40<21:19,  3.56s/it]"
     ]
    },
    {
     "name": "stdout",
     "output_type": "stream",
     "text": [
      "\r",
      " Run SAC_Energy_s27, Episode 641, Score: 0.72, Rolling score: 0.70, Max score: 0.80, Max rolling score: 0.73, collisions: 16   "
     ]
    },
    {
     "name": "stderr",
     "output_type": "stream",
     "text": [
      "\r",
      " 64%|██████▍   | 642/1000 [33:43<18:54,  3.17s/it]"
     ]
    },
    {
     "name": "stdout",
     "output_type": "stream",
     "text": [
      "\r",
      " Run SAC_Energy_s27, Episode 642, Score: 0.66, Rolling score: 0.70, Max score: 0.80, Max rolling score: 0.73, collisions: 16   "
     ]
    },
    {
     "name": "stderr",
     "output_type": "stream",
     "text": [
      "\r",
      " 64%|██████▍   | 643/1000 [33:46<18:25,  3.10s/it]"
     ]
    },
    {
     "name": "stdout",
     "output_type": "stream",
     "text": [
      "\r",
      " Run SAC_Energy_s27, Episode 643, Score: 0.71, Rolling score: 0.70, Max score: 0.80, Max rolling score: 0.73, collisions: 16   "
     ]
    },
    {
     "name": "stderr",
     "output_type": "stream",
     "text": [
      "\r",
      " 64%|██████▍   | 644/1000 [33:50<20:54,  3.52s/it]"
     ]
    },
    {
     "name": "stdout",
     "output_type": "stream",
     "text": [
      "\r",
      " Run SAC_Energy_s27, Episode 644, Score: 0.70, Rolling score: 0.70, Max score: 0.80, Max rolling score: 0.73, collisions: 16   "
     ]
    },
    {
     "name": "stderr",
     "output_type": "stream",
     "text": [
      "\r",
      " 64%|██████▍   | 645/1000 [33:53<18:52,  3.19s/it]"
     ]
    },
    {
     "name": "stdout",
     "output_type": "stream",
     "text": [
      "\r",
      " Run SAC_Energy_s27, Episode 645, Score: 0.72, Rolling score: 0.70, Max score: 0.80, Max rolling score: 0.73, collisions: 16   "
     ]
    },
    {
     "name": "stderr",
     "output_type": "stream",
     "text": [
      "\r",
      " 65%|██████▍   | 646/1000 [33:55<17:33,  2.98s/it]"
     ]
    },
    {
     "name": "stdout",
     "output_type": "stream",
     "text": [
      "\r",
      " Run SAC_Energy_s27, Episode 646, Score: 0.70, Rolling score: 0.70, Max score: 0.80, Max rolling score: 0.73, collisions: 16   "
     ]
    },
    {
     "name": "stderr",
     "output_type": "stream",
     "text": [
      "\r",
      " 65%|██████▍   | 647/1000 [33:58<18:18,  3.11s/it]"
     ]
    },
    {
     "name": "stdout",
     "output_type": "stream",
     "text": [
      "\r",
      " Run SAC_Energy_s27, Episode 647, Score: 0.71, Rolling score: 0.70, Max score: 0.80, Max rolling score: 0.73, collisions: 16   "
     ]
    },
    {
     "name": "stderr",
     "output_type": "stream",
     "text": [
      "\r",
      " 65%|██████▍   | 648/1000 [34:01<17:09,  2.93s/it]"
     ]
    },
    {
     "name": "stdout",
     "output_type": "stream",
     "text": [
      "\r",
      " Run SAC_Energy_s27, Episode 648, Score: 0.64, Rolling score: 0.70, Max score: 0.80, Max rolling score: 0.73, collisions: 16   "
     ]
    },
    {
     "name": "stderr",
     "output_type": "stream",
     "text": [
      "\r",
      " 65%|██████▍   | 649/1000 [34:03<16:03,  2.74s/it]"
     ]
    },
    {
     "name": "stdout",
     "output_type": "stream",
     "text": [
      "\r",
      " Run SAC_Energy_s27, Episode 649, Score: 0.69, Rolling score: 0.70, Max score: 0.80, Max rolling score: 0.73, collisions: 16   "
     ]
    },
    {
     "name": "stderr",
     "output_type": "stream",
     "text": [
      "\r",
      " 65%|██████▌   | 650/1000 [34:07<18:17,  3.14s/it]"
     ]
    },
    {
     "name": "stdout",
     "output_type": "stream",
     "text": [
      "\r",
      " Run SAC_Energy_s27, Episode 650, Score: 0.67, Rolling score: 0.69, Max score: 0.80, Max rolling score: 0.73, collisions: 16   "
     ]
    },
    {
     "name": "stderr",
     "output_type": "stream",
     "text": [
      "\r",
      " 65%|██████▌   | 651/1000 [34:10<16:39,  2.87s/it]"
     ]
    },
    {
     "name": "stdout",
     "output_type": "stream",
     "text": [
      "\r",
      " Run SAC_Energy_s27, Episode 651, Score: 0.70, Rolling score: 0.69, Max score: 0.80, Max rolling score: 0.73, collisions: 16   "
     ]
    },
    {
     "name": "stderr",
     "output_type": "stream",
     "text": [
      "\r",
      " 65%|██████▌   | 652/1000 [34:13<17:48,  3.07s/it]"
     ]
    },
    {
     "name": "stdout",
     "output_type": "stream",
     "text": [
      "\r",
      " Run SAC_Energy_s27, Episode 652, Score: 0.70, Rolling score: 0.69, Max score: 0.80, Max rolling score: 0.73, collisions: 16   "
     ]
    },
    {
     "name": "stderr",
     "output_type": "stream",
     "text": [
      "\r",
      " 65%|██████▌   | 653/1000 [34:17<19:01,  3.29s/it]"
     ]
    },
    {
     "name": "stdout",
     "output_type": "stream",
     "text": [
      "\r",
      " Run SAC_Energy_s27, Episode 653, Score: 0.73, Rolling score: 0.70, Max score: 0.80, Max rolling score: 0.73, collisions: 16   "
     ]
    },
    {
     "name": "stderr",
     "output_type": "stream",
     "text": [
      "\r",
      " 65%|██████▌   | 654/1000 [34:21<20:15,  3.51s/it]"
     ]
    },
    {
     "name": "stdout",
     "output_type": "stream",
     "text": [
      "\r",
      " Run SAC_Energy_s27, Episode 654, Score: 0.61, Rolling score: 0.69, Max score: 0.80, Max rolling score: 0.73, collisions: 16   "
     ]
    },
    {
     "name": "stderr",
     "output_type": "stream",
     "text": [
      "\r",
      " 66%|██████▌   | 655/1000 [34:23<17:55,  3.12s/it]"
     ]
    },
    {
     "name": "stdout",
     "output_type": "stream",
     "text": [
      "\r",
      " Run SAC_Energy_s27, Episode 655, Score: 0.72, Rolling score: 0.69, Max score: 0.80, Max rolling score: 0.73, collisions: 16   "
     ]
    },
    {
     "name": "stderr",
     "output_type": "stream",
     "text": [
      "\r",
      " 66%|██████▌   | 656/1000 [34:28<20:06,  3.51s/it]"
     ]
    },
    {
     "name": "stdout",
     "output_type": "stream",
     "text": [
      "\r",
      " Run SAC_Energy_s27, Episode 656, Score: 0.72, Rolling score: 0.69, Max score: 0.80, Max rolling score: 0.73, collisions: 16   "
     ]
    },
    {
     "name": "stderr",
     "output_type": "stream",
     "text": [
      "\r",
      " 66%|██████▌   | 657/1000 [34:30<18:33,  3.25s/it]"
     ]
    },
    {
     "name": "stdout",
     "output_type": "stream",
     "text": [
      "\r",
      " Run SAC_Energy_s27, Episode 657, Score: 0.70, Rolling score: 0.69, Max score: 0.80, Max rolling score: 0.73, collisions: 16   "
     ]
    },
    {
     "name": "stderr",
     "output_type": "stream",
     "text": [
      "\r",
      " 66%|██████▌   | 658/1000 [34:33<18:08,  3.18s/it]"
     ]
    },
    {
     "name": "stdout",
     "output_type": "stream",
     "text": [
      "\r",
      " Run SAC_Energy_s27, Episode 658, Score: 0.67, Rolling score: 0.69, Max score: 0.80, Max rolling score: 0.73, collisions: 16   "
     ]
    },
    {
     "name": "stderr",
     "output_type": "stream",
     "text": [
      "\r",
      " 66%|██████▌   | 659/1000 [34:37<19:40,  3.46s/it]"
     ]
    },
    {
     "name": "stdout",
     "output_type": "stream",
     "text": [
      "\r",
      " Run SAC_Energy_s27, Episode 659, Score: 0.74, Rolling score: 0.69, Max score: 0.80, Max rolling score: 0.73, collisions: 16   "
     ]
    },
    {
     "name": "stderr",
     "output_type": "stream",
     "text": [
      "\r",
      " 66%|██████▌   | 660/1000 [34:42<21:30,  3.80s/it]"
     ]
    },
    {
     "name": "stdout",
     "output_type": "stream",
     "text": [
      "\r",
      " Run SAC_Energy_s27, Episode 660, Score: 0.67, Rolling score: 0.69, Max score: 0.80, Max rolling score: 0.73, collisions: 16   "
     ]
    },
    {
     "name": "stderr",
     "output_type": "stream",
     "text": [
      "\r",
      " 66%|██████▌   | 661/1000 [34:45<20:30,  3.63s/it]"
     ]
    },
    {
     "name": "stdout",
     "output_type": "stream",
     "text": [
      "\r",
      " Run SAC_Energy_s27, Episode 661, Score: 0.72, Rolling score: 0.70, Max score: 0.80, Max rolling score: 0.73, collisions: 16   "
     ]
    },
    {
     "name": "stderr",
     "output_type": "stream",
     "text": [
      "\r",
      " 66%|██████▌   | 662/1000 [34:48<19:18,  3.43s/it]"
     ]
    },
    {
     "name": "stdout",
     "output_type": "stream",
     "text": [
      "\r",
      " Run SAC_Energy_s27, Episode 662, Score: 0.63, Rolling score: 0.69, Max score: 0.80, Max rolling score: 0.73, collisions: 16   "
     ]
    },
    {
     "name": "stderr",
     "output_type": "stream",
     "text": [
      "\r",
      " 66%|██████▋   | 663/1000 [34:51<18:28,  3.29s/it]"
     ]
    },
    {
     "name": "stdout",
     "output_type": "stream",
     "text": [
      "\r",
      " Run SAC_Energy_s27, Episode 663, Score: 0.73, Rolling score: 0.69, Max score: 0.80, Max rolling score: 0.73, collisions: 16   "
     ]
    },
    {
     "name": "stderr",
     "output_type": "stream",
     "text": [
      "\r",
      " 66%|██████▋   | 664/1000 [34:54<17:05,  3.05s/it]"
     ]
    },
    {
     "name": "stdout",
     "output_type": "stream",
     "text": [
      "\r",
      " Run SAC_Energy_s27, Episode 664, Score: 0.72, Rolling score: 0.70, Max score: 0.80, Max rolling score: 0.73, collisions: 16   "
     ]
    },
    {
     "name": "stderr",
     "output_type": "stream",
     "text": [
      "\r",
      " 66%|██████▋   | 665/1000 [34:57<18:00,  3.23s/it]"
     ]
    },
    {
     "name": "stdout",
     "output_type": "stream",
     "text": [
      "\r",
      " Run SAC_Energy_s27, Episode 665, Score: 0.68, Rolling score: 0.70, Max score: 0.80, Max rolling score: 0.73, collisions: 16   "
     ]
    },
    {
     "name": "stderr",
     "output_type": "stream",
     "text": [
      "\r",
      " 67%|██████▋   | 666/1000 [35:00<17:40,  3.18s/it]"
     ]
    },
    {
     "name": "stdout",
     "output_type": "stream",
     "text": [
      "\r",
      " Run SAC_Energy_s27, Episode 666, Score: 0.71, Rolling score: 0.70, Max score: 0.80, Max rolling score: 0.73, collisions: 16   "
     ]
    },
    {
     "name": "stderr",
     "output_type": "stream",
     "text": [
      "\r",
      " 67%|██████▋   | 667/1000 [35:03<16:53,  3.04s/it]"
     ]
    },
    {
     "name": "stdout",
     "output_type": "stream",
     "text": [
      "\r",
      " Run SAC_Energy_s27, Episode 667, Score: 0.73, Rolling score: 0.70, Max score: 0.80, Max rolling score: 0.73, collisions: 16   "
     ]
    },
    {
     "name": "stderr",
     "output_type": "stream",
     "text": [
      "\r",
      " 67%|██████▋   | 668/1000 [35:08<20:07,  3.64s/it]"
     ]
    },
    {
     "name": "stdout",
     "output_type": "stream",
     "text": [
      "\r",
      " Run SAC_Energy_s27, Episode 668, Score: 0.62, Rolling score: 0.70, Max score: 0.80, Max rolling score: 0.73, collisions: 16   "
     ]
    },
    {
     "name": "stderr",
     "output_type": "stream",
     "text": [
      "\r",
      " 67%|██████▋   | 669/1000 [35:11<19:12,  3.48s/it]"
     ]
    },
    {
     "name": "stdout",
     "output_type": "stream",
     "text": [
      "\r",
      " Run SAC_Energy_s27, Episode 669, Score: 0.73, Rolling score: 0.69, Max score: 0.80, Max rolling score: 0.73, collisions: 16   "
     ]
    },
    {
     "name": "stderr",
     "output_type": "stream",
     "text": [
      "\r",
      " 67%|██████▋   | 670/1000 [35:14<17:20,  3.15s/it]"
     ]
    },
    {
     "name": "stdout",
     "output_type": "stream",
     "text": [
      "\r",
      " Run SAC_Energy_s27, Episode 670, Score: 0.74, Rolling score: 0.70, Max score: 0.80, Max rolling score: 0.73, collisions: 16   "
     ]
    },
    {
     "name": "stderr",
     "output_type": "stream",
     "text": [
      "\r",
      " 67%|██████▋   | 671/1000 [35:18<19:54,  3.63s/it]"
     ]
    },
    {
     "name": "stdout",
     "output_type": "stream",
     "text": [
      "\r",
      " Run SAC_Energy_s27, Episode 671, Score: 0.67, Rolling score: 0.70, Max score: 0.80, Max rolling score: 0.73, collisions: 16   "
     ]
    },
    {
     "name": "stderr",
     "output_type": "stream",
     "text": [
      "\r",
      " 67%|██████▋   | 672/1000 [35:22<20:01,  3.66s/it]"
     ]
    },
    {
     "name": "stdout",
     "output_type": "stream",
     "text": [
      "\r",
      " Run SAC_Energy_s27, Episode 672, Score: 0.73, Rolling score: 0.71, Max score: 0.80, Max rolling score: 0.73, collisions: 16   "
     ]
    },
    {
     "name": "stderr",
     "output_type": "stream",
     "text": [
      "\r",
      " 67%|██████▋   | 673/1000 [35:25<19:20,  3.55s/it]"
     ]
    },
    {
     "name": "stdout",
     "output_type": "stream",
     "text": [
      "\r",
      " Run SAC_Energy_s27, Episode 673, Score: 0.72, Rolling score: 0.70, Max score: 0.80, Max rolling score: 0.73, collisions: 16   "
     ]
    },
    {
     "name": "stderr",
     "output_type": "stream",
     "text": [
      "\r",
      " 67%|██████▋   | 674/1000 [35:30<20:33,  3.78s/it]"
     ]
    },
    {
     "name": "stdout",
     "output_type": "stream",
     "text": [
      "\r",
      " Run SAC_Energy_s27, Episode 674, Score: 0.72, Rolling score: 0.71, Max score: 0.80, Max rolling score: 0.73, collisions: 16   "
     ]
    },
    {
     "name": "stderr",
     "output_type": "stream",
     "text": [
      "\r",
      " 68%|██████▊   | 675/1000 [35:35<22:29,  4.15s/it]"
     ]
    },
    {
     "name": "stdout",
     "output_type": "stream",
     "text": [
      "\r",
      " Run SAC_Energy_s27, Episode 675, Score: 0.71, Rolling score: 0.71, Max score: 0.80, Max rolling score: 0.73, collisions: 16   "
     ]
    },
    {
     "name": "stderr",
     "output_type": "stream",
     "text": [
      "\r",
      " 68%|██████▊   | 676/1000 [35:38<21:24,  3.97s/it]"
     ]
    },
    {
     "name": "stdout",
     "output_type": "stream",
     "text": [
      "\r",
      " Run SAC_Energy_s27, Episode 676, Score: 0.73, Rolling score: 0.71, Max score: 0.80, Max rolling score: 0.73, collisions: 16   "
     ]
    },
    {
     "name": "stderr",
     "output_type": "stream",
     "text": [
      "\r",
      " 68%|██████▊   | 677/1000 [35:42<20:47,  3.86s/it]"
     ]
    },
    {
     "name": "stdout",
     "output_type": "stream",
     "text": [
      "\r",
      " Run SAC_Energy_s27, Episode 677, Score: 0.72, Rolling score: 0.71, Max score: 0.80, Max rolling score: 0.73, collisions: 16   "
     ]
    },
    {
     "name": "stderr",
     "output_type": "stream",
     "text": [
      "\r",
      " 68%|██████▊   | 678/1000 [35:46<21:15,  3.96s/it]"
     ]
    },
    {
     "name": "stdout",
     "output_type": "stream",
     "text": [
      "\r",
      " Run SAC_Energy_s27, Episode 678, Score: 0.71, Rolling score: 0.72, Max score: 0.80, Max rolling score: 0.73, collisions: 16   "
     ]
    },
    {
     "name": "stderr",
     "output_type": "stream",
     "text": [
      "\r",
      " 68%|██████▊   | 679/1000 [35:48<18:38,  3.48s/it]"
     ]
    },
    {
     "name": "stdout",
     "output_type": "stream",
     "text": [
      "\r",
      " Run SAC_Energy_s27, Episode 679, Score: 0.67, Rolling score: 0.71, Max score: 0.80, Max rolling score: 0.73, collisions: 16   "
     ]
    },
    {
     "name": "stderr",
     "output_type": "stream",
     "text": [
      "\r",
      " 68%|██████▊   | 680/1000 [35:51<17:02,  3.19s/it]"
     ]
    },
    {
     "name": "stdout",
     "output_type": "stream",
     "text": [
      "\r",
      " Run SAC_Energy_s27, Episode 680, Score: 0.72, Rolling score: 0.71, Max score: 0.80, Max rolling score: 0.73, collisions: 16   "
     ]
    },
    {
     "name": "stderr",
     "output_type": "stream",
     "text": [
      "\r",
      " 68%|██████▊   | 681/1000 [35:54<16:16,  3.06s/it]"
     ]
    },
    {
     "name": "stdout",
     "output_type": "stream",
     "text": [
      "\r",
      " Run SAC_Energy_s27, Episode 681, Score: 0.73, Rolling score: 0.72, Max score: 0.80, Max rolling score: 0.73, collisions: 16   "
     ]
    },
    {
     "name": "stderr",
     "output_type": "stream",
     "text": [
      "\r",
      " 68%|██████▊   | 682/1000 [35:56<15:53,  3.00s/it]"
     ]
    },
    {
     "name": "stdout",
     "output_type": "stream",
     "text": [
      "\r",
      " Run SAC_Energy_s27, Episode 682, Score: 0.70, Rolling score: 0.71, Max score: 0.80, Max rolling score: 0.73, collisions: 16   "
     ]
    },
    {
     "name": "stderr",
     "output_type": "stream",
     "text": [
      "\r",
      " 68%|██████▊   | 683/1000 [35:59<15:10,  2.87s/it]"
     ]
    },
    {
     "name": "stdout",
     "output_type": "stream",
     "text": [
      "\r",
      " Run SAC_Energy_s27, Episode 683, Score: 0.73, Rolling score: 0.71, Max score: 0.80, Max rolling score: 0.73, collisions: 16   "
     ]
    },
    {
     "name": "stderr",
     "output_type": "stream",
     "text": [
      "\r",
      " 68%|██████▊   | 684/1000 [36:01<14:03,  2.67s/it]"
     ]
    },
    {
     "name": "stdout",
     "output_type": "stream",
     "text": [
      "\r",
      " Run SAC_Energy_s27, Episode 684, Score: 0.73, Rolling score: 0.71, Max score: 0.80, Max rolling score: 0.73, collisions: 16   "
     ]
    },
    {
     "name": "stderr",
     "output_type": "stream",
     "text": [
      "\r",
      " 68%|██████▊   | 685/1000 [36:06<18:00,  3.43s/it]"
     ]
    },
    {
     "name": "stdout",
     "output_type": "stream",
     "text": [
      "\r",
      " Run SAC_Energy_s27, Episode 685, Score: 0.71, Rolling score: 0.71, Max score: 0.80, Max rolling score: 0.73, collisions: 16   "
     ]
    },
    {
     "name": "stderr",
     "output_type": "stream",
     "text": [
      "\r",
      " 69%|██████▊   | 686/1000 [36:10<17:37,  3.37s/it]"
     ]
    },
    {
     "name": "stdout",
     "output_type": "stream",
     "text": [
      "\r",
      " Run SAC_Energy_s27, Episode 686, Score: 0.71, Rolling score: 0.71, Max score: 0.80, Max rolling score: 0.73, collisions: 16   "
     ]
    },
    {
     "name": "stderr",
     "output_type": "stream",
     "text": [
      "\r",
      " 69%|██████▊   | 687/1000 [36:12<16:40,  3.20s/it]"
     ]
    },
    {
     "name": "stdout",
     "output_type": "stream",
     "text": [
      "\r",
      " Run SAC_Energy_s27, Episode 687, Score: 0.69, Rolling score: 0.71, Max score: 0.80, Max rolling score: 0.73, collisions: 16   "
     ]
    },
    {
     "name": "stderr",
     "output_type": "stream",
     "text": [
      "\r",
      " 69%|██████▉   | 688/1000 [36:16<16:28,  3.17s/it]"
     ]
    },
    {
     "name": "stdout",
     "output_type": "stream",
     "text": [
      "\r",
      " Run SAC_Energy_s27, Episode 688, Score: 0.71, Rolling score: 0.71, Max score: 0.80, Max rolling score: 0.73, collisions: 16   "
     ]
    },
    {
     "name": "stderr",
     "output_type": "stream",
     "text": [
      "\r",
      " 69%|██████▉   | 689/1000 [36:21<19:35,  3.78s/it]"
     ]
    },
    {
     "name": "stdout",
     "output_type": "stream",
     "text": [
      "\r",
      " Run SAC_Energy_s27, Episode 689, Score: 0.69, Rolling score: 0.71, Max score: 0.80, Max rolling score: 0.73, collisions: 16   "
     ]
    },
    {
     "name": "stderr",
     "output_type": "stream",
     "text": [
      "\r",
      " 69%|██████▉   | 690/1000 [36:24<19:03,  3.69s/it]"
     ]
    },
    {
     "name": "stdout",
     "output_type": "stream",
     "text": [
      "\r",
      " Run SAC_Energy_s27, Episode 690, Score: 0.74, Rolling score: 0.71, Max score: 0.80, Max rolling score: 0.73, collisions: 16   "
     ]
    },
    {
     "name": "stderr",
     "output_type": "stream",
     "text": [
      "\r",
      " 69%|██████▉   | 691/1000 [36:26<16:41,  3.24s/it]"
     ]
    },
    {
     "name": "stdout",
     "output_type": "stream",
     "text": [
      "\r",
      " Run SAC_Energy_s27, Episode 691, Score: 0.57, Rolling score: 0.70, Max score: 0.80, Max rolling score: 0.73, collisions: 16   "
     ]
    },
    {
     "name": "stderr",
     "output_type": "stream",
     "text": [
      "\r",
      " 69%|██████▉   | 692/1000 [36:29<15:57,  3.11s/it]"
     ]
    },
    {
     "name": "stdout",
     "output_type": "stream",
     "text": [
      "\r",
      " Run SAC_Energy_s27, Episode 692, Score: 0.71, Rolling score: 0.70, Max score: 0.80, Max rolling score: 0.73, collisions: 16   "
     ]
    },
    {
     "name": "stderr",
     "output_type": "stream",
     "text": [
      "\r",
      " 69%|██████▉   | 693/1000 [36:33<17:05,  3.34s/it]"
     ]
    },
    {
     "name": "stdout",
     "output_type": "stream",
     "text": [
      "\r",
      " Run SAC_Energy_s27, Episode 693, Score: 0.71, Rolling score: 0.70, Max score: 0.80, Max rolling score: 0.73, collisions: 16   "
     ]
    },
    {
     "name": "stderr",
     "output_type": "stream",
     "text": [
      "\r",
      " 69%|██████▉   | 694/1000 [36:37<18:12,  3.57s/it]"
     ]
    },
    {
     "name": "stdout",
     "output_type": "stream",
     "text": [
      "\r",
      " Run SAC_Energy_s27, Episode 694, Score: 0.71, Rolling score: 0.70, Max score: 0.80, Max rolling score: 0.73, collisions: 16   "
     ]
    },
    {
     "name": "stderr",
     "output_type": "stream",
     "text": [
      "\r",
      " 70%|██████▉   | 695/1000 [36:44<22:36,  4.45s/it]"
     ]
    },
    {
     "name": "stdout",
     "output_type": "stream",
     "text": [
      "\r",
      " Run SAC_Energy_s27, Episode 695, Score: 0.70, Rolling score: 0.69, Max score: 0.80, Max rolling score: 0.73, collisions: 16   "
     ]
    },
    {
     "name": "stderr",
     "output_type": "stream",
     "text": [
      "\r",
      " 70%|██████▉   | 696/1000 [36:46<19:29,  3.85s/it]"
     ]
    },
    {
     "name": "stdout",
     "output_type": "stream",
     "text": [
      "\r",
      " Run SAC_Energy_s27, Episode 696, Score: 0.72, Rolling score: 0.70, Max score: 0.80, Max rolling score: 0.73, collisions: 16   "
     ]
    },
    {
     "name": "stderr",
     "output_type": "stream",
     "text": [
      "\r",
      " 70%|██████▉   | 697/1000 [36:52<21:41,  4.30s/it]"
     ]
    },
    {
     "name": "stdout",
     "output_type": "stream",
     "text": [
      "\r",
      " Run SAC_Energy_s27, Episode 697, Score: 0.72, Rolling score: 0.70, Max score: 0.80, Max rolling score: 0.73, collisions: 16   "
     ]
    },
    {
     "name": "stderr",
     "output_type": "stream",
     "text": [
      "\r",
      " 70%|██████▉   | 698/1000 [36:54<19:09,  3.81s/it]"
     ]
    },
    {
     "name": "stdout",
     "output_type": "stream",
     "text": [
      "\r",
      " Run SAC_Energy_s27, Episode 698, Score: 0.72, Rolling score: 0.70, Max score: 0.80, Max rolling score: 0.73, collisions: 16   "
     ]
    },
    {
     "name": "stderr",
     "output_type": "stream",
     "text": [
      "\r",
      " 70%|██████▉   | 699/1000 [37:00<21:55,  4.37s/it]"
     ]
    },
    {
     "name": "stdout",
     "output_type": "stream",
     "text": [
      "\r",
      " Run SAC_Energy_s27, Episode 699, Score: 0.66, Rolling score: 0.70, Max score: 0.80, Max rolling score: 0.73, collisions: 16   "
     ]
    },
    {
     "name": "stderr",
     "output_type": "stream",
     "text": [
      "\r",
      " 70%|███████   | 700/1000 [37:03<19:36,  3.92s/it]"
     ]
    },
    {
     "name": "stdout",
     "output_type": "stream",
     "text": [
      "\r",
      " Run SAC_Energy_s27, Episode 700, Score: 0.69, Rolling score: 0.69, Max score: 0.80, Max rolling score: 0.73, collisions: 16   "
     ]
    },
    {
     "name": "stderr",
     "output_type": "stream",
     "text": [
      "\r",
      " 70%|███████   | 701/1000 [37:05<17:32,  3.52s/it]"
     ]
    },
    {
     "name": "stdout",
     "output_type": "stream",
     "text": [
      "\r",
      " Run SAC_Energy_s27, Episode 701, Score: 0.71, Rolling score: 0.71, Max score: 0.80, Max rolling score: 0.73, collisions: 16   "
     ]
    },
    {
     "name": "stderr",
     "output_type": "stream",
     "text": [
      "\r",
      " 70%|███████   | 702/1000 [37:08<16:24,  3.30s/it]"
     ]
    },
    {
     "name": "stdout",
     "output_type": "stream",
     "text": [
      "\r",
      " Run SAC_Energy_s27, Episode 702, Score: 0.64, Rolling score: 0.70, Max score: 0.80, Max rolling score: 0.73, collisions: 16   "
     ]
    },
    {
     "name": "stderr",
     "output_type": "stream",
     "text": [
      "\r",
      " 70%|███████   | 703/1000 [37:11<15:11,  3.07s/it]"
     ]
    },
    {
     "name": "stdout",
     "output_type": "stream",
     "text": [
      "\r",
      " Run SAC_Energy_s27, Episode 703, Score: 0.66, Rolling score: 0.69, Max score: 0.80, Max rolling score: 0.73, collisions: 16   "
     ]
    },
    {
     "name": "stderr",
     "output_type": "stream",
     "text": [
      "\r",
      " 70%|███████   | 704/1000 [37:14<15:21,  3.11s/it]"
     ]
    },
    {
     "name": "stdout",
     "output_type": "stream",
     "text": [
      "\r",
      " Run SAC_Energy_s27, Episode 704, Score: 0.72, Rolling score: 0.70, Max score: 0.80, Max rolling score: 0.73, collisions: 16   "
     ]
    },
    {
     "name": "stderr",
     "output_type": "stream",
     "text": [
      "\r",
      " 70%|███████   | 705/1000 [37:19<17:42,  3.60s/it]"
     ]
    },
    {
     "name": "stdout",
     "output_type": "stream",
     "text": [
      "\r",
      " Run SAC_Energy_s27, Episode 705, Score: 0.71, Rolling score: 0.70, Max score: 0.80, Max rolling score: 0.73, collisions: 16   "
     ]
    },
    {
     "name": "stderr",
     "output_type": "stream",
     "text": [
      "\r",
      " 71%|███████   | 706/1000 [37:22<17:56,  3.66s/it]"
     ]
    },
    {
     "name": "stdout",
     "output_type": "stream",
     "text": [
      "\r",
      " Run SAC_Energy_s27, Episode 706, Score: 0.72, Rolling score: 0.70, Max score: 0.80, Max rolling score: 0.73, collisions: 16   "
     ]
    },
    {
     "name": "stderr",
     "output_type": "stream",
     "text": [
      "\r",
      " 71%|███████   | 707/1000 [37:27<19:41,  4.03s/it]"
     ]
    },
    {
     "name": "stdout",
     "output_type": "stream",
     "text": [
      "\r",
      " Run SAC_Energy_s27, Episode 707, Score: 0.71, Rolling score: 0.70, Max score: 0.80, Max rolling score: 0.73, collisions: 16   "
     ]
    },
    {
     "name": "stderr",
     "output_type": "stream",
     "text": [
      "\r",
      " 71%|███████   | 708/1000 [37:30<16:57,  3.48s/it]"
     ]
    },
    {
     "name": "stdout",
     "output_type": "stream",
     "text": [
      "\r",
      " Run SAC_Energy_s27, Episode 708, Score: 0.68, Rolling score: 0.69, Max score: 0.80, Max rolling score: 0.73, collisions: 16   "
     ]
    },
    {
     "name": "stderr",
     "output_type": "stream",
     "text": [
      "\r",
      " 71%|███████   | 709/1000 [37:34<17:41,  3.65s/it]"
     ]
    },
    {
     "name": "stdout",
     "output_type": "stream",
     "text": [
      "\r",
      " Run SAC_Energy_s27, Episode 709, Score: 0.72, Rolling score: 0.70, Max score: 0.80, Max rolling score: 0.73, collisions: 16   "
     ]
    },
    {
     "name": "stderr",
     "output_type": "stream",
     "text": [
      "\r",
      " 71%|███████   | 710/1000 [37:38<19:24,  4.02s/it]"
     ]
    },
    {
     "name": "stdout",
     "output_type": "stream",
     "text": [
      "\r",
      " Run SAC_Energy_s27, Episode 710, Score: 0.72, Rolling score: 0.70, Max score: 0.80, Max rolling score: 0.73, collisions: 16   "
     ]
    },
    {
     "name": "stderr",
     "output_type": "stream",
     "text": [
      "\r",
      " 71%|███████   | 711/1000 [37:43<19:34,  4.06s/it]"
     ]
    },
    {
     "name": "stdout",
     "output_type": "stream",
     "text": [
      "\r",
      " Run SAC_Energy_s27, Episode 711, Score: 0.71, Rolling score: 0.70, Max score: 0.80, Max rolling score: 0.73, collisions: 16   "
     ]
    },
    {
     "name": "stderr",
     "output_type": "stream",
     "text": [
      "\r",
      " 71%|███████   | 712/1000 [37:49<22:18,  4.65s/it]"
     ]
    },
    {
     "name": "stdout",
     "output_type": "stream",
     "text": [
      "\r",
      " Run SAC_Energy_s27, Episode 712, Score: 0.69, Rolling score: 0.71, Max score: 0.80, Max rolling score: 0.73, collisions: 16   "
     ]
    },
    {
     "name": "stderr",
     "output_type": "stream",
     "text": [
      "\r",
      " 71%|███████▏  | 713/1000 [37:52<20:02,  4.19s/it]"
     ]
    },
    {
     "name": "stdout",
     "output_type": "stream",
     "text": [
      "\r",
      " Run SAC_Energy_s27, Episode 713, Score: 0.72, Rolling score: 0.71, Max score: 0.80, Max rolling score: 0.73, collisions: 16   "
     ]
    },
    {
     "name": "stderr",
     "output_type": "stream",
     "text": [
      "\r",
      " 71%|███████▏  | 714/1000 [37:55<18:07,  3.80s/it]"
     ]
    },
    {
     "name": "stdout",
     "output_type": "stream",
     "text": [
      "\r",
      " Run SAC_Energy_s27, Episode 714, Score: 0.72, Rolling score: 0.71, Max score: 0.80, Max rolling score: 0.73, collisions: 16   "
     ]
    },
    {
     "name": "stderr",
     "output_type": "stream",
     "text": [
      "\r",
      " 72%|███████▏  | 715/1000 [37:58<17:25,  3.67s/it]"
     ]
    },
    {
     "name": "stdout",
     "output_type": "stream",
     "text": [
      "\r",
      " Run SAC_Energy_s27, Episode 715, Score: 0.71, Rolling score: 0.71, Max score: 0.80, Max rolling score: 0.73, collisions: 16   "
     ]
    },
    {
     "name": "stderr",
     "output_type": "stream",
     "text": [
      "\r",
      " 72%|███████▏  | 716/1000 [38:01<16:37,  3.51s/it]"
     ]
    },
    {
     "name": "stdout",
     "output_type": "stream",
     "text": [
      "\r",
      " Run SAC_Energy_s27, Episode 716, Score: 0.73, Rolling score: 0.71, Max score: 0.80, Max rolling score: 0.73, collisions: 16   "
     ]
    },
    {
     "name": "stderr",
     "output_type": "stream",
     "text": [
      "\r",
      " 72%|███████▏  | 717/1000 [38:08<21:06,  4.47s/it]"
     ]
    },
    {
     "name": "stdout",
     "output_type": "stream",
     "text": [
      "\r",
      " Run SAC_Energy_s27, Episode 717, Score: 0.65, Rolling score: 0.71, Max score: 0.80, Max rolling score: 0.73, collisions: 16   "
     ]
    },
    {
     "name": "stderr",
     "output_type": "stream",
     "text": [
      "\r",
      " 72%|███████▏  | 718/1000 [38:10<18:08,  3.86s/it]"
     ]
    },
    {
     "name": "stdout",
     "output_type": "stream",
     "text": [
      "\r",
      " Run SAC_Energy_s27, Episode 718, Score: 0.69, Rolling score: 0.71, Max score: 0.80, Max rolling score: 0.73, collisions: 16   "
     ]
    },
    {
     "name": "stderr",
     "output_type": "stream",
     "text": [
      "\r",
      " 72%|███████▏  | 719/1000 [38:13<17:08,  3.66s/it]"
     ]
    },
    {
     "name": "stdout",
     "output_type": "stream",
     "text": [
      "\r",
      " Run SAC_Energy_s27, Episode 719, Score: 0.71, Rolling score: 0.70, Max score: 0.80, Max rolling score: 0.73, collisions: 16   "
     ]
    },
    {
     "name": "stderr",
     "output_type": "stream",
     "text": [
      "\r",
      " 72%|███████▏  | 720/1000 [38:17<17:17,  3.70s/it]"
     ]
    },
    {
     "name": "stdout",
     "output_type": "stream",
     "text": [
      "\r",
      " Run SAC_Energy_s27, Episode 720, Score: 0.71, Rolling score: 0.70, Max score: 0.80, Max rolling score: 0.73, collisions: 16   "
     ]
    },
    {
     "name": "stderr",
     "output_type": "stream",
     "text": [
      "\r",
      " 72%|███████▏  | 721/1000 [38:20<15:57,  3.43s/it]"
     ]
    },
    {
     "name": "stdout",
     "output_type": "stream",
     "text": [
      "\r",
      " Run SAC_Energy_s27, Episode 721, Score: 0.72, Rolling score: 0.70, Max score: 0.80, Max rolling score: 0.73, collisions: 16   "
     ]
    },
    {
     "name": "stderr",
     "output_type": "stream",
     "text": [
      "\r",
      " 72%|███████▏  | 722/1000 [38:23<15:20,  3.31s/it]"
     ]
    },
    {
     "name": "stdout",
     "output_type": "stream",
     "text": [
      "\r",
      " Run SAC_Energy_s27, Episode 722, Score: 0.57, Rolling score: 0.69, Max score: 0.80, Max rolling score: 0.73, collisions: 16   "
     ]
    },
    {
     "name": "stderr",
     "output_type": "stream",
     "text": [
      "\r",
      " 72%|███████▏  | 723/1000 [38:27<16:24,  3.56s/it]"
     ]
    },
    {
     "name": "stdout",
     "output_type": "stream",
     "text": [
      "\r",
      " Run SAC_Energy_s27, Episode 723, Score: 0.73, Rolling score: 0.69, Max score: 0.80, Max rolling score: 0.73, collisions: 16   "
     ]
    },
    {
     "name": "stderr",
     "output_type": "stream",
     "text": [
      "\r",
      " 72%|███████▏  | 724/1000 [38:31<17:16,  3.76s/it]"
     ]
    },
    {
     "name": "stdout",
     "output_type": "stream",
     "text": [
      "\r",
      " Run SAC_Energy_s27, Episode 724, Score: 0.72, Rolling score: 0.69, Max score: 0.80, Max rolling score: 0.73, collisions: 16   "
     ]
    },
    {
     "name": "stderr",
     "output_type": "stream",
     "text": [
      "\r",
      " 72%|███████▎  | 725/1000 [38:35<16:48,  3.67s/it]"
     ]
    },
    {
     "name": "stdout",
     "output_type": "stream",
     "text": [
      "\r",
      " Run SAC_Energy_s27, Episode 725, Score: 0.65, Rolling score: 0.69, Max score: 0.80, Max rolling score: 0.73, collisions: 16   "
     ]
    },
    {
     "name": "stderr",
     "output_type": "stream",
     "text": [
      "\r",
      " 73%|███████▎  | 726/1000 [38:38<15:50,  3.47s/it]"
     ]
    },
    {
     "name": "stdout",
     "output_type": "stream",
     "text": [
      "\r",
      " Run SAC_Energy_s27, Episode 726, Score: 0.71, Rolling score: 0.69, Max score: 0.80, Max rolling score: 0.73, collisions: 16   "
     ]
    },
    {
     "name": "stderr",
     "output_type": "stream",
     "text": [
      "\r",
      " 73%|███████▎  | 727/1000 [38:40<14:23,  3.16s/it]"
     ]
    },
    {
     "name": "stdout",
     "output_type": "stream",
     "text": [
      "\r",
      " Run SAC_Energy_s27, Episode 727, Score: 0.72, Rolling score: 0.69, Max score: 0.80, Max rolling score: 0.73, collisions: 16   "
     ]
    },
    {
     "name": "stderr",
     "output_type": "stream",
     "text": [
      "\r",
      " 73%|███████▎  | 728/1000 [38:43<13:40,  3.02s/it]"
     ]
    },
    {
     "name": "stdout",
     "output_type": "stream",
     "text": [
      "\r",
      " Run SAC_Energy_s27, Episode 728, Score: 0.71, Rolling score: 0.69, Max score: 0.80, Max rolling score: 0.73, collisions: 16   "
     ]
    },
    {
     "name": "stderr",
     "output_type": "stream",
     "text": [
      "\r",
      " 73%|███████▎  | 729/1000 [38:46<13:09,  2.91s/it]"
     ]
    },
    {
     "name": "stdout",
     "output_type": "stream",
     "text": [
      "\r",
      " Run SAC_Energy_s27, Episode 729, Score: 0.57, Rolling score: 0.68, Max score: 0.80, Max rolling score: 0.73, collisions: 16   "
     ]
    },
    {
     "name": "stderr",
     "output_type": "stream",
     "text": [
      "\r",
      " 73%|███████▎  | 730/1000 [38:48<12:14,  2.72s/it]"
     ]
    },
    {
     "name": "stdout",
     "output_type": "stream",
     "text": [
      "\r",
      " Run SAC_Energy_s27, Episode 730, Score: 0.68, Rolling score: 0.68, Max score: 0.80, Max rolling score: 0.73, collisions: 16   "
     ]
    },
    {
     "name": "stderr",
     "output_type": "stream",
     "text": [
      "\r",
      " 73%|███████▎  | 731/1000 [38:53<15:12,  3.39s/it]"
     ]
    },
    {
     "name": "stdout",
     "output_type": "stream",
     "text": [
      "\r",
      " Run SAC_Energy_s27, Episode 731, Score: 0.66, Rolling score: 0.67, Max score: 0.80, Max rolling score: 0.73, collisions: 16   "
     ]
    },
    {
     "name": "stderr",
     "output_type": "stream",
     "text": [
      "\r",
      " 73%|███████▎  | 732/1000 [38:57<16:41,  3.74s/it]"
     ]
    },
    {
     "name": "stdout",
     "output_type": "stream",
     "text": [
      "\r",
      " Run SAC_Energy_s27, Episode 732, Score: 0.66, Rolling score: 0.68, Max score: 0.80, Max rolling score: 0.73, collisions: 16   "
     ]
    },
    {
     "name": "stderr",
     "output_type": "stream",
     "text": [
      "\r",
      " 73%|███████▎  | 733/1000 [39:00<15:03,  3.38s/it]"
     ]
    },
    {
     "name": "stdout",
     "output_type": "stream",
     "text": [
      "\r",
      " Run SAC_Energy_s27, Episode 733, Score: 0.69, Rolling score: 0.68, Max score: 0.80, Max rolling score: 0.73, collisions: 16   "
     ]
    },
    {
     "name": "stderr",
     "output_type": "stream",
     "text": [
      "\r",
      " 73%|███████▎  | 734/1000 [39:03<14:43,  3.32s/it]"
     ]
    },
    {
     "name": "stdout",
     "output_type": "stream",
     "text": [
      "\r",
      " Run SAC_Energy_s27, Episode 734, Score: 0.72, Rolling score: 0.68, Max score: 0.80, Max rolling score: 0.73, collisions: 16   "
     ]
    },
    {
     "name": "stderr",
     "output_type": "stream",
     "text": [
      "\r",
      " 74%|███████▎  | 735/1000 [39:07<15:51,  3.59s/it]"
     ]
    },
    {
     "name": "stdout",
     "output_type": "stream",
     "text": [
      "\r",
      " Run SAC_Energy_s27, Episode 735, Score: 0.74, Rolling score: 0.69, Max score: 0.80, Max rolling score: 0.73, collisions: 16   "
     ]
    },
    {
     "name": "stderr",
     "output_type": "stream",
     "text": [
      "\r",
      " 74%|███████▎  | 736/1000 [39:12<16:58,  3.86s/it]"
     ]
    },
    {
     "name": "stdout",
     "output_type": "stream",
     "text": [
      "\r",
      " Run SAC_Energy_s27, Episode 736, Score: 0.72, Rolling score: 0.69, Max score: 0.80, Max rolling score: 0.73, collisions: 16   "
     ]
    },
    {
     "name": "stderr",
     "output_type": "stream",
     "text": [
      "\r",
      " 74%|███████▎  | 737/1000 [39:16<16:41,  3.81s/it]"
     ]
    },
    {
     "name": "stdout",
     "output_type": "stream",
     "text": [
      "\r",
      " Run SAC_Energy_s27, Episode 737, Score: 0.66, Rolling score: 0.68, Max score: 0.80, Max rolling score: 0.73, collisions: 16   "
     ]
    },
    {
     "name": "stderr",
     "output_type": "stream",
     "text": [
      "\r",
      " 74%|███████▍  | 738/1000 [39:18<15:07,  3.46s/it]"
     ]
    },
    {
     "name": "stdout",
     "output_type": "stream",
     "text": [
      "\r",
      " Run SAC_Energy_s27, Episode 738, Score: 0.72, Rolling score: 0.68, Max score: 0.80, Max rolling score: 0.73, collisions: 16   "
     ]
    },
    {
     "name": "stderr",
     "output_type": "stream",
     "text": [
      "\r",
      " 74%|███████▍  | 739/1000 [39:21<13:52,  3.19s/it]"
     ]
    },
    {
     "name": "stdout",
     "output_type": "stream",
     "text": [
      "\r",
      " Run SAC_Energy_s27, Episode 739, Score: 0.74, Rolling score: 0.70, Max score: 0.80, Max rolling score: 0.73, collisions: 16   "
     ]
    },
    {
     "name": "stderr",
     "output_type": "stream",
     "text": [
      "\r",
      " 74%|███████▍  | 740/1000 [39:26<16:26,  3.80s/it]"
     ]
    },
    {
     "name": "stdout",
     "output_type": "stream",
     "text": [
      "\r",
      " Run SAC_Energy_s27, Episode 740, Score: 0.71, Rolling score: 0.70, Max score: 0.80, Max rolling score: 0.73, collisions: 16   "
     ]
    },
    {
     "name": "stderr",
     "output_type": "stream",
     "text": [
      "\r",
      " 74%|███████▍  | 741/1000 [39:32<19:19,  4.48s/it]"
     ]
    },
    {
     "name": "stdout",
     "output_type": "stream",
     "text": [
      "\r",
      " Run SAC_Energy_s27, Episode 741, Score: 0.71, Rolling score: 0.71, Max score: 0.80, Max rolling score: 0.73, collisions: 16   "
     ]
    },
    {
     "name": "stderr",
     "output_type": "stream",
     "text": [
      "\r",
      " 74%|███████▍  | 742/1000 [39:38<21:24,  4.98s/it]"
     ]
    },
    {
     "name": "stdout",
     "output_type": "stream",
     "text": [
      "\r",
      " Run SAC_Energy_s27, Episode 742, Score: 0.68, Rolling score: 0.71, Max score: 0.80, Max rolling score: 0.73, collisions: 16   "
     ]
    },
    {
     "name": "stderr",
     "output_type": "stream",
     "text": [
      "\r",
      " 74%|███████▍  | 743/1000 [39:41<17:49,  4.16s/it]"
     ]
    },
    {
     "name": "stdout",
     "output_type": "stream",
     "text": [
      "\r",
      " Run SAC_Energy_s27, Episode 743, Score: 0.71, Rolling score: 0.71, Max score: 0.80, Max rolling score: 0.73, collisions: 16   "
     ]
    },
    {
     "name": "stderr",
     "output_type": "stream",
     "text": [
      "\r",
      " 74%|███████▍  | 744/1000 [39:44<17:13,  4.04s/it]"
     ]
    },
    {
     "name": "stdout",
     "output_type": "stream",
     "text": [
      "\r",
      " Run SAC_Energy_s27, Episode 744, Score: 0.72, Rolling score: 0.71, Max score: 0.80, Max rolling score: 0.73, collisions: 16   "
     ]
    },
    {
     "name": "stderr",
     "output_type": "stream",
     "text": [
      "\r",
      " 74%|███████▍  | 745/1000 [39:48<16:51,  3.97s/it]"
     ]
    },
    {
     "name": "stdout",
     "output_type": "stream",
     "text": [
      "\r",
      " Run SAC_Energy_s27, Episode 745, Score: 0.73, Rolling score: 0.71, Max score: 0.80, Max rolling score: 0.73, collisions: 16   "
     ]
    },
    {
     "name": "stderr",
     "output_type": "stream",
     "text": [
      "\r",
      " 75%|███████▍  | 746/1000 [39:51<15:14,  3.60s/it]"
     ]
    },
    {
     "name": "stdout",
     "output_type": "stream",
     "text": [
      "\r",
      " Run SAC_Energy_s27, Episode 746, Score: 0.73, Rolling score: 0.71, Max score: 0.80, Max rolling score: 0.73, collisions: 16   "
     ]
    },
    {
     "name": "stderr",
     "output_type": "stream",
     "text": [
      "\r",
      " 75%|███████▍  | 747/1000 [39:54<14:24,  3.42s/it]"
     ]
    },
    {
     "name": "stdout",
     "output_type": "stream",
     "text": [
      "\r",
      " Run SAC_Energy_s27, Episode 747, Score: 0.71, Rolling score: 0.72, Max score: 0.80, Max rolling score: 0.73, collisions: 16   "
     ]
    },
    {
     "name": "stderr",
     "output_type": "stream",
     "text": [
      "\r",
      " 75%|███████▍  | 748/1000 [39:58<15:01,  3.58s/it]"
     ]
    },
    {
     "name": "stdout",
     "output_type": "stream",
     "text": [
      "\r",
      " Run SAC_Energy_s27, Episode 748, Score: 0.72, Rolling score: 0.72, Max score: 0.80, Max rolling score: 0.73, collisions: 16   "
     ]
    },
    {
     "name": "stderr",
     "output_type": "stream",
     "text": [
      "\r",
      " 75%|███████▍  | 749/1000 [40:01<15:01,  3.59s/it]"
     ]
    },
    {
     "name": "stdout",
     "output_type": "stream",
     "text": [
      "\r",
      " Run SAC_Energy_s27, Episode 749, Score: 0.59, Rolling score: 0.70, Max score: 0.80, Max rolling score: 0.73, collisions: 16   "
     ]
    },
    {
     "name": "stderr",
     "output_type": "stream",
     "text": [
      "\r",
      " 75%|███████▌  | 750/1000 [40:04<14:07,  3.39s/it]"
     ]
    },
    {
     "name": "stdout",
     "output_type": "stream",
     "text": [
      "\r",
      " Run SAC_Energy_s27, Episode 750, Score: 0.74, Rolling score: 0.70, Max score: 0.80, Max rolling score: 0.73, collisions: 16   "
     ]
    },
    {
     "name": "stderr",
     "output_type": "stream",
     "text": [
      "\r",
      " 75%|███████▌  | 751/1000 [40:09<16:17,  3.93s/it]"
     ]
    },
    {
     "name": "stdout",
     "output_type": "stream",
     "text": [
      "\r",
      " Run SAC_Energy_s27, Episode 751, Score: 0.64, Rolling score: 0.70, Max score: 0.80, Max rolling score: 0.73, collisions: 16   "
     ]
    },
    {
     "name": "stderr",
     "output_type": "stream",
     "text": [
      "\r",
      " 75%|███████▌  | 752/1000 [40:13<15:15,  3.69s/it]"
     ]
    },
    {
     "name": "stdout",
     "output_type": "stream",
     "text": [
      "\r",
      " Run SAC_Energy_s27, Episode 752, Score: 0.72, Rolling score: 0.70, Max score: 0.80, Max rolling score: 0.73, collisions: 16   "
     ]
    },
    {
     "name": "stderr",
     "output_type": "stream",
     "text": [
      "\r",
      " 75%|███████▌  | 753/1000 [40:17<15:32,  3.77s/it]"
     ]
    },
    {
     "name": "stdout",
     "output_type": "stream",
     "text": [
      "\r",
      " Run SAC_Energy_s27, Episode 753, Score: 0.74, Rolling score: 0.70, Max score: 0.80, Max rolling score: 0.73, collisions: 16   "
     ]
    },
    {
     "name": "stderr",
     "output_type": "stream",
     "text": [
      "\r",
      " 75%|███████▌  | 754/1000 [40:20<15:08,  3.69s/it]"
     ]
    },
    {
     "name": "stdout",
     "output_type": "stream",
     "text": [
      "\r",
      " Run SAC_Energy_s27, Episode 754, Score: 0.73, Rolling score: 0.70, Max score: 0.80, Max rolling score: 0.73, collisions: 16   "
     ]
    },
    {
     "name": "stderr",
     "output_type": "stream",
     "text": [
      "\r",
      " 76%|███████▌  | 755/1000 [40:25<16:23,  4.01s/it]"
     ]
    },
    {
     "name": "stdout",
     "output_type": "stream",
     "text": [
      "\r",
      " Run SAC_Energy_s27, Episode 755, Score: 0.52, Rolling score: 0.68, Max score: 0.80, Max rolling score: 0.73, collisions: 16   "
     ]
    },
    {
     "name": "stderr",
     "output_type": "stream",
     "text": [
      "\r",
      " 76%|███████▌  | 756/1000 [40:27<14:32,  3.58s/it]"
     ]
    },
    {
     "name": "stdout",
     "output_type": "stream",
     "text": [
      "\r",
      " Run SAC_Energy_s27, Episode 756, Score: 0.72, Rolling score: 0.68, Max score: 0.80, Max rolling score: 0.73, collisions: 16   "
     ]
    },
    {
     "name": "stderr",
     "output_type": "stream",
     "text": [
      "\r",
      " 76%|███████▌  | 757/1000 [40:36<20:15,  5.00s/it]"
     ]
    },
    {
     "name": "stdout",
     "output_type": "stream",
     "text": [
      "\r",
      " Run SAC_Energy_s27, Episode 757, Score: 0.74, Rolling score: 0.69, Max score: 0.80, Max rolling score: 0.73, collisions: 16   "
     ]
    },
    {
     "name": "stderr",
     "output_type": "stream",
     "text": [
      "\r",
      " 76%|███████▌  | 758/1000 [40:41<20:34,  5.10s/it]"
     ]
    },
    {
     "name": "stdout",
     "output_type": "stream",
     "text": [
      "\r",
      " Run SAC_Energy_s27, Episode 758, Score: 0.72, Rolling score: 0.69, Max score: 0.80, Max rolling score: 0.73, collisions: 16   "
     ]
    },
    {
     "name": "stderr",
     "output_type": "stream",
     "text": [
      "\r",
      " 76%|███████▌  | 759/1000 [40:46<20:50,  5.19s/it]"
     ]
    },
    {
     "name": "stdout",
     "output_type": "stream",
     "text": [
      "\r",
      " Run SAC_Energy_s27, Episode 759, Score: 0.69, Rolling score: 0.70, Max score: 0.80, Max rolling score: 0.73, collisions: 16   "
     ]
    },
    {
     "name": "stderr",
     "output_type": "stream",
     "text": [
      "\r",
      " 76%|███████▌  | 760/1000 [40:49<18:04,  4.52s/it]"
     ]
    },
    {
     "name": "stdout",
     "output_type": "stream",
     "text": [
      "\r",
      " Run SAC_Energy_s27, Episode 760, Score: 0.73, Rolling score: 0.70, Max score: 0.80, Max rolling score: 0.73, collisions: 16   "
     ]
    },
    {
     "name": "stderr",
     "output_type": "stream",
     "text": [
      "\r",
      " 76%|███████▌  | 761/1000 [40:52<16:02,  4.03s/it]"
     ]
    },
    {
     "name": "stdout",
     "output_type": "stream",
     "text": [
      "\r",
      " Run SAC_Energy_s27, Episode 761, Score: 0.71, Rolling score: 0.70, Max score: 0.80, Max rolling score: 0.73, collisions: 16   "
     ]
    },
    {
     "name": "stderr",
     "output_type": "stream",
     "text": [
      "\r",
      " 76%|███████▌  | 762/1000 [40:55<14:21,  3.62s/it]"
     ]
    },
    {
     "name": "stdout",
     "output_type": "stream",
     "text": [
      "\r",
      " Run SAC_Energy_s27, Episode 762, Score: 0.64, Rolling score: 0.69, Max score: 0.80, Max rolling score: 0.73, collisions: 16   "
     ]
    },
    {
     "name": "stderr",
     "output_type": "stream",
     "text": [
      "\r",
      " 76%|███████▋  | 763/1000 [40:57<12:51,  3.26s/it]"
     ]
    },
    {
     "name": "stdout",
     "output_type": "stream",
     "text": [
      "\r",
      " Run SAC_Energy_s27, Episode 763, Score: 0.72, Rolling score: 0.69, Max score: 0.80, Max rolling score: 0.73, collisions: 16   "
     ]
    },
    {
     "name": "stderr",
     "output_type": "stream",
     "text": [
      "\r",
      " 76%|███████▋  | 764/1000 [41:02<14:55,  3.79s/it]"
     ]
    },
    {
     "name": "stdout",
     "output_type": "stream",
     "text": [
      "\r",
      " Run SAC_Energy_s27, Episode 764, Score: 0.71, Rolling score: 0.69, Max score: 0.80, Max rolling score: 0.73, collisions: 16   "
     ]
    },
    {
     "name": "stderr",
     "output_type": "stream",
     "text": [
      "\r",
      " 76%|███████▋  | 765/1000 [41:10<18:57,  4.84s/it]"
     ]
    },
    {
     "name": "stdout",
     "output_type": "stream",
     "text": [
      "\r",
      " Run SAC_Energy_s27, Episode 765, Score: 0.64, Rolling score: 0.70, Max score: 0.80, Max rolling score: 0.73, collisions: 16   "
     ]
    },
    {
     "name": "stderr",
     "output_type": "stream",
     "text": [
      "\r",
      " 77%|███████▋  | 766/1000 [41:12<16:04,  4.12s/it]"
     ]
    },
    {
     "name": "stdout",
     "output_type": "stream",
     "text": [
      "\r",
      " Run SAC_Energy_s27, Episode 766, Score: 0.75, Rolling score: 0.70, Max score: 0.80, Max rolling score: 0.73, collisions: 16   "
     ]
    },
    {
     "name": "stderr",
     "output_type": "stream",
     "text": [
      "\r",
      " 77%|███████▋  | 767/1000 [41:16<15:43,  4.05s/it]"
     ]
    },
    {
     "name": "stdout",
     "output_type": "stream",
     "text": [
      "\r",
      " Run SAC_Energy_s27, Episode 767, Score: 0.58, Rolling score: 0.69, Max score: 0.80, Max rolling score: 0.73, collisions: 16   "
     ]
    },
    {
     "name": "stderr",
     "output_type": "stream",
     "text": [
      "\r",
      " 77%|███████▋  | 768/1000 [41:18<13:35,  3.51s/it]"
     ]
    },
    {
     "name": "stdout",
     "output_type": "stream",
     "text": [
      "\r",
      " Run SAC_Energy_s27, Episode 768, Score: 0.74, Rolling score: 0.69, Max score: 0.80, Max rolling score: 0.73, collisions: 16   "
     ]
    },
    {
     "name": "stderr",
     "output_type": "stream",
     "text": [
      "\r",
      " 77%|███████▋  | 769/1000 [41:22<13:15,  3.44s/it]"
     ]
    },
    {
     "name": "stdout",
     "output_type": "stream",
     "text": [
      "\r",
      " Run SAC_Energy_s27, Episode 769, Score: 0.67, Rolling score: 0.69, Max score: 0.80, Max rolling score: 0.73, collisions: 16   "
     ]
    },
    {
     "name": "stderr",
     "output_type": "stream",
     "text": [
      "\r",
      " 77%|███████▋  | 770/1000 [41:25<12:59,  3.39s/it]"
     ]
    },
    {
     "name": "stdout",
     "output_type": "stream",
     "text": [
      "\r",
      " Run SAC_Energy_s27, Episode 770, Score: 0.71, Rolling score: 0.69, Max score: 0.80, Max rolling score: 0.73, collisions: 16   "
     ]
    },
    {
     "name": "stderr",
     "output_type": "stream",
     "text": [
      "\r",
      " 77%|███████▋  | 771/1000 [41:27<12:05,  3.17s/it]"
     ]
    },
    {
     "name": "stdout",
     "output_type": "stream",
     "text": [
      "\r",
      " Run SAC_Energy_s27, Episode 771, Score: 0.70, Rolling score: 0.68, Max score: 0.80, Max rolling score: 0.73, collisions: 16   "
     ]
    },
    {
     "name": "stderr",
     "output_type": "stream",
     "text": [
      "\r",
      " 77%|███████▋  | 772/1000 [41:31<12:05,  3.18s/it]"
     ]
    },
    {
     "name": "stdout",
     "output_type": "stream",
     "text": [
      "\r",
      " Run SAC_Energy_s27, Episode 772, Score: 0.72, Rolling score: 0.69, Max score: 0.80, Max rolling score: 0.73, collisions: 16   "
     ]
    },
    {
     "name": "stderr",
     "output_type": "stream",
     "text": [
      "\r",
      " 77%|███████▋  | 773/1000 [41:34<12:16,  3.24s/it]"
     ]
    },
    {
     "name": "stdout",
     "output_type": "stream",
     "text": [
      "\r",
      " Run SAC_Energy_s27, Episode 773, Score: 0.72, Rolling score: 0.69, Max score: 0.80, Max rolling score: 0.73, collisions: 16   "
     ]
    },
    {
     "name": "stderr",
     "output_type": "stream",
     "text": [
      "\r",
      " 77%|███████▋  | 774/1000 [41:38<13:05,  3.47s/it]"
     ]
    },
    {
     "name": "stdout",
     "output_type": "stream",
     "text": [
      "\r",
      " Run SAC_Energy_s27, Episode 774, Score: 0.68, Rolling score: 0.69, Max score: 0.80, Max rolling score: 0.73, collisions: 16   "
     ]
    },
    {
     "name": "stderr",
     "output_type": "stream",
     "text": [
      "\r",
      " 78%|███████▊  | 775/1000 [41:42<13:58,  3.72s/it]"
     ]
    },
    {
     "name": "stdout",
     "output_type": "stream",
     "text": [
      "\r",
      " Run SAC_Energy_s27, Episode 775, Score: 0.71, Rolling score: 0.70, Max score: 0.80, Max rolling score: 0.73, collisions: 16   "
     ]
    },
    {
     "name": "stderr",
     "output_type": "stream",
     "text": [
      "\r",
      " 78%|███████▊  | 776/1000 [41:48<16:25,  4.40s/it]"
     ]
    },
    {
     "name": "stdout",
     "output_type": "stream",
     "text": [
      "\r",
      " Run SAC_Energy_s27, Episode 776, Score: 0.74, Rolling score: 0.70, Max score: 0.80, Max rolling score: 0.73, collisions: 16   "
     ]
    },
    {
     "name": "stderr",
     "output_type": "stream",
     "text": [
      "\r",
      " 78%|███████▊  | 777/1000 [41:54<17:21,  4.67s/it]"
     ]
    },
    {
     "name": "stdout",
     "output_type": "stream",
     "text": [
      "\r",
      " Run SAC_Energy_s27, Episode 777, Score: 0.56, Rolling score: 0.69, Max score: 0.80, Max rolling score: 0.73, collisions: 16   "
     ]
    },
    {
     "name": "stderr",
     "output_type": "stream",
     "text": [
      "\r",
      " 78%|███████▊  | 778/1000 [41:57<15:39,  4.23s/it]"
     ]
    },
    {
     "name": "stdout",
     "output_type": "stream",
     "text": [
      "\r",
      " Run SAC_Energy_s27, Episode 778, Score: 0.72, Rolling score: 0.69, Max score: 0.80, Max rolling score: 0.73, collisions: 16   "
     ]
    },
    {
     "name": "stderr",
     "output_type": "stream",
     "text": [
      "\r",
      " 78%|███████▊  | 779/1000 [42:04<18:21,  4.98s/it]"
     ]
    },
    {
     "name": "stdout",
     "output_type": "stream",
     "text": [
      "\r",
      " Run SAC_Energy_s27, Episode 779, Score: 0.69, Rolling score: 0.69, Max score: 0.80, Max rolling score: 0.73, collisions: 16   "
     ]
    },
    {
     "name": "stderr",
     "output_type": "stream",
     "text": [
      "\r",
      " 78%|███████▊  | 780/1000 [42:07<16:06,  4.39s/it]"
     ]
    },
    {
     "name": "stdout",
     "output_type": "stream",
     "text": [
      "\r",
      " Run SAC_Energy_s27, Episode 780, Score: 0.72, Rolling score: 0.70, Max score: 0.80, Max rolling score: 0.73, collisions: 16   "
     ]
    },
    {
     "name": "stderr",
     "output_type": "stream",
     "text": [
      "\r",
      " 78%|███████▊  | 781/1000 [42:11<15:51,  4.34s/it]"
     ]
    },
    {
     "name": "stdout",
     "output_type": "stream",
     "text": [
      "\r",
      " Run SAC_Energy_s27, Episode 781, Score: 0.69, Rolling score: 0.69, Max score: 0.80, Max rolling score: 0.73, collisions: 16   "
     ]
    },
    {
     "name": "stderr",
     "output_type": "stream",
     "text": [
      "\r",
      " 78%|███████▊  | 782/1000 [42:14<14:25,  3.97s/it]"
     ]
    },
    {
     "name": "stdout",
     "output_type": "stream",
     "text": [
      "\r",
      " Run SAC_Energy_s27, Episode 782, Score: 0.69, Rolling score: 0.69, Max score: 0.80, Max rolling score: 0.73, collisions: 16   "
     ]
    },
    {
     "name": "stderr",
     "output_type": "stream",
     "text": [
      "\r",
      " 78%|███████▊  | 783/1000 [42:17<13:28,  3.72s/it]"
     ]
    },
    {
     "name": "stdout",
     "output_type": "stream",
     "text": [
      "\r",
      " Run SAC_Energy_s27, Episode 783, Score: 0.71, Rolling score: 0.69, Max score: 0.80, Max rolling score: 0.73, collisions: 16   "
     ]
    },
    {
     "name": "stderr",
     "output_type": "stream",
     "text": [
      "\r",
      " 78%|███████▊  | 784/1000 [42:19<11:44,  3.26s/it]"
     ]
    },
    {
     "name": "stdout",
     "output_type": "stream",
     "text": [
      "\r",
      " Run SAC_Energy_s27, Episode 784, Score: 0.72, Rolling score: 0.69, Max score: 0.80, Max rolling score: 0.73, collisions: 16   "
     ]
    },
    {
     "name": "stderr",
     "output_type": "stream",
     "text": [
      "\r",
      " 78%|███████▊  | 785/1000 [42:23<11:42,  3.27s/it]"
     ]
    },
    {
     "name": "stdout",
     "output_type": "stream",
     "text": [
      "\r",
      " Run SAC_Energy_s27, Episode 785, Score: 0.70, Rolling score: 0.69, Max score: 0.80, Max rolling score: 0.73, collisions: 16   "
     ]
    },
    {
     "name": "stderr",
     "output_type": "stream",
     "text": [
      "\r",
      " 79%|███████▊  | 786/1000 [42:27<12:33,  3.52s/it]"
     ]
    },
    {
     "name": "stdout",
     "output_type": "stream",
     "text": [
      "\r",
      " Run SAC_Energy_s27, Episode 786, Score: 0.70, Rolling score: 0.69, Max score: 0.80, Max rolling score: 0.73, collisions: 16   "
     ]
    },
    {
     "name": "stderr",
     "output_type": "stream",
     "text": [
      "\r",
      " 79%|███████▊  | 787/1000 [42:30<11:44,  3.31s/it]"
     ]
    },
    {
     "name": "stdout",
     "output_type": "stream",
     "text": [
      "\r",
      " Run SAC_Energy_s27, Episode 787, Score: 0.71, Rolling score: 0.70, Max score: 0.80, Max rolling score: 0.73, collisions: 16   "
     ]
    },
    {
     "name": "stderr",
     "output_type": "stream",
     "text": [
      "\r",
      " 79%|███████▉  | 788/1000 [42:33<12:11,  3.45s/it]"
     ]
    },
    {
     "name": "stdout",
     "output_type": "stream",
     "text": [
      "\r",
      " Run SAC_Energy_s27, Episode 788, Score: 0.73, Rolling score: 0.71, Max score: 0.80, Max rolling score: 0.73, collisions: 16   "
     ]
    },
    {
     "name": "stderr",
     "output_type": "stream",
     "text": [
      "\r",
      " 79%|███████▉  | 789/1000 [42:37<11:56,  3.40s/it]"
     ]
    },
    {
     "name": "stdout",
     "output_type": "stream",
     "text": [
      "\r",
      " Run SAC_Energy_s27, Episode 789, Score: 0.45, Rolling score: 0.68, Max score: 0.80, Max rolling score: 0.73, collisions: 16   "
     ]
    },
    {
     "name": "stderr",
     "output_type": "stream",
     "text": [
      "\r",
      " 79%|███████▉  | 790/1000 [42:39<10:50,  3.10s/it]"
     ]
    },
    {
     "name": "stdout",
     "output_type": "stream",
     "text": [
      "\r",
      " Run SAC_Energy_s27, Episode 790, Score: 0.72, Rolling score: 0.68, Max score: 0.80, Max rolling score: 0.73, collisions: 16   "
     ]
    },
    {
     "name": "stderr",
     "output_type": "stream",
     "text": [
      "\r",
      " 79%|███████▉  | 791/1000 [42:42<10:55,  3.13s/it]"
     ]
    },
    {
     "name": "stdout",
     "output_type": "stream",
     "text": [
      "\r",
      " Run SAC_Energy_s27, Episode 791, Score: 0.71, Rolling score: 0.68, Max score: 0.80, Max rolling score: 0.73, collisions: 16   "
     ]
    },
    {
     "name": "stderr",
     "output_type": "stream",
     "text": [
      "\r",
      " 79%|███████▉  | 792/1000 [42:45<10:24,  3.00s/it]"
     ]
    },
    {
     "name": "stdout",
     "output_type": "stream",
     "text": [
      "\r",
      " Run SAC_Energy_s27, Episode 792, Score: 0.71, Rolling score: 0.69, Max score: 0.80, Max rolling score: 0.73, collisions: 16   "
     ]
    },
    {
     "name": "stderr",
     "output_type": "stream",
     "text": [
      "\r",
      " 79%|███████▉  | 793/1000 [42:47<09:57,  2.89s/it]"
     ]
    },
    {
     "name": "stdout",
     "output_type": "stream",
     "text": [
      "\r",
      " Run SAC_Energy_s27, Episode 793, Score: 0.70, Rolling score: 0.68, Max score: 0.80, Max rolling score: 0.73, collisions: 16   "
     ]
    },
    {
     "name": "stderr",
     "output_type": "stream",
     "text": [
      "\r",
      " 79%|███████▉  | 794/1000 [42:50<09:52,  2.87s/it]"
     ]
    },
    {
     "name": "stdout",
     "output_type": "stream",
     "text": [
      "\r",
      " Run SAC_Energy_s27, Episode 794, Score: 0.59, Rolling score: 0.67, Max score: 0.80, Max rolling score: 0.73, collisions: 16   "
     ]
    },
    {
     "name": "stderr",
     "output_type": "stream",
     "text": [
      "\r",
      " 80%|███████▉  | 795/1000 [42:54<10:28,  3.07s/it]"
     ]
    },
    {
     "name": "stdout",
     "output_type": "stream",
     "text": [
      "\r",
      " Run SAC_Energy_s27, Episode 795, Score: 0.67, Rolling score: 0.67, Max score: 0.80, Max rolling score: 0.73, collisions: 16   "
     ]
    },
    {
     "name": "stderr",
     "output_type": "stream",
     "text": [
      "\r",
      " 80%|███████▉  | 796/1000 [42:56<09:42,  2.86s/it]"
     ]
    },
    {
     "name": "stdout",
     "output_type": "stream",
     "text": [
      "\r",
      " Run SAC_Energy_s27, Episode 796, Score: 0.52, Rolling score: 0.65, Max score: 0.80, Max rolling score: 0.73, collisions: 16   "
     ]
    },
    {
     "name": "stderr",
     "output_type": "stream",
     "text": [
      "\r",
      " 80%|███████▉  | 797/1000 [42:59<10:02,  2.97s/it]"
     ]
    },
    {
     "name": "stdout",
     "output_type": "stream",
     "text": [
      "\r",
      " Run SAC_Energy_s27, Episode 797, Score: 0.69, Rolling score: 0.65, Max score: 0.80, Max rolling score: 0.73, collisions: 16   "
     ]
    },
    {
     "name": "stderr",
     "output_type": "stream",
     "text": [
      "\r",
      " 80%|███████▉  | 798/1000 [43:02<09:40,  2.87s/it]"
     ]
    },
    {
     "name": "stdout",
     "output_type": "stream",
     "text": [
      "\r",
      " Run SAC_Energy_s27, Episode 798, Score: 0.71, Rolling score: 0.65, Max score: 0.80, Max rolling score: 0.73, collisions: 16   "
     ]
    },
    {
     "name": "stderr",
     "output_type": "stream",
     "text": [
      "\r",
      " 80%|███████▉  | 799/1000 [43:04<09:01,  2.69s/it]"
     ]
    },
    {
     "name": "stdout",
     "output_type": "stream",
     "text": [
      "\r",
      " Run SAC_Energy_s27, Episode 799, Score: 0.71, Rolling score: 0.67, Max score: 0.80, Max rolling score: 0.73, collisions: 16   "
     ]
    },
    {
     "name": "stderr",
     "output_type": "stream",
     "text": [
      "\r",
      " 80%|████████  | 800/1000 [43:07<08:39,  2.60s/it]"
     ]
    },
    {
     "name": "stdout",
     "output_type": "stream",
     "text": [
      "\r",
      " Run SAC_Energy_s27, Episode 800, Score: 0.73, Rolling score: 0.67, Max score: 0.80, Max rolling score: 0.73, collisions: 16   "
     ]
    },
    {
     "name": "stderr",
     "output_type": "stream",
     "text": [
      "\r",
      " 80%|████████  | 801/1000 [43:09<08:15,  2.49s/it]"
     ]
    },
    {
     "name": "stdout",
     "output_type": "stream",
     "text": [
      "\r",
      " Run SAC_Energy_s27, Episode 801, Score: 0.70, Rolling score: 0.67, Max score: 0.80, Max rolling score: 0.73, collisions: 16   "
     ]
    },
    {
     "name": "stderr",
     "output_type": "stream",
     "text": [
      "\r",
      " 80%|████████  | 802/1000 [43:11<08:02,  2.44s/it]"
     ]
    },
    {
     "name": "stdout",
     "output_type": "stream",
     "text": [
      "\r",
      " Run SAC_Energy_s27, Episode 802, Score: 0.71, Rolling score: 0.67, Max score: 0.80, Max rolling score: 0.73, collisions: 16   "
     ]
    },
    {
     "name": "stderr",
     "output_type": "stream",
     "text": [
      "\r",
      " 80%|████████  | 803/1000 [43:15<09:05,  2.77s/it]"
     ]
    },
    {
     "name": "stdout",
     "output_type": "stream",
     "text": [
      "\r",
      " Run SAC_Energy_s27, Episode 803, Score: 0.70, Rolling score: 0.67, Max score: 0.80, Max rolling score: 0.73, collisions: 16   "
     ]
    },
    {
     "name": "stderr",
     "output_type": "stream",
     "text": [
      "\r",
      " 80%|████████  | 804/1000 [43:18<09:01,  2.76s/it]"
     ]
    },
    {
     "name": "stdout",
     "output_type": "stream",
     "text": [
      "\r",
      " Run SAC_Energy_s27, Episode 804, Score: 0.72, Rolling score: 0.69, Max score: 0.80, Max rolling score: 0.73, collisions: 16   "
     ]
    },
    {
     "name": "stderr",
     "output_type": "stream",
     "text": [
      "\r",
      " 80%|████████  | 805/1000 [43:22<10:43,  3.30s/it]"
     ]
    },
    {
     "name": "stdout",
     "output_type": "stream",
     "text": [
      "\r",
      " Run SAC_Energy_s27, Episode 805, Score: 0.71, Rolling score: 0.69, Max score: 0.80, Max rolling score: 0.73, collisions: 16   "
     ]
    },
    {
     "name": "stderr",
     "output_type": "stream",
     "text": [
      "\r",
      " 81%|████████  | 806/1000 [43:25<09:56,  3.08s/it]"
     ]
    },
    {
     "name": "stdout",
     "output_type": "stream",
     "text": [
      "\r",
      " Run SAC_Energy_s27, Episode 806, Score: 0.72, Rolling score: 0.71, Max score: 0.80, Max rolling score: 0.73, collisions: 16   "
     ]
    },
    {
     "name": "stderr",
     "output_type": "stream",
     "text": [
      "\r",
      " 81%|████████  | 807/1000 [43:27<09:05,  2.83s/it]"
     ]
    },
    {
     "name": "stdout",
     "output_type": "stream",
     "text": [
      "\r",
      " Run SAC_Energy_s27, Episode 807, Score: 0.69, Rolling score: 0.71, Max score: 0.80, Max rolling score: 0.73, collisions: 16   "
     ]
    },
    {
     "name": "stderr",
     "output_type": "stream",
     "text": [
      "\r",
      " 81%|████████  | 808/1000 [43:29<08:26,  2.64s/it]"
     ]
    },
    {
     "name": "stdout",
     "output_type": "stream",
     "text": [
      "\r",
      " Run SAC_Energy_s27, Episode 808, Score: 0.68, Rolling score: 0.71, Max score: 0.80, Max rolling score: 0.73, collisions: 16   "
     ]
    },
    {
     "name": "stderr",
     "output_type": "stream",
     "text": [
      "\r",
      " 81%|████████  | 809/1000 [43:32<08:43,  2.74s/it]"
     ]
    },
    {
     "name": "stdout",
     "output_type": "stream",
     "text": [
      "\r",
      " Run SAC_Energy_s27, Episode 809, Score: 0.70, Rolling score: 0.71, Max score: 0.80, Max rolling score: 0.73, collisions: 16   "
     ]
    },
    {
     "name": "stderr",
     "output_type": "stream",
     "text": [
      "\r",
      " 81%|████████  | 810/1000 [43:35<08:48,  2.78s/it]"
     ]
    },
    {
     "name": "stdout",
     "output_type": "stream",
     "text": [
      "\r",
      " Run SAC_Energy_s27, Episode 810, Score: 0.67, Rolling score: 0.70, Max score: 0.80, Max rolling score: 0.73, collisions: 16   "
     ]
    },
    {
     "name": "stderr",
     "output_type": "stream",
     "text": [
      "\r",
      " 81%|████████  | 811/1000 [43:38<09:10,  2.91s/it]"
     ]
    },
    {
     "name": "stdout",
     "output_type": "stream",
     "text": [
      "\r",
      " Run SAC_Energy_s27, Episode 811, Score: 0.71, Rolling score: 0.70, Max score: 0.80, Max rolling score: 0.73, collisions: 16   "
     ]
    },
    {
     "name": "stderr",
     "output_type": "stream",
     "text": [
      "\r",
      " 81%|████████  | 812/1000 [43:41<08:32,  2.73s/it]"
     ]
    },
    {
     "name": "stdout",
     "output_type": "stream",
     "text": [
      "\r",
      " Run SAC_Energy_s27, Episode 812, Score: 0.73, Rolling score: 0.70, Max score: 0.80, Max rolling score: 0.73, collisions: 16   "
     ]
    },
    {
     "name": "stderr",
     "output_type": "stream",
     "text": [
      "\r",
      " 81%|████████▏ | 813/1000 [43:44<09:26,  3.03s/it]"
     ]
    },
    {
     "name": "stdout",
     "output_type": "stream",
     "text": [
      "\r",
      " Run SAC_Energy_s27, Episode 813, Score: -0.10, Rolling score: 0.62, Max score: 0.80, Max rolling score: 0.73, collisions: 17   "
     ]
    },
    {
     "name": "stderr",
     "output_type": "stream",
     "text": [
      "\r",
      " 81%|████████▏ | 814/1000 [43:47<08:50,  2.85s/it]"
     ]
    },
    {
     "name": "stdout",
     "output_type": "stream",
     "text": [
      "\r",
      " Run SAC_Energy_s27, Episode 814, Score: 0.68, Rolling score: 0.62, Max score: 0.80, Max rolling score: 0.73, collisions: 17   "
     ]
    },
    {
     "name": "stderr",
     "output_type": "stream",
     "text": [
      "\r",
      " 82%|████████▏ | 815/1000 [43:50<08:53,  2.88s/it]"
     ]
    },
    {
     "name": "stdout",
     "output_type": "stream",
     "text": [
      "\r",
      " Run SAC_Energy_s27, Episode 815, Score: 0.71, Rolling score: 0.62, Max score: 0.80, Max rolling score: 0.73, collisions: 17   "
     ]
    },
    {
     "name": "stderr",
     "output_type": "stream",
     "text": [
      "\r",
      " 82%|████████▏ | 816/1000 [43:56<11:43,  3.83s/it]"
     ]
    },
    {
     "name": "stdout",
     "output_type": "stream",
     "text": [
      "\r",
      " Run SAC_Energy_s27, Episode 816, Score: 0.71, Rolling score: 0.62, Max score: 0.80, Max rolling score: 0.73, collisions: 17   "
     ]
    },
    {
     "name": "stderr",
     "output_type": "stream",
     "text": [
      "\r",
      " 82%|████████▏ | 817/1000 [44:01<13:25,  4.40s/it]"
     ]
    },
    {
     "name": "stdout",
     "output_type": "stream",
     "text": [
      "\r",
      " Run SAC_Energy_s27, Episode 817, Score: 0.70, Rolling score: 0.62, Max score: 0.80, Max rolling score: 0.73, collisions: 17   "
     ]
    },
    {
     "name": "stderr",
     "output_type": "stream",
     "text": [
      "\r",
      " 82%|████████▏ | 818/1000 [44:09<16:30,  5.44s/it]"
     ]
    },
    {
     "name": "stdout",
     "output_type": "stream",
     "text": [
      "\r",
      " Run SAC_Energy_s27, Episode 818, Score: 0.71, Rolling score: 0.62, Max score: 0.80, Max rolling score: 0.73, collisions: 17   "
     ]
    },
    {
     "name": "stderr",
     "output_type": "stream",
     "text": [
      "\r",
      " 82%|████████▏ | 819/1000 [44:12<14:23,  4.77s/it]"
     ]
    },
    {
     "name": "stdout",
     "output_type": "stream",
     "text": [
      "\r",
      " Run SAC_Energy_s27, Episode 819, Score: 0.68, Rolling score: 0.62, Max score: 0.80, Max rolling score: 0.73, collisions: 17   "
     ]
    },
    {
     "name": "stderr",
     "output_type": "stream",
     "text": [
      "\r",
      " 82%|████████▏ | 820/1000 [44:17<14:14,  4.75s/it]"
     ]
    },
    {
     "name": "stdout",
     "output_type": "stream",
     "text": [
      "\r",
      " Run SAC_Energy_s27, Episode 820, Score: 0.69, Rolling score: 0.62, Max score: 0.80, Max rolling score: 0.73, collisions: 17   "
     ]
    },
    {
     "name": "stderr",
     "output_type": "stream",
     "text": [
      "\r",
      " 82%|████████▏ | 821/1000 [44:20<12:15,  4.11s/it]"
     ]
    },
    {
     "name": "stdout",
     "output_type": "stream",
     "text": [
      "\r",
      " Run SAC_Energy_s27, Episode 821, Score: 0.59, Rolling score: 0.61, Max score: 0.80, Max rolling score: 0.73, collisions: 17   "
     ]
    },
    {
     "name": "stderr",
     "output_type": "stream",
     "text": [
      "\r",
      " 82%|████████▏ | 822/1000 [44:23<11:08,  3.75s/it]"
     ]
    },
    {
     "name": "stdout",
     "output_type": "stream",
     "text": [
      "\r",
      " Run SAC_Energy_s27, Episode 822, Score: 0.70, Rolling score: 0.61, Max score: 0.80, Max rolling score: 0.73, collisions: 17   "
     ]
    },
    {
     "name": "stderr",
     "output_type": "stream",
     "text": [
      "\r",
      " 82%|████████▏ | 823/1000 [44:26<10:25,  3.53s/it]"
     ]
    },
    {
     "name": "stdout",
     "output_type": "stream",
     "text": [
      "\r",
      " Run SAC_Energy_s27, Episode 823, Score: 0.72, Rolling score: 0.69, Max score: 0.80, Max rolling score: 0.73, collisions: 17   "
     ]
    },
    {
     "name": "stderr",
     "output_type": "stream",
     "text": [
      "\r",
      " 82%|████████▏ | 824/1000 [44:28<09:17,  3.17s/it]"
     ]
    },
    {
     "name": "stdout",
     "output_type": "stream",
     "text": [
      "\r",
      " Run SAC_Energy_s27, Episode 824, Score: 0.71, Rolling score: 0.69, Max score: 0.80, Max rolling score: 0.73, collisions: 17   "
     ]
    },
    {
     "name": "stderr",
     "output_type": "stream",
     "text": [
      "\r",
      " 82%|████████▎ | 825/1000 [44:32<09:46,  3.35s/it]"
     ]
    },
    {
     "name": "stdout",
     "output_type": "stream",
     "text": [
      "\r",
      " Run SAC_Energy_s27, Episode 825, Score: 0.72, Rolling score: 0.69, Max score: 0.80, Max rolling score: 0.73, collisions: 17   "
     ]
    },
    {
     "name": "stderr",
     "output_type": "stream",
     "text": [
      "\r",
      " 83%|████████▎ | 826/1000 [44:35<09:35,  3.31s/it]"
     ]
    },
    {
     "name": "stdout",
     "output_type": "stream",
     "text": [
      "\r",
      " Run SAC_Energy_s27, Episode 826, Score: 0.70, Rolling score: 0.69, Max score: 0.80, Max rolling score: 0.73, collisions: 17   "
     ]
    },
    {
     "name": "stderr",
     "output_type": "stream",
     "text": [
      "\r",
      " 83%|████████▎ | 827/1000 [44:38<09:25,  3.27s/it]"
     ]
    },
    {
     "name": "stdout",
     "output_type": "stream",
     "text": [
      "\r",
      " Run SAC_Energy_s27, Episode 827, Score: 0.71, Rolling score: 0.69, Max score: 0.80, Max rolling score: 0.73, collisions: 17   "
     ]
    },
    {
     "name": "stderr",
     "output_type": "stream",
     "text": [
      "\r",
      " 83%|████████▎ | 828/1000 [44:42<09:29,  3.31s/it]"
     ]
    },
    {
     "name": "stdout",
     "output_type": "stream",
     "text": [
      "\r",
      " Run SAC_Energy_s27, Episode 828, Score: 0.71, Rolling score: 0.69, Max score: 0.80, Max rolling score: 0.73, collisions: 17   "
     ]
    },
    {
     "name": "stderr",
     "output_type": "stream",
     "text": [
      "\r",
      " 83%|████████▎ | 829/1000 [44:47<11:19,  3.98s/it]"
     ]
    },
    {
     "name": "stdout",
     "output_type": "stream",
     "text": [
      "\r",
      " Run SAC_Energy_s27, Episode 829, Score: 0.71, Rolling score: 0.70, Max score: 0.80, Max rolling score: 0.73, collisions: 17   "
     ]
    },
    {
     "name": "stderr",
     "output_type": "stream",
     "text": [
      "\r",
      " 83%|████████▎ | 830/1000 [44:51<10:57,  3.87s/it]"
     ]
    },
    {
     "name": "stdout",
     "output_type": "stream",
     "text": [
      "\r",
      " Run SAC_Energy_s27, Episode 830, Score: 0.56, Rolling score: 0.68, Max score: 0.80, Max rolling score: 0.73, collisions: 17   "
     ]
    },
    {
     "name": "stderr",
     "output_type": "stream",
     "text": [
      "\r",
      " 83%|████████▎ | 831/1000 [44:53<09:39,  3.43s/it]"
     ]
    },
    {
     "name": "stdout",
     "output_type": "stream",
     "text": [
      "\r",
      " Run SAC_Energy_s27, Episode 831, Score: 0.72, Rolling score: 0.70, Max score: 0.80, Max rolling score: 0.73, collisions: 17   "
     ]
    },
    {
     "name": "stderr",
     "output_type": "stream",
     "text": [
      "\r",
      " 83%|████████▎ | 832/1000 [44:57<10:08,  3.62s/it]"
     ]
    },
    {
     "name": "stdout",
     "output_type": "stream",
     "text": [
      "\r",
      " Run SAC_Energy_s27, Episode 832, Score: 0.68, Rolling score: 0.70, Max score: 0.80, Max rolling score: 0.73, collisions: 17   "
     ]
    },
    {
     "name": "stderr",
     "output_type": "stream",
     "text": [
      "\r",
      " 83%|████████▎ | 833/1000 [45:02<10:51,  3.90s/it]"
     ]
    },
    {
     "name": "stdout",
     "output_type": "stream",
     "text": [
      "\r",
      " Run SAC_Energy_s27, Episode 833, Score: 0.72, Rolling score: 0.70, Max score: 0.80, Max rolling score: 0.73, collisions: 17   "
     ]
    },
    {
     "name": "stderr",
     "output_type": "stream",
     "text": [
      "\r",
      " 83%|████████▎ | 834/1000 [45:06<11:08,  4.02s/it]"
     ]
    },
    {
     "name": "stdout",
     "output_type": "stream",
     "text": [
      "\r",
      " Run SAC_Energy_s27, Episode 834, Score: 0.67, Rolling score: 0.69, Max score: 0.80, Max rolling score: 0.73, collisions: 17   "
     ]
    },
    {
     "name": "stderr",
     "output_type": "stream",
     "text": [
      "\r",
      " 84%|████████▎ | 835/1000 [45:11<11:23,  4.14s/it]"
     ]
    },
    {
     "name": "stdout",
     "output_type": "stream",
     "text": [
      "\r",
      " Run SAC_Energy_s27, Episode 835, Score: 0.67, Rolling score: 0.69, Max score: 0.80, Max rolling score: 0.73, collisions: 17   "
     ]
    },
    {
     "name": "stderr",
     "output_type": "stream",
     "text": [
      "\r",
      " 84%|████████▎ | 836/1000 [45:13<09:43,  3.56s/it]"
     ]
    },
    {
     "name": "stdout",
     "output_type": "stream",
     "text": [
      "\r",
      " Run SAC_Energy_s27, Episode 836, Score: 0.72, Rolling score: 0.69, Max score: 0.80, Max rolling score: 0.73, collisions: 17   "
     ]
    },
    {
     "name": "stderr",
     "output_type": "stream",
     "text": [
      "\r",
      " 84%|████████▎ | 837/1000 [45:16<09:09,  3.37s/it]"
     ]
    },
    {
     "name": "stdout",
     "output_type": "stream",
     "text": [
      "\r",
      " Run SAC_Energy_s27, Episode 837, Score: 0.74, Rolling score: 0.69, Max score: 0.80, Max rolling score: 0.73, collisions: 17   "
     ]
    },
    {
     "name": "stderr",
     "output_type": "stream",
     "text": [
      "\r",
      " 84%|████████▍ | 838/1000 [45:18<08:18,  3.08s/it]"
     ]
    },
    {
     "name": "stdout",
     "output_type": "stream",
     "text": [
      "\r",
      " Run SAC_Energy_s27, Episode 838, Score: 0.70, Rolling score: 0.69, Max score: 0.80, Max rolling score: 0.73, collisions: 17   "
     ]
    },
    {
     "name": "stderr",
     "output_type": "stream",
     "text": [
      "\r",
      " 84%|████████▍ | 839/1000 [45:20<07:34,  2.82s/it]"
     ]
    },
    {
     "name": "stdout",
     "output_type": "stream",
     "text": [
      "\r",
      " Run SAC_Energy_s27, Episode 839, Score: 0.69, Rolling score: 0.69, Max score: 0.80, Max rolling score: 0.73, collisions: 17   "
     ]
    },
    {
     "name": "stderr",
     "output_type": "stream",
     "text": [
      "\r",
      " 84%|████████▍ | 840/1000 [45:23<07:20,  2.76s/it]"
     ]
    },
    {
     "name": "stdout",
     "output_type": "stream",
     "text": [
      "\r",
      " Run SAC_Energy_s27, Episode 840, Score: 0.70, Rolling score: 0.70, Max score: 0.80, Max rolling score: 0.73, collisions: 17   "
     ]
    },
    {
     "name": "stderr",
     "output_type": "stream",
     "text": [
      "\r",
      " 84%|████████▍ | 841/1000 [45:25<07:08,  2.70s/it]"
     ]
    },
    {
     "name": "stdout",
     "output_type": "stream",
     "text": [
      "\r",
      " Run SAC_Energy_s27, Episode 841, Score: 0.55, Rolling score: 0.68, Max score: 0.80, Max rolling score: 0.73, collisions: 17   "
     ]
    },
    {
     "name": "stderr",
     "output_type": "stream",
     "text": [
      "\r",
      " 84%|████████▍ | 842/1000 [45:28<06:50,  2.60s/it]"
     ]
    },
    {
     "name": "stdout",
     "output_type": "stream",
     "text": [
      "\r",
      " Run SAC_Energy_s27, Episode 842, Score: 0.71, Rolling score: 0.69, Max score: 0.80, Max rolling score: 0.73, collisions: 17   "
     ]
    },
    {
     "name": "stderr",
     "output_type": "stream",
     "text": [
      "\r",
      " 84%|████████▍ | 843/1000 [45:33<08:52,  3.39s/it]"
     ]
    },
    {
     "name": "stdout",
     "output_type": "stream",
     "text": [
      "\r",
      " Run SAC_Energy_s27, Episode 843, Score: 0.69, Rolling score: 0.69, Max score: 0.80, Max rolling score: 0.73, collisions: 17   "
     ]
    },
    {
     "name": "stderr",
     "output_type": "stream",
     "text": [
      "\r",
      " 84%|████████▍ | 844/1000 [45:36<08:16,  3.19s/it]"
     ]
    },
    {
     "name": "stdout",
     "output_type": "stream",
     "text": [
      "\r",
      " Run SAC_Energy_s27, Episode 844, Score: 0.70, Rolling score: 0.69, Max score: 0.80, Max rolling score: 0.73, collisions: 17   "
     ]
    },
    {
     "name": "stderr",
     "output_type": "stream",
     "text": [
      "\r",
      " 84%|████████▍ | 845/1000 [45:41<09:35,  3.71s/it]"
     ]
    },
    {
     "name": "stdout",
     "output_type": "stream",
     "text": [
      "\r",
      " Run SAC_Energy_s27, Episode 845, Score: 0.72, Rolling score: 0.69, Max score: 0.80, Max rolling score: 0.73, collisions: 17   "
     ]
    },
    {
     "name": "stderr",
     "output_type": "stream",
     "text": [
      "\r",
      " 85%|████████▍ | 846/1000 [45:44<09:10,  3.57s/it]"
     ]
    },
    {
     "name": "stdout",
     "output_type": "stream",
     "text": [
      "\r",
      " Run SAC_Energy_s27, Episode 846, Score: 0.70, Rolling score: 0.69, Max score: 0.80, Max rolling score: 0.73, collisions: 17   "
     ]
    },
    {
     "name": "stderr",
     "output_type": "stream",
     "text": [
      "\r",
      " 85%|████████▍ | 847/1000 [45:50<11:18,  4.43s/it]"
     ]
    },
    {
     "name": "stdout",
     "output_type": "stream",
     "text": [
      "\r",
      " Run SAC_Energy_s27, Episode 847, Score: 0.70, Rolling score: 0.69, Max score: 0.80, Max rolling score: 0.73, collisions: 17   "
     ]
    },
    {
     "name": "stderr",
     "output_type": "stream",
     "text": [
      "\r",
      " 85%|████████▍ | 848/1000 [45:54<10:56,  4.32s/it]"
     ]
    },
    {
     "name": "stdout",
     "output_type": "stream",
     "text": [
      "\r",
      " Run SAC_Energy_s27, Episode 848, Score: 0.71, Rolling score: 0.69, Max score: 0.80, Max rolling score: 0.73, collisions: 17   "
     ]
    },
    {
     "name": "stderr",
     "output_type": "stream",
     "text": [
      "\r",
      " 85%|████████▍ | 849/1000 [45:58<10:14,  4.07s/it]"
     ]
    },
    {
     "name": "stdout",
     "output_type": "stream",
     "text": [
      "\r",
      " Run SAC_Energy_s27, Episode 849, Score: 0.70, Rolling score: 0.69, Max score: 0.80, Max rolling score: 0.73, collisions: 17   "
     ]
    },
    {
     "name": "stderr",
     "output_type": "stream",
     "text": [
      "\r",
      " 85%|████████▌ | 850/1000 [46:00<08:55,  3.57s/it]"
     ]
    },
    {
     "name": "stdout",
     "output_type": "stream",
     "text": [
      "\r",
      " Run SAC_Energy_s27, Episode 850, Score: 0.70, Rolling score: 0.69, Max score: 0.80, Max rolling score: 0.73, collisions: 17   "
     ]
    },
    {
     "name": "stderr",
     "output_type": "stream",
     "text": [
      "\r",
      " 85%|████████▌ | 851/1000 [46:04<09:05,  3.66s/it]"
     ]
    },
    {
     "name": "stdout",
     "output_type": "stream",
     "text": [
      "\r",
      " Run SAC_Energy_s27, Episode 851, Score: 0.64, Rolling score: 0.70, Max score: 0.80, Max rolling score: 0.73, collisions: 17   "
     ]
    },
    {
     "name": "stderr",
     "output_type": "stream",
     "text": [
      "\r",
      " 85%|████████▌ | 852/1000 [46:08<09:13,  3.74s/it]"
     ]
    },
    {
     "name": "stdout",
     "output_type": "stream",
     "text": [
      "\r",
      " Run SAC_Energy_s27, Episode 852, Score: 0.69, Rolling score: 0.70, Max score: 0.80, Max rolling score: 0.73, collisions: 17   "
     ]
    },
    {
     "name": "stderr",
     "output_type": "stream",
     "text": [
      "\r",
      " 85%|████████▌ | 853/1000 [46:12<09:20,  3.81s/it]"
     ]
    },
    {
     "name": "stdout",
     "output_type": "stream",
     "text": [
      "\r",
      " Run SAC_Energy_s27, Episode 853, Score: 0.69, Rolling score: 0.70, Max score: 0.80, Max rolling score: 0.73, collisions: 17   "
     ]
    },
    {
     "name": "stderr",
     "output_type": "stream",
     "text": [
      "\r",
      " 85%|████████▌ | 854/1000 [46:19<11:27,  4.71s/it]"
     ]
    },
    {
     "name": "stdout",
     "output_type": "stream",
     "text": [
      "\r",
      " Run SAC_Energy_s27, Episode 854, Score: 0.72, Rolling score: 0.70, Max score: 0.80, Max rolling score: 0.73, collisions: 17   "
     ]
    },
    {
     "name": "stderr",
     "output_type": "stream",
     "text": [
      "\r",
      " 86%|████████▌ | 855/1000 [46:25<12:03,  4.99s/it]"
     ]
    },
    {
     "name": "stdout",
     "output_type": "stream",
     "text": [
      "\r",
      " Run SAC_Energy_s27, Episode 855, Score: 0.70, Rolling score: 0.70, Max score: 0.80, Max rolling score: 0.73, collisions: 17   "
     ]
    },
    {
     "name": "stderr",
     "output_type": "stream",
     "text": [
      "\r",
      " 86%|████████▌ | 856/1000 [46:28<10:38,  4.44s/it]"
     ]
    },
    {
     "name": "stdout",
     "output_type": "stream",
     "text": [
      "\r",
      " Run SAC_Energy_s27, Episode 856, Score: 0.69, Rolling score: 0.70, Max score: 0.80, Max rolling score: 0.73, collisions: 17   "
     ]
    },
    {
     "name": "stderr",
     "output_type": "stream",
     "text": [
      "\r",
      " 86%|████████▌ | 857/1000 [46:30<09:19,  3.91s/it]"
     ]
    },
    {
     "name": "stdout",
     "output_type": "stream",
     "text": [
      "\r",
      " Run SAC_Energy_s27, Episode 857, Score: 0.71, Rolling score: 0.70, Max score: 0.80, Max rolling score: 0.73, collisions: 17   "
     ]
    },
    {
     "name": "stderr",
     "output_type": "stream",
     "text": [
      "\r",
      " 86%|████████▌ | 858/1000 [46:35<09:31,  4.02s/it]"
     ]
    },
    {
     "name": "stdout",
     "output_type": "stream",
     "text": [
      "\r",
      " Run SAC_Energy_s27, Episode 858, Score: 0.77, Rolling score: 0.70, Max score: 0.80, Max rolling score: 0.73, collisions: 17   "
     ]
    },
    {
     "name": "stderr",
     "output_type": "stream",
     "text": [
      "\r",
      " 86%|████████▌ | 859/1000 [46:38<09:01,  3.84s/it]"
     ]
    },
    {
     "name": "stdout",
     "output_type": "stream",
     "text": [
      "\r",
      " Run SAC_Energy_s27, Episode 859, Score: 0.70, Rolling score: 0.70, Max score: 0.80, Max rolling score: 0.73, collisions: 17   "
     ]
    },
    {
     "name": "stderr",
     "output_type": "stream",
     "text": [
      "\r",
      " 86%|████████▌ | 860/1000 [46:41<08:24,  3.60s/it]"
     ]
    },
    {
     "name": "stdout",
     "output_type": "stream",
     "text": [
      "\r",
      " Run SAC_Energy_s27, Episode 860, Score: 0.70, Rolling score: 0.70, Max score: 0.80, Max rolling score: 0.73, collisions: 17   "
     ]
    },
    {
     "name": "stderr",
     "output_type": "stream",
     "text": [
      "\r",
      " 86%|████████▌ | 861/1000 [46:44<07:35,  3.28s/it]"
     ]
    },
    {
     "name": "stdout",
     "output_type": "stream",
     "text": [
      "\r",
      " Run SAC_Energy_s27, Episode 861, Score: 0.70, Rolling score: 0.71, Max score: 0.80, Max rolling score: 0.73, collisions: 17   "
     ]
    },
    {
     "name": "stderr",
     "output_type": "stream",
     "text": [
      "\r",
      " 86%|████████▌ | 862/1000 [46:48<07:57,  3.46s/it]"
     ]
    },
    {
     "name": "stdout",
     "output_type": "stream",
     "text": [
      "\r",
      " Run SAC_Energy_s27, Episode 862, Score: 0.73, Rolling score: 0.71, Max score: 0.80, Max rolling score: 0.73, collisions: 17   "
     ]
    },
    {
     "name": "stderr",
     "output_type": "stream",
     "text": [
      "\r",
      " 86%|████████▋ | 863/1000 [46:50<07:11,  3.15s/it]"
     ]
    },
    {
     "name": "stdout",
     "output_type": "stream",
     "text": [
      "\r",
      " Run SAC_Energy_s27, Episode 863, Score: 0.70, Rolling score: 0.71, Max score: 0.80, Max rolling score: 0.73, collisions: 17   "
     ]
    },
    {
     "name": "stderr",
     "output_type": "stream",
     "text": [
      "\r",
      " 86%|████████▋ | 864/1000 [46:54<07:31,  3.32s/it]"
     ]
    },
    {
     "name": "stdout",
     "output_type": "stream",
     "text": [
      "\r",
      " Run SAC_Energy_s27, Episode 864, Score: 0.74, Rolling score: 0.71, Max score: 0.80, Max rolling score: 0.73, collisions: 17   "
     ]
    },
    {
     "name": "stderr",
     "output_type": "stream",
     "text": [
      "\r",
      " 86%|████████▋ | 865/1000 [46:56<06:47,  3.02s/it]"
     ]
    },
    {
     "name": "stdout",
     "output_type": "stream",
     "text": [
      "\r",
      " Run SAC_Energy_s27, Episode 865, Score: 0.70, Rolling score: 0.71, Max score: 0.80, Max rolling score: 0.73, collisions: 17   "
     ]
    },
    {
     "name": "stderr",
     "output_type": "stream",
     "text": [
      "\r",
      " 87%|████████▋ | 866/1000 [47:00<07:18,  3.27s/it]"
     ]
    },
    {
     "name": "stdout",
     "output_type": "stream",
     "text": [
      "\r",
      " Run SAC_Energy_s27, Episode 866, Score: 0.67, Rolling score: 0.71, Max score: 0.80, Max rolling score: 0.73, collisions: 17   "
     ]
    },
    {
     "name": "stderr",
     "output_type": "stream",
     "text": [
      "\r",
      " 87%|████████▋ | 867/1000 [47:03<06:53,  3.11s/it]"
     ]
    },
    {
     "name": "stdout",
     "output_type": "stream",
     "text": [
      "\r",
      " Run SAC_Energy_s27, Episode 867, Score: 0.70, Rolling score: 0.71, Max score: 0.80, Max rolling score: 0.73, collisions: 17   "
     ]
    },
    {
     "name": "stderr",
     "output_type": "stream",
     "text": [
      "\r",
      " 87%|████████▋ | 868/1000 [47:06<07:20,  3.34s/it]"
     ]
    },
    {
     "name": "stdout",
     "output_type": "stream",
     "text": [
      "\r",
      " Run SAC_Energy_s27, Episode 868, Score: 0.69, Rolling score: 0.70, Max score: 0.80, Max rolling score: 0.73, collisions: 17   "
     ]
    },
    {
     "name": "stderr",
     "output_type": "stream",
     "text": [
      "\r",
      " 87%|████████▋ | 869/1000 [47:12<08:45,  4.01s/it]"
     ]
    },
    {
     "name": "stdout",
     "output_type": "stream",
     "text": [
      "\r",
      " Run SAC_Energy_s27, Episode 869, Score: 0.68, Rolling score: 0.70, Max score: 0.80, Max rolling score: 0.73, collisions: 17   "
     ]
    },
    {
     "name": "stderr",
     "output_type": "stream",
     "text": [
      "\r",
      " 87%|████████▋ | 870/1000 [47:15<07:44,  3.58s/it]"
     ]
    },
    {
     "name": "stdout",
     "output_type": "stream",
     "text": [
      "\r",
      " Run SAC_Energy_s27, Episode 870, Score: 0.70, Rolling score: 0.70, Max score: 0.80, Max rolling score: 0.73, collisions: 17   "
     ]
    },
    {
     "name": "stderr",
     "output_type": "stream",
     "text": [
      "\r",
      " 87%|████████▋ | 871/1000 [47:17<06:56,  3.23s/it]"
     ]
    },
    {
     "name": "stdout",
     "output_type": "stream",
     "text": [
      "\r",
      " Run SAC_Energy_s27, Episode 871, Score: 0.69, Rolling score: 0.70, Max score: 0.80, Max rolling score: 0.73, collisions: 17   "
     ]
    },
    {
     "name": "stderr",
     "output_type": "stream",
     "text": [
      "\r",
      " 87%|████████▋ | 872/1000 [47:21<07:21,  3.45s/it]"
     ]
    },
    {
     "name": "stdout",
     "output_type": "stream",
     "text": [
      "\r",
      " Run SAC_Energy_s27, Episode 872, Score: 0.69, Rolling score: 0.70, Max score: 0.80, Max rolling score: 0.73, collisions: 17   "
     ]
    },
    {
     "name": "stderr",
     "output_type": "stream",
     "text": [
      "\r",
      " 87%|████████▋ | 873/1000 [47:24<06:47,  3.21s/it]"
     ]
    },
    {
     "name": "stdout",
     "output_type": "stream",
     "text": [
      "\r",
      " Run SAC_Energy_s27, Episode 873, Score: 0.72, Rolling score: 0.70, Max score: 0.80, Max rolling score: 0.73, collisions: 17   "
     ]
    },
    {
     "name": "stderr",
     "output_type": "stream",
     "text": [
      "\r",
      " 87%|████████▋ | 874/1000 [47:28<07:42,  3.67s/it]"
     ]
    },
    {
     "name": "stdout",
     "output_type": "stream",
     "text": [
      "\r",
      " Run SAC_Energy_s27, Episode 874, Score: 0.79, Rolling score: 0.71, Max score: 0.80, Max rolling score: 0.73, collisions: 17   "
     ]
    },
    {
     "name": "stderr",
     "output_type": "stream",
     "text": [
      "\r",
      " 88%|████████▊ | 875/1000 [47:31<06:56,  3.34s/it]"
     ]
    },
    {
     "name": "stdout",
     "output_type": "stream",
     "text": [
      "\r",
      " Run SAC_Energy_s27, Episode 875, Score: 0.69, Rolling score: 0.70, Max score: 0.80, Max rolling score: 0.73, collisions: 17   "
     ]
    },
    {
     "name": "stderr",
     "output_type": "stream",
     "text": [
      "\r",
      " 88%|████████▊ | 876/1000 [47:35<07:22,  3.57s/it]"
     ]
    },
    {
     "name": "stdout",
     "output_type": "stream",
     "text": [
      "\r",
      " Run SAC_Energy_s27, Episode 876, Score: 0.69, Rolling score: 0.70, Max score: 0.80, Max rolling score: 0.73, collisions: 17   "
     ]
    },
    {
     "name": "stderr",
     "output_type": "stream",
     "text": [
      "\r",
      " 88%|████████▊ | 877/1000 [47:38<06:38,  3.24s/it]"
     ]
    },
    {
     "name": "stdout",
     "output_type": "stream",
     "text": [
      "\r",
      " Run SAC_Energy_s27, Episode 877, Score: 0.70, Rolling score: 0.70, Max score: 0.80, Max rolling score: 0.73, collisions: 17   "
     ]
    },
    {
     "name": "stderr",
     "output_type": "stream",
     "text": [
      "\r",
      " 88%|████████▊ | 878/1000 [47:40<05:55,  2.92s/it]"
     ]
    },
    {
     "name": "stdout",
     "output_type": "stream",
     "text": [
      "\r",
      " Run SAC_Energy_s27, Episode 878, Score: 0.69, Rolling score: 0.70, Max score: 0.80, Max rolling score: 0.73, collisions: 17   "
     ]
    },
    {
     "name": "stderr",
     "output_type": "stream",
     "text": [
      "\r",
      " 88%|████████▊ | 879/1000 [47:43<06:13,  3.08s/it]"
     ]
    },
    {
     "name": "stdout",
     "output_type": "stream",
     "text": [
      "\r",
      " Run SAC_Energy_s27, Episode 879, Score: 0.77, Rolling score: 0.71, Max score: 0.80, Max rolling score: 0.73, collisions: 17   "
     ]
    },
    {
     "name": "stderr",
     "output_type": "stream",
     "text": [
      "\r",
      " 88%|████████▊ | 880/1000 [47:46<06:16,  3.14s/it]"
     ]
    },
    {
     "name": "stdout",
     "output_type": "stream",
     "text": [
      "\r",
      " Run SAC_Energy_s27, Episode 880, Score: 0.74, Rolling score: 0.72, Max score: 0.80, Max rolling score: 0.73, collisions: 17   "
     ]
    },
    {
     "name": "stderr",
     "output_type": "stream",
     "text": [
      "\r",
      " 88%|████████▊ | 881/1000 [47:50<06:28,  3.27s/it]"
     ]
    },
    {
     "name": "stdout",
     "output_type": "stream",
     "text": [
      "\r",
      " Run SAC_Energy_s27, Episode 881, Score: 0.72, Rolling score: 0.72, Max score: 0.80, Max rolling score: 0.73, collisions: 17   "
     ]
    },
    {
     "name": "stderr",
     "output_type": "stream",
     "text": [
      "\r",
      " 88%|████████▊ | 882/1000 [47:53<06:24,  3.26s/it]"
     ]
    },
    {
     "name": "stdout",
     "output_type": "stream",
     "text": [
      "\r",
      " Run SAC_Energy_s27, Episode 882, Score: 0.73, Rolling score: 0.72, Max score: 0.80, Max rolling score: 0.73, collisions: 17   "
     ]
    },
    {
     "name": "stderr",
     "output_type": "stream",
     "text": [
      "\r",
      " 88%|████████▊ | 883/1000 [47:56<06:18,  3.23s/it]"
     ]
    },
    {
     "name": "stdout",
     "output_type": "stream",
     "text": [
      "\r",
      " Run SAC_Energy_s27, Episode 883, Score: 0.66, Rolling score: 0.72, Max score: 0.80, Max rolling score: 0.73, collisions: 17   "
     ]
    },
    {
     "name": "stderr",
     "output_type": "stream",
     "text": [
      "\r",
      " 88%|████████▊ | 884/1000 [48:00<06:41,  3.46s/it]"
     ]
    },
    {
     "name": "stdout",
     "output_type": "stream",
     "text": [
      "\r",
      " Run SAC_Energy_s27, Episode 884, Score: 0.71, Rolling score: 0.71, Max score: 0.80, Max rolling score: 0.73, collisions: 17   "
     ]
    },
    {
     "name": "stderr",
     "output_type": "stream",
     "text": [
      "\r",
      " 88%|████████▊ | 885/1000 [48:04<06:47,  3.54s/it]"
     ]
    },
    {
     "name": "stdout",
     "output_type": "stream",
     "text": [
      "\r",
      " Run SAC_Energy_s27, Episode 885, Score: 0.73, Rolling score: 0.71, Max score: 0.80, Max rolling score: 0.73, collisions: 17   "
     ]
    },
    {
     "name": "stderr",
     "output_type": "stream",
     "text": [
      "\r",
      " 89%|████████▊ | 886/1000 [48:07<06:17,  3.31s/it]"
     ]
    },
    {
     "name": "stdout",
     "output_type": "stream",
     "text": [
      "\r",
      " Run SAC_Energy_s27, Episode 886, Score: 0.75, Rolling score: 0.72, Max score: 0.80, Max rolling score: 0.73, collisions: 17   "
     ]
    },
    {
     "name": "stderr",
     "output_type": "stream",
     "text": [
      "\r",
      " 89%|████████▊ | 887/1000 [48:11<06:47,  3.61s/it]"
     ]
    },
    {
     "name": "stdout",
     "output_type": "stream",
     "text": [
      "\r",
      " Run SAC_Energy_s27, Episode 887, Score: 0.65, Rolling score: 0.72, Max score: 0.80, Max rolling score: 0.73, collisions: 17   "
     ]
    },
    {
     "name": "stderr",
     "output_type": "stream",
     "text": [
      "\r",
      " 89%|████████▉ | 888/1000 [48:14<06:01,  3.23s/it]"
     ]
    },
    {
     "name": "stdout",
     "output_type": "stream",
     "text": [
      "\r",
      " Run SAC_Energy_s27, Episode 888, Score: 0.72, Rolling score: 0.72, Max score: 0.80, Max rolling score: 0.73, collisions: 17   "
     ]
    },
    {
     "name": "stderr",
     "output_type": "stream",
     "text": [
      "\r",
      " 89%|████████▉ | 889/1000 [48:20<07:52,  4.26s/it]"
     ]
    },
    {
     "name": "stdout",
     "output_type": "stream",
     "text": [
      "\r",
      " Run SAC_Energy_s27, Episode 889, Score: 0.71, Rolling score: 0.71, Max score: 0.80, Max rolling score: 0.73, collisions: 17   "
     ]
    },
    {
     "name": "stderr",
     "output_type": "stream",
     "text": [
      "\r",
      " 89%|████████▉ | 890/1000 [48:23<07:00,  3.82s/it]"
     ]
    },
    {
     "name": "stdout",
     "output_type": "stream",
     "text": [
      "\r",
      " Run SAC_Energy_s27, Episode 890, Score: 0.69, Rolling score: 0.71, Max score: 0.80, Max rolling score: 0.73, collisions: 17   "
     ]
    },
    {
     "name": "stderr",
     "output_type": "stream",
     "text": [
      "\r",
      " 89%|████████▉ | 891/1000 [48:25<06:06,  3.36s/it]"
     ]
    },
    {
     "name": "stdout",
     "output_type": "stream",
     "text": [
      "\r",
      " Run SAC_Energy_s27, Episode 891, Score: 0.71, Rolling score: 0.71, Max score: 0.80, Max rolling score: 0.73, collisions: 17   "
     ]
    },
    {
     "name": "stderr",
     "output_type": "stream",
     "text": [
      "\r",
      " 89%|████████▉ | 892/1000 [48:29<06:23,  3.55s/it]"
     ]
    },
    {
     "name": "stdout",
     "output_type": "stream",
     "text": [
      "\r",
      " Run SAC_Energy_s27, Episode 892, Score: 0.69, Rolling score: 0.70, Max score: 0.80, Max rolling score: 0.73, collisions: 17   "
     ]
    },
    {
     "name": "stderr",
     "output_type": "stream",
     "text": [
      "\r",
      " 89%|████████▉ | 893/1000 [48:34<06:46,  3.79s/it]"
     ]
    },
    {
     "name": "stdout",
     "output_type": "stream",
     "text": [
      "\r",
      " Run SAC_Energy_s27, Episode 893, Score: 0.76, Rolling score: 0.71, Max score: 0.80, Max rolling score: 0.73, collisions: 17   "
     ]
    },
    {
     "name": "stderr",
     "output_type": "stream",
     "text": [
      "\r",
      " 89%|████████▉ | 894/1000 [48:37<06:30,  3.69s/it]"
     ]
    },
    {
     "name": "stdout",
     "output_type": "stream",
     "text": [
      "\r",
      " Run SAC_Energy_s27, Episode 894, Score: 0.77, Rolling score: 0.72, Max score: 0.80, Max rolling score: 0.73, collisions: 17   "
     ]
    },
    {
     "name": "stderr",
     "output_type": "stream",
     "text": [
      "\r",
      " 90%|████████▉ | 895/1000 [48:40<05:49,  3.32s/it]"
     ]
    },
    {
     "name": "stdout",
     "output_type": "stream",
     "text": [
      "\r",
      " Run SAC_Energy_s27, Episode 895, Score: 0.69, Rolling score: 0.71, Max score: 0.80, Max rolling score: 0.73, collisions: 17   "
     ]
    },
    {
     "name": "stderr",
     "output_type": "stream",
     "text": [
      "\r",
      " 90%|████████▉ | 896/1000 [48:42<05:14,  3.02s/it]"
     ]
    },
    {
     "name": "stdout",
     "output_type": "stream",
     "text": [
      "\r",
      " Run SAC_Energy_s27, Episode 896, Score: 0.63, Rolling score: 0.70, Max score: 0.80, Max rolling score: 0.73, collisions: 17   "
     ]
    },
    {
     "name": "stderr",
     "output_type": "stream",
     "text": [
      "\r",
      " 90%|████████▉ | 897/1000 [48:44<04:55,  2.87s/it]"
     ]
    },
    {
     "name": "stdout",
     "output_type": "stream",
     "text": [
      "\r",
      " Run SAC_Energy_s27, Episode 897, Score: 0.72, Rolling score: 0.71, Max score: 0.80, Max rolling score: 0.73, collisions: 17   "
     ]
    },
    {
     "name": "stderr",
     "output_type": "stream",
     "text": [
      "\r",
      " 90%|████████▉ | 898/1000 [48:48<05:16,  3.10s/it]"
     ]
    },
    {
     "name": "stdout",
     "output_type": "stream",
     "text": [
      "\r",
      " Run SAC_Energy_s27, Episode 898, Score: 0.71, Rolling score: 0.71, Max score: 0.80, Max rolling score: 0.73, collisions: 17   "
     ]
    },
    {
     "name": "stderr",
     "output_type": "stream",
     "text": [
      "\r",
      " 90%|████████▉ | 899/1000 [48:52<05:50,  3.47s/it]"
     ]
    },
    {
     "name": "stdout",
     "output_type": "stream",
     "text": [
      "\r",
      " Run SAC_Energy_s27, Episode 899, Score: 0.72, Rolling score: 0.71, Max score: 0.80, Max rolling score: 0.73, collisions: 17   "
     ]
    },
    {
     "name": "stderr",
     "output_type": "stream",
     "text": [
      "\r",
      " 90%|█████████ | 900/1000 [48:57<06:10,  3.70s/it]"
     ]
    },
    {
     "name": "stdout",
     "output_type": "stream",
     "text": [
      "\r",
      " Run SAC_Energy_s27, Episode 900, Score: 0.70, Rolling score: 0.71, Max score: 0.80, Max rolling score: 0.73, collisions: 17   "
     ]
    },
    {
     "name": "stderr",
     "output_type": "stream",
     "text": [
      "\r",
      " 90%|█████████ | 901/1000 [49:00<05:44,  3.47s/it]"
     ]
    },
    {
     "name": "stdout",
     "output_type": "stream",
     "text": [
      "\r",
      " Run SAC_Energy_s27, Episode 901, Score: 0.72, Rolling score: 0.71, Max score: 0.80, Max rolling score: 0.73, collisions: 17   "
     ]
    },
    {
     "name": "stderr",
     "output_type": "stream",
     "text": [
      "\r",
      " 90%|█████████ | 902/1000 [49:04<06:01,  3.69s/it]"
     ]
    },
    {
     "name": "stdout",
     "output_type": "stream",
     "text": [
      "\r",
      " Run SAC_Energy_s27, Episode 902, Score: 0.71, Rolling score: 0.71, Max score: 0.80, Max rolling score: 0.73, collisions: 17   "
     ]
    },
    {
     "name": "stderr",
     "output_type": "stream",
     "text": [
      "\r",
      " 90%|█████████ | 903/1000 [49:07<05:41,  3.52s/it]"
     ]
    },
    {
     "name": "stdout",
     "output_type": "stream",
     "text": [
      "\r",
      " Run SAC_Energy_s27, Episode 903, Score: 0.70, Rolling score: 0.71, Max score: 0.80, Max rolling score: 0.73, collisions: 17   "
     ]
    },
    {
     "name": "stderr",
     "output_type": "stream",
     "text": [
      "\r",
      " 90%|█████████ | 904/1000 [49:09<05:04,  3.17s/it]"
     ]
    },
    {
     "name": "stdout",
     "output_type": "stream",
     "text": [
      "\r",
      " Run SAC_Energy_s27, Episode 904, Score: 0.69, Rolling score: 0.70, Max score: 0.80, Max rolling score: 0.73, collisions: 17   "
     ]
    },
    {
     "name": "stderr",
     "output_type": "stream",
     "text": [
      "\r",
      " 90%|█████████ | 905/1000 [49:13<05:20,  3.37s/it]"
     ]
    },
    {
     "name": "stdout",
     "output_type": "stream",
     "text": [
      "\r",
      " Run SAC_Energy_s27, Episode 905, Score: 0.71, Rolling score: 0.70, Max score: 0.80, Max rolling score: 0.73, collisions: 17   "
     ]
    },
    {
     "name": "stderr",
     "output_type": "stream",
     "text": [
      "\r",
      " 91%|█████████ | 906/1000 [49:15<04:42,  3.01s/it]"
     ]
    },
    {
     "name": "stdout",
     "output_type": "stream",
     "text": [
      "\r",
      " Run SAC_Energy_s27, Episode 906, Score: 0.71, Rolling score: 0.71, Max score: 0.80, Max rolling score: 0.73, collisions: 17   "
     ]
    },
    {
     "name": "stderr",
     "output_type": "stream",
     "text": [
      "\r",
      " 91%|█████████ | 907/1000 [49:18<04:38,  2.99s/it]"
     ]
    },
    {
     "name": "stdout",
     "output_type": "stream",
     "text": [
      "\r",
      " Run SAC_Energy_s27, Episode 907, Score: 0.71, Rolling score: 0.71, Max score: 0.80, Max rolling score: 0.73, collisions: 17   "
     ]
    },
    {
     "name": "stderr",
     "output_type": "stream",
     "text": [
      "\r",
      " 91%|█████████ | 908/1000 [49:24<05:57,  3.88s/it]"
     ]
    },
    {
     "name": "stdout",
     "output_type": "stream",
     "text": [
      "\r",
      " Run SAC_Energy_s27, Episode 908, Score: 0.68, Rolling score: 0.71, Max score: 0.80, Max rolling score: 0.73, collisions: 17   "
     ]
    },
    {
     "name": "stderr",
     "output_type": "stream",
     "text": [
      "\r",
      " 91%|█████████ | 909/1000 [49:27<05:24,  3.56s/it]"
     ]
    },
    {
     "name": "stdout",
     "output_type": "stream",
     "text": [
      "\r",
      " Run SAC_Energy_s27, Episode 909, Score: 0.70, Rolling score: 0.70, Max score: 0.80, Max rolling score: 0.73, collisions: 17   "
     ]
    },
    {
     "name": "stderr",
     "output_type": "stream",
     "text": [
      "\r",
      " 91%|█████████ | 910/1000 [49:30<05:03,  3.37s/it]"
     ]
    },
    {
     "name": "stdout",
     "output_type": "stream",
     "text": [
      "\r",
      " Run SAC_Energy_s27, Episode 910, Score: 0.72, Rolling score: 0.71, Max score: 0.80, Max rolling score: 0.73, collisions: 17   "
     ]
    },
    {
     "name": "stderr",
     "output_type": "stream",
     "text": [
      "\r",
      " 91%|█████████ | 911/1000 [49:34<05:21,  3.62s/it]"
     ]
    },
    {
     "name": "stdout",
     "output_type": "stream",
     "text": [
      "\r",
      " Run SAC_Energy_s27, Episode 911, Score: 0.70, Rolling score: 0.70, Max score: 0.80, Max rolling score: 0.73, collisions: 17   "
     ]
    },
    {
     "name": "stderr",
     "output_type": "stream",
     "text": [
      "\r",
      " 91%|█████████ | 912/1000 [49:36<04:40,  3.18s/it]"
     ]
    },
    {
     "name": "stdout",
     "output_type": "stream",
     "text": [
      "\r",
      " Run SAC_Energy_s27, Episode 912, Score: 0.69, Rolling score: 0.70, Max score: 0.80, Max rolling score: 0.73, collisions: 17   "
     ]
    },
    {
     "name": "stderr",
     "output_type": "stream",
     "text": [
      "\r",
      " 91%|█████████▏| 913/1000 [49:40<04:53,  3.37s/it]"
     ]
    },
    {
     "name": "stdout",
     "output_type": "stream",
     "text": [
      "\r",
      " Run SAC_Energy_s27, Episode 913, Score: 0.69, Rolling score: 0.70, Max score: 0.80, Max rolling score: 0.73, collisions: 17   "
     ]
    },
    {
     "name": "stderr",
     "output_type": "stream",
     "text": [
      "\r",
      " 91%|█████████▏| 914/1000 [49:44<05:06,  3.56s/it]"
     ]
    },
    {
     "name": "stdout",
     "output_type": "stream",
     "text": [
      "\r",
      " Run SAC_Energy_s27, Episode 914, Score: 0.71, Rolling score: 0.70, Max score: 0.80, Max rolling score: 0.73, collisions: 17   "
     ]
    },
    {
     "name": "stderr",
     "output_type": "stream",
     "text": [
      "\r",
      " 92%|█████████▏| 915/1000 [49:48<05:19,  3.76s/it]"
     ]
    },
    {
     "name": "stdout",
     "output_type": "stream",
     "text": [
      "\r",
      " Run SAC_Energy_s27, Episode 915, Score: 0.71, Rolling score: 0.70, Max score: 0.80, Max rolling score: 0.73, collisions: 17   "
     ]
    },
    {
     "name": "stderr",
     "output_type": "stream",
     "text": [
      "\r",
      " 92%|█████████▏| 916/1000 [49:52<05:22,  3.84s/it]"
     ]
    },
    {
     "name": "stdout",
     "output_type": "stream",
     "text": [
      "\r",
      " Run SAC_Energy_s27, Episode 916, Score: 0.74, Rolling score: 0.71, Max score: 0.80, Max rolling score: 0.73, collisions: 17   "
     ]
    },
    {
     "name": "stderr",
     "output_type": "stream",
     "text": [
      "\r",
      " 92%|█████████▏| 917/1000 [49:55<04:49,  3.49s/it]"
     ]
    },
    {
     "name": "stdout",
     "output_type": "stream",
     "text": [
      "\r",
      " Run SAC_Energy_s27, Episode 917, Score: 0.69, Rolling score: 0.70, Max score: 0.80, Max rolling score: 0.73, collisions: 17   "
     ]
    },
    {
     "name": "stderr",
     "output_type": "stream",
     "text": [
      "\r",
      " 92%|█████████▏| 918/1000 [49:58<04:43,  3.46s/it]"
     ]
    },
    {
     "name": "stdout",
     "output_type": "stream",
     "text": [
      "\r",
      " Run SAC_Energy_s27, Episode 918, Score: 0.70, Rolling score: 0.71, Max score: 0.80, Max rolling score: 0.73, collisions: 17   "
     ]
    },
    {
     "name": "stderr",
     "output_type": "stream",
     "text": [
      "\r",
      " 92%|█████████▏| 919/1000 [50:04<05:33,  4.12s/it]"
     ]
    },
    {
     "name": "stdout",
     "output_type": "stream",
     "text": [
      "\r",
      " Run SAC_Energy_s27, Episode 919, Score: 0.66, Rolling score: 0.70, Max score: 0.80, Max rolling score: 0.73, collisions: 17   "
     ]
    },
    {
     "name": "stderr",
     "output_type": "stream",
     "text": [
      "\r",
      " 92%|█████████▏| 920/1000 [50:06<04:44,  3.56s/it]"
     ]
    },
    {
     "name": "stdout",
     "output_type": "stream",
     "text": [
      "\r",
      " Run SAC_Energy_s27, Episode 920, Score: 0.71, Rolling score: 0.70, Max score: 0.80, Max rolling score: 0.73, collisions: 17   "
     ]
    },
    {
     "name": "stderr",
     "output_type": "stream",
     "text": [
      "\r",
      " 92%|█████████▏| 921/1000 [50:11<05:07,  3.89s/it]"
     ]
    },
    {
     "name": "stdout",
     "output_type": "stream",
     "text": [
      "\r",
      " Run SAC_Energy_s27, Episode 921, Score: 0.71, Rolling score: 0.70, Max score: 0.80, Max rolling score: 0.73, collisions: 17   "
     ]
    },
    {
     "name": "stderr",
     "output_type": "stream",
     "text": [
      "\r",
      " 92%|█████████▏| 922/1000 [50:15<05:05,  3.92s/it]"
     ]
    },
    {
     "name": "stdout",
     "output_type": "stream",
     "text": [
      "\r",
      " Run SAC_Energy_s27, Episode 922, Score: 0.70, Rolling score: 0.70, Max score: 0.80, Max rolling score: 0.73, collisions: 17   "
     ]
    },
    {
     "name": "stderr",
     "output_type": "stream",
     "text": [
      "\r",
      " 92%|█████████▏| 923/1000 [50:17<04:30,  3.51s/it]"
     ]
    },
    {
     "name": "stdout",
     "output_type": "stream",
     "text": [
      "\r",
      " Run SAC_Energy_s27, Episode 923, Score: 0.68, Rolling score: 0.70, Max score: 0.80, Max rolling score: 0.73, collisions: 17   "
     ]
    },
    {
     "name": "stderr",
     "output_type": "stream",
     "text": [
      "\r",
      " 92%|█████████▏| 924/1000 [50:24<05:41,  4.49s/it]"
     ]
    },
    {
     "name": "stdout",
     "output_type": "stream",
     "text": [
      "\r",
      " Run SAC_Energy_s27, Episode 924, Score: 0.74, Rolling score: 0.71, Max score: 0.80, Max rolling score: 0.73, collisions: 17   "
     ]
    },
    {
     "name": "stderr",
     "output_type": "stream",
     "text": [
      "\r",
      " 92%|█████████▎| 925/1000 [50:27<05:00,  4.01s/it]"
     ]
    },
    {
     "name": "stdout",
     "output_type": "stream",
     "text": [
      "\r",
      " Run SAC_Energy_s27, Episode 925, Score: 0.74, Rolling score: 0.71, Max score: 0.80, Max rolling score: 0.73, collisions: 17   "
     ]
    },
    {
     "name": "stderr",
     "output_type": "stream",
     "text": [
      "\r",
      " 93%|█████████▎| 926/1000 [50:30<04:33,  3.69s/it]"
     ]
    },
    {
     "name": "stdout",
     "output_type": "stream",
     "text": [
      "\r",
      " Run SAC_Energy_s27, Episode 926, Score: 0.72, Rolling score: 0.71, Max score: 0.80, Max rolling score: 0.73, collisions: 17   "
     ]
    },
    {
     "name": "stderr",
     "output_type": "stream",
     "text": [
      "\r",
      " 93%|█████████▎| 927/1000 [50:35<05:04,  4.16s/it]"
     ]
    },
    {
     "name": "stdout",
     "output_type": "stream",
     "text": [
      "\r",
      " Run SAC_Energy_s27, Episode 927, Score: 0.68, Rolling score: 0.71, Max score: 0.80, Max rolling score: 0.73, collisions: 17   "
     ]
    },
    {
     "name": "stderr",
     "output_type": "stream",
     "text": [
      "\r",
      " 93%|█████████▎| 928/1000 [50:38<04:22,  3.65s/it]"
     ]
    },
    {
     "name": "stdout",
     "output_type": "stream",
     "text": [
      "\r",
      " Run SAC_Energy_s27, Episode 928, Score: 0.75, Rolling score: 0.71, Max score: 0.80, Max rolling score: 0.73, collisions: 17   "
     ]
    },
    {
     "name": "stderr",
     "output_type": "stream",
     "text": [
      "\r",
      " 93%|█████████▎| 929/1000 [50:42<04:28,  3.78s/it]"
     ]
    },
    {
     "name": "stdout",
     "output_type": "stream",
     "text": [
      "\r",
      " Run SAC_Energy_s27, Episode 929, Score: 0.66, Rolling score: 0.71, Max score: 0.80, Max rolling score: 0.73, collisions: 17   "
     ]
    },
    {
     "name": "stderr",
     "output_type": "stream",
     "text": [
      "\r",
      " 93%|█████████▎| 930/1000 [50:45<04:04,  3.49s/it]"
     ]
    },
    {
     "name": "stdout",
     "output_type": "stream",
     "text": [
      "\r",
      " Run SAC_Energy_s27, Episode 930, Score: 0.70, Rolling score: 0.71, Max score: 0.80, Max rolling score: 0.73, collisions: 17   "
     ]
    },
    {
     "name": "stderr",
     "output_type": "stream",
     "text": [
      "\r",
      " 93%|█████████▎| 931/1000 [50:47<03:35,  3.12s/it]"
     ]
    },
    {
     "name": "stdout",
     "output_type": "stream",
     "text": [
      "\r",
      " Run SAC_Energy_s27, Episode 931, Score: 0.69, Rolling score: 0.71, Max score: 0.80, Max rolling score: 0.73, collisions: 17   "
     ]
    },
    {
     "name": "stderr",
     "output_type": "stream",
     "text": [
      "\r",
      " 93%|█████████▎| 932/1000 [50:51<03:46,  3.33s/it]"
     ]
    },
    {
     "name": "stdout",
     "output_type": "stream",
     "text": [
      "\r",
      " Run SAC_Energy_s27, Episode 932, Score: 0.72, Rolling score: 0.71, Max score: 0.80, Max rolling score: 0.73, collisions: 17   "
     ]
    },
    {
     "name": "stderr",
     "output_type": "stream",
     "text": [
      "\r",
      " 93%|█████████▎| 933/1000 [50:55<03:58,  3.55s/it]"
     ]
    },
    {
     "name": "stdout",
     "output_type": "stream",
     "text": [
      "\r",
      " Run SAC_Energy_s27, Episode 933, Score: 0.64, Rolling score: 0.70, Max score: 0.80, Max rolling score: 0.73, collisions: 17   "
     ]
    },
    {
     "name": "stderr",
     "output_type": "stream",
     "text": [
      "\r",
      " 93%|█████████▎| 934/1000 [50:58<03:41,  3.35s/it]"
     ]
    },
    {
     "name": "stdout",
     "output_type": "stream",
     "text": [
      "\r",
      " Run SAC_Energy_s27, Episode 934, Score: 0.74, Rolling score: 0.70, Max score: 0.80, Max rolling score: 0.73, collisions: 17   "
     ]
    },
    {
     "name": "stderr",
     "output_type": "stream",
     "text": [
      "\r",
      " 94%|█████████▎| 935/1000 [51:04<04:26,  4.09s/it]"
     ]
    },
    {
     "name": "stdout",
     "output_type": "stream",
     "text": [
      "\r",
      " Run SAC_Energy_s27, Episode 935, Score: 0.63, Rolling score: 0.69, Max score: 0.80, Max rolling score: 0.73, collisions: 17   "
     ]
    },
    {
     "name": "stderr",
     "output_type": "stream",
     "text": [
      "\r",
      " 94%|█████████▎| 936/1000 [51:06<03:48,  3.57s/it]"
     ]
    },
    {
     "name": "stdout",
     "output_type": "stream",
     "text": [
      "\r",
      " Run SAC_Energy_s27, Episode 936, Score: 0.71, Rolling score: 0.69, Max score: 0.80, Max rolling score: 0.73, collisions: 17   "
     ]
    },
    {
     "name": "stderr",
     "output_type": "stream",
     "text": [
      "\r",
      " 94%|█████████▎| 937/1000 [51:08<03:19,  3.17s/it]"
     ]
    },
    {
     "name": "stdout",
     "output_type": "stream",
     "text": [
      "\r",
      " Run SAC_Energy_s27, Episode 937, Score: 0.71, Rolling score: 0.70, Max score: 0.80, Max rolling score: 0.73, collisions: 17   "
     ]
    },
    {
     "name": "stderr",
     "output_type": "stream",
     "text": [
      "\r",
      " 94%|█████████▍| 938/1000 [51:12<03:26,  3.33s/it]"
     ]
    },
    {
     "name": "stdout",
     "output_type": "stream",
     "text": [
      "\r",
      " Run SAC_Energy_s27, Episode 938, Score: 0.71, Rolling score: 0.69, Max score: 0.80, Max rolling score: 0.73, collisions: 17   "
     ]
    },
    {
     "name": "stderr",
     "output_type": "stream",
     "text": [
      "\r",
      " 94%|█████████▍| 939/1000 [51:16<03:37,  3.57s/it]"
     ]
    },
    {
     "name": "stdout",
     "output_type": "stream",
     "text": [
      "\r",
      " Run SAC_Energy_s27, Episode 939, Score: 0.68, Rolling score: 0.69, Max score: 0.80, Max rolling score: 0.73, collisions: 17   "
     ]
    },
    {
     "name": "stderr",
     "output_type": "stream",
     "text": [
      "\r",
      " 94%|█████████▍| 940/1000 [51:19<03:26,  3.44s/it]"
     ]
    },
    {
     "name": "stdout",
     "output_type": "stream",
     "text": [
      "\r",
      " Run SAC_Energy_s27, Episode 940, Score: 0.69, Rolling score: 0.69, Max score: 0.80, Max rolling score: 0.73, collisions: 17   "
     ]
    },
    {
     "name": "stderr",
     "output_type": "stream",
     "text": [
      "\r",
      " 94%|█████████▍| 941/1000 [51:22<03:08,  3.20s/it]"
     ]
    },
    {
     "name": "stdout",
     "output_type": "stream",
     "text": [
      "\r",
      " Run SAC_Energy_s27, Episode 941, Score: 0.75, Rolling score: 0.70, Max score: 0.80, Max rolling score: 0.73, collisions: 17   "
     ]
    },
    {
     "name": "stderr",
     "output_type": "stream",
     "text": [
      "\r",
      " 94%|█████████▍| 942/1000 [51:24<02:55,  3.02s/it]"
     ]
    },
    {
     "name": "stdout",
     "output_type": "stream",
     "text": [
      "\r",
      " Run SAC_Energy_s27, Episode 942, Score: 0.67, Rolling score: 0.69, Max score: 0.80, Max rolling score: 0.73, collisions: 17   "
     ]
    },
    {
     "name": "stderr",
     "output_type": "stream",
     "text": [
      "\r",
      " 94%|█████████▍| 943/1000 [51:28<03:00,  3.16s/it]"
     ]
    },
    {
     "name": "stdout",
     "output_type": "stream",
     "text": [
      "\r",
      " Run SAC_Energy_s27, Episode 943, Score: 0.72, Rolling score: 0.70, Max score: 0.80, Max rolling score: 0.73, collisions: 17   "
     ]
    },
    {
     "name": "stderr",
     "output_type": "stream",
     "text": [
      "\r",
      " 94%|█████████▍| 944/1000 [51:31<03:02,  3.26s/it]"
     ]
    },
    {
     "name": "stdout",
     "output_type": "stream",
     "text": [
      "\r",
      " Run SAC_Energy_s27, Episode 944, Score: 0.71, Rolling score: 0.70, Max score: 0.80, Max rolling score: 0.73, collisions: 17   "
     ]
    },
    {
     "name": "stderr",
     "output_type": "stream",
     "text": [
      "\r",
      " 94%|█████████▍| 945/1000 [51:34<02:42,  2.95s/it]"
     ]
    },
    {
     "name": "stdout",
     "output_type": "stream",
     "text": [
      "\r",
      " Run SAC_Energy_s27, Episode 945, Score: 0.64, Rolling score: 0.70, Max score: 0.80, Max rolling score: 0.73, collisions: 17   "
     ]
    },
    {
     "name": "stderr",
     "output_type": "stream",
     "text": [
      "\r",
      " 95%|█████████▍| 946/1000 [51:37<02:43,  3.02s/it]"
     ]
    },
    {
     "name": "stdout",
     "output_type": "stream",
     "text": [
      "\r",
      " Run SAC_Energy_s27, Episode 946, Score: 0.70, Rolling score: 0.70, Max score: 0.80, Max rolling score: 0.73, collisions: 17   "
     ]
    },
    {
     "name": "stderr",
     "output_type": "stream",
     "text": [
      "\r",
      " 95%|█████████▍| 947/1000 [51:43<03:35,  4.07s/it]"
     ]
    },
    {
     "name": "stdout",
     "output_type": "stream",
     "text": [
      "\r",
      " Run SAC_Energy_s27, Episode 947, Score: 0.72, Rolling score: 0.70, Max score: 0.80, Max rolling score: 0.73, collisions: 17   "
     ]
    },
    {
     "name": "stderr",
     "output_type": "stream",
     "text": [
      "\r",
      " 95%|█████████▍| 948/1000 [51:46<03:09,  3.65s/it]"
     ]
    },
    {
     "name": "stdout",
     "output_type": "stream",
     "text": [
      "\r",
      " Run SAC_Energy_s27, Episode 948, Score: 0.71, Rolling score: 0.70, Max score: 0.80, Max rolling score: 0.73, collisions: 17   "
     ]
    },
    {
     "name": "stderr",
     "output_type": "stream",
     "text": [
      "\r",
      " 95%|█████████▍| 949/1000 [51:53<03:52,  4.56s/it]"
     ]
    },
    {
     "name": "stdout",
     "output_type": "stream",
     "text": [
      "\r",
      " Run SAC_Energy_s27, Episode 949, Score: 0.71, Rolling score: 0.70, Max score: 0.80, Max rolling score: 0.73, collisions: 17   "
     ]
    },
    {
     "name": "stderr",
     "output_type": "stream",
     "text": [
      "\r",
      " 95%|█████████▌| 950/1000 [51:56<03:23,  4.06s/it]"
     ]
    },
    {
     "name": "stdout",
     "output_type": "stream",
     "text": [
      "\r",
      " Run SAC_Energy_s27, Episode 950, Score: 0.72, Rolling score: 0.70, Max score: 0.80, Max rolling score: 0.73, collisions: 17   "
     ]
    },
    {
     "name": "stderr",
     "output_type": "stream",
     "text": [
      "\r",
      " 95%|█████████▌| 951/1000 [52:00<03:23,  4.15s/it]"
     ]
    },
    {
     "name": "stdout",
     "output_type": "stream",
     "text": [
      "\r",
      " Run SAC_Energy_s27, Episode 951, Score: 0.74, Rolling score: 0.70, Max score: 0.80, Max rolling score: 0.73, collisions: 17   "
     ]
    },
    {
     "name": "stderr",
     "output_type": "stream",
     "text": [
      "\r",
      " 95%|█████████▌| 952/1000 [52:04<03:17,  4.11s/it]"
     ]
    },
    {
     "name": "stdout",
     "output_type": "stream",
     "text": [
      "\r",
      " Run SAC_Energy_s27, Episode 952, Score: 0.69, Rolling score: 0.70, Max score: 0.80, Max rolling score: 0.73, collisions: 17   "
     ]
    },
    {
     "name": "stderr",
     "output_type": "stream",
     "text": [
      "\r",
      " 95%|█████████▌| 953/1000 [52:12<04:10,  5.34s/it]"
     ]
    },
    {
     "name": "stdout",
     "output_type": "stream",
     "text": [
      "\r",
      " Run SAC_Energy_s27, Episode 953, Score: 0.70, Rolling score: 0.70, Max score: 0.80, Max rolling score: 0.73, collisions: 17   "
     ]
    },
    {
     "name": "stderr",
     "output_type": "stream",
     "text": [
      "\r",
      " 95%|█████████▌| 954/1000 [52:16<03:49,  4.99s/it]"
     ]
    },
    {
     "name": "stdout",
     "output_type": "stream",
     "text": [
      "\r",
      " Run SAC_Energy_s27, Episode 954, Score: 0.70, Rolling score: 0.70, Max score: 0.80, Max rolling score: 0.73, collisions: 17   "
     ]
    },
    {
     "name": "stderr",
     "output_type": "stream",
     "text": [
      "\r",
      " 96%|█████████▌| 955/1000 [52:21<03:36,  4.82s/it]"
     ]
    },
    {
     "name": "stdout",
     "output_type": "stream",
     "text": [
      "\r",
      " Run SAC_Energy_s27, Episode 955, Score: 0.71, Rolling score: 0.71, Max score: 0.80, Max rolling score: 0.73, collisions: 17   "
     ]
    },
    {
     "name": "stderr",
     "output_type": "stream",
     "text": [
      "\r",
      " 96%|█████████▌| 956/1000 [52:23<03:02,  4.14s/it]"
     ]
    },
    {
     "name": "stdout",
     "output_type": "stream",
     "text": [
      "\r",
      " Run SAC_Energy_s27, Episode 956, Score: 0.69, Rolling score: 0.71, Max score: 0.80, Max rolling score: 0.73, collisions: 17   "
     ]
    },
    {
     "name": "stderr",
     "output_type": "stream",
     "text": [
      "\r",
      " 96%|█████████▌| 957/1000 [52:28<03:07,  4.36s/it]"
     ]
    },
    {
     "name": "stdout",
     "output_type": "stream",
     "text": [
      "\r",
      " Run SAC_Energy_s27, Episode 957, Score: 0.72, Rolling score: 0.71, Max score: 0.80, Max rolling score: 0.73, collisions: 17   "
     ]
    },
    {
     "name": "stderr",
     "output_type": "stream",
     "text": [
      "\r",
      " 96%|█████████▌| 958/1000 [52:32<02:56,  4.21s/it]"
     ]
    },
    {
     "name": "stdout",
     "output_type": "stream",
     "text": [
      "\r",
      " Run SAC_Energy_s27, Episode 958, Score: 0.73, Rolling score: 0.71, Max score: 0.80, Max rolling score: 0.73, collisions: 17   "
     ]
    },
    {
     "name": "stderr",
     "output_type": "stream",
     "text": [
      "\r",
      " 96%|█████████▌| 959/1000 [52:36<02:55,  4.27s/it]"
     ]
    },
    {
     "name": "stdout",
     "output_type": "stream",
     "text": [
      "\r",
      " Run SAC_Energy_s27, Episode 959, Score: 0.71, Rolling score: 0.71, Max score: 0.80, Max rolling score: 0.73, collisions: 17   "
     ]
    },
    {
     "name": "stderr",
     "output_type": "stream",
     "text": [
      "\r",
      " 96%|█████████▌| 960/1000 [52:39<02:35,  3.89s/it]"
     ]
    },
    {
     "name": "stdout",
     "output_type": "stream",
     "text": [
      "\r",
      " Run SAC_Energy_s27, Episode 960, Score: 0.70, Rolling score: 0.71, Max score: 0.80, Max rolling score: 0.73, collisions: 17   "
     ]
    },
    {
     "name": "stderr",
     "output_type": "stream",
     "text": [
      "\r",
      " 96%|█████████▌| 961/1000 [52:43<02:32,  3.91s/it]"
     ]
    },
    {
     "name": "stdout",
     "output_type": "stream",
     "text": [
      "\r",
      " Run SAC_Energy_s27, Episode 961, Score: 0.74, Rolling score: 0.71, Max score: 0.80, Max rolling score: 0.73, collisions: 17   "
     ]
    },
    {
     "name": "stderr",
     "output_type": "stream",
     "text": [
      "\r",
      " 96%|█████████▌| 962/1000 [52:49<02:49,  4.46s/it]"
     ]
    },
    {
     "name": "stdout",
     "output_type": "stream",
     "text": [
      "\r",
      " Run SAC_Energy_s27, Episode 962, Score: 0.70, Rolling score: 0.71, Max score: 0.80, Max rolling score: 0.73, collisions: 17   "
     ]
    },
    {
     "name": "stderr",
     "output_type": "stream",
     "text": [
      "\r",
      " 96%|█████████▋| 963/1000 [52:52<02:26,  3.95s/it]"
     ]
    },
    {
     "name": "stdout",
     "output_type": "stream",
     "text": [
      "\r",
      " Run SAC_Energy_s27, Episode 963, Score: 0.64, Rolling score: 0.70, Max score: 0.80, Max rolling score: 0.73, collisions: 17   "
     ]
    },
    {
     "name": "stderr",
     "output_type": "stream",
     "text": [
      "\r",
      " 96%|█████████▋| 964/1000 [52:55<02:11,  3.65s/it]"
     ]
    },
    {
     "name": "stdout",
     "output_type": "stream",
     "text": [
      "\r",
      " Run SAC_Energy_s27, Episode 964, Score: 0.71, Rolling score: 0.70, Max score: 0.80, Max rolling score: 0.73, collisions: 17   "
     ]
    },
    {
     "name": "stderr",
     "output_type": "stream",
     "text": [
      "\r",
      " 96%|█████████▋| 965/1000 [52:58<01:59,  3.43s/it]"
     ]
    },
    {
     "name": "stdout",
     "output_type": "stream",
     "text": [
      "\r",
      " Run SAC_Energy_s27, Episode 965, Score: 0.72, Rolling score: 0.71, Max score: 0.80, Max rolling score: 0.73, collisions: 17   "
     ]
    },
    {
     "name": "stderr",
     "output_type": "stream",
     "text": [
      "\r",
      " 97%|█████████▋| 966/1000 [53:02<02:05,  3.68s/it]"
     ]
    },
    {
     "name": "stdout",
     "output_type": "stream",
     "text": [
      "\r",
      " Run SAC_Energy_s27, Episode 966, Score: 0.63, Rolling score: 0.70, Max score: 0.80, Max rolling score: 0.73, collisions: 17   "
     ]
    },
    {
     "name": "stderr",
     "output_type": "stream",
     "text": [
      "\r",
      " 97%|█████████▋| 967/1000 [53:07<02:09,  3.93s/it]"
     ]
    },
    {
     "name": "stdout",
     "output_type": "stream",
     "text": [
      "\r",
      " Run SAC_Energy_s27, Episode 967, Score: 0.71, Rolling score: 0.70, Max score: 0.80, Max rolling score: 0.73, collisions: 17   "
     ]
    },
    {
     "name": "stderr",
     "output_type": "stream",
     "text": [
      "\r",
      " 97%|█████████▋| 968/1000 [53:10<02:00,  3.77s/it]"
     ]
    },
    {
     "name": "stdout",
     "output_type": "stream",
     "text": [
      "\r",
      " Run SAC_Energy_s27, Episode 968, Score: 0.71, Rolling score: 0.70, Max score: 0.80, Max rolling score: 0.73, collisions: 17   "
     ]
    },
    {
     "name": "stderr",
     "output_type": "stream",
     "text": [
      "\r",
      " 97%|█████████▋| 969/1000 [53:14<02:01,  3.92s/it]"
     ]
    },
    {
     "name": "stdout",
     "output_type": "stream",
     "text": [
      "\r",
      " Run SAC_Energy_s27, Episode 969, Score: 0.67, Rolling score: 0.69, Max score: 0.80, Max rolling score: 0.73, collisions: 17   "
     ]
    },
    {
     "name": "stderr",
     "output_type": "stream",
     "text": [
      "\r",
      " 97%|█████████▋| 970/1000 [53:20<02:16,  4.54s/it]"
     ]
    },
    {
     "name": "stdout",
     "output_type": "stream",
     "text": [
      "\r",
      " Run SAC_Energy_s27, Episode 970, Score: 0.70, Rolling score: 0.69, Max score: 0.80, Max rolling score: 0.73, collisions: 17   "
     ]
    },
    {
     "name": "stderr",
     "output_type": "stream",
     "text": [
      "\r",
      " 97%|█████████▋| 971/1000 [53:23<01:54,  3.96s/it]"
     ]
    },
    {
     "name": "stdout",
     "output_type": "stream",
     "text": [
      "\r",
      " Run SAC_Energy_s27, Episode 971, Score: 0.72, Rolling score: 0.69, Max score: 0.80, Max rolling score: 0.73, collisions: 17   "
     ]
    },
    {
     "name": "stderr",
     "output_type": "stream",
     "text": [
      "\r",
      " 97%|█████████▋| 972/1000 [53:26<01:45,  3.75s/it]"
     ]
    },
    {
     "name": "stdout",
     "output_type": "stream",
     "text": [
      "\r",
      " Run SAC_Energy_s27, Episode 972, Score: 0.66, Rolling score: 0.69, Max score: 0.80, Max rolling score: 0.73, collisions: 17   "
     ]
    },
    {
     "name": "stderr",
     "output_type": "stream",
     "text": [
      "\r",
      " 97%|█████████▋| 973/1000 [53:28<01:30,  3.35s/it]"
     ]
    },
    {
     "name": "stdout",
     "output_type": "stream",
     "text": [
      "\r",
      " Run SAC_Energy_s27, Episode 973, Score: 0.64, Rolling score: 0.69, Max score: 0.80, Max rolling score: 0.73, collisions: 17   "
     ]
    },
    {
     "name": "stderr",
     "output_type": "stream",
     "text": [
      "\r",
      " 97%|█████████▋| 974/1000 [53:32<01:30,  3.47s/it]"
     ]
    },
    {
     "name": "stdout",
     "output_type": "stream",
     "text": [
      "\r",
      " Run SAC_Energy_s27, Episode 974, Score: 0.71, Rolling score: 0.69, Max score: 0.80, Max rolling score: 0.73, collisions: 17   "
     ]
    },
    {
     "name": "stderr",
     "output_type": "stream",
     "text": [
      "\r",
      " 98%|█████████▊| 975/1000 [53:36<01:29,  3.56s/it]"
     ]
    },
    {
     "name": "stdout",
     "output_type": "stream",
     "text": [
      "\r",
      " Run SAC_Energy_s27, Episode 975, Score: 0.70, Rolling score: 0.69, Max score: 0.80, Max rolling score: 0.73, collisions: 17   "
     ]
    },
    {
     "name": "stderr",
     "output_type": "stream",
     "text": [
      "\r",
      " 98%|█████████▊| 976/1000 [53:39<01:18,  3.29s/it]"
     ]
    },
    {
     "name": "stdout",
     "output_type": "stream",
     "text": [
      "\r",
      " Run SAC_Energy_s27, Episode 976, Score: 0.73, Rolling score: 0.70, Max score: 0.80, Max rolling score: 0.73, collisions: 17   "
     ]
    },
    {
     "name": "stderr",
     "output_type": "stream",
     "text": [
      "\r",
      " 98%|█████████▊| 977/1000 [53:45<01:38,  4.30s/it]"
     ]
    },
    {
     "name": "stdout",
     "output_type": "stream",
     "text": [
      "\r",
      " Run SAC_Energy_s27, Episode 977, Score: 0.73, Rolling score: 0.70, Max score: 0.80, Max rolling score: 0.73, collisions: 17   "
     ]
    },
    {
     "name": "stderr",
     "output_type": "stream",
     "text": [
      "\r",
      " 98%|█████████▊| 978/1000 [53:51<01:41,  4.64s/it]"
     ]
    },
    {
     "name": "stdout",
     "output_type": "stream",
     "text": [
      "\r",
      " Run SAC_Energy_s27, Episode 978, Score: 0.78, Rolling score: 0.70, Max score: 0.80, Max rolling score: 0.73, collisions: 17   "
     ]
    },
    {
     "name": "stderr",
     "output_type": "stream",
     "text": [
      "\r",
      " 98%|█████████▊| 979/1000 [53:54<01:30,  4.31s/it]"
     ]
    },
    {
     "name": "stdout",
     "output_type": "stream",
     "text": [
      "\r",
      " Run SAC_Energy_s27, Episode 979, Score: 0.75, Rolling score: 0.71, Max score: 0.80, Max rolling score: 0.73, collisions: 17   "
     ]
    },
    {
     "name": "stderr",
     "output_type": "stream",
     "text": [
      "\r",
      " 98%|█████████▊| 980/1000 [53:57<01:14,  3.73s/it]"
     ]
    },
    {
     "name": "stdout",
     "output_type": "stream",
     "text": [
      "\r",
      " Run SAC_Energy_s27, Episode 980, Score: 0.70, Rolling score: 0.71, Max score: 0.80, Max rolling score: 0.73, collisions: 17   "
     ]
    },
    {
     "name": "stderr",
     "output_type": "stream",
     "text": [
      "\r",
      " 98%|█████████▊| 981/1000 [54:00<01:08,  3.62s/it]"
     ]
    },
    {
     "name": "stdout",
     "output_type": "stream",
     "text": [
      "\r",
      " Run SAC_Energy_s27, Episode 981, Score: 0.72, Rolling score: 0.71, Max score: 0.80, Max rolling score: 0.73, collisions: 17   "
     ]
    },
    {
     "name": "stderr",
     "output_type": "stream",
     "text": [
      "\r",
      " 98%|█████████▊| 982/1000 [54:04<01:07,  3.76s/it]"
     ]
    },
    {
     "name": "stdout",
     "output_type": "stream",
     "text": [
      "\r",
      " Run SAC_Energy_s27, Episode 982, Score: 0.23, Rolling score: 0.67, Max score: 0.80, Max rolling score: 0.73, collisions: 18   "
     ]
    },
    {
     "name": "stderr",
     "output_type": "stream",
     "text": [
      "\r",
      " 98%|█████████▊| 983/1000 [54:08<01:04,  3.79s/it]"
     ]
    },
    {
     "name": "stdout",
     "output_type": "stream",
     "text": [
      "\r",
      " Run SAC_Energy_s27, Episode 983, Score: 0.70, Rolling score: 0.67, Max score: 0.80, Max rolling score: 0.73, collisions: 18   "
     ]
    },
    {
     "name": "stderr",
     "output_type": "stream",
     "text": [
      "\r",
      " 98%|█████████▊| 984/1000 [54:12<01:04,  4.01s/it]"
     ]
    },
    {
     "name": "stdout",
     "output_type": "stream",
     "text": [
      "\r",
      " Run SAC_Energy_s27, Episode 984, Score: 0.66, Rolling score: 0.67, Max score: 0.80, Max rolling score: 0.73, collisions: 18   "
     ]
    },
    {
     "name": "stderr",
     "output_type": "stream",
     "text": [
      "\r",
      " 98%|█████████▊| 985/1000 [54:16<00:57,  3.86s/it]"
     ]
    },
    {
     "name": "stdout",
     "output_type": "stream",
     "text": [
      "\r",
      " Run SAC_Energy_s27, Episode 985, Score: 0.71, Rolling score: 0.67, Max score: 0.80, Max rolling score: 0.73, collisions: 18   "
     ]
    },
    {
     "name": "stderr",
     "output_type": "stream",
     "text": [
      "\r",
      " 99%|█████████▊| 986/1000 [54:19<00:50,  3.58s/it]"
     ]
    },
    {
     "name": "stdout",
     "output_type": "stream",
     "text": [
      "\r",
      " Run SAC_Energy_s27, Episode 986, Score: 0.72, Rolling score: 0.67, Max score: 0.80, Max rolling score: 0.73, collisions: 18   "
     ]
    },
    {
     "name": "stderr",
     "output_type": "stream",
     "text": [
      "\r",
      " 99%|█████████▊| 987/1000 [54:26<00:59,  4.60s/it]"
     ]
    },
    {
     "name": "stdout",
     "output_type": "stream",
     "text": [
      "\r",
      " Run SAC_Energy_s27, Episode 987, Score: 0.74, Rolling score: 0.67, Max score: 0.80, Max rolling score: 0.73, collisions: 18   "
     ]
    },
    {
     "name": "stderr",
     "output_type": "stream",
     "text": [
      "\r",
      " 99%|█████████▉| 988/1000 [54:29<00:49,  4.13s/it]"
     ]
    },
    {
     "name": "stdout",
     "output_type": "stream",
     "text": [
      "\r",
      " Run SAC_Energy_s27, Episode 988, Score: 0.71, Rolling score: 0.66, Max score: 0.80, Max rolling score: 0.73, collisions: 18   "
     ]
    },
    {
     "name": "stderr",
     "output_type": "stream",
     "text": [
      "\r",
      " 99%|█████████▉| 989/1000 [54:33<00:43,  3.99s/it]"
     ]
    },
    {
     "name": "stdout",
     "output_type": "stream",
     "text": [
      "\r",
      " Run SAC_Energy_s27, Episode 989, Score: 0.75, Rolling score: 0.66, Max score: 0.80, Max rolling score: 0.73, collisions: 18   "
     ]
    },
    {
     "name": "stderr",
     "output_type": "stream",
     "text": [
      "\r",
      " 99%|█████████▉| 990/1000 [54:35<00:35,  3.55s/it]"
     ]
    },
    {
     "name": "stdout",
     "output_type": "stream",
     "text": [
      "\r",
      " Run SAC_Energy_s27, Episode 990, Score: 0.69, Rolling score: 0.66, Max score: 0.80, Max rolling score: 0.73, collisions: 18   "
     ]
    },
    {
     "name": "stderr",
     "output_type": "stream",
     "text": [
      "\r",
      " 99%|█████████▉| 991/1000 [54:38<00:28,  3.22s/it]"
     ]
    },
    {
     "name": "stdout",
     "output_type": "stream",
     "text": [
      "\r",
      " Run SAC_Energy_s27, Episode 991, Score: 0.69, Rolling score: 0.66, Max score: 0.80, Max rolling score: 0.73, collisions: 18   "
     ]
    },
    {
     "name": "stderr",
     "output_type": "stream",
     "text": [
      "\r",
      " 99%|█████████▉| 992/1000 [54:42<00:27,  3.47s/it]"
     ]
    },
    {
     "name": "stdout",
     "output_type": "stream",
     "text": [
      "\r",
      " Run SAC_Energy_s27, Episode 992, Score: 0.69, Rolling score: 0.71, Max score: 0.80, Max rolling score: 0.73, collisions: 18   "
     ]
    },
    {
     "name": "stderr",
     "output_type": "stream",
     "text": [
      "\r",
      " 99%|█████████▉| 993/1000 [54:45<00:23,  3.38s/it]"
     ]
    },
    {
     "name": "stdout",
     "output_type": "stream",
     "text": [
      "\r",
      " Run SAC_Energy_s27, Episode 993, Score: 0.71, Rolling score: 0.71, Max score: 0.80, Max rolling score: 0.73, collisions: 18   "
     ]
    },
    {
     "name": "stderr",
     "output_type": "stream",
     "text": [
      "\r",
      " 99%|█████████▉| 994/1000 [54:51<00:25,  4.22s/it]"
     ]
    },
    {
     "name": "stdout",
     "output_type": "stream",
     "text": [
      "\r",
      " Run SAC_Energy_s27, Episode 994, Score: 0.61, Rolling score: 0.70, Max score: 0.80, Max rolling score: 0.73, collisions: 18   "
     ]
    },
    {
     "name": "stderr",
     "output_type": "stream",
     "text": [
      "\r",
      "100%|█████████▉| 995/1000 [54:54<00:19,  3.88s/it]"
     ]
    },
    {
     "name": "stdout",
     "output_type": "stream",
     "text": [
      "\r",
      " Run SAC_Energy_s27, Episode 995, Score: 0.72, Rolling score: 0.70, Max score: 0.80, Max rolling score: 0.73, collisions: 18   "
     ]
    },
    {
     "name": "stderr",
     "output_type": "stream",
     "text": [
      "\r",
      "100%|█████████▉| 996/1000 [54:57<00:14,  3.55s/it]"
     ]
    },
    {
     "name": "stdout",
     "output_type": "stream",
     "text": [
      "\r",
      " Run SAC_Energy_s27, Episode 996, Score: 0.73, Rolling score: 0.70, Max score: 0.80, Max rolling score: 0.73, collisions: 18   "
     ]
    },
    {
     "name": "stderr",
     "output_type": "stream",
     "text": [
      "\r",
      "100%|█████████▉| 997/1000 [55:04<00:13,  4.58s/it]"
     ]
    },
    {
     "name": "stdout",
     "output_type": "stream",
     "text": [
      "\r",
      " Run SAC_Energy_s27, Episode 997, Score: 0.71, Rolling score: 0.70, Max score: 0.80, Max rolling score: 0.73, collisions: 18   "
     ]
    },
    {
     "name": "stderr",
     "output_type": "stream",
     "text": [
      "\r",
      "100%|█████████▉| 998/1000 [55:06<00:07,  3.94s/it]"
     ]
    },
    {
     "name": "stdout",
     "output_type": "stream",
     "text": [
      "\r",
      " Run SAC_Energy_s27, Episode 998, Score: 0.73, Rolling score: 0.70, Max score: 0.80, Max rolling score: 0.73, collisions: 18   "
     ]
    },
    {
     "name": "stderr",
     "output_type": "stream",
     "text": [
      "\r",
      "100%|█████████▉| 999/1000 [55:10<00:04,  4.01s/it]"
     ]
    },
    {
     "name": "stdout",
     "output_type": "stream",
     "text": [
      "\r",
      " Run SAC_Energy_s27, Episode 999, Score: 0.68, Rolling score: 0.70, Max score: 0.80, Max rolling score: 0.73, collisions: 18   "
     ]
    },
    {
     "name": "stderr",
     "output_type": "stream",
     "text": [
      "100%|██████████| 1000/1000 [55:14<00:00,  3.31s/it]\n"
     ]
    }
   ],
   "source": [
    "device = torch.device(\"cuda\") if torch.cuda.is_available() else torch.device(\"cpu\")\n",
    "\n",
    "env = Env(TTC_threshold)\n",
    "\n",
    "# load training data\n",
    "# train = sio.loadmat('trainSet.mat')['calibrationData']\n",
    "# test = sio.loadmat('testSet.mat')['validationData']\n",
    "train = sio.loadmat('calibrationData_new.mat')['calibrationData_new']\n",
    "test = sio.loadmat('validationData_new.mat')['validationData_new']\n",
    "trainNum = train.shape[0]\n",
    "testNum = test.shape[0]\n",
    "print('Number of training samples:', trainNum)\n",
    "print('Number of validate samples:', testNum)\n",
    "\n",
    "random.seed(27)\n",
    "np.random.seed(27)\n",
    "torch.manual_seed(27)\n",
    "\n",
    "target_entropy = -env.n_actions\n",
    "s_dim = env.n_features\n",
    "a_dim = env.n_actions\n",
    "a_bound = env.action_Bound\n",
    "\n",
    "# # Stop distance collision avoidance\n",
    "n_run = 3\n",
    "rolling_window = 10  # 100 car following events, average score\n",
    "result = []\n",
    "Ev = EV()\n",
    "\n",
    "for run in [base_name]:\n",
    "    # name is the name of the experiment, CA is whether use collision avoidance\n",
    "    pointer = 0\n",
    "    replay_buffer = rl_utils.ReplayBuffer(MEMORY_CAPACITY)\n",
    "    sac = SACContinuous(s_dim, hidden_dim, hidden2_dim, a_dim, a_bound,\n",
    "                      actor_lr, critic_lr, alpha_lr, target_entropy, tau,\n",
    "                      gamma, device)\n",
    "\n",
    "    # training part\n",
    "    max_rolling_score = np.float('-inf')\n",
    "    max_score = np.float('-inf')\n",
    "    collision_train = 0\n",
    "    episode_score = np.zeros(total_episode)  # average score of each car following event\n",
    "    rolling_score = np.zeros(total_episode)\n",
    "    cum_collision_num = np.zeros(total_episode)\n",
    "\n",
    "    score_safe = np.zeros(total_episode)\n",
    "    score_efficiency = np.zeros(total_episode)\n",
    "    score_comfort = np.zeros(total_episode)\n",
    "    score_energy = np.zeros(total_episode)\n",
    "\n",
    "    for i in tqdm(range(total_episode)):\n",
    "        car_fol_id = random.randint(0, trainNum - 1)\n",
    "        data = train[car_fol_id, 0]\n",
    "        s = env.reset(data)\n",
    "        SOC_data = []\n",
    "        SOC = 0.92\n",
    "        SOC_origin = SOC\n",
    "        para = {}\n",
    "        para['k']= 0.5\n",
    "        para['k2'] = 0.5\n",
    "        para['speed'] = s[1]\n",
    "        para['SOC'] = SOC_origin\n",
    "        score = 0\n",
    "        score_s, score_e, score_c, score_eng = 0, 0, 0, 0  # part objective scores\n",
    "\n",
    "        while True:\n",
    "            a = sac.take_action(s)[0]\n",
    "\n",
    "            if CA:\n",
    "                # add collision avoidance guidance\n",
    "                space, svSpd, relSpd = s\n",
    "                lvSpd = svSpd + relSpd\n",
    "                RT = 1  # reaction time\n",
    "                SD = svSpd * RT + (svSpd ** 2 - lvSpd ** 2) / (2 * a_bound)\n",
    "\n",
    "                if space < SD:\n",
    "                    a = - a_bound\n",
    "\n",
    "            para['acc'] = a\n",
    "            SOC_new, cost, INB, out = EV().run(para)\n",
    "            price_elec = cost\n",
    "            r_eng = - 5 * price_elec\n",
    "            \n",
    "            s_, r, done, r_info = env.step(a)\n",
    "            \n",
    "            r += r_eng\n",
    "            \n",
    "            SOC_data.append(SOC_new)\n",
    "            replay_buffer.add(s, a, r, s_, done)\n",
    "            pointer += 1 \n",
    "\n",
    "            replace = False\n",
    "            if pointer > MEMORY_CAPACITY:\n",
    "                b_s, b_a, b_r, b_ns, b_d = replay_buffer.sample(batch_size)\n",
    "                transition_dict = {'states': b_s, 'actions': b_a, 'next_states': b_ns, 'rewards': b_r, 'dones': b_d}\n",
    "                sac.update(transition_dict)\n",
    "\n",
    "            s = s_\n",
    "                    \n",
    "            para['speed'] = s[1]\n",
    "            para['SOC'] = SOC_new\n",
    "            \n",
    "            score += r\n",
    "            score_s += r_info[3]\n",
    "            score_e += r_info[4]\n",
    "            score_c += r_info[5]\n",
    "            score_eng += r_eng\n",
    "                \n",
    "            if done:\n",
    "                duration = data.shape[0]\n",
    "                score /= duration  # normalize with respect to car-following length\n",
    "                score_s /= duration\n",
    "                score_e /= duration\n",
    "                score_c /= duration\n",
    "                score_eng /= duration\n",
    "\n",
    "                if env.isCollision == 1:\n",
    "                    collision_train += 1\n",
    "                break\n",
    "\n",
    "        # record episode results\n",
    "        episode_score[i] = score\n",
    "        score_safe[i] = score_s\n",
    "        score_efficiency[i] = score_e\n",
    "        score_comfort[i] = score_c\n",
    "        score_energy[i] = score_eng\n",
    "        rolling_score[i] = np.mean(episode_score[max(0, i - rolling_window + 1):i + 1])\n",
    "        cum_collision_num[i] = collision_train\n",
    "\n",
    "        if max_score < score:\n",
    "            max_score = score\n",
    "\n",
    "        if rolling_score[i] > max_rolling_score:\n",
    "            max_rolling_score = rolling_score[i]\n",
    "            # save network parameters\n",
    "        if i > total_episode-10:\n",
    "            sac.save(i)\n",
    "\n",
    "        sys.stdout.write(\n",
    "            f'''\\r Run {run}, Episode {i}, Score: {score:.2f}, Rolling score: {rolling_score[i]:.2f}, Max score: {max_score:.2f}, Max rolling score: {max_rolling_score:.2f}, collisions: {collision_train}   ''')\n",
    "        sys.stdout.flush()\n",
    "\n",
    "    # save results\n",
    "    result.append([episode_score, rolling_score, cum_collision_num, score_safe, score_efficiency, score_comfort,score_energy])\n",
    "\n",
    "np.save(f'result_{run}.npy', result)"
   ]
  },
  {
   "cell_type": "code",
   "execution_count": 1,
   "id": "23a19bde",
   "metadata": {},
   "outputs": [
    {
     "ename": "NameError",
     "evalue": "name 'plt' is not defined",
     "output_type": "error",
     "traceback": [
      "\u001b[1;31m---------------------------------------------------------------------------\u001b[0m",
      "\u001b[1;31mNameError\u001b[0m                                 Traceback (most recent call last)",
      "Input \u001b[1;32mIn [1]\u001b[0m, in \u001b[0;36m<cell line: 1>\u001b[1;34m()\u001b[0m\n\u001b[1;32m----> 1\u001b[0m \u001b[43mplt\u001b[49m\u001b[38;5;241m.\u001b[39mplot(cum_collision_num)\n",
      "\u001b[1;31mNameError\u001b[0m: name 'plt' is not defined"
     ]
    }
   ],
   "source": [
    "plt.plot(cum_collision_num)"
   ]
  },
  {
   "cell_type": "code",
   "execution_count": 2,
   "id": "2b3e8a9e",
   "metadata": {},
   "outputs": [
    {
     "ename": "NameError",
     "evalue": "name 'plt' is not defined",
     "output_type": "error",
     "traceback": [
      "\u001b[1;31m---------------------------------------------------------------------------\u001b[0m",
      "\u001b[1;31mNameError\u001b[0m                                 Traceback (most recent call last)",
      "Input \u001b[1;32mIn [2]\u001b[0m, in \u001b[0;36m<cell line: 1>\u001b[1;34m()\u001b[0m\n\u001b[1;32m----> 1\u001b[0m \u001b[43mplt\u001b[49m\u001b[38;5;241m.\u001b[39mplot(rolling_score)\n",
      "\u001b[1;31mNameError\u001b[0m: name 'plt' is not defined"
     ]
    }
   ],
   "source": [
    "plt.plot(rolling_score)"
   ]
  },
  {
   "cell_type": "code",
   "execution_count": 3,
   "id": "a67c977c",
   "metadata": {},
   "outputs": [
    {
     "ename": "NameError",
     "evalue": "name 'plt' is not defined",
     "output_type": "error",
     "traceback": [
      "\u001b[1;31m---------------------------------------------------------------------------\u001b[0m",
      "\u001b[1;31mNameError\u001b[0m                                 Traceback (most recent call last)",
      "Input \u001b[1;32mIn [3]\u001b[0m, in \u001b[0;36m<cell line: 1>\u001b[1;34m()\u001b[0m\n\u001b[1;32m----> 1\u001b[0m \u001b[43mplt\u001b[49m\u001b[38;5;241m.\u001b[39mplot(episode_score)\n",
      "\u001b[1;31mNameError\u001b[0m: name 'plt' is not defined"
     ]
    }
   ],
   "source": [
    "plt.plot(episode_score)"
   ]
  },
  {
   "cell_type": "code",
   "execution_count": 4,
   "id": "a242447e",
   "metadata": {},
   "outputs": [
    {
     "ename": "NameError",
     "evalue": "name 'plt' is not defined",
     "output_type": "error",
     "traceback": [
      "\u001b[1;31m---------------------------------------------------------------------------\u001b[0m",
      "\u001b[1;31mNameError\u001b[0m                                 Traceback (most recent call last)",
      "Input \u001b[1;32mIn [4]\u001b[0m, in \u001b[0;36m<cell line: 1>\u001b[1;34m()\u001b[0m\n\u001b[1;32m----> 1\u001b[0m \u001b[43mplt\u001b[49m\u001b[38;5;241m.\u001b[39mplot(score_safe)\n",
      "\u001b[1;31mNameError\u001b[0m: name 'plt' is not defined"
     ]
    }
   ],
   "source": [
    "plt.plot(score_safe)"
   ]
  },
  {
   "cell_type": "code",
   "execution_count": 5,
   "id": "b8858e7a",
   "metadata": {},
   "outputs": [
    {
     "ename": "NameError",
     "evalue": "name 'plt' is not defined",
     "output_type": "error",
     "traceback": [
      "\u001b[1;31m---------------------------------------------------------------------------\u001b[0m",
      "\u001b[1;31mNameError\u001b[0m                                 Traceback (most recent call last)",
      "Input \u001b[1;32mIn [5]\u001b[0m, in \u001b[0;36m<cell line: 1>\u001b[1;34m()\u001b[0m\n\u001b[1;32m----> 1\u001b[0m \u001b[43mplt\u001b[49m\u001b[38;5;241m.\u001b[39mplot(score_efficiency)\n",
      "\u001b[1;31mNameError\u001b[0m: name 'plt' is not defined"
     ]
    }
   ],
   "source": [
    "plt.plot(score_efficiency)"
   ]
  },
  {
   "cell_type": "code",
   "execution_count": 6,
   "id": "6abf5f45",
   "metadata": {},
   "outputs": [
    {
     "ename": "NameError",
     "evalue": "name 'plt' is not defined",
     "output_type": "error",
     "traceback": [
      "\u001b[1;31m---------------------------------------------------------------------------\u001b[0m",
      "\u001b[1;31mNameError\u001b[0m                                 Traceback (most recent call last)",
      "Input \u001b[1;32mIn [6]\u001b[0m, in \u001b[0;36m<cell line: 1>\u001b[1;34m()\u001b[0m\n\u001b[1;32m----> 1\u001b[0m \u001b[43mplt\u001b[49m\u001b[38;5;241m.\u001b[39mplot(score_comfort)\n",
      "\u001b[1;31mNameError\u001b[0m: name 'plt' is not defined"
     ]
    }
   ],
   "source": [
    "plt.plot(score_comfort)"
   ]
  },
  {
   "cell_type": "code",
   "execution_count": 7,
   "id": "18860446",
   "metadata": {},
   "outputs": [
    {
     "ename": "NameError",
     "evalue": "name 'plt' is not defined",
     "output_type": "error",
     "traceback": [
      "\u001b[1;31m---------------------------------------------------------------------------\u001b[0m",
      "\u001b[1;31mNameError\u001b[0m                                 Traceback (most recent call last)",
      "Input \u001b[1;32mIn [7]\u001b[0m, in \u001b[0;36m<cell line: 1>\u001b[1;34m()\u001b[0m\n\u001b[1;32m----> 1\u001b[0m \u001b[43mplt\u001b[49m\u001b[38;5;241m.\u001b[39mplot(score_energy)\n",
      "\u001b[1;31mNameError\u001b[0m: name 'plt' is not defined"
     ]
    }
   ],
   "source": [
    "plt.plot(score_energy)"
   ]
  },
  {
   "cell_type": "code",
   "execution_count": null,
   "id": "26e6d4bc",
   "metadata": {},
   "outputs": [],
   "source": []
  },
  {
   "cell_type": "code",
   "execution_count": null,
   "id": "a60985ad",
   "metadata": {},
   "outputs": [],
   "source": []
  }
 ],
 "metadata": {
  "kernelspec": {
   "display_name": "Python 3 (ipykernel)",
   "language": "python",
   "name": "python3"
  },
  "language_info": {
   "codemirror_mode": {
    "name": "ipython",
    "version": 3
   },
   "file_extension": ".py",
   "mimetype": "text/x-python",
   "name": "python",
   "nbconvert_exporter": "python",
   "pygments_lexer": "ipython3",
   "version": "3.9.12"
  }
 },
 "nbformat": 4,
 "nbformat_minor": 5
}
